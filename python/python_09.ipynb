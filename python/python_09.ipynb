{
 "metadata": {
  "language_info": {
   "codemirror_mode": {
    "name": "ipython",
    "version": 3
   },
   "file_extension": ".py",
   "mimetype": "text/x-python",
   "name": "python",
   "nbconvert_exporter": "python",
   "pygments_lexer": "ipython3",
   "version": "3.8.3-final"
  },
  "orig_nbformat": 2,
  "kernelspec": {
   "name": "python_defaultSpec_1599780766475",
   "display_name": "Python 3.8.3 64-bit ('base': conda)"
  }
 },
 "nbformat": 4,
 "nbformat_minor": 2,
 "cells": [
  {
   "cell_type": "code",
   "execution_count": 33,
   "metadata": {},
   "outputs": [],
   "source": [
    "import numpy as np\n",
    "import pandas as pd"
   ]
  },
  {
   "cell_type": "markdown",
   "metadata": {},
   "source": [
    "## 누락된 데이터 처리"
   ]
  },
  {
   "cell_type": "code",
   "execution_count": 5,
   "metadata": {},
   "outputs": [
    {
     "output_type": "execute_result",
     "data": {
      "text/plain": "0     aardvark\n1    artichoke\n2          NaN\n3      avocado\ndtype: object"
     },
     "metadata": {},
     "execution_count": 5
    }
   ],
   "source": [
    "string_data = pd.Series(['aardvark', 'artichoke', np.nan, 'avocado'])\n",
    "string_data"
   ]
  },
  {
   "cell_type": "code",
   "execution_count": 4,
   "metadata": {},
   "outputs": [
    {
     "output_type": "execute_result",
     "data": {
      "text/plain": "0    False\n1    False\n2     True\n3    False\ndtype: bool"
     },
     "metadata": {},
     "execution_count": 4
    }
   ],
   "source": [
    "string_data.isnull()"
   ]
  },
  {
   "cell_type": "code",
   "execution_count": 6,
   "metadata": {},
   "outputs": [
    {
     "output_type": "execute_result",
     "data": {
      "text/plain": "0     True\n1    False\n2     True\n3    False\ndtype: bool"
     },
     "metadata": {},
     "execution_count": 6
    }
   ],
   "source": [
    "string_data[0] = None\n",
    "string_data.isnull()"
   ]
  },
  {
   "cell_type": "markdown",
   "metadata": {},
   "source": [
    "|인자|설명|\n",
    "|:------:|:---|\n",
    "|dropna|누락된 데이터가 있는 축(low,column)을 제외시킨다. 어느정도의 누락데이터까지 용인할것인지 지정 할 수 있다.|\n",
    "|fillna|누락된 데이터를 대신할 값을 채우거나 'ffill'이나 'bfill'같은 보간 메서드를 적용한다.|\n",
    "|isnull|누락되거나 NA인 값을 알려주는 불리언 값이 저장된 같은 형의 객체를 반환|\n",
    "|notnull|isnull과 반대되는 메서드|"
   ]
  },
  {
   "cell_type": "code",
   "execution_count": 8,
   "metadata": {},
   "outputs": [
    {
     "output_type": "execute_result",
     "data": {
      "text/plain": "0    1.0\n2    3.5\n4    7.0\ndtype: float64"
     },
     "metadata": {},
     "execution_count": 8
    }
   ],
   "source": [
    "from numpy import nan as NA\n",
    "data = pd.Series([1, NA, 3.5, NA, 7])\n",
    "data.dropna()"
   ]
  },
  {
   "cell_type": "code",
   "execution_count": 9,
   "metadata": {},
   "outputs": [
    {
     "output_type": "execute_result",
     "data": {
      "text/plain": "0    1.0\n2    3.5\n4    7.0\ndtype: float64"
     },
     "metadata": {},
     "execution_count": 9
    }
   ],
   "source": [
    "data[data.notnull()]"
   ]
  },
  {
   "cell_type": "code",
   "execution_count": 10,
   "metadata": {},
   "outputs": [
    {
     "output_type": "execute_result",
     "data": {
      "text/plain": "     0    1    2\n0  1.0  6.5  3.0\n1  1.0  NaN  NaN\n2  NaN  NaN  NaN\n3  NaN  6.5  3.0",
      "text/html": "<div>\n<style scoped>\n    .dataframe tbody tr th:only-of-type {\n        vertical-align: middle;\n    }\n\n    .dataframe tbody tr th {\n        vertical-align: top;\n    }\n\n    .dataframe thead th {\n        text-align: right;\n    }\n</style>\n<table border=\"1\" class=\"dataframe\">\n  <thead>\n    <tr style=\"text-align: right;\">\n      <th></th>\n      <th>0</th>\n      <th>1</th>\n      <th>2</th>\n    </tr>\n  </thead>\n  <tbody>\n    <tr>\n      <th>0</th>\n      <td>1.0</td>\n      <td>6.5</td>\n      <td>3.0</td>\n    </tr>\n    <tr>\n      <th>1</th>\n      <td>1.0</td>\n      <td>NaN</td>\n      <td>NaN</td>\n    </tr>\n    <tr>\n      <th>2</th>\n      <td>NaN</td>\n      <td>NaN</td>\n      <td>NaN</td>\n    </tr>\n    <tr>\n      <th>3</th>\n      <td>NaN</td>\n      <td>6.5</td>\n      <td>3.0</td>\n    </tr>\n  </tbody>\n</table>\n</div>"
     },
     "metadata": {},
     "execution_count": 10
    }
   ],
   "source": [
    "data = pd.DataFrame([[1., 6.5, 3.], [1., NA, NA],\n",
    "                     [NA, NA, NA], [NA, 6.5, 3.]])\n",
    "data"
   ]
  },
  {
   "cell_type": "code",
   "execution_count": 11,
   "metadata": {},
   "outputs": [
    {
     "output_type": "execute_result",
     "data": {
      "text/plain": "     0    1    2\n0  1.0  6.5  3.0",
      "text/html": "<div>\n<style scoped>\n    .dataframe tbody tr th:only-of-type {\n        vertical-align: middle;\n    }\n\n    .dataframe tbody tr th {\n        vertical-align: top;\n    }\n\n    .dataframe thead th {\n        text-align: right;\n    }\n</style>\n<table border=\"1\" class=\"dataframe\">\n  <thead>\n    <tr style=\"text-align: right;\">\n      <th></th>\n      <th>0</th>\n      <th>1</th>\n      <th>2</th>\n    </tr>\n  </thead>\n  <tbody>\n    <tr>\n      <th>0</th>\n      <td>1.0</td>\n      <td>6.5</td>\n      <td>3.0</td>\n    </tr>\n  </tbody>\n</table>\n</div>"
     },
     "metadata": {},
     "execution_count": 11
    }
   ],
   "source": [
    "cleand = data.dropna()\n",
    "cleand"
   ]
  },
  {
   "cell_type": "code",
   "execution_count": 12,
   "metadata": {},
   "outputs": [
    {
     "output_type": "execute_result",
     "data": {
      "text/plain": "     0    1    2\n0  1.0  6.5  3.0\n1  1.0  NaN  NaN\n3  NaN  6.5  3.0",
      "text/html": "<div>\n<style scoped>\n    .dataframe tbody tr th:only-of-type {\n        vertical-align: middle;\n    }\n\n    .dataframe tbody tr th {\n        vertical-align: top;\n    }\n\n    .dataframe thead th {\n        text-align: right;\n    }\n</style>\n<table border=\"1\" class=\"dataframe\">\n  <thead>\n    <tr style=\"text-align: right;\">\n      <th></th>\n      <th>0</th>\n      <th>1</th>\n      <th>2</th>\n    </tr>\n  </thead>\n  <tbody>\n    <tr>\n      <th>0</th>\n      <td>1.0</td>\n      <td>6.5</td>\n      <td>3.0</td>\n    </tr>\n    <tr>\n      <th>1</th>\n      <td>1.0</td>\n      <td>NaN</td>\n      <td>NaN</td>\n    </tr>\n    <tr>\n      <th>3</th>\n      <td>NaN</td>\n      <td>6.5</td>\n      <td>3.0</td>\n    </tr>\n  </tbody>\n</table>\n</div>"
     },
     "metadata": {},
     "execution_count": 12
    }
   ],
   "source": [
    "cleand = data.dropna(how='all') # how='all' : 모두 NAN이면 삭제\n",
    "cleand"
   ]
  },
  {
   "cell_type": "code",
   "execution_count": 14,
   "metadata": {},
   "outputs": [
    {
     "output_type": "execute_result",
     "data": {
      "text/plain": "     0    1    2   4\n0  1.0  6.5  3.0 NaN\n1  1.0  NaN  NaN NaN\n2  NaN  NaN  NaN NaN\n3  NaN  6.5  3.0 NaN",
      "text/html": "<div>\n<style scoped>\n    .dataframe tbody tr th:only-of-type {\n        vertical-align: middle;\n    }\n\n    .dataframe tbody tr th {\n        vertical-align: top;\n    }\n\n    .dataframe thead th {\n        text-align: right;\n    }\n</style>\n<table border=\"1\" class=\"dataframe\">\n  <thead>\n    <tr style=\"text-align: right;\">\n      <th></th>\n      <th>0</th>\n      <th>1</th>\n      <th>2</th>\n      <th>4</th>\n    </tr>\n  </thead>\n  <tbody>\n    <tr>\n      <th>0</th>\n      <td>1.0</td>\n      <td>6.5</td>\n      <td>3.0</td>\n      <td>NaN</td>\n    </tr>\n    <tr>\n      <th>1</th>\n      <td>1.0</td>\n      <td>NaN</td>\n      <td>NaN</td>\n      <td>NaN</td>\n    </tr>\n    <tr>\n      <th>2</th>\n      <td>NaN</td>\n      <td>NaN</td>\n      <td>NaN</td>\n      <td>NaN</td>\n    </tr>\n    <tr>\n      <th>3</th>\n      <td>NaN</td>\n      <td>6.5</td>\n      <td>3.0</td>\n      <td>NaN</td>\n    </tr>\n  </tbody>\n</table>\n</div>"
     },
     "metadata": {},
     "execution_count": 14
    }
   ],
   "source": [
    "# 4번 열을 추가하고 NA 값으로 지정\n",
    "data[4] = NA\n",
    "data"
   ]
  },
  {
   "cell_type": "code",
   "execution_count": 15,
   "metadata": {},
   "outputs": [
    {
     "output_type": "execute_result",
     "data": {
      "text/plain": "     0    1    2\n0  1.0  6.5  3.0\n1  1.0  NaN  NaN\n2  NaN  NaN  NaN\n3  NaN  6.5  3.0",
      "text/html": "<div>\n<style scoped>\n    .dataframe tbody tr th:only-of-type {\n        vertical-align: middle;\n    }\n\n    .dataframe tbody tr th {\n        vertical-align: top;\n    }\n\n    .dataframe thead th {\n        text-align: right;\n    }\n</style>\n<table border=\"1\" class=\"dataframe\">\n  <thead>\n    <tr style=\"text-align: right;\">\n      <th></th>\n      <th>0</th>\n      <th>1</th>\n      <th>2</th>\n    </tr>\n  </thead>\n  <tbody>\n    <tr>\n      <th>0</th>\n      <td>1.0</td>\n      <td>6.5</td>\n      <td>3.0</td>\n    </tr>\n    <tr>\n      <th>1</th>\n      <td>1.0</td>\n      <td>NaN</td>\n      <td>NaN</td>\n    </tr>\n    <tr>\n      <th>2</th>\n      <td>NaN</td>\n      <td>NaN</td>\n      <td>NaN</td>\n    </tr>\n    <tr>\n      <th>3</th>\n      <td>NaN</td>\n      <td>6.5</td>\n      <td>3.0</td>\n    </tr>\n  </tbody>\n</table>\n</div>"
     },
     "metadata": {},
     "execution_count": 15
    }
   ],
   "source": [
    "cleand = data.dropna(axis='columns', how='all') # how='all' : 모두 NAN이면 삭제\n",
    "cleand"
   ]
  },
  {
   "cell_type": "code",
   "execution_count": 42,
   "metadata": {},
   "outputs": [
    {
     "output_type": "execute_result",
     "data": {
      "text/plain": "          0         1         2\n0 -0.877941 -0.413259  1.937725\n1 -0.258830 -0.204044 -0.076299\n2  0.639332 -1.061624 -0.580669\n3  0.243376  1.279737 -0.324014\n4 -1.191507 -1.020457  1.021542\n5 -0.485849  2.091940 -0.679286\n6 -0.011926 -1.074695 -0.336505",
      "text/html": "<div>\n<style scoped>\n    .dataframe tbody tr th:only-of-type {\n        vertical-align: middle;\n    }\n\n    .dataframe tbody tr th {\n        vertical-align: top;\n    }\n\n    .dataframe thead th {\n        text-align: right;\n    }\n</style>\n<table border=\"1\" class=\"dataframe\">\n  <thead>\n    <tr style=\"text-align: right;\">\n      <th></th>\n      <th>0</th>\n      <th>1</th>\n      <th>2</th>\n    </tr>\n  </thead>\n  <tbody>\n    <tr>\n      <th>0</th>\n      <td>-0.877941</td>\n      <td>-0.413259</td>\n      <td>1.937725</td>\n    </tr>\n    <tr>\n      <th>1</th>\n      <td>-0.258830</td>\n      <td>-0.204044</td>\n      <td>-0.076299</td>\n    </tr>\n    <tr>\n      <th>2</th>\n      <td>0.639332</td>\n      <td>-1.061624</td>\n      <td>-0.580669</td>\n    </tr>\n    <tr>\n      <th>3</th>\n      <td>0.243376</td>\n      <td>1.279737</td>\n      <td>-0.324014</td>\n    </tr>\n    <tr>\n      <th>4</th>\n      <td>-1.191507</td>\n      <td>-1.020457</td>\n      <td>1.021542</td>\n    </tr>\n    <tr>\n      <th>5</th>\n      <td>-0.485849</td>\n      <td>2.091940</td>\n      <td>-0.679286</td>\n    </tr>\n    <tr>\n      <th>6</th>\n      <td>-0.011926</td>\n      <td>-1.074695</td>\n      <td>-0.336505</td>\n    </tr>\n  </tbody>\n</table>\n</div>"
     },
     "metadata": {},
     "execution_count": 42
    }
   ],
   "source": [
    "df = pd.DataFrame(np.random.randn(7,3))\n",
    "df"
   ]
  },
  {
   "cell_type": "code",
   "execution_count": 43,
   "metadata": {},
   "outputs": [
    {
     "output_type": "execute_result",
     "data": {
      "text/plain": "          0         1         2\n0 -0.877941       NaN       NaN\n1 -0.258830       NaN       NaN\n2  0.639332       NaN -0.580669\n3  0.243376       NaN -0.324014\n4 -1.191507 -1.020457  1.021542\n5 -0.485849  2.091940 -0.679286\n6 -0.011926 -1.074695 -0.336505",
      "text/html": "<div>\n<style scoped>\n    .dataframe tbody tr th:only-of-type {\n        vertical-align: middle;\n    }\n\n    .dataframe tbody tr th {\n        vertical-align: top;\n    }\n\n    .dataframe thead th {\n        text-align: right;\n    }\n</style>\n<table border=\"1\" class=\"dataframe\">\n  <thead>\n    <tr style=\"text-align: right;\">\n      <th></th>\n      <th>0</th>\n      <th>1</th>\n      <th>2</th>\n    </tr>\n  </thead>\n  <tbody>\n    <tr>\n      <th>0</th>\n      <td>-0.877941</td>\n      <td>NaN</td>\n      <td>NaN</td>\n    </tr>\n    <tr>\n      <th>1</th>\n      <td>-0.258830</td>\n      <td>NaN</td>\n      <td>NaN</td>\n    </tr>\n    <tr>\n      <th>2</th>\n      <td>0.639332</td>\n      <td>NaN</td>\n      <td>-0.580669</td>\n    </tr>\n    <tr>\n      <th>3</th>\n      <td>0.243376</td>\n      <td>NaN</td>\n      <td>-0.324014</td>\n    </tr>\n    <tr>\n      <th>4</th>\n      <td>-1.191507</td>\n      <td>-1.020457</td>\n      <td>1.021542</td>\n    </tr>\n    <tr>\n      <th>5</th>\n      <td>-0.485849</td>\n      <td>2.091940</td>\n      <td>-0.679286</td>\n    </tr>\n    <tr>\n      <th>6</th>\n      <td>-0.011926</td>\n      <td>-1.074695</td>\n      <td>-0.336505</td>\n    </tr>\n  </tbody>\n</table>\n</div>"
     },
     "metadata": {},
     "execution_count": 43
    }
   ],
   "source": [
    "df.iloc[:4,1] = NA\n",
    "df.iloc[:2,2] = NA\n",
    "df"
   ]
  },
  {
   "cell_type": "code",
   "execution_count": 44,
   "metadata": {},
   "outputs": [
    {
     "output_type": "execute_result",
     "data": {
      "text/plain": "          0         1         2\n4 -1.191507 -1.020457  1.021542\n5 -0.485849  2.091940 -0.679286\n6 -0.011926 -1.074695 -0.336505",
      "text/html": "<div>\n<style scoped>\n    .dataframe tbody tr th:only-of-type {\n        vertical-align: middle;\n    }\n\n    .dataframe tbody tr th {\n        vertical-align: top;\n    }\n\n    .dataframe thead th {\n        text-align: right;\n    }\n</style>\n<table border=\"1\" class=\"dataframe\">\n  <thead>\n    <tr style=\"text-align: right;\">\n      <th></th>\n      <th>0</th>\n      <th>1</th>\n      <th>2</th>\n    </tr>\n  </thead>\n  <tbody>\n    <tr>\n      <th>4</th>\n      <td>-1.191507</td>\n      <td>-1.020457</td>\n      <td>1.021542</td>\n    </tr>\n    <tr>\n      <th>5</th>\n      <td>-0.485849</td>\n      <td>2.091940</td>\n      <td>-0.679286</td>\n    </tr>\n    <tr>\n      <th>6</th>\n      <td>-0.011926</td>\n      <td>-1.074695</td>\n      <td>-0.336505</td>\n    </tr>\n  </tbody>\n</table>\n</div>"
     },
     "metadata": {},
     "execution_count": 44
    }
   ],
   "source": [
    "cleaned = df.dropna()\n",
    "cleaned"
   ]
  },
  {
   "cell_type": "code",
   "execution_count": 45,
   "metadata": {},
   "outputs": [
    {
     "output_type": "execute_result",
     "data": {
      "text/plain": "          0         1         2\n2  0.639332       NaN -0.580669\n3  0.243376       NaN -0.324014\n4 -1.191507 -1.020457  1.021542\n5 -0.485849  2.091940 -0.679286\n6 -0.011926 -1.074695 -0.336505",
      "text/html": "<div>\n<style scoped>\n    .dataframe tbody tr th:only-of-type {\n        vertical-align: middle;\n    }\n\n    .dataframe tbody tr th {\n        vertical-align: top;\n    }\n\n    .dataframe thead th {\n        text-align: right;\n    }\n</style>\n<table border=\"1\" class=\"dataframe\">\n  <thead>\n    <tr style=\"text-align: right;\">\n      <th></th>\n      <th>0</th>\n      <th>1</th>\n      <th>2</th>\n    </tr>\n  </thead>\n  <tbody>\n    <tr>\n      <th>2</th>\n      <td>0.639332</td>\n      <td>NaN</td>\n      <td>-0.580669</td>\n    </tr>\n    <tr>\n      <th>3</th>\n      <td>0.243376</td>\n      <td>NaN</td>\n      <td>-0.324014</td>\n    </tr>\n    <tr>\n      <th>4</th>\n      <td>-1.191507</td>\n      <td>-1.020457</td>\n      <td>1.021542</td>\n    </tr>\n    <tr>\n      <th>5</th>\n      <td>-0.485849</td>\n      <td>2.091940</td>\n      <td>-0.679286</td>\n    </tr>\n    <tr>\n      <th>6</th>\n      <td>-0.011926</td>\n      <td>-1.074695</td>\n      <td>-0.336505</td>\n    </tr>\n  </tbody>\n</table>\n</div>"
     },
     "metadata": {},
     "execution_count": 45
    }
   ],
   "source": [
    "cleaned = df.dropna(thresh=2)\n",
    "cleaned"
   ]
  },
  {
   "cell_type": "code",
   "execution_count": 46,
   "metadata": {},
   "outputs": [
    {
     "output_type": "execute_result",
     "data": {
      "text/plain": "          0         1         2\n0 -0.877941       NaN       NaN\n1 -0.258830       NaN       NaN\n2  0.639332       NaN -0.580669\n3  0.243376       NaN -0.324014\n4 -1.191507 -1.020457  1.021542\n5 -0.485849  2.091940 -0.679286\n6 -0.011926 -1.074695 -0.336505",
      "text/html": "<div>\n<style scoped>\n    .dataframe tbody tr th:only-of-type {\n        vertical-align: middle;\n    }\n\n    .dataframe tbody tr th {\n        vertical-align: top;\n    }\n\n    .dataframe thead th {\n        text-align: right;\n    }\n</style>\n<table border=\"1\" class=\"dataframe\">\n  <thead>\n    <tr style=\"text-align: right;\">\n      <th></th>\n      <th>0</th>\n      <th>1</th>\n      <th>2</th>\n    </tr>\n  </thead>\n  <tbody>\n    <tr>\n      <th>0</th>\n      <td>-0.877941</td>\n      <td>NaN</td>\n      <td>NaN</td>\n    </tr>\n    <tr>\n      <th>1</th>\n      <td>-0.258830</td>\n      <td>NaN</td>\n      <td>NaN</td>\n    </tr>\n    <tr>\n      <th>2</th>\n      <td>0.639332</td>\n      <td>NaN</td>\n      <td>-0.580669</td>\n    </tr>\n    <tr>\n      <th>3</th>\n      <td>0.243376</td>\n      <td>NaN</td>\n      <td>-0.324014</td>\n    </tr>\n    <tr>\n      <th>4</th>\n      <td>-1.191507</td>\n      <td>-1.020457</td>\n      <td>1.021542</td>\n    </tr>\n    <tr>\n      <th>5</th>\n      <td>-0.485849</td>\n      <td>2.091940</td>\n      <td>-0.679286</td>\n    </tr>\n    <tr>\n      <th>6</th>\n      <td>-0.011926</td>\n      <td>-1.074695</td>\n      <td>-0.336505</td>\n    </tr>\n  </tbody>\n</table>\n</div>"
     },
     "metadata": {},
     "execution_count": 46
    }
   ],
   "source": [
    "df"
   ]
  },
  {
   "cell_type": "markdown",
   "metadata": {},
   "source": [
    "## 결측치 채우기"
   ]
  },
  {
   "cell_type": "code",
   "execution_count": 47,
   "metadata": {},
   "outputs": [
    {
     "output_type": "execute_result",
     "data": {
      "text/plain": "          0         1         2\n0 -0.877941  0.000000  0.000000\n1 -0.258830  0.000000  0.000000\n2  0.639332  0.000000 -0.580669\n3  0.243376  0.000000 -0.324014\n4 -1.191507 -1.020457  1.021542\n5 -0.485849  2.091940 -0.679286\n6 -0.011926 -1.074695 -0.336505",
      "text/html": "<div>\n<style scoped>\n    .dataframe tbody tr th:only-of-type {\n        vertical-align: middle;\n    }\n\n    .dataframe tbody tr th {\n        vertical-align: top;\n    }\n\n    .dataframe thead th {\n        text-align: right;\n    }\n</style>\n<table border=\"1\" class=\"dataframe\">\n  <thead>\n    <tr style=\"text-align: right;\">\n      <th></th>\n      <th>0</th>\n      <th>1</th>\n      <th>2</th>\n    </tr>\n  </thead>\n  <tbody>\n    <tr>\n      <th>0</th>\n      <td>-0.877941</td>\n      <td>0.000000</td>\n      <td>0.000000</td>\n    </tr>\n    <tr>\n      <th>1</th>\n      <td>-0.258830</td>\n      <td>0.000000</td>\n      <td>0.000000</td>\n    </tr>\n    <tr>\n      <th>2</th>\n      <td>0.639332</td>\n      <td>0.000000</td>\n      <td>-0.580669</td>\n    </tr>\n    <tr>\n      <th>3</th>\n      <td>0.243376</td>\n      <td>0.000000</td>\n      <td>-0.324014</td>\n    </tr>\n    <tr>\n      <th>4</th>\n      <td>-1.191507</td>\n      <td>-1.020457</td>\n      <td>1.021542</td>\n    </tr>\n    <tr>\n      <th>5</th>\n      <td>-0.485849</td>\n      <td>2.091940</td>\n      <td>-0.679286</td>\n    </tr>\n    <tr>\n      <th>6</th>\n      <td>-0.011926</td>\n      <td>-1.074695</td>\n      <td>-0.336505</td>\n    </tr>\n  </tbody>\n</table>\n</div>"
     },
     "metadata": {},
     "execution_count": 47
    }
   ],
   "source": [
    "filled = df.fillna(0)\n",
    "filled"
   ]
  },
  {
   "cell_type": "code",
   "execution_count": 49,
   "metadata": {},
   "outputs": [
    {
     "output_type": "execute_result",
     "data": {
      "text/plain": "          0         1         2\n0 -0.877941  0.900000  0.000000\n1 -0.258830  0.900000  0.000000\n2  0.639332  0.900000 -0.580669\n3  0.243376  0.900000 -0.324014\n4 -1.191507 -1.020457  1.021542\n5 -0.485849  2.091940 -0.679286\n6 -0.011926 -1.074695 -0.336505",
      "text/html": "<div>\n<style scoped>\n    .dataframe tbody tr th:only-of-type {\n        vertical-align: middle;\n    }\n\n    .dataframe tbody tr th {\n        vertical-align: top;\n    }\n\n    .dataframe thead th {\n        text-align: right;\n    }\n</style>\n<table border=\"1\" class=\"dataframe\">\n  <thead>\n    <tr style=\"text-align: right;\">\n      <th></th>\n      <th>0</th>\n      <th>1</th>\n      <th>2</th>\n    </tr>\n  </thead>\n  <tbody>\n    <tr>\n      <th>0</th>\n      <td>-0.877941</td>\n      <td>0.900000</td>\n      <td>0.000000</td>\n    </tr>\n    <tr>\n      <th>1</th>\n      <td>-0.258830</td>\n      <td>0.900000</td>\n      <td>0.000000</td>\n    </tr>\n    <tr>\n      <th>2</th>\n      <td>0.639332</td>\n      <td>0.900000</td>\n      <td>-0.580669</td>\n    </tr>\n    <tr>\n      <th>3</th>\n      <td>0.243376</td>\n      <td>0.900000</td>\n      <td>-0.324014</td>\n    </tr>\n    <tr>\n      <th>4</th>\n      <td>-1.191507</td>\n      <td>-1.020457</td>\n      <td>1.021542</td>\n    </tr>\n    <tr>\n      <th>5</th>\n      <td>-0.485849</td>\n      <td>2.091940</td>\n      <td>-0.679286</td>\n    </tr>\n    <tr>\n      <th>6</th>\n      <td>-0.011926</td>\n      <td>-1.074695</td>\n      <td>-0.336505</td>\n    </tr>\n  </tbody>\n</table>\n</div>"
     },
     "metadata": {},
     "execution_count": 49
    }
   ],
   "source": [
    "filled = df.fillna({1:0.9, 2:0})\n",
    "filled"
   ]
  },
  {
   "cell_type": "code",
   "execution_count": 50,
   "metadata": {},
   "outputs": [
    {
     "output_type": "execute_result",
     "data": {
      "text/plain": "          0         1         2\n0 -0.877941  0.000000  0.000000\n1 -0.258830  0.000000  0.000000\n2  0.639332  0.000000 -0.580669\n3  0.243376  0.000000 -0.324014\n4 -1.191507 -1.020457  1.021542\n5 -0.485849  2.091940 -0.679286\n6 -0.011926 -1.074695 -0.336505",
      "text/html": "<div>\n<style scoped>\n    .dataframe tbody tr th:only-of-type {\n        vertical-align: middle;\n    }\n\n    .dataframe tbody tr th {\n        vertical-align: top;\n    }\n\n    .dataframe thead th {\n        text-align: right;\n    }\n</style>\n<table border=\"1\" class=\"dataframe\">\n  <thead>\n    <tr style=\"text-align: right;\">\n      <th></th>\n      <th>0</th>\n      <th>1</th>\n      <th>2</th>\n    </tr>\n  </thead>\n  <tbody>\n    <tr>\n      <th>0</th>\n      <td>-0.877941</td>\n      <td>0.000000</td>\n      <td>0.000000</td>\n    </tr>\n    <tr>\n      <th>1</th>\n      <td>-0.258830</td>\n      <td>0.000000</td>\n      <td>0.000000</td>\n    </tr>\n    <tr>\n      <th>2</th>\n      <td>0.639332</td>\n      <td>0.000000</td>\n      <td>-0.580669</td>\n    </tr>\n    <tr>\n      <th>3</th>\n      <td>0.243376</td>\n      <td>0.000000</td>\n      <td>-0.324014</td>\n    </tr>\n    <tr>\n      <th>4</th>\n      <td>-1.191507</td>\n      <td>-1.020457</td>\n      <td>1.021542</td>\n    </tr>\n    <tr>\n      <th>5</th>\n      <td>-0.485849</td>\n      <td>2.091940</td>\n      <td>-0.679286</td>\n    </tr>\n    <tr>\n      <th>6</th>\n      <td>-0.011926</td>\n      <td>-1.074695</td>\n      <td>-0.336505</td>\n    </tr>\n  </tbody>\n</table>\n</div>"
     },
     "metadata": {},
     "execution_count": 50
    }
   ],
   "source": [
    "df.fillna(0, inplace=True)\n",
    "df"
   ]
  },
  {
   "cell_type": "code",
   "execution_count": 51,
   "metadata": {},
   "outputs": [
    {
     "output_type": "execute_result",
     "data": {
      "text/plain": "          0         1         2\n0 -0.480593 -0.571316 -0.468712\n1 -0.830702 -0.259143  0.357188\n2  0.090747       NaN  0.437814\n3  0.912130       NaN  0.523878\n4 -0.204677       NaN       NaN\n5  0.691836       NaN       NaN",
      "text/html": "<div>\n<style scoped>\n    .dataframe tbody tr th:only-of-type {\n        vertical-align: middle;\n    }\n\n    .dataframe tbody tr th {\n        vertical-align: top;\n    }\n\n    .dataframe thead th {\n        text-align: right;\n    }\n</style>\n<table border=\"1\" class=\"dataframe\">\n  <thead>\n    <tr style=\"text-align: right;\">\n      <th></th>\n      <th>0</th>\n      <th>1</th>\n      <th>2</th>\n    </tr>\n  </thead>\n  <tbody>\n    <tr>\n      <th>0</th>\n      <td>-0.480593</td>\n      <td>-0.571316</td>\n      <td>-0.468712</td>\n    </tr>\n    <tr>\n      <th>1</th>\n      <td>-0.830702</td>\n      <td>-0.259143</td>\n      <td>0.357188</td>\n    </tr>\n    <tr>\n      <th>2</th>\n      <td>0.090747</td>\n      <td>NaN</td>\n      <td>0.437814</td>\n    </tr>\n    <tr>\n      <th>3</th>\n      <td>0.912130</td>\n      <td>NaN</td>\n      <td>0.523878</td>\n    </tr>\n    <tr>\n      <th>4</th>\n      <td>-0.204677</td>\n      <td>NaN</td>\n      <td>NaN</td>\n    </tr>\n    <tr>\n      <th>5</th>\n      <td>0.691836</td>\n      <td>NaN</td>\n      <td>NaN</td>\n    </tr>\n  </tbody>\n</table>\n</div>"
     },
     "metadata": {},
     "execution_count": 51
    }
   ],
   "source": [
    "df = pd.DataFrame(np.random.randn(6,3))\n",
    "df.iloc[2:,1] = NA\n",
    "df.iloc[4:,2] = NA\n",
    "df"
   ]
  },
  {
   "cell_type": "code",
   "execution_count": 52,
   "metadata": {},
   "outputs": [
    {
     "output_type": "execute_result",
     "data": {
      "text/plain": "          0         1         2\n0 -0.480593 -0.571316 -0.468712\n1 -0.830702 -0.259143  0.357188\n2  0.090747 -0.259143  0.437814\n3  0.912130 -0.259143  0.523878\n4 -0.204677 -0.259143  0.523878\n5  0.691836 -0.259143  0.523878",
      "text/html": "<div>\n<style scoped>\n    .dataframe tbody tr th:only-of-type {\n        vertical-align: middle;\n    }\n\n    .dataframe tbody tr th {\n        vertical-align: top;\n    }\n\n    .dataframe thead th {\n        text-align: right;\n    }\n</style>\n<table border=\"1\" class=\"dataframe\">\n  <thead>\n    <tr style=\"text-align: right;\">\n      <th></th>\n      <th>0</th>\n      <th>1</th>\n      <th>2</th>\n    </tr>\n  </thead>\n  <tbody>\n    <tr>\n      <th>0</th>\n      <td>-0.480593</td>\n      <td>-0.571316</td>\n      <td>-0.468712</td>\n    </tr>\n    <tr>\n      <th>1</th>\n      <td>-0.830702</td>\n      <td>-0.259143</td>\n      <td>0.357188</td>\n    </tr>\n    <tr>\n      <th>2</th>\n      <td>0.090747</td>\n      <td>-0.259143</td>\n      <td>0.437814</td>\n    </tr>\n    <tr>\n      <th>3</th>\n      <td>0.912130</td>\n      <td>-0.259143</td>\n      <td>0.523878</td>\n    </tr>\n    <tr>\n      <th>4</th>\n      <td>-0.204677</td>\n      <td>-0.259143</td>\n      <td>0.523878</td>\n    </tr>\n    <tr>\n      <th>5</th>\n      <td>0.691836</td>\n      <td>-0.259143</td>\n      <td>0.523878</td>\n    </tr>\n  </tbody>\n</table>\n</div>"
     },
     "metadata": {},
     "execution_count": 52
    }
   ],
   "source": [
    "filled = df.fillna(method='ffill')\n",
    "filled"
   ]
  },
  {
   "cell_type": "code",
   "execution_count": 53,
   "metadata": {},
   "outputs": [
    {
     "output_type": "execute_result",
     "data": {
      "text/plain": "          0         1         2\n0 -0.480593 -0.571316 -0.468712\n1 -0.830702 -0.259143  0.357188\n2  0.090747 -0.259143  0.437814\n3  0.912130 -0.259143  0.523878\n4 -0.204677       NaN  0.523878\n5  0.691836       NaN  0.523878",
      "text/html": "<div>\n<style scoped>\n    .dataframe tbody tr th:only-of-type {\n        vertical-align: middle;\n    }\n\n    .dataframe tbody tr th {\n        vertical-align: top;\n    }\n\n    .dataframe thead th {\n        text-align: right;\n    }\n</style>\n<table border=\"1\" class=\"dataframe\">\n  <thead>\n    <tr style=\"text-align: right;\">\n      <th></th>\n      <th>0</th>\n      <th>1</th>\n      <th>2</th>\n    </tr>\n  </thead>\n  <tbody>\n    <tr>\n      <th>0</th>\n      <td>-0.480593</td>\n      <td>-0.571316</td>\n      <td>-0.468712</td>\n    </tr>\n    <tr>\n      <th>1</th>\n      <td>-0.830702</td>\n      <td>-0.259143</td>\n      <td>0.357188</td>\n    </tr>\n    <tr>\n      <th>2</th>\n      <td>0.090747</td>\n      <td>-0.259143</td>\n      <td>0.437814</td>\n    </tr>\n    <tr>\n      <th>3</th>\n      <td>0.912130</td>\n      <td>-0.259143</td>\n      <td>0.523878</td>\n    </tr>\n    <tr>\n      <th>4</th>\n      <td>-0.204677</td>\n      <td>NaN</td>\n      <td>0.523878</td>\n    </tr>\n    <tr>\n      <th>5</th>\n      <td>0.691836</td>\n      <td>NaN</td>\n      <td>0.523878</td>\n    </tr>\n  </tbody>\n</table>\n</div>"
     },
     "metadata": {},
     "execution_count": 53
    }
   ],
   "source": [
    "filled = df.fillna(method='ffill', limit = 2)\n",
    "filled"
   ]
  },
  {
   "cell_type": "markdown",
   "metadata": {},
   "source": [
    "## df.fillna(value= , method='ffill', axis=0, inplace= , limit= )\n",
    "- value : 비어있는 값을 채울 스칼라 값이나 dictionary 형식의 객체\n",
    "- method : 버간법(기본 ffill)\n",
    "- axis : 값을 채워 넣을 축(기본 axis=0)\n",
    "- inplace : 복사본을 생성하지 않고 호출한 객체에 값을 반환(기본값=False)\n",
    "- limit : 값을 앞 또는 뒤로 몇개까지 채울지 지정"
   ]
  },
  {
   "cell_type": "markdown",
   "metadata": {},
   "source": [
    "## 데이터 변형\n",
    "### 데이터 중복 제거"
   ]
  },
  {
   "cell_type": "code",
   "execution_count": 58,
   "metadata": {},
   "outputs": [
    {
     "output_type": "execute_result",
     "data": {
      "text/plain": "    k1  k2\n0  one   1\n1  two   1\n2  one   2\n3  two   3\n4  one   3\n5  two   4\n6  two   4",
      "text/html": "<div>\n<style scoped>\n    .dataframe tbody tr th:only-of-type {\n        vertical-align: middle;\n    }\n\n    .dataframe tbody tr th {\n        vertical-align: top;\n    }\n\n    .dataframe thead th {\n        text-align: right;\n    }\n</style>\n<table border=\"1\" class=\"dataframe\">\n  <thead>\n    <tr style=\"text-align: right;\">\n      <th></th>\n      <th>k1</th>\n      <th>k2</th>\n    </tr>\n  </thead>\n  <tbody>\n    <tr>\n      <th>0</th>\n      <td>one</td>\n      <td>1</td>\n    </tr>\n    <tr>\n      <th>1</th>\n      <td>two</td>\n      <td>1</td>\n    </tr>\n    <tr>\n      <th>2</th>\n      <td>one</td>\n      <td>2</td>\n    </tr>\n    <tr>\n      <th>3</th>\n      <td>two</td>\n      <td>3</td>\n    </tr>\n    <tr>\n      <th>4</th>\n      <td>one</td>\n      <td>3</td>\n    </tr>\n    <tr>\n      <th>5</th>\n      <td>two</td>\n      <td>4</td>\n    </tr>\n    <tr>\n      <th>6</th>\n      <td>two</td>\n      <td>4</td>\n    </tr>\n  </tbody>\n</table>\n</div>"
     },
     "metadata": {},
     "execution_count": 58
    }
   ],
   "source": [
    "data = pd.DataFrame({'k1': ['one', 'two'] * 3 + ['two'],\n",
    "                     'k2': [1, 1, 2, 3, 3, 4, 4]})\n",
    "data"
   ]
  },
  {
   "cell_type": "code",
   "execution_count": 59,
   "metadata": {},
   "outputs": [
    {
     "output_type": "execute_result",
     "data": {
      "text/plain": "0    False\n1    False\n2    False\n3    False\n4    False\n5    False\n6     True\ndtype: bool"
     },
     "metadata": {},
     "execution_count": 59
    }
   ],
   "source": [
    "data.duplicated()"
   ]
  },
  {
   "cell_type": "code",
   "execution_count": 60,
   "metadata": {},
   "outputs": [
    {
     "output_type": "execute_result",
     "data": {
      "text/plain": "    k1  k2\n0  one   1\n1  two   1\n2  one   2\n3  two   3\n4  one   3\n5  two   4",
      "text/html": "<div>\n<style scoped>\n    .dataframe tbody tr th:only-of-type {\n        vertical-align: middle;\n    }\n\n    .dataframe tbody tr th {\n        vertical-align: top;\n    }\n\n    .dataframe thead th {\n        text-align: right;\n    }\n</style>\n<table border=\"1\" class=\"dataframe\">\n  <thead>\n    <tr style=\"text-align: right;\">\n      <th></th>\n      <th>k1</th>\n      <th>k2</th>\n    </tr>\n  </thead>\n  <tbody>\n    <tr>\n      <th>0</th>\n      <td>one</td>\n      <td>1</td>\n    </tr>\n    <tr>\n      <th>1</th>\n      <td>two</td>\n      <td>1</td>\n    </tr>\n    <tr>\n      <th>2</th>\n      <td>one</td>\n      <td>2</td>\n    </tr>\n    <tr>\n      <th>3</th>\n      <td>two</td>\n      <td>3</td>\n    </tr>\n    <tr>\n      <th>4</th>\n      <td>one</td>\n      <td>3</td>\n    </tr>\n    <tr>\n      <th>5</th>\n      <td>two</td>\n      <td>4</td>\n    </tr>\n  </tbody>\n</table>\n</div>"
     },
     "metadata": {},
     "execution_count": 60
    }
   ],
   "source": [
    "data.drop_duplicates()"
   ]
  },
  {
   "cell_type": "code",
   "execution_count": 62,
   "metadata": {},
   "outputs": [
    {
     "output_type": "execute_result",
     "data": {
      "text/plain": "    k1  k2  v1\n0  one   1   0\n1  two   1   1\n2  one   2   2\n3  two   3   3\n4  one   3   4\n5  two   4   5\n6  two   4   6",
      "text/html": "<div>\n<style scoped>\n    .dataframe tbody tr th:only-of-type {\n        vertical-align: middle;\n    }\n\n    .dataframe tbody tr th {\n        vertical-align: top;\n    }\n\n    .dataframe thead th {\n        text-align: right;\n    }\n</style>\n<table border=\"1\" class=\"dataframe\">\n  <thead>\n    <tr style=\"text-align: right;\">\n      <th></th>\n      <th>k1</th>\n      <th>k2</th>\n      <th>v1</th>\n    </tr>\n  </thead>\n  <tbody>\n    <tr>\n      <th>0</th>\n      <td>one</td>\n      <td>1</td>\n      <td>0</td>\n    </tr>\n    <tr>\n      <th>1</th>\n      <td>two</td>\n      <td>1</td>\n      <td>1</td>\n    </tr>\n    <tr>\n      <th>2</th>\n      <td>one</td>\n      <td>2</td>\n      <td>2</td>\n    </tr>\n    <tr>\n      <th>3</th>\n      <td>two</td>\n      <td>3</td>\n      <td>3</td>\n    </tr>\n    <tr>\n      <th>4</th>\n      <td>one</td>\n      <td>3</td>\n      <td>4</td>\n    </tr>\n    <tr>\n      <th>5</th>\n      <td>two</td>\n      <td>4</td>\n      <td>5</td>\n    </tr>\n    <tr>\n      <th>6</th>\n      <td>two</td>\n      <td>4</td>\n      <td>6</td>\n    </tr>\n  </tbody>\n</table>\n</div>"
     },
     "metadata": {},
     "execution_count": 62
    }
   ],
   "source": [
    "data['v1']=range(7)\n",
    "data"
   ]
  },
  {
   "cell_type": "code",
   "execution_count": 63,
   "metadata": {},
   "outputs": [
    {
     "output_type": "execute_result",
     "data": {
      "text/plain": "    k1  k2  v1\n0  one   1   0\n1  two   1   1",
      "text/html": "<div>\n<style scoped>\n    .dataframe tbody tr th:only-of-type {\n        vertical-align: middle;\n    }\n\n    .dataframe tbody tr th {\n        vertical-align: top;\n    }\n\n    .dataframe thead th {\n        text-align: right;\n    }\n</style>\n<table border=\"1\" class=\"dataframe\">\n  <thead>\n    <tr style=\"text-align: right;\">\n      <th></th>\n      <th>k1</th>\n      <th>k2</th>\n      <th>v1</th>\n    </tr>\n  </thead>\n  <tbody>\n    <tr>\n      <th>0</th>\n      <td>one</td>\n      <td>1</td>\n      <td>0</td>\n    </tr>\n    <tr>\n      <th>1</th>\n      <td>two</td>\n      <td>1</td>\n      <td>1</td>\n    </tr>\n  </tbody>\n</table>\n</div>"
     },
     "metadata": {},
     "execution_count": 63
    }
   ],
   "source": [
    "data.drop_duplicates(['k1'])"
   ]
  },
  {
   "cell_type": "code",
   "execution_count": 64,
   "metadata": {},
   "outputs": [
    {
     "output_type": "execute_result",
     "data": {
      "text/plain": "    k1  k2  v1\n0  one   1   0\n2  one   2   2\n3  two   3   3\n5  two   4   5",
      "text/html": "<div>\n<style scoped>\n    .dataframe tbody tr th:only-of-type {\n        vertical-align: middle;\n    }\n\n    .dataframe tbody tr th {\n        vertical-align: top;\n    }\n\n    .dataframe thead th {\n        text-align: right;\n    }\n</style>\n<table border=\"1\" class=\"dataframe\">\n  <thead>\n    <tr style=\"text-align: right;\">\n      <th></th>\n      <th>k1</th>\n      <th>k2</th>\n      <th>v1</th>\n    </tr>\n  </thead>\n  <tbody>\n    <tr>\n      <th>0</th>\n      <td>one</td>\n      <td>1</td>\n      <td>0</td>\n    </tr>\n    <tr>\n      <th>2</th>\n      <td>one</td>\n      <td>2</td>\n      <td>2</td>\n    </tr>\n    <tr>\n      <th>3</th>\n      <td>two</td>\n      <td>3</td>\n      <td>3</td>\n    </tr>\n    <tr>\n      <th>5</th>\n      <td>two</td>\n      <td>4</td>\n      <td>5</td>\n    </tr>\n  </tbody>\n</table>\n</div>"
     },
     "metadata": {},
     "execution_count": 64
    }
   ],
   "source": [
    "data.drop_duplicates(['k2'])"
   ]
  },
  {
   "cell_type": "code",
   "execution_count": 67,
   "metadata": {},
   "outputs": [
    {
     "output_type": "execute_result",
     "data": {
      "text/plain": "    k1  k2  v1\n0  one   1   0\n1  two   1   1\n2  one   2   2\n3  two   3   3\n4  one   3   4\n5  two   4   5\n6  two   4   6",
      "text/html": "<div>\n<style scoped>\n    .dataframe tbody tr th:only-of-type {\n        vertical-align: middle;\n    }\n\n    .dataframe tbody tr th {\n        vertical-align: top;\n    }\n\n    .dataframe thead th {\n        text-align: right;\n    }\n</style>\n<table border=\"1\" class=\"dataframe\">\n  <thead>\n    <tr style=\"text-align: right;\">\n      <th></th>\n      <th>k1</th>\n      <th>k2</th>\n      <th>v1</th>\n    </tr>\n  </thead>\n  <tbody>\n    <tr>\n      <th>0</th>\n      <td>one</td>\n      <td>1</td>\n      <td>0</td>\n    </tr>\n    <tr>\n      <th>1</th>\n      <td>two</td>\n      <td>1</td>\n      <td>1</td>\n    </tr>\n    <tr>\n      <th>2</th>\n      <td>one</td>\n      <td>2</td>\n      <td>2</td>\n    </tr>\n    <tr>\n      <th>3</th>\n      <td>two</td>\n      <td>3</td>\n      <td>3</td>\n    </tr>\n    <tr>\n      <th>4</th>\n      <td>one</td>\n      <td>3</td>\n      <td>4</td>\n    </tr>\n    <tr>\n      <th>5</th>\n      <td>two</td>\n      <td>4</td>\n      <td>5</td>\n    </tr>\n    <tr>\n      <th>6</th>\n      <td>two</td>\n      <td>4</td>\n      <td>6</td>\n    </tr>\n  </tbody>\n</table>\n</div>"
     },
     "metadata": {},
     "execution_count": 67
    }
   ],
   "source": [
    "data.drop_duplicates(['v1']) # v1은 중복이 없음"
   ]
  },
  {
   "cell_type": "code",
   "execution_count": 68,
   "metadata": {},
   "outputs": [
    {
     "output_type": "execute_result",
     "data": {
      "text/plain": "    k1  k2  v1\n0  one   1   0\n1  two   1   1\n2  one   2   2\n3  two   3   3\n4  one   3   4\n6  two   4   6",
      "text/html": "<div>\n<style scoped>\n    .dataframe tbody tr th:only-of-type {\n        vertical-align: middle;\n    }\n\n    .dataframe tbody tr th {\n        vertical-align: top;\n    }\n\n    .dataframe thead th {\n        text-align: right;\n    }\n</style>\n<table border=\"1\" class=\"dataframe\">\n  <thead>\n    <tr style=\"text-align: right;\">\n      <th></th>\n      <th>k1</th>\n      <th>k2</th>\n      <th>v1</th>\n    </tr>\n  </thead>\n  <tbody>\n    <tr>\n      <th>0</th>\n      <td>one</td>\n      <td>1</td>\n      <td>0</td>\n    </tr>\n    <tr>\n      <th>1</th>\n      <td>two</td>\n      <td>1</td>\n      <td>1</td>\n    </tr>\n    <tr>\n      <th>2</th>\n      <td>one</td>\n      <td>2</td>\n      <td>2</td>\n    </tr>\n    <tr>\n      <th>3</th>\n      <td>two</td>\n      <td>3</td>\n      <td>3</td>\n    </tr>\n    <tr>\n      <th>4</th>\n      <td>one</td>\n      <td>3</td>\n      <td>4</td>\n    </tr>\n    <tr>\n      <th>6</th>\n      <td>two</td>\n      <td>4</td>\n      <td>6</td>\n    </tr>\n  </tbody>\n</table>\n</div>"
     },
     "metadata": {},
     "execution_count": 68
    }
   ],
   "source": [
    "data.drop_duplicates(['k1','k2'], keep='last')"
   ]
  },
  {
   "cell_type": "markdown",
   "metadata": {},
   "source": [
    "### 데이터 변형하기"
   ]
  },
  {
   "cell_type": "code",
   "execution_count": 69,
   "metadata": {},
   "outputs": [
    {
     "output_type": "execute_result",
     "data": {
      "text/plain": "          food  ounces\n0        bacon     4.0\n1  pulled pork     3.0\n2        bacon    12.0\n3     Pastrami     6.0\n4  corned beef     7.5\n5        Bacon     8.0\n6     pastrami     3.0\n7    honey ham     5.0\n8     nova lox     6.0",
      "text/html": "<div>\n<style scoped>\n    .dataframe tbody tr th:only-of-type {\n        vertical-align: middle;\n    }\n\n    .dataframe tbody tr th {\n        vertical-align: top;\n    }\n\n    .dataframe thead th {\n        text-align: right;\n    }\n</style>\n<table border=\"1\" class=\"dataframe\">\n  <thead>\n    <tr style=\"text-align: right;\">\n      <th></th>\n      <th>food</th>\n      <th>ounces</th>\n    </tr>\n  </thead>\n  <tbody>\n    <tr>\n      <th>0</th>\n      <td>bacon</td>\n      <td>4.0</td>\n    </tr>\n    <tr>\n      <th>1</th>\n      <td>pulled pork</td>\n      <td>3.0</td>\n    </tr>\n    <tr>\n      <th>2</th>\n      <td>bacon</td>\n      <td>12.0</td>\n    </tr>\n    <tr>\n      <th>3</th>\n      <td>Pastrami</td>\n      <td>6.0</td>\n    </tr>\n    <tr>\n      <th>4</th>\n      <td>corned beef</td>\n      <td>7.5</td>\n    </tr>\n    <tr>\n      <th>5</th>\n      <td>Bacon</td>\n      <td>8.0</td>\n    </tr>\n    <tr>\n      <th>6</th>\n      <td>pastrami</td>\n      <td>3.0</td>\n    </tr>\n    <tr>\n      <th>7</th>\n      <td>honey ham</td>\n      <td>5.0</td>\n    </tr>\n    <tr>\n      <th>8</th>\n      <td>nova lox</td>\n      <td>6.0</td>\n    </tr>\n  </tbody>\n</table>\n</div>"
     },
     "metadata": {},
     "execution_count": 69
    }
   ],
   "source": [
    "data = pd.DataFrame({'food': ['bacon', 'pulled pork', 'bacon',\n",
    "                              'Pastrami', 'corned beef', 'Bacon',\n",
    "                              'pastrami', 'honey ham', 'nova lox'],\n",
    "                     'ounces': [4, 3, 12, 6, 7.5, 8, 3, 5, 6]})\n",
    "data"
   ]
  },
  {
   "cell_type": "code",
   "execution_count": 75,
   "metadata": {},
   "outputs": [
    {
     "output_type": "execute_result",
     "data": {
      "text/plain": "{'bacon': 'pig',\n 'pulled pork': 'pig',\n 'pastrami': 'cow',\n 'corned beef': 'cow',\n 'honey ham': 'pig',\n 'nova lox': 'salmon'}"
     },
     "metadata": {},
     "execution_count": 75
    }
   ],
   "source": [
    "meat_to_animal = {\n",
    "  'bacon': 'pig',\n",
    "  'pulled pork': 'pig',\n",
    "  'pastrami': 'cow',\n",
    "  'corned beef': 'cow',\n",
    "  'honey ham': 'pig',\n",
    "  'nova lox': 'salmon'\n",
    "}\n",
    "meat_to_animal"
   ]
  },
  {
   "cell_type": "code",
   "execution_count": 73,
   "metadata": {},
   "outputs": [
    {
     "output_type": "execute_result",
     "data": {
      "text/plain": "0          bacon\n1    pulled pork\n2          bacon\n3       pastrami\n4    corned beef\n5          bacon\n6       pastrami\n7      honey ham\n8       nova lox\nName: food, dtype: object"
     },
     "metadata": {},
     "execution_count": 73
    }
   ],
   "source": [
    "lower_cased = data['food'].str.lower()\n",
    "lower_cased"
   ]
  },
  {
   "cell_type": "code",
   "execution_count": 77,
   "metadata": {},
   "outputs": [
    {
     "output_type": "execute_result",
     "data": {
      "text/plain": "          food  ounces  animal\n0        bacon     4.0     pig\n1  pulled pork     3.0     pig\n2        bacon    12.0     pig\n3     Pastrami     6.0     cow\n4  corned beef     7.5     cow\n5        Bacon     8.0     pig\n6     pastrami     3.0     cow\n7    honey ham     5.0     pig\n8     nova lox     6.0  salmon",
      "text/html": "<div>\n<style scoped>\n    .dataframe tbody tr th:only-of-type {\n        vertical-align: middle;\n    }\n\n    .dataframe tbody tr th {\n        vertical-align: top;\n    }\n\n    .dataframe thead th {\n        text-align: right;\n    }\n</style>\n<table border=\"1\" class=\"dataframe\">\n  <thead>\n    <tr style=\"text-align: right;\">\n      <th></th>\n      <th>food</th>\n      <th>ounces</th>\n      <th>animal</th>\n    </tr>\n  </thead>\n  <tbody>\n    <tr>\n      <th>0</th>\n      <td>bacon</td>\n      <td>4.0</td>\n      <td>pig</td>\n    </tr>\n    <tr>\n      <th>1</th>\n      <td>pulled pork</td>\n      <td>3.0</td>\n      <td>pig</td>\n    </tr>\n    <tr>\n      <th>2</th>\n      <td>bacon</td>\n      <td>12.0</td>\n      <td>pig</td>\n    </tr>\n    <tr>\n      <th>3</th>\n      <td>Pastrami</td>\n      <td>6.0</td>\n      <td>cow</td>\n    </tr>\n    <tr>\n      <th>4</th>\n      <td>corned beef</td>\n      <td>7.5</td>\n      <td>cow</td>\n    </tr>\n    <tr>\n      <th>5</th>\n      <td>Bacon</td>\n      <td>8.0</td>\n      <td>pig</td>\n    </tr>\n    <tr>\n      <th>6</th>\n      <td>pastrami</td>\n      <td>3.0</td>\n      <td>cow</td>\n    </tr>\n    <tr>\n      <th>7</th>\n      <td>honey ham</td>\n      <td>5.0</td>\n      <td>pig</td>\n    </tr>\n    <tr>\n      <th>8</th>\n      <td>nova lox</td>\n      <td>6.0</td>\n      <td>salmon</td>\n    </tr>\n  </tbody>\n</table>\n</div>"
     },
     "metadata": {},
     "execution_count": 77
    }
   ],
   "source": [
    "data['animal'] = lower_cased.map(meat_to_animal)\n",
    "data"
   ]
  },
  {
   "cell_type": "code",
   "execution_count": 79,
   "metadata": {},
   "outputs": [
    {
     "output_type": "execute_result",
     "data": {
      "text/plain": "0       pig\n1       pig\n2       pig\n3       cow\n4       cow\n5       pig\n6       cow\n7       pig\n8    salmon\nName: food, dtype: object"
     },
     "metadata": {},
     "execution_count": 79
    }
   ],
   "source": [
    "data['food'].map(lambda x: meat_to_animal[x.lower()])"
   ]
  },
  {
   "cell_type": "code",
   "execution_count": 80,
   "metadata": {},
   "outputs": [
    {
     "output_type": "execute_result",
     "data": {
      "text/plain": "          food  ounces  animal\n0        bacon     4.0     pig\n1  pulled pork     3.0     pig\n2        bacon    12.0     pig\n3     Pastrami     6.0     cow\n4  corned beef     7.5     cow\n5        Bacon     8.0     pig\n6     pastrami     3.0     cow\n7    honey ham     5.0     pig\n8     nova lox     6.0  salmon",
      "text/html": "<div>\n<style scoped>\n    .dataframe tbody tr th:only-of-type {\n        vertical-align: middle;\n    }\n\n    .dataframe tbody tr th {\n        vertical-align: top;\n    }\n\n    .dataframe thead th {\n        text-align: right;\n    }\n</style>\n<table border=\"1\" class=\"dataframe\">\n  <thead>\n    <tr style=\"text-align: right;\">\n      <th></th>\n      <th>food</th>\n      <th>ounces</th>\n      <th>animal</th>\n    </tr>\n  </thead>\n  <tbody>\n    <tr>\n      <th>0</th>\n      <td>bacon</td>\n      <td>4.0</td>\n      <td>pig</td>\n    </tr>\n    <tr>\n      <th>1</th>\n      <td>pulled pork</td>\n      <td>3.0</td>\n      <td>pig</td>\n    </tr>\n    <tr>\n      <th>2</th>\n      <td>bacon</td>\n      <td>12.0</td>\n      <td>pig</td>\n    </tr>\n    <tr>\n      <th>3</th>\n      <td>Pastrami</td>\n      <td>6.0</td>\n      <td>cow</td>\n    </tr>\n    <tr>\n      <th>4</th>\n      <td>corned beef</td>\n      <td>7.5</td>\n      <td>cow</td>\n    </tr>\n    <tr>\n      <th>5</th>\n      <td>Bacon</td>\n      <td>8.0</td>\n      <td>pig</td>\n    </tr>\n    <tr>\n      <th>6</th>\n      <td>pastrami</td>\n      <td>3.0</td>\n      <td>cow</td>\n    </tr>\n    <tr>\n      <th>7</th>\n      <td>honey ham</td>\n      <td>5.0</td>\n      <td>pig</td>\n    </tr>\n    <tr>\n      <th>8</th>\n      <td>nova lox</td>\n      <td>6.0</td>\n      <td>salmon</td>\n    </tr>\n  </tbody>\n</table>\n</div>"
     },
     "metadata": {},
     "execution_count": 80
    }
   ],
   "source": [
    "data['animal'] = data['food'].map(lambda x: meat_to_animal[x.lower()])\n",
    "data"
   ]
  },
  {
   "cell_type": "code",
   "execution_count": 82,
   "metadata": {},
   "outputs": [
    {
     "output_type": "execute_result",
     "data": {
      "text/plain": "0       1\n1    -999\n2       2\n3    -999\n4   -1000\n5       3\ndtype: int64"
     },
     "metadata": {},
     "execution_count": 82
    }
   ],
   "source": [
    "data = pd.Series([1, -999, 2, -999, -1000, 3])\n",
    "data"
   ]
  },
  {
   "cell_type": "code",
   "execution_count": 90,
   "metadata": {},
   "outputs": [
    {
     "output_type": "execute_result",
     "data": {
      "text/plain": "0       1.0\n1       NaN\n2       2.0\n3       NaN\n4   -1000.0\n5       3.0\ndtype: float64"
     },
     "metadata": {},
     "execution_count": 90
    }
   ],
   "source": [
    "data2 = data.replace(-999, np.nan)\n",
    "data2"
   ]
  },
  {
   "cell_type": "code",
   "execution_count": 91,
   "metadata": {},
   "outputs": [
    {
     "output_type": "execute_result",
     "data": {
      "text/plain": "0    1.0\n1    NaN\n2    2.0\n3    NaN\n4    NaN\n5    3.0\ndtype: float64"
     },
     "metadata": {},
     "execution_count": 91
    }
   ],
   "source": [
    "data2 = data.replace([-999, -1000], np.nan)\n",
    "data2"
   ]
  },
  {
   "cell_type": "code",
   "execution_count": 92,
   "metadata": {},
   "outputs": [
    {
     "output_type": "execute_result",
     "data": {
      "text/plain": "0    1.0\n1    NaN\n2    2.0\n3    NaN\n4    0.0\n5    3.0\ndtype: float64"
     },
     "metadata": {},
     "execution_count": 92
    }
   ],
   "source": [
    "data2 = data.replace([-999, -1000], [np.nan, 0])\n",
    "data2"
   ]
  },
  {
   "cell_type": "code",
   "execution_count": 93,
   "metadata": {},
   "outputs": [
    {
     "output_type": "execute_result",
     "data": {
      "text/plain": "0    1.0\n1    NaN\n2    2.0\n3    NaN\n4    0.0\n5    3.0\ndtype: float64"
     },
     "metadata": {},
     "execution_count": 93
    }
   ],
   "source": [
    "data2 = data.replace({-999: np.nan, -1000: 0})\n",
    "data2"
   ]
  },
  {
   "cell_type": "code",
   "execution_count": 94,
   "metadata": {},
   "outputs": [
    {
     "output_type": "execute_result",
     "data": {
      "text/plain": "          one  two  three  four\nOhio        0    1      2     3\nColorado    4    5      6     7\nNew York    8    9     10    11",
      "text/html": "<div>\n<style scoped>\n    .dataframe tbody tr th:only-of-type {\n        vertical-align: middle;\n    }\n\n    .dataframe tbody tr th {\n        vertical-align: top;\n    }\n\n    .dataframe thead th {\n        text-align: right;\n    }\n</style>\n<table border=\"1\" class=\"dataframe\">\n  <thead>\n    <tr style=\"text-align: right;\">\n      <th></th>\n      <th>one</th>\n      <th>two</th>\n      <th>three</th>\n      <th>four</th>\n    </tr>\n  </thead>\n  <tbody>\n    <tr>\n      <th>Ohio</th>\n      <td>0</td>\n      <td>1</td>\n      <td>2</td>\n      <td>3</td>\n    </tr>\n    <tr>\n      <th>Colorado</th>\n      <td>4</td>\n      <td>5</td>\n      <td>6</td>\n      <td>7</td>\n    </tr>\n    <tr>\n      <th>New York</th>\n      <td>8</td>\n      <td>9</td>\n      <td>10</td>\n      <td>11</td>\n    </tr>\n  </tbody>\n</table>\n</div>"
     },
     "metadata": {},
     "execution_count": 94
    }
   ],
   "source": [
    "data = pd.DataFrame(np.arange(12).reshape((3, 4)),\n",
    "                    index=['Ohio', 'Colorado', 'New York'],\n",
    "                    columns=['one', 'two', 'three', 'four'])\n",
    "data"
   ]
  },
  {
   "cell_type": "code",
   "execution_count": 95,
   "metadata": {},
   "outputs": [
    {
     "output_type": "execute_result",
     "data": {
      "text/plain": "Index(['OHIO', 'COLO', 'NEW '], dtype='object')"
     },
     "metadata": {},
     "execution_count": 95
    }
   ],
   "source": [
    "transform = lambda x: x[:4].upper()\n",
    "data.index.map(transform)"
   ]
  },
  {
   "cell_type": "code",
   "execution_count": 96,
   "metadata": {},
   "outputs": [
    {
     "output_type": "execute_result",
     "data": {
      "text/plain": "Index(['Ohio', 'Colorado', 'New York'], dtype='object')"
     },
     "metadata": {},
     "execution_count": 96
    }
   ],
   "source": [
    "data.index"
   ]
  },
  {
   "cell_type": "code",
   "execution_count": 98,
   "metadata": {},
   "outputs": [
    {
     "output_type": "execute_result",
     "data": {
      "text/plain": "      one  two  three  four\nOHIO    0    1      2     3\nCOLO    4    5      6     7\nNEW     8    9     10    11",
      "text/html": "<div>\n<style scoped>\n    .dataframe tbody tr th:only-of-type {\n        vertical-align: middle;\n    }\n\n    .dataframe tbody tr th {\n        vertical-align: top;\n    }\n\n    .dataframe thead th {\n        text-align: right;\n    }\n</style>\n<table border=\"1\" class=\"dataframe\">\n  <thead>\n    <tr style=\"text-align: right;\">\n      <th></th>\n      <th>one</th>\n      <th>two</th>\n      <th>three</th>\n      <th>four</th>\n    </tr>\n  </thead>\n  <tbody>\n    <tr>\n      <th>OHIO</th>\n      <td>0</td>\n      <td>1</td>\n      <td>2</td>\n      <td>3</td>\n    </tr>\n    <tr>\n      <th>COLO</th>\n      <td>4</td>\n      <td>5</td>\n      <td>6</td>\n      <td>7</td>\n    </tr>\n    <tr>\n      <th>NEW</th>\n      <td>8</td>\n      <td>9</td>\n      <td>10</td>\n      <td>11</td>\n    </tr>\n  </tbody>\n</table>\n</div>"
     },
     "metadata": {},
     "execution_count": 98
    }
   ],
   "source": [
    "data.index = data.index.map(transform)\n",
    "data"
   ]
  },
  {
   "cell_type": "code",
   "execution_count": 99,
   "metadata": {},
   "outputs": [
    {
     "output_type": "execute_result",
     "data": {
      "text/plain": "      ONE  TWO  THREE  FOUR\nOhio    0    1      2     3\nColo    4    5      6     7\nNew     8    9     10    11",
      "text/html": "<div>\n<style scoped>\n    .dataframe tbody tr th:only-of-type {\n        vertical-align: middle;\n    }\n\n    .dataframe tbody tr th {\n        vertical-align: top;\n    }\n\n    .dataframe thead th {\n        text-align: right;\n    }\n</style>\n<table border=\"1\" class=\"dataframe\">\n  <thead>\n    <tr style=\"text-align: right;\">\n      <th></th>\n      <th>ONE</th>\n      <th>TWO</th>\n      <th>THREE</th>\n      <th>FOUR</th>\n    </tr>\n  </thead>\n  <tbody>\n    <tr>\n      <th>Ohio</th>\n      <td>0</td>\n      <td>1</td>\n      <td>2</td>\n      <td>3</td>\n    </tr>\n    <tr>\n      <th>Colo</th>\n      <td>4</td>\n      <td>5</td>\n      <td>6</td>\n      <td>7</td>\n    </tr>\n    <tr>\n      <th>New</th>\n      <td>8</td>\n      <td>9</td>\n      <td>10</td>\n      <td>11</td>\n    </tr>\n  </tbody>\n</table>\n</div>"
     },
     "metadata": {},
     "execution_count": 99
    }
   ],
   "source": [
    "data.rename(index=str.title, columns=str.upper)"
   ]
  },
  {
   "cell_type": "code",
   "execution_count": 100,
   "metadata": {},
   "outputs": [
    {
     "output_type": "execute_result",
     "data": {
      "text/plain": "         one  two  peekaboo  four\nINDIANA    0    1         2     3\nCOLO       4    5         6     7\nNEW        8    9        10    11",
      "text/html": "<div>\n<style scoped>\n    .dataframe tbody tr th:only-of-type {\n        vertical-align: middle;\n    }\n\n    .dataframe tbody tr th {\n        vertical-align: top;\n    }\n\n    .dataframe thead th {\n        text-align: right;\n    }\n</style>\n<table border=\"1\" class=\"dataframe\">\n  <thead>\n    <tr style=\"text-align: right;\">\n      <th></th>\n      <th>one</th>\n      <th>two</th>\n      <th>peekaboo</th>\n      <th>four</th>\n    </tr>\n  </thead>\n  <tbody>\n    <tr>\n      <th>INDIANA</th>\n      <td>0</td>\n      <td>1</td>\n      <td>2</td>\n      <td>3</td>\n    </tr>\n    <tr>\n      <th>COLO</th>\n      <td>4</td>\n      <td>5</td>\n      <td>6</td>\n      <td>7</td>\n    </tr>\n    <tr>\n      <th>NEW</th>\n      <td>8</td>\n      <td>9</td>\n      <td>10</td>\n      <td>11</td>\n    </tr>\n  </tbody>\n</table>\n</div>"
     },
     "metadata": {},
     "execution_count": 100
    }
   ],
   "source": [
    " data.rename(index={'OHIO':'INDIANA'}, columns={'three':'peekaboo'})"
   ]
  },
  {
   "cell_type": "code",
   "execution_count": 101,
   "metadata": {},
   "outputs": [],
   "source": [
    "data.rename(index={'OHIO':'INDIANA'}, columns={'three':'peekaboo'}, inplace=True)"
   ]
  },
  {
   "cell_type": "code",
   "execution_count": 102,
   "metadata": {},
   "outputs": [
    {
     "output_type": "execute_result",
     "data": {
      "text/plain": "         one  two  peekaboo  four\nINDIANA    0    1         2     3\nCOLO       4    5         6     7\nNEW        8    9        10    11",
      "text/html": "<div>\n<style scoped>\n    .dataframe tbody tr th:only-of-type {\n        vertical-align: middle;\n    }\n\n    .dataframe tbody tr th {\n        vertical-align: top;\n    }\n\n    .dataframe thead th {\n        text-align: right;\n    }\n</style>\n<table border=\"1\" class=\"dataframe\">\n  <thead>\n    <tr style=\"text-align: right;\">\n      <th></th>\n      <th>one</th>\n      <th>two</th>\n      <th>peekaboo</th>\n      <th>four</th>\n    </tr>\n  </thead>\n  <tbody>\n    <tr>\n      <th>INDIANA</th>\n      <td>0</td>\n      <td>1</td>\n      <td>2</td>\n      <td>3</td>\n    </tr>\n    <tr>\n      <th>COLO</th>\n      <td>4</td>\n      <td>5</td>\n      <td>6</td>\n      <td>7</td>\n    </tr>\n    <tr>\n      <th>NEW</th>\n      <td>8</td>\n      <td>9</td>\n      <td>10</td>\n      <td>11</td>\n    </tr>\n  </tbody>\n</table>\n</div>"
     },
     "metadata": {},
     "execution_count": 102
    }
   ],
   "source": [
    "data"
   ]
  },
  {
   "cell_type": "code",
   "execution_count": 103,
   "metadata": {},
   "outputs": [],
   "source": [
    "ages = [20, 22, 25, 27, 21, 23, 37, 31, 61, 45, 41, 32]"
   ]
  },
  {
   "cell_type": "code",
   "execution_count": 104,
   "metadata": {},
   "outputs": [
    {
     "output_type": "execute_result",
     "data": {
      "text/plain": "[(18, 25], (18, 25], (18, 25], (25, 35], (18, 25], ..., (25, 35], (60, 100], (35, 60], (35, 60], (25, 35]]\nLength: 12\nCategories (4, interval[int64]): [(18, 25] < (25, 35] < (35, 60] < (60, 100]]"
     },
     "metadata": {},
     "execution_count": 104
    }
   ],
   "source": [
    "# 18~25\n",
    "# 26~35\n",
    "# 35~60\n",
    "# 60이상\n",
    "bins = [18,25,35,60,100]\n",
    "cats = pd.cut(ages, bins)\n",
    "cats"
   ]
  },
  {
   "cell_type": "code",
   "execution_count": 105,
   "metadata": {},
   "outputs": [
    {
     "output_type": "execute_result",
     "data": {
      "text/plain": "array([0, 0, 0, 1, 0, 0, 2, 1, 3, 2, 2, 1], dtype=int8)"
     },
     "metadata": {},
     "execution_count": 105
    }
   ],
   "source": [
    "cats.codes # 0~3 까지의 값으로 변경"
   ]
  },
  {
   "cell_type": "code",
   "execution_count": 106,
   "metadata": {},
   "outputs": [
    {
     "output_type": "execute_result",
     "data": {
      "text/plain": "IntervalIndex([(18, 25], (25, 35], (35, 60], (60, 100]],\n              closed='right',\n              dtype='interval[int64]')"
     },
     "metadata": {},
     "execution_count": 106
    }
   ],
   "source": [
    "cats.categories"
   ]
  },
  {
   "cell_type": "code",
   "execution_count": 107,
   "metadata": {},
   "outputs": [
    {
     "output_type": "execute_result",
     "data": {
      "text/plain": "(18, 25]     5\n(35, 60]     3\n(25, 35]     3\n(60, 100]    1\ndtype: int64"
     },
     "metadata": {},
     "execution_count": 107
    }
   ],
   "source": [
    "pd.value_counts(cats)"
   ]
  },
  {
   "cell_type": "code",
   "execution_count": 108,
   "metadata": {},
   "outputs": [
    {
     "output_type": "execute_result",
     "data": {
      "text/plain": "[[18, 26), [18, 26), [18, 26), [26, 36), [18, 26), ..., [26, 36), [61, 100), [36, 61), [36, 61), [26, 36)]\nLength: 12\nCategories (4, interval[int64]): [[18, 26) < [26, 36) < [36, 61) < [61, 100)]"
     },
     "metadata": {},
     "execution_count": 108
    }
   ],
   "source": [
    "# 왼쪽은 포함 / 오른쪽은 포함안됨\n",
    "pd.cut(ages, [18,26,36,61,100], right=False)"
   ]
  },
  {
   "cell_type": "code",
   "execution_count": 109,
   "metadata": {},
   "outputs": [],
   "source": [
    "group_names = ['Youth','YoungAdult','MiddleAged','Senior']"
   ]
  },
  {
   "cell_type": "code",
   "execution_count": 113,
   "metadata": {},
   "outputs": [
    {
     "output_type": "execute_result",
     "data": {
      "text/plain": "[Youth, Youth, Youth, YoungAdult, Youth, ..., YoungAdult, Senior, MiddleAged, MiddleAged, YoungAdult]\nLength: 12\nCategories (4, object): [Youth < YoungAdult < MiddleAged < Senior]"
     },
     "metadata": {},
     "execution_count": 113
    }
   ],
   "source": [
    "pd.cut(ages, bins, labels=group_names)"
   ]
  },
  {
   "cell_type": "code",
   "execution_count": 114,
   "metadata": {},
   "outputs": [
    {
     "output_type": "execute_result",
     "data": {
      "text/plain": "array([0.52976717, 0.91408043, 0.08641675, 0.67318473, 0.52947709,\n       0.56801719, 0.84751509, 0.3225364 , 0.85368424, 0.32716365,\n       0.64013569, 0.0451534 , 0.19582032, 0.95634698, 0.66966448,\n       0.2405446 , 0.21126028, 0.01414683, 0.06570119, 0.4724081 ])"
     },
     "metadata": {},
     "execution_count": 114
    }
   ],
   "source": [
    "data = np.random.rand(20)\n",
    "data"
   ]
  },
  {
   "cell_type": "code",
   "execution_count": 115,
   "metadata": {},
   "outputs": [
    {
     "output_type": "execute_result",
     "data": {
      "text/plain": "[(0.49, 0.72], (0.72, 0.96], (0.013, 0.25], (0.49, 0.72], (0.49, 0.72], ..., (0.013, 0.25], (0.013, 0.25], (0.013, 0.25], (0.013, 0.25], (0.25, 0.49]]\nLength: 20\nCategories (4, interval[float64]): [(0.013, 0.25] < (0.25, 0.49] < (0.49, 0.72] < (0.72, 0.96]]"
     },
     "metadata": {},
     "execution_count": 115
    }
   ],
   "source": [
    "pd.cut(data, 4, precision=2)"
   ]
  },
  {
   "cell_type": "code",
   "execution_count": 127,
   "metadata": {},
   "outputs": [
    {
     "output_type": "execute_result",
     "data": {
      "text/plain": "            0         1         2         3\n0    0.263223  0.516555  1.042671 -0.012441\n1    1.899512 -0.529295 -0.261148  0.712832\n2    0.054007 -2.485555 -2.214113 -0.665838\n3   -0.794054  1.695650 -0.622830 -0.187382\n4   -0.228874 -1.843499  1.546596 -0.091515\n..        ...       ...       ...       ...\n995  2.291507  0.030237  0.344594  0.239530\n996 -1.016208 -2.152147  0.087838  0.450862\n997  0.195412  0.424862 -0.372419  0.597371\n998  2.437354  0.994547 -1.173533  2.071166\n999 -0.286284 -0.712797 -0.172869 -0.483482\n\n[1000 rows x 4 columns]",
      "text/html": "<div>\n<style scoped>\n    .dataframe tbody tr th:only-of-type {\n        vertical-align: middle;\n    }\n\n    .dataframe tbody tr th {\n        vertical-align: top;\n    }\n\n    .dataframe thead th {\n        text-align: right;\n    }\n</style>\n<table border=\"1\" class=\"dataframe\">\n  <thead>\n    <tr style=\"text-align: right;\">\n      <th></th>\n      <th>0</th>\n      <th>1</th>\n      <th>2</th>\n      <th>3</th>\n    </tr>\n  </thead>\n  <tbody>\n    <tr>\n      <th>0</th>\n      <td>0.263223</td>\n      <td>0.516555</td>\n      <td>1.042671</td>\n      <td>-0.012441</td>\n    </tr>\n    <tr>\n      <th>1</th>\n      <td>1.899512</td>\n      <td>-0.529295</td>\n      <td>-0.261148</td>\n      <td>0.712832</td>\n    </tr>\n    <tr>\n      <th>2</th>\n      <td>0.054007</td>\n      <td>-2.485555</td>\n      <td>-2.214113</td>\n      <td>-0.665838</td>\n    </tr>\n    <tr>\n      <th>3</th>\n      <td>-0.794054</td>\n      <td>1.695650</td>\n      <td>-0.622830</td>\n      <td>-0.187382</td>\n    </tr>\n    <tr>\n      <th>4</th>\n      <td>-0.228874</td>\n      <td>-1.843499</td>\n      <td>1.546596</td>\n      <td>-0.091515</td>\n    </tr>\n    <tr>\n      <th>...</th>\n      <td>...</td>\n      <td>...</td>\n      <td>...</td>\n      <td>...</td>\n    </tr>\n    <tr>\n      <th>995</th>\n      <td>2.291507</td>\n      <td>0.030237</td>\n      <td>0.344594</td>\n      <td>0.239530</td>\n    </tr>\n    <tr>\n      <th>996</th>\n      <td>-1.016208</td>\n      <td>-2.152147</td>\n      <td>0.087838</td>\n      <td>0.450862</td>\n    </tr>\n    <tr>\n      <th>997</th>\n      <td>0.195412</td>\n      <td>0.424862</td>\n      <td>-0.372419</td>\n      <td>0.597371</td>\n    </tr>\n    <tr>\n      <th>998</th>\n      <td>2.437354</td>\n      <td>0.994547</td>\n      <td>-1.173533</td>\n      <td>2.071166</td>\n    </tr>\n    <tr>\n      <th>999</th>\n      <td>-0.286284</td>\n      <td>-0.712797</td>\n      <td>-0.172869</td>\n      <td>-0.483482</td>\n    </tr>\n  </tbody>\n</table>\n<p>1000 rows × 4 columns</p>\n</div>"
     },
     "metadata": {},
     "execution_count": 127
    }
   ],
   "source": [
    "data = pd.DataFrame(np.random.randn(1000,4))\n",
    "data"
   ]
  },
  {
   "cell_type": "code",
   "execution_count": 128,
   "metadata": {},
   "outputs": [
    {
     "output_type": "execute_result",
     "data": {
      "text/plain": "                 0            1            2            3\ncount  1000.000000  1000.000000  1000.000000  1000.000000\nmean     -0.046112    -0.068664    -0.015816     0.006913\nstd       1.015999     0.999945     1.002617     1.015077\nmin      -3.096877    -3.456944    -3.505216    -3.225731\n25%      -0.722629    -0.741151    -0.661859    -0.709078\n50%      -0.042445    -0.044809    -0.019311    -0.010132\n75%       0.650267     0.596400     0.626882     0.713237\nmax       3.392126     3.085970     3.285131     3.224281",
      "text/html": "<div>\n<style scoped>\n    .dataframe tbody tr th:only-of-type {\n        vertical-align: middle;\n    }\n\n    .dataframe tbody tr th {\n        vertical-align: top;\n    }\n\n    .dataframe thead th {\n        text-align: right;\n    }\n</style>\n<table border=\"1\" class=\"dataframe\">\n  <thead>\n    <tr style=\"text-align: right;\">\n      <th></th>\n      <th>0</th>\n      <th>1</th>\n      <th>2</th>\n      <th>3</th>\n    </tr>\n  </thead>\n  <tbody>\n    <tr>\n      <th>count</th>\n      <td>1000.000000</td>\n      <td>1000.000000</td>\n      <td>1000.000000</td>\n      <td>1000.000000</td>\n    </tr>\n    <tr>\n      <th>mean</th>\n      <td>-0.046112</td>\n      <td>-0.068664</td>\n      <td>-0.015816</td>\n      <td>0.006913</td>\n    </tr>\n    <tr>\n      <th>std</th>\n      <td>1.015999</td>\n      <td>0.999945</td>\n      <td>1.002617</td>\n      <td>1.015077</td>\n    </tr>\n    <tr>\n      <th>min</th>\n      <td>-3.096877</td>\n      <td>-3.456944</td>\n      <td>-3.505216</td>\n      <td>-3.225731</td>\n    </tr>\n    <tr>\n      <th>25%</th>\n      <td>-0.722629</td>\n      <td>-0.741151</td>\n      <td>-0.661859</td>\n      <td>-0.709078</td>\n    </tr>\n    <tr>\n      <th>50%</th>\n      <td>-0.042445</td>\n      <td>-0.044809</td>\n      <td>-0.019311</td>\n      <td>-0.010132</td>\n    </tr>\n    <tr>\n      <th>75%</th>\n      <td>0.650267</td>\n      <td>0.596400</td>\n      <td>0.626882</td>\n      <td>0.713237</td>\n    </tr>\n    <tr>\n      <th>max</th>\n      <td>3.392126</td>\n      <td>3.085970</td>\n      <td>3.285131</td>\n      <td>3.224281</td>\n    </tr>\n  </tbody>\n</table>\n</div>"
     },
     "metadata": {},
     "execution_count": 128
    }
   ],
   "source": [
    "data.describe()"
   ]
  },
  {
   "cell_type": "code",
   "execution_count": 130,
   "metadata": {},
   "outputs": [
    {
     "output_type": "execute_result",
     "data": {
      "text/plain": "186    3.285131\n276   -3.505216\n589    3.193958\n595    3.087951\n625   -3.207937\nName: 2, dtype: float64"
     },
     "metadata": {},
     "execution_count": 130
    }
   ],
   "source": [
    "col = data[2]\n",
    "col[np.abs(col) > 3]"
   ]
  },
  {
   "cell_type": "code",
   "execution_count": 131,
   "metadata": {},
   "outputs": [
    {
     "output_type": "execute_result",
     "data": {
      "text/plain": "            0         1         2         3\n5   -0.475132  3.085970 -0.007167  1.841363\n53  -0.847784  1.219474  0.270328 -3.036477\n102  0.587982 -3.360510 -0.614238  1.911669\n133 -0.685344 -0.091465 -0.342851 -3.225731\n186  0.757415  0.719135  3.285131 -0.074277\n276 -0.504742  0.421152 -3.505216  0.620643\n369  3.031149 -0.269683 -0.266644 -1.575495\n589  0.589305  0.560631  3.193958  2.711724\n595 -0.270942 -0.043531  3.087951 -0.353313\n625  0.639413  3.005683 -3.207937  0.387526\n798  1.089782 -3.456944  0.395399 -0.913803\n855 -0.429789 -3.220883  0.533701  0.906842\n857  3.392126 -1.677815 -1.681860  0.429683\n867  1.392464 -0.984294 -0.090300  3.224281\n893 -3.015576  1.680066  0.410335  0.215719\n898 -3.096877 -0.248831 -0.144455  1.467296\n911  3.184753 -1.743570  0.294862 -1.314794",
      "text/html": "<div>\n<style scoped>\n    .dataframe tbody tr th:only-of-type {\n        vertical-align: middle;\n    }\n\n    .dataframe tbody tr th {\n        vertical-align: top;\n    }\n\n    .dataframe thead th {\n        text-align: right;\n    }\n</style>\n<table border=\"1\" class=\"dataframe\">\n  <thead>\n    <tr style=\"text-align: right;\">\n      <th></th>\n      <th>0</th>\n      <th>1</th>\n      <th>2</th>\n      <th>3</th>\n    </tr>\n  </thead>\n  <tbody>\n    <tr>\n      <th>5</th>\n      <td>-0.475132</td>\n      <td>3.085970</td>\n      <td>-0.007167</td>\n      <td>1.841363</td>\n    </tr>\n    <tr>\n      <th>53</th>\n      <td>-0.847784</td>\n      <td>1.219474</td>\n      <td>0.270328</td>\n      <td>-3.036477</td>\n    </tr>\n    <tr>\n      <th>102</th>\n      <td>0.587982</td>\n      <td>-3.360510</td>\n      <td>-0.614238</td>\n      <td>1.911669</td>\n    </tr>\n    <tr>\n      <th>133</th>\n      <td>-0.685344</td>\n      <td>-0.091465</td>\n      <td>-0.342851</td>\n      <td>-3.225731</td>\n    </tr>\n    <tr>\n      <th>186</th>\n      <td>0.757415</td>\n      <td>0.719135</td>\n      <td>3.285131</td>\n      <td>-0.074277</td>\n    </tr>\n    <tr>\n      <th>276</th>\n      <td>-0.504742</td>\n      <td>0.421152</td>\n      <td>-3.505216</td>\n      <td>0.620643</td>\n    </tr>\n    <tr>\n      <th>369</th>\n      <td>3.031149</td>\n      <td>-0.269683</td>\n      <td>-0.266644</td>\n      <td>-1.575495</td>\n    </tr>\n    <tr>\n      <th>589</th>\n      <td>0.589305</td>\n      <td>0.560631</td>\n      <td>3.193958</td>\n      <td>2.711724</td>\n    </tr>\n    <tr>\n      <th>595</th>\n      <td>-0.270942</td>\n      <td>-0.043531</td>\n      <td>3.087951</td>\n      <td>-0.353313</td>\n    </tr>\n    <tr>\n      <th>625</th>\n      <td>0.639413</td>\n      <td>3.005683</td>\n      <td>-3.207937</td>\n      <td>0.387526</td>\n    </tr>\n    <tr>\n      <th>798</th>\n      <td>1.089782</td>\n      <td>-3.456944</td>\n      <td>0.395399</td>\n      <td>-0.913803</td>\n    </tr>\n    <tr>\n      <th>855</th>\n      <td>-0.429789</td>\n      <td>-3.220883</td>\n      <td>0.533701</td>\n      <td>0.906842</td>\n    </tr>\n    <tr>\n      <th>857</th>\n      <td>3.392126</td>\n      <td>-1.677815</td>\n      <td>-1.681860</td>\n      <td>0.429683</td>\n    </tr>\n    <tr>\n      <th>867</th>\n      <td>1.392464</td>\n      <td>-0.984294</td>\n      <td>-0.090300</td>\n      <td>3.224281</td>\n    </tr>\n    <tr>\n      <th>893</th>\n      <td>-3.015576</td>\n      <td>1.680066</td>\n      <td>0.410335</td>\n      <td>0.215719</td>\n    </tr>\n    <tr>\n      <th>898</th>\n      <td>-3.096877</td>\n      <td>-0.248831</td>\n      <td>-0.144455</td>\n      <td>1.467296</td>\n    </tr>\n    <tr>\n      <th>911</th>\n      <td>3.184753</td>\n      <td>-1.743570</td>\n      <td>0.294862</td>\n      <td>-1.314794</td>\n    </tr>\n  </tbody>\n</table>\n</div>"
     },
     "metadata": {},
     "execution_count": 131
    }
   ],
   "source": [
    "data[(np.abs(data)>3).any(1)]"
   ]
  },
  {
   "cell_type": "code",
   "execution_count": 132,
   "metadata": {},
   "outputs": [
    {
     "output_type": "execute_result",
     "data": {
      "text/plain": "                 0            1            2            3\ncount  1000.000000  1000.000000  1000.000000  1000.000000\nmean     -0.046608    -0.067718    -0.015670     0.006951\nstd       1.013747     0.996412     0.998565     1.013586\nmin      -3.000000    -3.000000    -3.000000    -3.000000\n25%      -0.722629    -0.741151    -0.661859    -0.709078\n50%      -0.042445    -0.044809    -0.019311    -0.010132\n75%       0.650267     0.596400     0.626882     0.713237\nmax       3.000000     3.000000     3.000000     3.000000",
      "text/html": "<div>\n<style scoped>\n    .dataframe tbody tr th:only-of-type {\n        vertical-align: middle;\n    }\n\n    .dataframe tbody tr th {\n        vertical-align: top;\n    }\n\n    .dataframe thead th {\n        text-align: right;\n    }\n</style>\n<table border=\"1\" class=\"dataframe\">\n  <thead>\n    <tr style=\"text-align: right;\">\n      <th></th>\n      <th>0</th>\n      <th>1</th>\n      <th>2</th>\n      <th>3</th>\n    </tr>\n  </thead>\n  <tbody>\n    <tr>\n      <th>count</th>\n      <td>1000.000000</td>\n      <td>1000.000000</td>\n      <td>1000.000000</td>\n      <td>1000.000000</td>\n    </tr>\n    <tr>\n      <th>mean</th>\n      <td>-0.046608</td>\n      <td>-0.067718</td>\n      <td>-0.015670</td>\n      <td>0.006951</td>\n    </tr>\n    <tr>\n      <th>std</th>\n      <td>1.013747</td>\n      <td>0.996412</td>\n      <td>0.998565</td>\n      <td>1.013586</td>\n    </tr>\n    <tr>\n      <th>min</th>\n      <td>-3.000000</td>\n      <td>-3.000000</td>\n      <td>-3.000000</td>\n      <td>-3.000000</td>\n    </tr>\n    <tr>\n      <th>25%</th>\n      <td>-0.722629</td>\n      <td>-0.741151</td>\n      <td>-0.661859</td>\n      <td>-0.709078</td>\n    </tr>\n    <tr>\n      <th>50%</th>\n      <td>-0.042445</td>\n      <td>-0.044809</td>\n      <td>-0.019311</td>\n      <td>-0.010132</td>\n    </tr>\n    <tr>\n      <th>75%</th>\n      <td>0.650267</td>\n      <td>0.596400</td>\n      <td>0.626882</td>\n      <td>0.713237</td>\n    </tr>\n    <tr>\n      <th>max</th>\n      <td>3.000000</td>\n      <td>3.000000</td>\n      <td>3.000000</td>\n      <td>3.000000</td>\n    </tr>\n  </tbody>\n</table>\n</div>"
     },
     "metadata": {},
     "execution_count": 132
    }
   ],
   "source": [
    "data[np.abs(data)>3] = np.sign(data)*3\n",
    "data.describe()"
   ]
  },
  {
   "cell_type": "code",
   "execution_count": 137,
   "metadata": {},
   "outputs": [
    {
     "output_type": "execute_result",
     "data": {
      "text/plain": "     0    1    2    3\n0  1.0  1.0  1.0 -1.0\n1  1.0 -1.0 -1.0  1.0\n2  1.0 -1.0 -1.0 -1.0\n3 -1.0  1.0 -1.0 -1.0\n4 -1.0 -1.0  1.0 -1.0",
      "text/html": "<div>\n<style scoped>\n    .dataframe tbody tr th:only-of-type {\n        vertical-align: middle;\n    }\n\n    .dataframe tbody tr th {\n        vertical-align: top;\n    }\n\n    .dataframe thead th {\n        text-align: right;\n    }\n</style>\n<table border=\"1\" class=\"dataframe\">\n  <thead>\n    <tr style=\"text-align: right;\">\n      <th></th>\n      <th>0</th>\n      <th>1</th>\n      <th>2</th>\n      <th>3</th>\n    </tr>\n  </thead>\n  <tbody>\n    <tr>\n      <th>0</th>\n      <td>1.0</td>\n      <td>1.0</td>\n      <td>1.0</td>\n      <td>-1.0</td>\n    </tr>\n    <tr>\n      <th>1</th>\n      <td>1.0</td>\n      <td>-1.0</td>\n      <td>-1.0</td>\n      <td>1.0</td>\n    </tr>\n    <tr>\n      <th>2</th>\n      <td>1.0</td>\n      <td>-1.0</td>\n      <td>-1.0</td>\n      <td>-1.0</td>\n    </tr>\n    <tr>\n      <th>3</th>\n      <td>-1.0</td>\n      <td>1.0</td>\n      <td>-1.0</td>\n      <td>-1.0</td>\n    </tr>\n    <tr>\n      <th>4</th>\n      <td>-1.0</td>\n      <td>-1.0</td>\n      <td>1.0</td>\n      <td>-1.0</td>\n    </tr>\n  </tbody>\n</table>\n</div>"
     },
     "metadata": {},
     "execution_count": 137
    }
   ],
   "source": [
    "np.sign(data).head() #부호확인"
   ]
  },
  {
   "cell_type": "code",
   "execution_count": 136,
   "metadata": {},
   "outputs": [
    {
     "output_type": "execute_result",
     "data": {
      "text/plain": "          0         1         2         3\n0  0.263223  0.516555  1.042671 -0.012441\n1  1.899512 -0.529295 -0.261148  0.712832\n2  0.054007 -2.485555 -2.214113 -0.665838\n3 -0.794054  1.695650 -0.622830 -0.187382\n4 -0.228874 -1.843499  1.546596 -0.091515",
      "text/html": "<div>\n<style scoped>\n    .dataframe tbody tr th:only-of-type {\n        vertical-align: middle;\n    }\n\n    .dataframe tbody tr th {\n        vertical-align: top;\n    }\n\n    .dataframe thead th {\n        text-align: right;\n    }\n</style>\n<table border=\"1\" class=\"dataframe\">\n  <thead>\n    <tr style=\"text-align: right;\">\n      <th></th>\n      <th>0</th>\n      <th>1</th>\n      <th>2</th>\n      <th>3</th>\n    </tr>\n  </thead>\n  <tbody>\n    <tr>\n      <th>0</th>\n      <td>0.263223</td>\n      <td>0.516555</td>\n      <td>1.042671</td>\n      <td>-0.012441</td>\n    </tr>\n    <tr>\n      <th>1</th>\n      <td>1.899512</td>\n      <td>-0.529295</td>\n      <td>-0.261148</td>\n      <td>0.712832</td>\n    </tr>\n    <tr>\n      <th>2</th>\n      <td>0.054007</td>\n      <td>-2.485555</td>\n      <td>-2.214113</td>\n      <td>-0.665838</td>\n    </tr>\n    <tr>\n      <th>3</th>\n      <td>-0.794054</td>\n      <td>1.695650</td>\n      <td>-0.622830</td>\n      <td>-0.187382</td>\n    </tr>\n    <tr>\n      <th>4</th>\n      <td>-0.228874</td>\n      <td>-1.843499</td>\n      <td>1.546596</td>\n      <td>-0.091515</td>\n    </tr>\n  </tbody>\n</table>\n</div>"
     },
     "metadata": {},
     "execution_count": 136
    }
   ],
   "source": [
    "data.head()"
   ]
  },
  {
   "cell_type": "code",
   "execution_count": 139,
   "metadata": {},
   "outputs": [
    {
     "output_type": "execute_result",
     "data": {
      "text/plain": "array([4, 3, 1, 0, 2])"
     },
     "metadata": {},
     "execution_count": 139
    }
   ],
   "source": [
    "df = pd.DataFrame(np.arange(5 * 4).reshape((5, 4)))\n",
    "sampler = np.random.permutation(5)\n",
    "sampler"
   ]
  },
  {
   "cell_type": "code",
   "execution_count": 140,
   "metadata": {},
   "outputs": [
    {
     "output_type": "execute_result",
     "data": {
      "text/plain": "    0   1   2   3\n4  16  17  18  19\n3  12  13  14  15\n1   4   5   6   7\n0   0   1   2   3\n2   8   9  10  11",
      "text/html": "<div>\n<style scoped>\n    .dataframe tbody tr th:only-of-type {\n        vertical-align: middle;\n    }\n\n    .dataframe tbody tr th {\n        vertical-align: top;\n    }\n\n    .dataframe thead th {\n        text-align: right;\n    }\n</style>\n<table border=\"1\" class=\"dataframe\">\n  <thead>\n    <tr style=\"text-align: right;\">\n      <th></th>\n      <th>0</th>\n      <th>1</th>\n      <th>2</th>\n      <th>3</th>\n    </tr>\n  </thead>\n  <tbody>\n    <tr>\n      <th>4</th>\n      <td>16</td>\n      <td>17</td>\n      <td>18</td>\n      <td>19</td>\n    </tr>\n    <tr>\n      <th>3</th>\n      <td>12</td>\n      <td>13</td>\n      <td>14</td>\n      <td>15</td>\n    </tr>\n    <tr>\n      <th>1</th>\n      <td>4</td>\n      <td>5</td>\n      <td>6</td>\n      <td>7</td>\n    </tr>\n    <tr>\n      <th>0</th>\n      <td>0</td>\n      <td>1</td>\n      <td>2</td>\n      <td>3</td>\n    </tr>\n    <tr>\n      <th>2</th>\n      <td>8</td>\n      <td>9</td>\n      <td>10</td>\n      <td>11</td>\n    </tr>\n  </tbody>\n</table>\n</div>"
     },
     "metadata": {},
     "execution_count": 140
    }
   ],
   "source": [
    "df.take(sampler)"
   ]
  },
  {
   "cell_type": "code",
   "execution_count": 142,
   "metadata": {},
   "outputs": [
    {
     "output_type": "execute_result",
     "data": {
      "text/plain": "    0   1   2   3\n1   4   5   6   7\n0   0   1   2   3\n3  12  13  14  15",
      "text/html": "<div>\n<style scoped>\n    .dataframe tbody tr th:only-of-type {\n        vertical-align: middle;\n    }\n\n    .dataframe tbody tr th {\n        vertical-align: top;\n    }\n\n    .dataframe thead th {\n        text-align: right;\n    }\n</style>\n<table border=\"1\" class=\"dataframe\">\n  <thead>\n    <tr style=\"text-align: right;\">\n      <th></th>\n      <th>0</th>\n      <th>1</th>\n      <th>2</th>\n      <th>3</th>\n    </tr>\n  </thead>\n  <tbody>\n    <tr>\n      <th>1</th>\n      <td>4</td>\n      <td>5</td>\n      <td>6</td>\n      <td>7</td>\n    </tr>\n    <tr>\n      <th>0</th>\n      <td>0</td>\n      <td>1</td>\n      <td>2</td>\n      <td>3</td>\n    </tr>\n    <tr>\n      <th>3</th>\n      <td>12</td>\n      <td>13</td>\n      <td>14</td>\n      <td>15</td>\n    </tr>\n  </tbody>\n</table>\n</div>"
     },
     "metadata": {},
     "execution_count": 142
    }
   ],
   "source": [
    "df.sample(n=3)"
   ]
  },
  {
   "cell_type": "code",
   "execution_count": 143,
   "metadata": {},
   "outputs": [
    {
     "output_type": "execute_result",
     "data": {
      "text/plain": "3    6\n1    7\n3    6\n3    6\n3    6\n1    7\n2   -1\n0    5\n1    7\n2   -1\ndtype: int64"
     },
     "metadata": {},
     "execution_count": 143
    }
   ],
   "source": [
    "choices = pd.Series([5, 7, -1, 6, 4])\n",
    "draws = choices.sample(n=10, replace=True)\n",
    "draws"
   ]
  },
  {
   "cell_type": "code",
   "execution_count": 144,
   "metadata": {},
   "outputs": [
    {
     "output_type": "execute_result",
     "data": {
      "text/plain": "  key  data1\n0   b      0\n1   b      1\n2   a      2\n3   c      3\n4   a      4\n5   b      5",
      "text/html": "<div>\n<style scoped>\n    .dataframe tbody tr th:only-of-type {\n        vertical-align: middle;\n    }\n\n    .dataframe tbody tr th {\n        vertical-align: top;\n    }\n\n    .dataframe thead th {\n        text-align: right;\n    }\n</style>\n<table border=\"1\" class=\"dataframe\">\n  <thead>\n    <tr style=\"text-align: right;\">\n      <th></th>\n      <th>key</th>\n      <th>data1</th>\n    </tr>\n  </thead>\n  <tbody>\n    <tr>\n      <th>0</th>\n      <td>b</td>\n      <td>0</td>\n    </tr>\n    <tr>\n      <th>1</th>\n      <td>b</td>\n      <td>1</td>\n    </tr>\n    <tr>\n      <th>2</th>\n      <td>a</td>\n      <td>2</td>\n    </tr>\n    <tr>\n      <th>3</th>\n      <td>c</td>\n      <td>3</td>\n    </tr>\n    <tr>\n      <th>4</th>\n      <td>a</td>\n      <td>4</td>\n    </tr>\n    <tr>\n      <th>5</th>\n      <td>b</td>\n      <td>5</td>\n    </tr>\n  </tbody>\n</table>\n</div>"
     },
     "metadata": {},
     "execution_count": 144
    }
   ],
   "source": [
    "df = pd.DataFrame({'key': ['b', 'b', 'a', 'c', 'a', 'b'],\n",
    "                   'data1': range(6)})\n",
    "df"
   ]
  },
  {
   "cell_type": "code",
   "execution_count": 146,
   "metadata": {},
   "outputs": [
    {
     "output_type": "execute_result",
     "data": {
      "text/plain": "   a  b  c\n0  0  1  0\n1  0  1  0\n2  1  0  0\n3  0  0  1\n4  1  0  0\n5  0  1  0",
      "text/html": "<div>\n<style scoped>\n    .dataframe tbody tr th:only-of-type {\n        vertical-align: middle;\n    }\n\n    .dataframe tbody tr th {\n        vertical-align: top;\n    }\n\n    .dataframe thead th {\n        text-align: right;\n    }\n</style>\n<table border=\"1\" class=\"dataframe\">\n  <thead>\n    <tr style=\"text-align: right;\">\n      <th></th>\n      <th>a</th>\n      <th>b</th>\n      <th>c</th>\n    </tr>\n  </thead>\n  <tbody>\n    <tr>\n      <th>0</th>\n      <td>0</td>\n      <td>1</td>\n      <td>0</td>\n    </tr>\n    <tr>\n      <th>1</th>\n      <td>0</td>\n      <td>1</td>\n      <td>0</td>\n    </tr>\n    <tr>\n      <th>2</th>\n      <td>1</td>\n      <td>0</td>\n      <td>0</td>\n    </tr>\n    <tr>\n      <th>3</th>\n      <td>0</td>\n      <td>0</td>\n      <td>1</td>\n    </tr>\n    <tr>\n      <th>4</th>\n      <td>1</td>\n      <td>0</td>\n      <td>0</td>\n    </tr>\n    <tr>\n      <th>5</th>\n      <td>0</td>\n      <td>1</td>\n      <td>0</td>\n    </tr>\n  </tbody>\n</table>\n</div>"
     },
     "metadata": {},
     "execution_count": 146
    }
   ],
   "source": [
    "pd.get_dummies(df['key'])"
   ]
  },
  {
   "cell_type": "code",
   "execution_count": null,
   "metadata": {},
   "outputs": [],
   "source": []
  },
  {
   "cell_type": "code",
   "execution_count": 147,
   "metadata": {},
   "outputs": [
    {
     "output_type": "error",
     "ename": "NameError",
     "evalue": "name 'dummies' is not defined",
     "traceback": [
      "\u001b[1;31m---------------------------------------------------------------------------\u001b[0m",
      "\u001b[1;31mNameError\u001b[0m                                 Traceback (most recent call last)",
      "\u001b[1;32m<ipython-input-147-606422f6c05d>\u001b[0m in \u001b[0;36m<module>\u001b[1;34m\u001b[0m\n\u001b[1;32m----> 1\u001b[1;33m \u001b[0mdf_with_dummy\u001b[0m \u001b[1;33m=\u001b[0m \u001b[0mdf\u001b[0m\u001b[1;33m[\u001b[0m\u001b[1;33m[\u001b[0m\u001b[1;34m'data1'\u001b[0m\u001b[1;33m]\u001b[0m\u001b[1;33m]\u001b[0m\u001b[1;33m.\u001b[0m\u001b[0mjoin\u001b[0m\u001b[1;33m(\u001b[0m\u001b[0mdummies\u001b[0m\u001b[1;33m)\u001b[0m\u001b[1;33m\u001b[0m\u001b[1;33m\u001b[0m\u001b[0m\n\u001b[0m",
      "\u001b[1;31mNameError\u001b[0m: name 'dummies' is not defined"
     ]
    }
   ],
   "source": [
    "df_with_dummy = df[['data1']].join(dummies)\n",
    "df_with_dummy"
   ]
  },
  {
   "cell_type": "code",
   "execution_count": 148,
   "metadata": {},
   "outputs": [
    {
     "output_type": "execute_result",
     "data": {
      "text/plain": "   movie_id                               title                        genres\n0         1                    Toy Story (1995)   Animation|Children's|Comedy\n1         2                      Jumanji (1995)  Adventure|Children's|Fantasy\n2         3             Grumpier Old Men (1995)                Comedy|Romance\n3         4            Waiting to Exhale (1995)                  Comedy|Drama\n4         5  Father of the Bride Part II (1995)                        Comedy\n5         6                         Heat (1995)         Action|Crime|Thriller\n6         7                      Sabrina (1995)                Comedy|Romance\n7         8                 Tom and Huck (1995)          Adventure|Children's\n8         9                 Sudden Death (1995)                        Action\n9        10                    GoldenEye (1995)     Action|Adventure|Thriller",
      "text/html": "<div>\n<style scoped>\n    .dataframe tbody tr th:only-of-type {\n        vertical-align: middle;\n    }\n\n    .dataframe tbody tr th {\n        vertical-align: top;\n    }\n\n    .dataframe thead th {\n        text-align: right;\n    }\n</style>\n<table border=\"1\" class=\"dataframe\">\n  <thead>\n    <tr style=\"text-align: right;\">\n      <th></th>\n      <th>movie_id</th>\n      <th>title</th>\n      <th>genres</th>\n    </tr>\n  </thead>\n  <tbody>\n    <tr>\n      <th>0</th>\n      <td>1</td>\n      <td>Toy Story (1995)</td>\n      <td>Animation|Children's|Comedy</td>\n    </tr>\n    <tr>\n      <th>1</th>\n      <td>2</td>\n      <td>Jumanji (1995)</td>\n      <td>Adventure|Children's|Fantasy</td>\n    </tr>\n    <tr>\n      <th>2</th>\n      <td>3</td>\n      <td>Grumpier Old Men (1995)</td>\n      <td>Comedy|Romance</td>\n    </tr>\n    <tr>\n      <th>3</th>\n      <td>4</td>\n      <td>Waiting to Exhale (1995)</td>\n      <td>Comedy|Drama</td>\n    </tr>\n    <tr>\n      <th>4</th>\n      <td>5</td>\n      <td>Father of the Bride Part II (1995)</td>\n      <td>Comedy</td>\n    </tr>\n    <tr>\n      <th>5</th>\n      <td>6</td>\n      <td>Heat (1995)</td>\n      <td>Action|Crime|Thriller</td>\n    </tr>\n    <tr>\n      <th>6</th>\n      <td>7</td>\n      <td>Sabrina (1995)</td>\n      <td>Comedy|Romance</td>\n    </tr>\n    <tr>\n      <th>7</th>\n      <td>8</td>\n      <td>Tom and Huck (1995)</td>\n      <td>Adventure|Children's</td>\n    </tr>\n    <tr>\n      <th>8</th>\n      <td>9</td>\n      <td>Sudden Death (1995)</td>\n      <td>Action</td>\n    </tr>\n    <tr>\n      <th>9</th>\n      <td>10</td>\n      <td>GoldenEye (1995)</td>\n      <td>Action|Adventure|Thriller</td>\n    </tr>\n  </tbody>\n</table>\n</div>"
     },
     "metadata": {},
     "execution_count": 148
    }
   ],
   "source": [
    "mnames = ['movie_id', 'title', 'genres']\n",
    "movies = pd.read_table('movies.dat', sep='::', header=None, names=mnames)\n",
    "movies[:10]"
   ]
  },
  {
   "cell_type": "code",
   "execution_count": 149,
   "metadata": {},
   "outputs": [
    {
     "output_type": "execute_result",
     "data": {
      "text/plain": "array(['Animation', \"Children's\", 'Comedy', 'Adventure', 'Fantasy',\n       'Romance', 'Drama', 'Action', 'Crime', 'Thriller', 'Horror',\n       'Sci-Fi', 'Documentary', 'War', 'Musical', 'Mystery', 'Film-Noir',\n       'Western'], dtype=object)"
     },
     "metadata": {},
     "execution_count": 149
    }
   ],
   "source": [
    "all_genres = []\n",
    "for x in movies.genres:\n",
    "    all_genres.extend(x.split('|'))\n",
    "genres = pd.unique(all_genres)\n",
    "genres"
   ]
  },
  {
   "cell_type": "code",
   "execution_count": 152,
   "metadata": {},
   "outputs": [
    {
     "output_type": "execute_result",
     "data": {
      "text/plain": "      Animation  Children's  Comedy  Adventure  Fantasy  Romance  Drama  \\\n0           0.0         0.0     0.0        0.0      0.0      0.0    0.0   \n1           0.0         0.0     0.0        0.0      0.0      0.0    0.0   \n2           0.0         0.0     0.0        0.0      0.0      0.0    0.0   \n3           0.0         0.0     0.0        0.0      0.0      0.0    0.0   \n4           0.0         0.0     0.0        0.0      0.0      0.0    0.0   \n...         ...         ...     ...        ...      ...      ...    ...   \n3878        0.0         0.0     0.0        0.0      0.0      0.0    0.0   \n3879        0.0         0.0     0.0        0.0      0.0      0.0    0.0   \n3880        0.0         0.0     0.0        0.0      0.0      0.0    0.0   \n3881        0.0         0.0     0.0        0.0      0.0      0.0    0.0   \n3882        0.0         0.0     0.0        0.0      0.0      0.0    0.0   \n\n      Action  Crime  Thriller  Horror  Sci-Fi  Documentary  War  Musical  \\\n0        0.0    0.0       0.0     0.0     0.0          0.0  0.0      0.0   \n1        0.0    0.0       0.0     0.0     0.0          0.0  0.0      0.0   \n2        0.0    0.0       0.0     0.0     0.0          0.0  0.0      0.0   \n3        0.0    0.0       0.0     0.0     0.0          0.0  0.0      0.0   \n4        0.0    0.0       0.0     0.0     0.0          0.0  0.0      0.0   \n...      ...    ...       ...     ...     ...          ...  ...      ...   \n3878     0.0    0.0       0.0     0.0     0.0          0.0  0.0      0.0   \n3879     0.0    0.0       0.0     0.0     0.0          0.0  0.0      0.0   \n3880     0.0    0.0       0.0     0.0     0.0          0.0  0.0      0.0   \n3881     0.0    0.0       0.0     0.0     0.0          0.0  0.0      0.0   \n3882     0.0    0.0       0.0     0.0     0.0          0.0  0.0      0.0   \n\n      Mystery  Film-Noir  Western  \n0         0.0        0.0      0.0  \n1         0.0        0.0      0.0  \n2         0.0        0.0      0.0  \n3         0.0        0.0      0.0  \n4         0.0        0.0      0.0  \n...       ...        ...      ...  \n3878      0.0        0.0      0.0  \n3879      0.0        0.0      0.0  \n3880      0.0        0.0      0.0  \n3881      0.0        0.0      0.0  \n3882      0.0        0.0      0.0  \n\n[3883 rows x 18 columns]",
      "text/html": "<div>\n<style scoped>\n    .dataframe tbody tr th:only-of-type {\n        vertical-align: middle;\n    }\n\n    .dataframe tbody tr th {\n        vertical-align: top;\n    }\n\n    .dataframe thead th {\n        text-align: right;\n    }\n</style>\n<table border=\"1\" class=\"dataframe\">\n  <thead>\n    <tr style=\"text-align: right;\">\n      <th></th>\n      <th>Animation</th>\n      <th>Children's</th>\n      <th>Comedy</th>\n      <th>Adventure</th>\n      <th>Fantasy</th>\n      <th>Romance</th>\n      <th>Drama</th>\n      <th>Action</th>\n      <th>Crime</th>\n      <th>Thriller</th>\n      <th>Horror</th>\n      <th>Sci-Fi</th>\n      <th>Documentary</th>\n      <th>War</th>\n      <th>Musical</th>\n      <th>Mystery</th>\n      <th>Film-Noir</th>\n      <th>Western</th>\n    </tr>\n  </thead>\n  <tbody>\n    <tr>\n      <th>0</th>\n      <td>0.0</td>\n      <td>0.0</td>\n      <td>0.0</td>\n      <td>0.0</td>\n      <td>0.0</td>\n      <td>0.0</td>\n      <td>0.0</td>\n      <td>0.0</td>\n      <td>0.0</td>\n      <td>0.0</td>\n      <td>0.0</td>\n      <td>0.0</td>\n      <td>0.0</td>\n      <td>0.0</td>\n      <td>0.0</td>\n      <td>0.0</td>\n      <td>0.0</td>\n      <td>0.0</td>\n    </tr>\n    <tr>\n      <th>1</th>\n      <td>0.0</td>\n      <td>0.0</td>\n      <td>0.0</td>\n      <td>0.0</td>\n      <td>0.0</td>\n      <td>0.0</td>\n      <td>0.0</td>\n      <td>0.0</td>\n      <td>0.0</td>\n      <td>0.0</td>\n      <td>0.0</td>\n      <td>0.0</td>\n      <td>0.0</td>\n      <td>0.0</td>\n      <td>0.0</td>\n      <td>0.0</td>\n      <td>0.0</td>\n      <td>0.0</td>\n    </tr>\n    <tr>\n      <th>2</th>\n      <td>0.0</td>\n      <td>0.0</td>\n      <td>0.0</td>\n      <td>0.0</td>\n      <td>0.0</td>\n      <td>0.0</td>\n      <td>0.0</td>\n      <td>0.0</td>\n      <td>0.0</td>\n      <td>0.0</td>\n      <td>0.0</td>\n      <td>0.0</td>\n      <td>0.0</td>\n      <td>0.0</td>\n      <td>0.0</td>\n      <td>0.0</td>\n      <td>0.0</td>\n      <td>0.0</td>\n    </tr>\n    <tr>\n      <th>3</th>\n      <td>0.0</td>\n      <td>0.0</td>\n      <td>0.0</td>\n      <td>0.0</td>\n      <td>0.0</td>\n      <td>0.0</td>\n      <td>0.0</td>\n      <td>0.0</td>\n      <td>0.0</td>\n      <td>0.0</td>\n      <td>0.0</td>\n      <td>0.0</td>\n      <td>0.0</td>\n      <td>0.0</td>\n      <td>0.0</td>\n      <td>0.0</td>\n      <td>0.0</td>\n      <td>0.0</td>\n    </tr>\n    <tr>\n      <th>4</th>\n      <td>0.0</td>\n      <td>0.0</td>\n      <td>0.0</td>\n      <td>0.0</td>\n      <td>0.0</td>\n      <td>0.0</td>\n      <td>0.0</td>\n      <td>0.0</td>\n      <td>0.0</td>\n      <td>0.0</td>\n      <td>0.0</td>\n      <td>0.0</td>\n      <td>0.0</td>\n      <td>0.0</td>\n      <td>0.0</td>\n      <td>0.0</td>\n      <td>0.0</td>\n      <td>0.0</td>\n    </tr>\n    <tr>\n      <th>...</th>\n      <td>...</td>\n      <td>...</td>\n      <td>...</td>\n      <td>...</td>\n      <td>...</td>\n      <td>...</td>\n      <td>...</td>\n      <td>...</td>\n      <td>...</td>\n      <td>...</td>\n      <td>...</td>\n      <td>...</td>\n      <td>...</td>\n      <td>...</td>\n      <td>...</td>\n      <td>...</td>\n      <td>...</td>\n      <td>...</td>\n    </tr>\n    <tr>\n      <th>3878</th>\n      <td>0.0</td>\n      <td>0.0</td>\n      <td>0.0</td>\n      <td>0.0</td>\n      <td>0.0</td>\n      <td>0.0</td>\n      <td>0.0</td>\n      <td>0.0</td>\n      <td>0.0</td>\n      <td>0.0</td>\n      <td>0.0</td>\n      <td>0.0</td>\n      <td>0.0</td>\n      <td>0.0</td>\n      <td>0.0</td>\n      <td>0.0</td>\n      <td>0.0</td>\n      <td>0.0</td>\n    </tr>\n    <tr>\n      <th>3879</th>\n      <td>0.0</td>\n      <td>0.0</td>\n      <td>0.0</td>\n      <td>0.0</td>\n      <td>0.0</td>\n      <td>0.0</td>\n      <td>0.0</td>\n      <td>0.0</td>\n      <td>0.0</td>\n      <td>0.0</td>\n      <td>0.0</td>\n      <td>0.0</td>\n      <td>0.0</td>\n      <td>0.0</td>\n      <td>0.0</td>\n      <td>0.0</td>\n      <td>0.0</td>\n      <td>0.0</td>\n    </tr>\n    <tr>\n      <th>3880</th>\n      <td>0.0</td>\n      <td>0.0</td>\n      <td>0.0</td>\n      <td>0.0</td>\n      <td>0.0</td>\n      <td>0.0</td>\n      <td>0.0</td>\n      <td>0.0</td>\n      <td>0.0</td>\n      <td>0.0</td>\n      <td>0.0</td>\n      <td>0.0</td>\n      <td>0.0</td>\n      <td>0.0</td>\n      <td>0.0</td>\n      <td>0.0</td>\n      <td>0.0</td>\n      <td>0.0</td>\n    </tr>\n    <tr>\n      <th>3881</th>\n      <td>0.0</td>\n      <td>0.0</td>\n      <td>0.0</td>\n      <td>0.0</td>\n      <td>0.0</td>\n      <td>0.0</td>\n      <td>0.0</td>\n      <td>0.0</td>\n      <td>0.0</td>\n      <td>0.0</td>\n      <td>0.0</td>\n      <td>0.0</td>\n      <td>0.0</td>\n      <td>0.0</td>\n      <td>0.0</td>\n      <td>0.0</td>\n      <td>0.0</td>\n      <td>0.0</td>\n    </tr>\n    <tr>\n      <th>3882</th>\n      <td>0.0</td>\n      <td>0.0</td>\n      <td>0.0</td>\n      <td>0.0</td>\n      <td>0.0</td>\n      <td>0.0</td>\n      <td>0.0</td>\n      <td>0.0</td>\n      <td>0.0</td>\n      <td>0.0</td>\n      <td>0.0</td>\n      <td>0.0</td>\n      <td>0.0</td>\n      <td>0.0</td>\n      <td>0.0</td>\n      <td>0.0</td>\n      <td>0.0</td>\n      <td>0.0</td>\n    </tr>\n  </tbody>\n</table>\n<p>3883 rows × 18 columns</p>\n</div>"
     },
     "metadata": {},
     "execution_count": 152
    }
   ],
   "source": [
    "zero_matrix = np.zeros((len(movies), len(genres)))\n",
    "dummies = pd.DataFrame(zero_matrix, columns=genres)\n",
    "dummies"
   ]
  },
  {
   "cell_type": "code",
   "execution_count": 153,
   "metadata": {},
   "outputs": [
    {
     "output_type": "execute_result",
     "data": {
      "text/plain": "array([0, 1, 2], dtype=int64)"
     },
     "metadata": {},
     "execution_count": 153
    }
   ],
   "source": [
    "gen = movies.genres[0]\n",
    "gen.split('|')\n",
    "dummies.columns.get_indexer(gen.split('|'))"
   ]
  },
  {
   "cell_type": "code",
   "execution_count": 154,
   "metadata": {},
   "outputs": [
    {
     "output_type": "execute_result",
     "data": {
      "text/plain": "      Animation  Children's  Comedy  Adventure  Fantasy  Romance  Drama  \\\n0           0.0         0.0     0.0        0.0      0.0      0.0    0.0   \n1           0.0         0.0     0.0        0.0      0.0      0.0    0.0   \n2           0.0         0.0     0.0        0.0      0.0      0.0    0.0   \n3           0.0         0.0     0.0        0.0      0.0      0.0    0.0   \n4           0.0         0.0     0.0        0.0      0.0      0.0    0.0   \n...         ...         ...     ...        ...      ...      ...    ...   \n3878        0.0         0.0     0.0        0.0      0.0      0.0    0.0   \n3879        0.0         0.0     0.0        0.0      0.0      0.0    0.0   \n3880        0.0         0.0     0.0        0.0      0.0      0.0    0.0   \n3881        0.0         0.0     0.0        0.0      0.0      0.0    0.0   \n3882        0.0         0.0     0.0        0.0      0.0      0.0    0.0   \n\n      Action  Crime  Thriller  Horror  Sci-Fi  Documentary  War  Musical  \\\n0        0.0    0.0       0.0     0.0     0.0          0.0  0.0      0.0   \n1        0.0    0.0       0.0     0.0     0.0          0.0  0.0      0.0   \n2        0.0    0.0       0.0     0.0     0.0          0.0  0.0      0.0   \n3        0.0    0.0       0.0     0.0     0.0          0.0  0.0      0.0   \n4        0.0    0.0       0.0     0.0     0.0          0.0  0.0      0.0   \n...      ...    ...       ...     ...     ...          ...  ...      ...   \n3878     0.0    0.0       0.0     0.0     0.0          0.0  0.0      0.0   \n3879     0.0    0.0       0.0     0.0     0.0          0.0  0.0      0.0   \n3880     0.0    0.0       0.0     0.0     0.0          0.0  0.0      0.0   \n3881     0.0    0.0       0.0     0.0     0.0          0.0  0.0      0.0   \n3882     0.0    0.0       0.0     0.0     0.0          0.0  0.0      0.0   \n\n      Mystery  Film-Noir  Western  \n0         0.0        0.0      0.0  \n1         0.0        0.0      0.0  \n2         0.0        0.0      0.0  \n3         0.0        0.0      0.0  \n4         0.0        0.0      0.0  \n...       ...        ...      ...  \n3878      0.0        0.0      0.0  \n3879      0.0        0.0      0.0  \n3880      0.0        0.0      0.0  \n3881      0.0        0.0      0.0  \n3882      0.0        0.0      0.0  \n\n[3883 rows x 18 columns]",
      "text/html": "<div>\n<style scoped>\n    .dataframe tbody tr th:only-of-type {\n        vertical-align: middle;\n    }\n\n    .dataframe tbody tr th {\n        vertical-align: top;\n    }\n\n    .dataframe thead th {\n        text-align: right;\n    }\n</style>\n<table border=\"1\" class=\"dataframe\">\n  <thead>\n    <tr style=\"text-align: right;\">\n      <th></th>\n      <th>Animation</th>\n      <th>Children's</th>\n      <th>Comedy</th>\n      <th>Adventure</th>\n      <th>Fantasy</th>\n      <th>Romance</th>\n      <th>Drama</th>\n      <th>Action</th>\n      <th>Crime</th>\n      <th>Thriller</th>\n      <th>Horror</th>\n      <th>Sci-Fi</th>\n      <th>Documentary</th>\n      <th>War</th>\n      <th>Musical</th>\n      <th>Mystery</th>\n      <th>Film-Noir</th>\n      <th>Western</th>\n    </tr>\n  </thead>\n  <tbody>\n    <tr>\n      <th>0</th>\n      <td>0.0</td>\n      <td>0.0</td>\n      <td>0.0</td>\n      <td>0.0</td>\n      <td>0.0</td>\n      <td>0.0</td>\n      <td>0.0</td>\n      <td>0.0</td>\n      <td>0.0</td>\n      <td>0.0</td>\n      <td>0.0</td>\n      <td>0.0</td>\n      <td>0.0</td>\n      <td>0.0</td>\n      <td>0.0</td>\n      <td>0.0</td>\n      <td>0.0</td>\n      <td>0.0</td>\n    </tr>\n    <tr>\n      <th>1</th>\n      <td>0.0</td>\n      <td>0.0</td>\n      <td>0.0</td>\n      <td>0.0</td>\n      <td>0.0</td>\n      <td>0.0</td>\n      <td>0.0</td>\n      <td>0.0</td>\n      <td>0.0</td>\n      <td>0.0</td>\n      <td>0.0</td>\n      <td>0.0</td>\n      <td>0.0</td>\n      <td>0.0</td>\n      <td>0.0</td>\n      <td>0.0</td>\n      <td>0.0</td>\n      <td>0.0</td>\n    </tr>\n    <tr>\n      <th>2</th>\n      <td>0.0</td>\n      <td>0.0</td>\n      <td>0.0</td>\n      <td>0.0</td>\n      <td>0.0</td>\n      <td>0.0</td>\n      <td>0.0</td>\n      <td>0.0</td>\n      <td>0.0</td>\n      <td>0.0</td>\n      <td>0.0</td>\n      <td>0.0</td>\n      <td>0.0</td>\n      <td>0.0</td>\n      <td>0.0</td>\n      <td>0.0</td>\n      <td>0.0</td>\n      <td>0.0</td>\n    </tr>\n    <tr>\n      <th>3</th>\n      <td>0.0</td>\n      <td>0.0</td>\n      <td>0.0</td>\n      <td>0.0</td>\n      <td>0.0</td>\n      <td>0.0</td>\n      <td>0.0</td>\n      <td>0.0</td>\n      <td>0.0</td>\n      <td>0.0</td>\n      <td>0.0</td>\n      <td>0.0</td>\n      <td>0.0</td>\n      <td>0.0</td>\n      <td>0.0</td>\n      <td>0.0</td>\n      <td>0.0</td>\n      <td>0.0</td>\n    </tr>\n    <tr>\n      <th>4</th>\n      <td>0.0</td>\n      <td>0.0</td>\n      <td>0.0</td>\n      <td>0.0</td>\n      <td>0.0</td>\n      <td>0.0</td>\n      <td>0.0</td>\n      <td>0.0</td>\n      <td>0.0</td>\n      <td>0.0</td>\n      <td>0.0</td>\n      <td>0.0</td>\n      <td>0.0</td>\n      <td>0.0</td>\n      <td>0.0</td>\n      <td>0.0</td>\n      <td>0.0</td>\n      <td>0.0</td>\n    </tr>\n    <tr>\n      <th>...</th>\n      <td>...</td>\n      <td>...</td>\n      <td>...</td>\n      <td>...</td>\n      <td>...</td>\n      <td>...</td>\n      <td>...</td>\n      <td>...</td>\n      <td>...</td>\n      <td>...</td>\n      <td>...</td>\n      <td>...</td>\n      <td>...</td>\n      <td>...</td>\n      <td>...</td>\n      <td>...</td>\n      <td>...</td>\n      <td>...</td>\n    </tr>\n    <tr>\n      <th>3878</th>\n      <td>0.0</td>\n      <td>0.0</td>\n      <td>0.0</td>\n      <td>0.0</td>\n      <td>0.0</td>\n      <td>0.0</td>\n      <td>0.0</td>\n      <td>0.0</td>\n      <td>0.0</td>\n      <td>0.0</td>\n      <td>0.0</td>\n      <td>0.0</td>\n      <td>0.0</td>\n      <td>0.0</td>\n      <td>0.0</td>\n      <td>0.0</td>\n      <td>0.0</td>\n      <td>0.0</td>\n    </tr>\n    <tr>\n      <th>3879</th>\n      <td>0.0</td>\n      <td>0.0</td>\n      <td>0.0</td>\n      <td>0.0</td>\n      <td>0.0</td>\n      <td>0.0</td>\n      <td>0.0</td>\n      <td>0.0</td>\n      <td>0.0</td>\n      <td>0.0</td>\n      <td>0.0</td>\n      <td>0.0</td>\n      <td>0.0</td>\n      <td>0.0</td>\n      <td>0.0</td>\n      <td>0.0</td>\n      <td>0.0</td>\n      <td>0.0</td>\n    </tr>\n    <tr>\n      <th>3880</th>\n      <td>0.0</td>\n      <td>0.0</td>\n      <td>0.0</td>\n      <td>0.0</td>\n      <td>0.0</td>\n      <td>0.0</td>\n      <td>0.0</td>\n      <td>0.0</td>\n      <td>0.0</td>\n      <td>0.0</td>\n      <td>0.0</td>\n      <td>0.0</td>\n      <td>0.0</td>\n      <td>0.0</td>\n      <td>0.0</td>\n      <td>0.0</td>\n      <td>0.0</td>\n      <td>0.0</td>\n    </tr>\n    <tr>\n      <th>3881</th>\n      <td>0.0</td>\n      <td>0.0</td>\n      <td>0.0</td>\n      <td>0.0</td>\n      <td>0.0</td>\n      <td>0.0</td>\n      <td>0.0</td>\n      <td>0.0</td>\n      <td>0.0</td>\n      <td>0.0</td>\n      <td>0.0</td>\n      <td>0.0</td>\n      <td>0.0</td>\n      <td>0.0</td>\n      <td>0.0</td>\n      <td>0.0</td>\n      <td>0.0</td>\n      <td>0.0</td>\n    </tr>\n    <tr>\n      <th>3882</th>\n      <td>0.0</td>\n      <td>0.0</td>\n      <td>0.0</td>\n      <td>0.0</td>\n      <td>0.0</td>\n      <td>0.0</td>\n      <td>0.0</td>\n      <td>0.0</td>\n      <td>0.0</td>\n      <td>0.0</td>\n      <td>0.0</td>\n      <td>0.0</td>\n      <td>0.0</td>\n      <td>0.0</td>\n      <td>0.0</td>\n      <td>0.0</td>\n      <td>0.0</td>\n      <td>0.0</td>\n    </tr>\n  </tbody>\n</table>\n<p>3883 rows × 18 columns</p>\n</div>"
     },
     "metadata": {},
     "execution_count": 154
    }
   ],
   "source": [
    "dummies"
   ]
  },
  {
   "cell_type": "code",
   "execution_count": 156,
   "metadata": {},
   "outputs": [
    {
     "output_type": "execute_result",
     "data": {
      "text/plain": "      Animation  Children's  Comedy  Adventure  Fantasy  Romance  Drama  \\\n0           1.0         1.0     1.0        0.0      0.0      0.0    0.0   \n1           0.0         1.0     0.0        1.0      1.0      0.0    0.0   \n2           0.0         0.0     1.0        0.0      0.0      1.0    0.0   \n3           0.0         0.0     1.0        0.0      0.0      0.0    1.0   \n4           0.0         0.0     1.0        0.0      0.0      0.0    0.0   \n...         ...         ...     ...        ...      ...      ...    ...   \n3878        0.0         0.0     1.0        0.0      0.0      0.0    0.0   \n3879        0.0         0.0     0.0        0.0      0.0      0.0    1.0   \n3880        0.0         0.0     0.0        0.0      0.0      0.0    1.0   \n3881        0.0         0.0     0.0        0.0      0.0      0.0    1.0   \n3882        0.0         0.0     0.0        0.0      0.0      0.0    1.0   \n\n      Action  Crime  Thriller  Horror  Sci-Fi  Documentary  War  Musical  \\\n0        0.0    0.0       0.0     0.0     0.0          0.0  0.0      0.0   \n1        0.0    0.0       0.0     0.0     0.0          0.0  0.0      0.0   \n2        0.0    0.0       0.0     0.0     0.0          0.0  0.0      0.0   \n3        0.0    0.0       0.0     0.0     0.0          0.0  0.0      0.0   \n4        0.0    0.0       0.0     0.0     0.0          0.0  0.0      0.0   \n...      ...    ...       ...     ...     ...          ...  ...      ...   \n3878     0.0    0.0       0.0     0.0     0.0          0.0  0.0      0.0   \n3879     0.0    0.0       0.0     0.0     0.0          0.0  0.0      0.0   \n3880     0.0    0.0       0.0     0.0     0.0          0.0  0.0      0.0   \n3881     0.0    0.0       0.0     0.0     0.0          0.0  0.0      0.0   \n3882     0.0    0.0       1.0     0.0     0.0          0.0  0.0      0.0   \n\n      Mystery  Film-Noir  Western  \n0         0.0        0.0      0.0  \n1         0.0        0.0      0.0  \n2         0.0        0.0      0.0  \n3         0.0        0.0      0.0  \n4         0.0        0.0      0.0  \n...       ...        ...      ...  \n3878      0.0        0.0      0.0  \n3879      0.0        0.0      0.0  \n3880      0.0        0.0      0.0  \n3881      0.0        0.0      0.0  \n3882      0.0        0.0      0.0  \n\n[3883 rows x 18 columns]",
      "text/html": "<div>\n<style scoped>\n    .dataframe tbody tr th:only-of-type {\n        vertical-align: middle;\n    }\n\n    .dataframe tbody tr th {\n        vertical-align: top;\n    }\n\n    .dataframe thead th {\n        text-align: right;\n    }\n</style>\n<table border=\"1\" class=\"dataframe\">\n  <thead>\n    <tr style=\"text-align: right;\">\n      <th></th>\n      <th>Animation</th>\n      <th>Children's</th>\n      <th>Comedy</th>\n      <th>Adventure</th>\n      <th>Fantasy</th>\n      <th>Romance</th>\n      <th>Drama</th>\n      <th>Action</th>\n      <th>Crime</th>\n      <th>Thriller</th>\n      <th>Horror</th>\n      <th>Sci-Fi</th>\n      <th>Documentary</th>\n      <th>War</th>\n      <th>Musical</th>\n      <th>Mystery</th>\n      <th>Film-Noir</th>\n      <th>Western</th>\n    </tr>\n  </thead>\n  <tbody>\n    <tr>\n      <th>0</th>\n      <td>1.0</td>\n      <td>1.0</td>\n      <td>1.0</td>\n      <td>0.0</td>\n      <td>0.0</td>\n      <td>0.0</td>\n      <td>0.0</td>\n      <td>0.0</td>\n      <td>0.0</td>\n      <td>0.0</td>\n      <td>0.0</td>\n      <td>0.0</td>\n      <td>0.0</td>\n      <td>0.0</td>\n      <td>0.0</td>\n      <td>0.0</td>\n      <td>0.0</td>\n      <td>0.0</td>\n    </tr>\n    <tr>\n      <th>1</th>\n      <td>0.0</td>\n      <td>1.0</td>\n      <td>0.0</td>\n      <td>1.0</td>\n      <td>1.0</td>\n      <td>0.0</td>\n      <td>0.0</td>\n      <td>0.0</td>\n      <td>0.0</td>\n      <td>0.0</td>\n      <td>0.0</td>\n      <td>0.0</td>\n      <td>0.0</td>\n      <td>0.0</td>\n      <td>0.0</td>\n      <td>0.0</td>\n      <td>0.0</td>\n      <td>0.0</td>\n    </tr>\n    <tr>\n      <th>2</th>\n      <td>0.0</td>\n      <td>0.0</td>\n      <td>1.0</td>\n      <td>0.0</td>\n      <td>0.0</td>\n      <td>1.0</td>\n      <td>0.0</td>\n      <td>0.0</td>\n      <td>0.0</td>\n      <td>0.0</td>\n      <td>0.0</td>\n      <td>0.0</td>\n      <td>0.0</td>\n      <td>0.0</td>\n      <td>0.0</td>\n      <td>0.0</td>\n      <td>0.0</td>\n      <td>0.0</td>\n    </tr>\n    <tr>\n      <th>3</th>\n      <td>0.0</td>\n      <td>0.0</td>\n      <td>1.0</td>\n      <td>0.0</td>\n      <td>0.0</td>\n      <td>0.0</td>\n      <td>1.0</td>\n      <td>0.0</td>\n      <td>0.0</td>\n      <td>0.0</td>\n      <td>0.0</td>\n      <td>0.0</td>\n      <td>0.0</td>\n      <td>0.0</td>\n      <td>0.0</td>\n      <td>0.0</td>\n      <td>0.0</td>\n      <td>0.0</td>\n    </tr>\n    <tr>\n      <th>4</th>\n      <td>0.0</td>\n      <td>0.0</td>\n      <td>1.0</td>\n      <td>0.0</td>\n      <td>0.0</td>\n      <td>0.0</td>\n      <td>0.0</td>\n      <td>0.0</td>\n      <td>0.0</td>\n      <td>0.0</td>\n      <td>0.0</td>\n      <td>0.0</td>\n      <td>0.0</td>\n      <td>0.0</td>\n      <td>0.0</td>\n      <td>0.0</td>\n      <td>0.0</td>\n      <td>0.0</td>\n    </tr>\n    <tr>\n      <th>...</th>\n      <td>...</td>\n      <td>...</td>\n      <td>...</td>\n      <td>...</td>\n      <td>...</td>\n      <td>...</td>\n      <td>...</td>\n      <td>...</td>\n      <td>...</td>\n      <td>...</td>\n      <td>...</td>\n      <td>...</td>\n      <td>...</td>\n      <td>...</td>\n      <td>...</td>\n      <td>...</td>\n      <td>...</td>\n      <td>...</td>\n    </tr>\n    <tr>\n      <th>3878</th>\n      <td>0.0</td>\n      <td>0.0</td>\n      <td>1.0</td>\n      <td>0.0</td>\n      <td>0.0</td>\n      <td>0.0</td>\n      <td>0.0</td>\n      <td>0.0</td>\n      <td>0.0</td>\n      <td>0.0</td>\n      <td>0.0</td>\n      <td>0.0</td>\n      <td>0.0</td>\n      <td>0.0</td>\n      <td>0.0</td>\n      <td>0.0</td>\n      <td>0.0</td>\n      <td>0.0</td>\n    </tr>\n    <tr>\n      <th>3879</th>\n      <td>0.0</td>\n      <td>0.0</td>\n      <td>0.0</td>\n      <td>0.0</td>\n      <td>0.0</td>\n      <td>0.0</td>\n      <td>1.0</td>\n      <td>0.0</td>\n      <td>0.0</td>\n      <td>0.0</td>\n      <td>0.0</td>\n      <td>0.0</td>\n      <td>0.0</td>\n      <td>0.0</td>\n      <td>0.0</td>\n      <td>0.0</td>\n      <td>0.0</td>\n      <td>0.0</td>\n    </tr>\n    <tr>\n      <th>3880</th>\n      <td>0.0</td>\n      <td>0.0</td>\n      <td>0.0</td>\n      <td>0.0</td>\n      <td>0.0</td>\n      <td>0.0</td>\n      <td>1.0</td>\n      <td>0.0</td>\n      <td>0.0</td>\n      <td>0.0</td>\n      <td>0.0</td>\n      <td>0.0</td>\n      <td>0.0</td>\n      <td>0.0</td>\n      <td>0.0</td>\n      <td>0.0</td>\n      <td>0.0</td>\n      <td>0.0</td>\n    </tr>\n    <tr>\n      <th>3881</th>\n      <td>0.0</td>\n      <td>0.0</td>\n      <td>0.0</td>\n      <td>0.0</td>\n      <td>0.0</td>\n      <td>0.0</td>\n      <td>1.0</td>\n      <td>0.0</td>\n      <td>0.0</td>\n      <td>0.0</td>\n      <td>0.0</td>\n      <td>0.0</td>\n      <td>0.0</td>\n      <td>0.0</td>\n      <td>0.0</td>\n      <td>0.0</td>\n      <td>0.0</td>\n      <td>0.0</td>\n    </tr>\n    <tr>\n      <th>3882</th>\n      <td>0.0</td>\n      <td>0.0</td>\n      <td>0.0</td>\n      <td>0.0</td>\n      <td>0.0</td>\n      <td>0.0</td>\n      <td>1.0</td>\n      <td>0.0</td>\n      <td>0.0</td>\n      <td>1.0</td>\n      <td>0.0</td>\n      <td>0.0</td>\n      <td>0.0</td>\n      <td>0.0</td>\n      <td>0.0</td>\n      <td>0.0</td>\n      <td>0.0</td>\n      <td>0.0</td>\n    </tr>\n  </tbody>\n</table>\n<p>3883 rows × 18 columns</p>\n</div>"
     },
     "metadata": {},
     "execution_count": 156
    }
   ],
   "source": [
    "for i, gen in enumerate(movies.genres):\n",
    "    indices = dummies.columns.get_indexer(gen.split('|'))\n",
    "    dummies.iloc[i, indices] = 1\n",
    "dummies"
   ]
  },
  {
   "cell_type": "code",
   "execution_count": 163,
   "metadata": {},
   "outputs": [
    {
     "output_type": "execute_result",
     "data": {
      "text/plain": "   movie_id                    title                        genres  \\\n0         1         Toy Story (1995)   Animation|Children's|Comedy   \n1         2           Jumanji (1995)  Adventure|Children's|Fantasy   \n2         3  Grumpier Old Men (1995)                Comedy|Romance   \n\n   Genre_Animation  Genre_Children's  Genre_Comedy  Genre_Adventure  \\\n0              1.0               1.0           1.0              0.0   \n1              0.0               1.0           0.0              1.0   \n2              0.0               0.0           1.0              0.0   \n\n   Genre_Fantasy  Genre_Romance  Genre_Drama  Genre_Action  Genre_Crime  \\\n0            0.0            0.0          0.0           0.0          0.0   \n1            1.0            0.0          0.0           0.0          0.0   \n2            0.0            1.0          0.0           0.0          0.0   \n\n   Genre_Thriller  Genre_Horror  Genre_Sci-Fi  Genre_Documentary  Genre_War  \\\n0             0.0           0.0           0.0                0.0        0.0   \n1             0.0           0.0           0.0                0.0        0.0   \n2             0.0           0.0           0.0                0.0        0.0   \n\n   Genre_Musical  Genre_Mystery  Genre_Film-Noir  Genre_Western  \n0            0.0            0.0              0.0            0.0  \n1            0.0            0.0              0.0            0.0  \n2            0.0            0.0              0.0            0.0  ",
      "text/html": "<div>\n<style scoped>\n    .dataframe tbody tr th:only-of-type {\n        vertical-align: middle;\n    }\n\n    .dataframe tbody tr th {\n        vertical-align: top;\n    }\n\n    .dataframe thead th {\n        text-align: right;\n    }\n</style>\n<table border=\"1\" class=\"dataframe\">\n  <thead>\n    <tr style=\"text-align: right;\">\n      <th></th>\n      <th>movie_id</th>\n      <th>title</th>\n      <th>genres</th>\n      <th>Genre_Animation</th>\n      <th>Genre_Children's</th>\n      <th>Genre_Comedy</th>\n      <th>Genre_Adventure</th>\n      <th>Genre_Fantasy</th>\n      <th>Genre_Romance</th>\n      <th>Genre_Drama</th>\n      <th>Genre_Action</th>\n      <th>Genre_Crime</th>\n      <th>Genre_Thriller</th>\n      <th>Genre_Horror</th>\n      <th>Genre_Sci-Fi</th>\n      <th>Genre_Documentary</th>\n      <th>Genre_War</th>\n      <th>Genre_Musical</th>\n      <th>Genre_Mystery</th>\n      <th>Genre_Film-Noir</th>\n      <th>Genre_Western</th>\n    </tr>\n  </thead>\n  <tbody>\n    <tr>\n      <th>0</th>\n      <td>1</td>\n      <td>Toy Story (1995)</td>\n      <td>Animation|Children's|Comedy</td>\n      <td>1.0</td>\n      <td>1.0</td>\n      <td>1.0</td>\n      <td>0.0</td>\n      <td>0.0</td>\n      <td>0.0</td>\n      <td>0.0</td>\n      <td>0.0</td>\n      <td>0.0</td>\n      <td>0.0</td>\n      <td>0.0</td>\n      <td>0.0</td>\n      <td>0.0</td>\n      <td>0.0</td>\n      <td>0.0</td>\n      <td>0.0</td>\n      <td>0.0</td>\n      <td>0.0</td>\n    </tr>\n    <tr>\n      <th>1</th>\n      <td>2</td>\n      <td>Jumanji (1995)</td>\n      <td>Adventure|Children's|Fantasy</td>\n      <td>0.0</td>\n      <td>1.0</td>\n      <td>0.0</td>\n      <td>1.0</td>\n      <td>1.0</td>\n      <td>0.0</td>\n      <td>0.0</td>\n      <td>0.0</td>\n      <td>0.0</td>\n      <td>0.0</td>\n      <td>0.0</td>\n      <td>0.0</td>\n      <td>0.0</td>\n      <td>0.0</td>\n      <td>0.0</td>\n      <td>0.0</td>\n      <td>0.0</td>\n      <td>0.0</td>\n    </tr>\n    <tr>\n      <th>2</th>\n      <td>3</td>\n      <td>Grumpier Old Men (1995)</td>\n      <td>Comedy|Romance</td>\n      <td>0.0</td>\n      <td>0.0</td>\n      <td>1.0</td>\n      <td>0.0</td>\n      <td>0.0</td>\n      <td>1.0</td>\n      <td>0.0</td>\n      <td>0.0</td>\n      <td>0.0</td>\n      <td>0.0</td>\n      <td>0.0</td>\n      <td>0.0</td>\n      <td>0.0</td>\n      <td>0.0</td>\n      <td>0.0</td>\n      <td>0.0</td>\n      <td>0.0</td>\n      <td>0.0</td>\n    </tr>\n  </tbody>\n</table>\n</div>"
     },
     "metadata": {},
     "execution_count": 163
    }
   ],
   "source": [
    "pd.set_option('display.max_columns',25)\n",
    "pd.set_option('display.max_row',500)\n",
    "movies_windic = movies.join(dummies.add_prefix('Genre_'))\n",
    "movies_windic.head(3)"
   ]
  },
  {
   "cell_type": "code",
   "execution_count": 164,
   "metadata": {},
   "outputs": [
    {
     "output_type": "execute_result",
     "data": {
      "text/plain": "array([0.92961609, 0.31637555, 0.18391881, 0.20456028, 0.56772503,\n       0.5955447 , 0.96451452, 0.6531771 , 0.74890664, 0.65356987])"
     },
     "metadata": {},
     "execution_count": 164
    }
   ],
   "source": [
    "np.random.seed(12345)\n",
    "values = np.random.rand(10)\n",
    "values"
   ]
  },
  {
   "cell_type": "code",
   "execution_count": 166,
   "metadata": {},
   "outputs": [
    {
     "output_type": "execute_result",
     "data": {
      "text/plain": "   (0.0, 0.2]  (0.2, 0.4]  (0.4, 0.6]  (0.6, 0.8]  (0.8, 1.0]\n0           0           0           0           0           1\n1           0           1           0           0           0\n2           1           0           0           0           0\n3           0           1           0           0           0\n4           0           0           1           0           0\n5           0           0           1           0           0\n6           0           0           0           0           1\n7           0           0           0           1           0\n8           0           0           0           1           0\n9           0           0           0           1           0",
      "text/html": "<div>\n<style scoped>\n    .dataframe tbody tr th:only-of-type {\n        vertical-align: middle;\n    }\n\n    .dataframe tbody tr th {\n        vertical-align: top;\n    }\n\n    .dataframe thead th {\n        text-align: right;\n    }\n</style>\n<table border=\"1\" class=\"dataframe\">\n  <thead>\n    <tr style=\"text-align: right;\">\n      <th></th>\n      <th>(0.0, 0.2]</th>\n      <th>(0.2, 0.4]</th>\n      <th>(0.4, 0.6]</th>\n      <th>(0.6, 0.8]</th>\n      <th>(0.8, 1.0]</th>\n    </tr>\n  </thead>\n  <tbody>\n    <tr>\n      <th>0</th>\n      <td>0</td>\n      <td>0</td>\n      <td>0</td>\n      <td>0</td>\n      <td>1</td>\n    </tr>\n    <tr>\n      <th>1</th>\n      <td>0</td>\n      <td>1</td>\n      <td>0</td>\n      <td>0</td>\n      <td>0</td>\n    </tr>\n    <tr>\n      <th>2</th>\n      <td>1</td>\n      <td>0</td>\n      <td>0</td>\n      <td>0</td>\n      <td>0</td>\n    </tr>\n    <tr>\n      <th>3</th>\n      <td>0</td>\n      <td>1</td>\n      <td>0</td>\n      <td>0</td>\n      <td>0</td>\n    </tr>\n    <tr>\n      <th>4</th>\n      <td>0</td>\n      <td>0</td>\n      <td>1</td>\n      <td>0</td>\n      <td>0</td>\n    </tr>\n    <tr>\n      <th>5</th>\n      <td>0</td>\n      <td>0</td>\n      <td>1</td>\n      <td>0</td>\n      <td>0</td>\n    </tr>\n    <tr>\n      <th>6</th>\n      <td>0</td>\n      <td>0</td>\n      <td>0</td>\n      <td>0</td>\n      <td>1</td>\n    </tr>\n    <tr>\n      <th>7</th>\n      <td>0</td>\n      <td>0</td>\n      <td>0</td>\n      <td>1</td>\n      <td>0</td>\n    </tr>\n    <tr>\n      <th>8</th>\n      <td>0</td>\n      <td>0</td>\n      <td>0</td>\n      <td>1</td>\n      <td>0</td>\n    </tr>\n    <tr>\n      <th>9</th>\n      <td>0</td>\n      <td>0</td>\n      <td>0</td>\n      <td>1</td>\n      <td>0</td>\n    </tr>\n  </tbody>\n</table>\n</div>"
     },
     "metadata": {},
     "execution_count": 166
    }
   ],
   "source": [
    "bins = [0,0.2,0.4,0.6,0.8,1]\n",
    "pd.get_dummies(pd.cut(values,bins))"
   ]
  },
  {
   "cell_type": "code",
   "execution_count": 169,
   "metadata": {},
   "outputs": [
    {
     "output_type": "execute_result",
     "data": {
      "text/plain": "['a', 'b', '   guido']"
     },
     "metadata": {},
     "execution_count": 169
    }
   ],
   "source": [
    "val = 'a,b,   guido'\n",
    "val.split(',')"
   ]
  },
  {
   "cell_type": "code",
   "execution_count": 170,
   "metadata": {},
   "outputs": [
    {
     "output_type": "execute_result",
     "data": {
      "text/plain": "['a', 'b', 'guido']"
     },
     "metadata": {},
     "execution_count": 170
    }
   ],
   "source": [
    "pieces = [x.strip() for x in val.split(',')]\n",
    "pieces"
   ]
  },
  {
   "cell_type": "code",
   "execution_count": 171,
   "metadata": {},
   "outputs": [
    {
     "output_type": "execute_result",
     "data": {
      "text/plain": "'a::b::guido'"
     },
     "metadata": {},
     "execution_count": 171
    }
   ],
   "source": [
    "first, second, third = pieces\n",
    "first+'::'+second+'::'+third"
   ]
  },
  {
   "cell_type": "code",
   "execution_count": 172,
   "metadata": {},
   "outputs": [
    {
     "output_type": "execute_result",
     "data": {
      "text/plain": "'a::b::guido'"
     },
     "metadata": {},
     "execution_count": 172
    }
   ],
   "source": [
    "'::'.join(pieces)"
   ]
  },
  {
   "cell_type": "code",
   "execution_count": 175,
   "metadata": {},
   "outputs": [
    {
     "output_type": "execute_result",
     "data": {
      "text/plain": "1"
     },
     "metadata": {},
     "execution_count": 175
    }
   ],
   "source": [
    "'guido' in val\n",
    "val.index(',')"
   ]
  },
  {
   "cell_type": "code",
   "execution_count": 176,
   "metadata": {},
   "outputs": [
    {
     "output_type": "execute_result",
     "data": {
      "text/plain": "-1"
     },
     "metadata": {},
     "execution_count": 176
    }
   ],
   "source": [
    "val.find(':')"
   ]
  },
  {
   "cell_type": "code",
   "execution_count": 177,
   "metadata": {},
   "outputs": [
    {
     "output_type": "error",
     "ename": "ValueError",
     "evalue": "substring not found",
     "traceback": [
      "\u001b[1;31m---------------------------------------------------------------------------\u001b[0m",
      "\u001b[1;31mValueError\u001b[0m                                Traceback (most recent call last)",
      "\u001b[1;32m<ipython-input-177-2c016e7367ac>\u001b[0m in \u001b[0;36m<module>\u001b[1;34m\u001b[0m\n\u001b[1;32m----> 1\u001b[1;33m \u001b[0mval\u001b[0m\u001b[1;33m.\u001b[0m\u001b[0mindex\u001b[0m\u001b[1;33m(\u001b[0m\u001b[1;34m':'\u001b[0m\u001b[1;33m)\u001b[0m\u001b[1;33m\u001b[0m\u001b[1;33m\u001b[0m\u001b[0m\n\u001b[0m",
      "\u001b[1;31mValueError\u001b[0m: substring not found"
     ]
    }
   ],
   "source": [
    "val.index(':')"
   ]
  },
  {
   "cell_type": "code",
   "execution_count": 178,
   "metadata": {},
   "outputs": [
    {
     "output_type": "execute_result",
     "data": {
      "text/plain": "2"
     },
     "metadata": {},
     "execution_count": 178
    }
   ],
   "source": [
    "val.count(',')"
   ]
  },
  {
   "cell_type": "code",
   "execution_count": 179,
   "metadata": {},
   "outputs": [
    {
     "output_type": "execute_result",
     "data": {
      "text/plain": "'a::b::   guido'"
     },
     "metadata": {},
     "execution_count": 179
    }
   ],
   "source": [
    "val.replace(',','::')"
   ]
  },
  {
   "cell_type": "code",
   "execution_count": 180,
   "metadata": {},
   "outputs": [
    {
     "output_type": "execute_result",
     "data": {
      "text/plain": "'ab   guido'"
     },
     "metadata": {},
     "execution_count": 180
    }
   ],
   "source": [
    "val.replace(',','')"
   ]
  },
  {
   "cell_type": "markdown",
   "metadata": {},
   "source": [
    "1. 10살 단위로 인구를 정리한다.\n",
    "2. 70대 이상은 하나로 합친다.\n",
    "3. 3개의 기간동안 인구가 증가하는 곳을 찾는다\n",
    "4. 남성이 여성보다 많이 거주하는 곳 가운데 인구가 3만 이상인 곳을 찾는다. (없으면 없다 표시)"
   ]
  },
  {
   "cell_type": "code",
   "execution_count": 264,
   "metadata": {},
   "outputs": [
    {
     "output_type": "execute_result",
     "data": {
      "text/plain": "        행정구역      총계    총계 남   총계 여 중구 계  중구 남  중구 여   동구 계   동구 남   동구 여  \\\n0         0세  13,085   6,754  6,331  456   228   228  2,019  1,021    998   \n1         1세  15,384   7,854  7,530  524   273   251  2,401  1,235  1,166   \n2         2세  17,580   9,026  8,554  588   293   295  2,718  1,429  1,289   \n3         3세  19,659  10,028  9,631  625   325   300  2,947  1,442  1,505   \n4         4세  20,230  10,294  9,936  628   297   331  3,103  1,620  1,483   \n..       ...     ...     ...    ...  ...   ...   ...    ...    ...    ...   \n96       96세     424      91    333   28     7    21     56     12     44   \n97       97세     292      62    230   19     2    17     64     11     53   \n98       98세     191      31    160   16     2    14     29     10     19   \n99       99세     152      26    126   16     7     9     27      6     21   \n100  100세 이상     650     153    497   87    16    71    115     29     86   \n\n     ...   북구 여  수성구 계  수성구 남  수성구 여  달서구 계  달서구 남  달서구 여  달성군 계  달성군 남  달성군 여  \n0    ...  1,221  1,565    839    726  2,771  1,413  1,358  2,660  1,358  1,302  \n1    ...  1,434  1,964    986    978  3,370  1,780  1,590  2,885  1,429  1,456  \n2    ...  1,682  2,387  1,217  1,170  3,836  2,028  1,808  3,138  1,579  1,559  \n3    ...  1,848  2,839  1,501  1,338  4,480  2,313  2,167  3,362  1,701  1,661  \n4    ...  1,858  3,069  1,536  1,533  4,710  2,388  2,322  3,260  1,641  1,619  \n..   ...    ...    ...    ...    ...    ...    ...    ...    ...    ...    ...  \n96   ...     69     67     20     47     77     17     60     36      7     29  \n97   ...     32     54     12     42     46      9     37     20      7     13  \n98   ...     30     32      3     29     30      4     26     11      1     10  \n99   ...     23     25      3     22     17      4     13      8      0      8  \n100  ...     59     95     27     68     79     15     64     28      8     20  \n\n[101 rows x 28 columns]",
      "text/html": "<div>\n<style scoped>\n    .dataframe tbody tr th:only-of-type {\n        vertical-align: middle;\n    }\n\n    .dataframe tbody tr th {\n        vertical-align: top;\n    }\n\n    .dataframe thead th {\n        text-align: right;\n    }\n</style>\n<table border=\"1\" class=\"dataframe\">\n  <thead>\n    <tr style=\"text-align: right;\">\n      <th></th>\n      <th>행정구역</th>\n      <th>총계</th>\n      <th>총계 남</th>\n      <th>총계 여</th>\n      <th>중구 계</th>\n      <th>중구 남</th>\n      <th>중구 여</th>\n      <th>동구 계</th>\n      <th>동구 남</th>\n      <th>동구 여</th>\n      <th>...</th>\n      <th>북구 여</th>\n      <th>수성구 계</th>\n      <th>수성구 남</th>\n      <th>수성구 여</th>\n      <th>달서구 계</th>\n      <th>달서구 남</th>\n      <th>달서구 여</th>\n      <th>달성군 계</th>\n      <th>달성군 남</th>\n      <th>달성군 여</th>\n    </tr>\n  </thead>\n  <tbody>\n    <tr>\n      <th>0</th>\n      <td>0세</td>\n      <td>13,085</td>\n      <td>6,754</td>\n      <td>6,331</td>\n      <td>456</td>\n      <td>228</td>\n      <td>228</td>\n      <td>2,019</td>\n      <td>1,021</td>\n      <td>998</td>\n      <td>...</td>\n      <td>1,221</td>\n      <td>1,565</td>\n      <td>839</td>\n      <td>726</td>\n      <td>2,771</td>\n      <td>1,413</td>\n      <td>1,358</td>\n      <td>2,660</td>\n      <td>1,358</td>\n      <td>1,302</td>\n    </tr>\n    <tr>\n      <th>1</th>\n      <td>1세</td>\n      <td>15,384</td>\n      <td>7,854</td>\n      <td>7,530</td>\n      <td>524</td>\n      <td>273</td>\n      <td>251</td>\n      <td>2,401</td>\n      <td>1,235</td>\n      <td>1,166</td>\n      <td>...</td>\n      <td>1,434</td>\n      <td>1,964</td>\n      <td>986</td>\n      <td>978</td>\n      <td>3,370</td>\n      <td>1,780</td>\n      <td>1,590</td>\n      <td>2,885</td>\n      <td>1,429</td>\n      <td>1,456</td>\n    </tr>\n    <tr>\n      <th>2</th>\n      <td>2세</td>\n      <td>17,580</td>\n      <td>9,026</td>\n      <td>8,554</td>\n      <td>588</td>\n      <td>293</td>\n      <td>295</td>\n      <td>2,718</td>\n      <td>1,429</td>\n      <td>1,289</td>\n      <td>...</td>\n      <td>1,682</td>\n      <td>2,387</td>\n      <td>1,217</td>\n      <td>1,170</td>\n      <td>3,836</td>\n      <td>2,028</td>\n      <td>1,808</td>\n      <td>3,138</td>\n      <td>1,579</td>\n      <td>1,559</td>\n    </tr>\n    <tr>\n      <th>3</th>\n      <td>3세</td>\n      <td>19,659</td>\n      <td>10,028</td>\n      <td>9,631</td>\n      <td>625</td>\n      <td>325</td>\n      <td>300</td>\n      <td>2,947</td>\n      <td>1,442</td>\n      <td>1,505</td>\n      <td>...</td>\n      <td>1,848</td>\n      <td>2,839</td>\n      <td>1,501</td>\n      <td>1,338</td>\n      <td>4,480</td>\n      <td>2,313</td>\n      <td>2,167</td>\n      <td>3,362</td>\n      <td>1,701</td>\n      <td>1,661</td>\n    </tr>\n    <tr>\n      <th>4</th>\n      <td>4세</td>\n      <td>20,230</td>\n      <td>10,294</td>\n      <td>9,936</td>\n      <td>628</td>\n      <td>297</td>\n      <td>331</td>\n      <td>3,103</td>\n      <td>1,620</td>\n      <td>1,483</td>\n      <td>...</td>\n      <td>1,858</td>\n      <td>3,069</td>\n      <td>1,536</td>\n      <td>1,533</td>\n      <td>4,710</td>\n      <td>2,388</td>\n      <td>2,322</td>\n      <td>3,260</td>\n      <td>1,641</td>\n      <td>1,619</td>\n    </tr>\n    <tr>\n      <th>...</th>\n      <td>...</td>\n      <td>...</td>\n      <td>...</td>\n      <td>...</td>\n      <td>...</td>\n      <td>...</td>\n      <td>...</td>\n      <td>...</td>\n      <td>...</td>\n      <td>...</td>\n      <td>...</td>\n      <td>...</td>\n      <td>...</td>\n      <td>...</td>\n      <td>...</td>\n      <td>...</td>\n      <td>...</td>\n      <td>...</td>\n      <td>...</td>\n      <td>...</td>\n      <td>...</td>\n    </tr>\n    <tr>\n      <th>96</th>\n      <td>96세</td>\n      <td>424</td>\n      <td>91</td>\n      <td>333</td>\n      <td>28</td>\n      <td>7</td>\n      <td>21</td>\n      <td>56</td>\n      <td>12</td>\n      <td>44</td>\n      <td>...</td>\n      <td>69</td>\n      <td>67</td>\n      <td>20</td>\n      <td>47</td>\n      <td>77</td>\n      <td>17</td>\n      <td>60</td>\n      <td>36</td>\n      <td>7</td>\n      <td>29</td>\n    </tr>\n    <tr>\n      <th>97</th>\n      <td>97세</td>\n      <td>292</td>\n      <td>62</td>\n      <td>230</td>\n      <td>19</td>\n      <td>2</td>\n      <td>17</td>\n      <td>64</td>\n      <td>11</td>\n      <td>53</td>\n      <td>...</td>\n      <td>32</td>\n      <td>54</td>\n      <td>12</td>\n      <td>42</td>\n      <td>46</td>\n      <td>9</td>\n      <td>37</td>\n      <td>20</td>\n      <td>7</td>\n      <td>13</td>\n    </tr>\n    <tr>\n      <th>98</th>\n      <td>98세</td>\n      <td>191</td>\n      <td>31</td>\n      <td>160</td>\n      <td>16</td>\n      <td>2</td>\n      <td>14</td>\n      <td>29</td>\n      <td>10</td>\n      <td>19</td>\n      <td>...</td>\n      <td>30</td>\n      <td>32</td>\n      <td>3</td>\n      <td>29</td>\n      <td>30</td>\n      <td>4</td>\n      <td>26</td>\n      <td>11</td>\n      <td>1</td>\n      <td>10</td>\n    </tr>\n    <tr>\n      <th>99</th>\n      <td>99세</td>\n      <td>152</td>\n      <td>26</td>\n      <td>126</td>\n      <td>16</td>\n      <td>7</td>\n      <td>9</td>\n      <td>27</td>\n      <td>6</td>\n      <td>21</td>\n      <td>...</td>\n      <td>23</td>\n      <td>25</td>\n      <td>3</td>\n      <td>22</td>\n      <td>17</td>\n      <td>4</td>\n      <td>13</td>\n      <td>8</td>\n      <td>0</td>\n      <td>8</td>\n    </tr>\n    <tr>\n      <th>100</th>\n      <td>100세 이상</td>\n      <td>650</td>\n      <td>153</td>\n      <td>497</td>\n      <td>87</td>\n      <td>16</td>\n      <td>71</td>\n      <td>115</td>\n      <td>29</td>\n      <td>86</td>\n      <td>...</td>\n      <td>59</td>\n      <td>95</td>\n      <td>27</td>\n      <td>68</td>\n      <td>79</td>\n      <td>15</td>\n      <td>64</td>\n      <td>28</td>\n      <td>8</td>\n      <td>20</td>\n    </tr>\n  </tbody>\n</table>\n<p>101 rows × 28 columns</p>\n</div>"
     },
     "metadata": {},
     "execution_count": 264
    }
   ],
   "source": [
    "daegu01 = pd.read_csv('daegu\\\\20180630_2.csv')\n",
    "daegu02 = pd.read_csv('daegu\\\\20181231_2.csv')\n",
    "daegu03 = pd.read_csv('daegu\\\\2019.06.30.csv', encoding='utf-8')\n",
    "daegu03"
   ]
  },
  {
   "cell_type": "code",
   "execution_count": 265,
   "metadata": {},
   "outputs": [
    {
     "output_type": "execute_result",
     "data": {
      "text/plain": "0        0\n1        1\n2        2\n3        3\n4        4\n      ... \n96      96\n97      97\n98      98\n99      99\n100    100\nName: 행정구역, Length: 101, dtype: int32"
     },
     "metadata": {},
     "execution_count": 265
    }
   ],
   "source": [
    "daegu01['구분'] = pd.DataFrame(np.arange(101))\n",
    "daegu02['구분'] = pd.DataFrame(np.arange(101))\n",
    "daegu03['행정구역'] = pd.DataFrame(np.arange(101))\n",
    "daegu03['행정구역']"
   ]
  },
  {
   "cell_type": "code",
   "execution_count": 266,
   "metadata": {},
   "outputs": [
    {
     "output_type": "execute_result",
     "data": {
      "text/plain": "     행정구역      총계    총계 남   총계 여 중구 계  중구 남  중구 여   동구 계   동구 남   동구 여  ...  \\\n0       0  13,085   6,754  6,331  456   228   228  2,019  1,021    998  ...   \n1       1  15,384   7,854  7,530  524   273   251  2,401  1,235  1,166  ...   \n2       2  17,580   9,026  8,554  588   293   295  2,718  1,429  1,289  ...   \n3       3  19,659  10,028  9,631  625   325   300  2,947  1,442  1,505  ...   \n4       4  20,230  10,294  9,936  628   297   331  3,103  1,620  1,483  ...   \n..    ...     ...     ...    ...  ...   ...   ...    ...    ...    ...  ...   \n96     96     424      91    333   28     7    21     56     12     44  ...   \n97     97     292      62    230   19     2    17     64     11     53  ...   \n98     98     191      31    160   16     2    14     29     10     19  ...   \n99     99     152      26    126   16     7     9     27      6     21  ...   \n100   100     650     153    497   87    16    71    115     29     86  ...   \n\n     수성구 계  수성구 남  수성구 여  달서구 계  달서구 남  달서구 여  달성군 계  달성군 남  달성군 여  \\\n0    1,565    839    726  2,771  1,413  1,358  2,660  1,358  1,302   \n1    1,964    986    978  3,370  1,780  1,590  2,885  1,429  1,456   \n2    2,387  1,217  1,170  3,836  2,028  1,808  3,138  1,579  1,559   \n3    2,839  1,501  1,338  4,480  2,313  2,167  3,362  1,701  1,661   \n4    3,069  1,536  1,533  4,710  2,388  2,322  3,260  1,641  1,619   \n..     ...    ...    ...    ...    ...    ...    ...    ...    ...   \n96      67     20     47     77     17     60     36      7     29   \n97      54     12     42     46      9     37     20      7     13   \n98      32      3     29     30      4     26     11      1     10   \n99      25      3     22     17      4     13      8      0      8   \n100     95     27     68     79     15     64     28      8     20   \n\n    grp_digitize  \n0              0  \n1              0  \n2              0  \n3              0  \n4              0  \n..           ...  \n96             7  \n97             7  \n98             7  \n99             7  \n100            7  \n\n[101 rows x 29 columns]",
      "text/html": "<div>\n<style scoped>\n    .dataframe tbody tr th:only-of-type {\n        vertical-align: middle;\n    }\n\n    .dataframe tbody tr th {\n        vertical-align: top;\n    }\n\n    .dataframe thead th {\n        text-align: right;\n    }\n</style>\n<table border=\"1\" class=\"dataframe\">\n  <thead>\n    <tr style=\"text-align: right;\">\n      <th></th>\n      <th>행정구역</th>\n      <th>총계</th>\n      <th>총계 남</th>\n      <th>총계 여</th>\n      <th>중구 계</th>\n      <th>중구 남</th>\n      <th>중구 여</th>\n      <th>동구 계</th>\n      <th>동구 남</th>\n      <th>동구 여</th>\n      <th>...</th>\n      <th>수성구 계</th>\n      <th>수성구 남</th>\n      <th>수성구 여</th>\n      <th>달서구 계</th>\n      <th>달서구 남</th>\n      <th>달서구 여</th>\n      <th>달성군 계</th>\n      <th>달성군 남</th>\n      <th>달성군 여</th>\n      <th>grp_digitize</th>\n    </tr>\n  </thead>\n  <tbody>\n    <tr>\n      <th>0</th>\n      <td>0</td>\n      <td>13,085</td>\n      <td>6,754</td>\n      <td>6,331</td>\n      <td>456</td>\n      <td>228</td>\n      <td>228</td>\n      <td>2,019</td>\n      <td>1,021</td>\n      <td>998</td>\n      <td>...</td>\n      <td>1,565</td>\n      <td>839</td>\n      <td>726</td>\n      <td>2,771</td>\n      <td>1,413</td>\n      <td>1,358</td>\n      <td>2,660</td>\n      <td>1,358</td>\n      <td>1,302</td>\n      <td>0</td>\n    </tr>\n    <tr>\n      <th>1</th>\n      <td>1</td>\n      <td>15,384</td>\n      <td>7,854</td>\n      <td>7,530</td>\n      <td>524</td>\n      <td>273</td>\n      <td>251</td>\n      <td>2,401</td>\n      <td>1,235</td>\n      <td>1,166</td>\n      <td>...</td>\n      <td>1,964</td>\n      <td>986</td>\n      <td>978</td>\n      <td>3,370</td>\n      <td>1,780</td>\n      <td>1,590</td>\n      <td>2,885</td>\n      <td>1,429</td>\n      <td>1,456</td>\n      <td>0</td>\n    </tr>\n    <tr>\n      <th>2</th>\n      <td>2</td>\n      <td>17,580</td>\n      <td>9,026</td>\n      <td>8,554</td>\n      <td>588</td>\n      <td>293</td>\n      <td>295</td>\n      <td>2,718</td>\n      <td>1,429</td>\n      <td>1,289</td>\n      <td>...</td>\n      <td>2,387</td>\n      <td>1,217</td>\n      <td>1,170</td>\n      <td>3,836</td>\n      <td>2,028</td>\n      <td>1,808</td>\n      <td>3,138</td>\n      <td>1,579</td>\n      <td>1,559</td>\n      <td>0</td>\n    </tr>\n    <tr>\n      <th>3</th>\n      <td>3</td>\n      <td>19,659</td>\n      <td>10,028</td>\n      <td>9,631</td>\n      <td>625</td>\n      <td>325</td>\n      <td>300</td>\n      <td>2,947</td>\n      <td>1,442</td>\n      <td>1,505</td>\n      <td>...</td>\n      <td>2,839</td>\n      <td>1,501</td>\n      <td>1,338</td>\n      <td>4,480</td>\n      <td>2,313</td>\n      <td>2,167</td>\n      <td>3,362</td>\n      <td>1,701</td>\n      <td>1,661</td>\n      <td>0</td>\n    </tr>\n    <tr>\n      <th>4</th>\n      <td>4</td>\n      <td>20,230</td>\n      <td>10,294</td>\n      <td>9,936</td>\n      <td>628</td>\n      <td>297</td>\n      <td>331</td>\n      <td>3,103</td>\n      <td>1,620</td>\n      <td>1,483</td>\n      <td>...</td>\n      <td>3,069</td>\n      <td>1,536</td>\n      <td>1,533</td>\n      <td>4,710</td>\n      <td>2,388</td>\n      <td>2,322</td>\n      <td>3,260</td>\n      <td>1,641</td>\n      <td>1,619</td>\n      <td>0</td>\n    </tr>\n    <tr>\n      <th>...</th>\n      <td>...</td>\n      <td>...</td>\n      <td>...</td>\n      <td>...</td>\n      <td>...</td>\n      <td>...</td>\n      <td>...</td>\n      <td>...</td>\n      <td>...</td>\n      <td>...</td>\n      <td>...</td>\n      <td>...</td>\n      <td>...</td>\n      <td>...</td>\n      <td>...</td>\n      <td>...</td>\n      <td>...</td>\n      <td>...</td>\n      <td>...</td>\n      <td>...</td>\n      <td>...</td>\n    </tr>\n    <tr>\n      <th>96</th>\n      <td>96</td>\n      <td>424</td>\n      <td>91</td>\n      <td>333</td>\n      <td>28</td>\n      <td>7</td>\n      <td>21</td>\n      <td>56</td>\n      <td>12</td>\n      <td>44</td>\n      <td>...</td>\n      <td>67</td>\n      <td>20</td>\n      <td>47</td>\n      <td>77</td>\n      <td>17</td>\n      <td>60</td>\n      <td>36</td>\n      <td>7</td>\n      <td>29</td>\n      <td>7</td>\n    </tr>\n    <tr>\n      <th>97</th>\n      <td>97</td>\n      <td>292</td>\n      <td>62</td>\n      <td>230</td>\n      <td>19</td>\n      <td>2</td>\n      <td>17</td>\n      <td>64</td>\n      <td>11</td>\n      <td>53</td>\n      <td>...</td>\n      <td>54</td>\n      <td>12</td>\n      <td>42</td>\n      <td>46</td>\n      <td>9</td>\n      <td>37</td>\n      <td>20</td>\n      <td>7</td>\n      <td>13</td>\n      <td>7</td>\n    </tr>\n    <tr>\n      <th>98</th>\n      <td>98</td>\n      <td>191</td>\n      <td>31</td>\n      <td>160</td>\n      <td>16</td>\n      <td>2</td>\n      <td>14</td>\n      <td>29</td>\n      <td>10</td>\n      <td>19</td>\n      <td>...</td>\n      <td>32</td>\n      <td>3</td>\n      <td>29</td>\n      <td>30</td>\n      <td>4</td>\n      <td>26</td>\n      <td>11</td>\n      <td>1</td>\n      <td>10</td>\n      <td>7</td>\n    </tr>\n    <tr>\n      <th>99</th>\n      <td>99</td>\n      <td>152</td>\n      <td>26</td>\n      <td>126</td>\n      <td>16</td>\n      <td>7</td>\n      <td>9</td>\n      <td>27</td>\n      <td>6</td>\n      <td>21</td>\n      <td>...</td>\n      <td>25</td>\n      <td>3</td>\n      <td>22</td>\n      <td>17</td>\n      <td>4</td>\n      <td>13</td>\n      <td>8</td>\n      <td>0</td>\n      <td>8</td>\n      <td>7</td>\n    </tr>\n    <tr>\n      <th>100</th>\n      <td>100</td>\n      <td>650</td>\n      <td>153</td>\n      <td>497</td>\n      <td>87</td>\n      <td>16</td>\n      <td>71</td>\n      <td>115</td>\n      <td>29</td>\n      <td>86</td>\n      <td>...</td>\n      <td>95</td>\n      <td>27</td>\n      <td>68</td>\n      <td>79</td>\n      <td>15</td>\n      <td>64</td>\n      <td>28</td>\n      <td>8</td>\n      <td>20</td>\n      <td>7</td>\n    </tr>\n  </tbody>\n</table>\n<p>101 rows × 29 columns</p>\n</div>"
     },
     "metadata": {},
     "execution_count": 266
    }
   ],
   "source": [
    "bins =[10,20,30,40,50,60,70]\n",
    "daegu01['grp_digitize']=np.digitize(daegu01['구분'], bins,)\n",
    "daegu02['grp_digitize']=np.digitize(daegu02['구분'], bins)\n",
    "daegu03['grp_digitize']=np.digitize(daegu03['행정구역'], bins)\n",
    "daegu03"
   ]
  },
  {
   "cell_type": "code",
   "execution_count": 248,
   "metadata": {},
   "outputs": [
    {
     "output_type": "execute_result",
     "data": {
      "text/plain": "              행정구역  중구 남  중구 여\ngrp_digitize                  \n0               45  2855  2717\n1              145  2705  2665\n2              245  5714  5906\n3              345  5836  5475\n4              445  5695  5413\n5              545  5825  5973\n6              645  4649  5420\n7             2635  4382  6705",
      "text/html": "<div>\n<style scoped>\n    .dataframe tbody tr th:only-of-type {\n        vertical-align: middle;\n    }\n\n    .dataframe tbody tr th {\n        vertical-align: top;\n    }\n\n    .dataframe thead th {\n        text-align: right;\n    }\n</style>\n<table border=\"1\" class=\"dataframe\">\n  <thead>\n    <tr style=\"text-align: right;\">\n      <th></th>\n      <th>행정구역</th>\n      <th>중구 남</th>\n      <th>중구 여</th>\n    </tr>\n    <tr>\n      <th>grp_digitize</th>\n      <th></th>\n      <th></th>\n      <th></th>\n    </tr>\n  </thead>\n  <tbody>\n    <tr>\n      <th>0</th>\n      <td>45</td>\n      <td>2855</td>\n      <td>2717</td>\n    </tr>\n    <tr>\n      <th>1</th>\n      <td>145</td>\n      <td>2705</td>\n      <td>2665</td>\n    </tr>\n    <tr>\n      <th>2</th>\n      <td>245</td>\n      <td>5714</td>\n      <td>5906</td>\n    </tr>\n    <tr>\n      <th>3</th>\n      <td>345</td>\n      <td>5836</td>\n      <td>5475</td>\n    </tr>\n    <tr>\n      <th>4</th>\n      <td>445</td>\n      <td>5695</td>\n      <td>5413</td>\n    </tr>\n    <tr>\n      <th>5</th>\n      <td>545</td>\n      <td>5825</td>\n      <td>5973</td>\n    </tr>\n    <tr>\n      <th>6</th>\n      <td>645</td>\n      <td>4649</td>\n      <td>5420</td>\n    </tr>\n    <tr>\n      <th>7</th>\n      <td>2635</td>\n      <td>4382</td>\n      <td>6705</td>\n    </tr>\n  </tbody>\n</table>\n</div>"
     },
     "metadata": {},
     "execution_count": 248
    }
   ],
   "source": [
    "daegu01_grp = daegu01.groupby('grp_digitize').sum()\n",
    "daegu02_grp = daegu02.groupby('grp_digitize').sum()\n",
    "daegu03_grp = daegu03.groupby('grp_digitize').sum()"
   ]
  },
  {
   "cell_type": "code",
   "execution_count": 211,
   "metadata": {},
   "outputs": [
    {
     "output_type": "execute_result",
     "data": {
      "text/plain": "               구분   총계  총계 남  총계 여  중구 계  중구 남  중구 여  동구 계  동구 남  동구 여  ...  \\\ngrp_digitize                                                            ...   \n0             1.0  1.0   1.0   1.0   1.0   1.0   1.0   1.0   1.0   1.0  ...   \n1             1.0  1.0   1.0   1.0   1.0   1.0   1.0   1.0   1.0   1.0  ...   \n2             1.0  1.0   1.0   1.0   1.0   1.0   1.0   1.0   1.0   1.0  ...   \n3             1.0  1.0   1.0   1.0   1.0   1.0   1.0   1.0   1.0   1.0  ...   \n4             1.0  1.0   1.0   1.0   1.0   1.0   1.0   1.0   1.0   1.0  ...   \n5             1.0  1.0   1.0   1.0   1.0   1.0   1.0   1.0   1.0   1.0  ...   \n6             1.0  1.0   1.0   1.0   1.0   1.0   1.0   1.0   1.0   1.0  ...   \n7             1.0  1.0   1.0   1.0   1.0   1.0   1.0   1.0   1.0   1.0  ...   \n\n              북구 여  수성구 계  수성구 남  수성구 여  달서구 계  달서구 남  달서구 여  달성군 계  달성군 남  \\\ngrp_digitize                                                                 \n0              1.0    1.0    1.0    1.0    1.0    1.0    1.0    1.0    1.0   \n1              1.0    1.0    1.0    1.0    1.0    1.0    1.0    1.0    1.0   \n2              1.0    1.0    1.0    1.0    1.0    1.0    1.0    1.0    1.0   \n3              1.0    1.0    1.0    1.0    1.0    1.0    1.0    1.0    1.0   \n4              1.0    1.0    1.0    1.0    1.0    1.0    1.0    1.0    1.0   \n5              1.0    1.0    1.0    1.0    1.0    1.0    1.0    1.0    1.0   \n6              1.0    1.0    1.0    1.0    1.0    1.0    1.0    1.0    1.0   \n7              1.0    1.0    1.0    1.0    1.0    1.0    1.0    1.0    1.0   \n\n              달성군 여  \ngrp_digitize         \n0               1.0  \n1               1.0  \n2               1.0  \n3               1.0  \n4               1.0  \n5               1.0  \n6               1.0  \n7               1.0  \n\n[8 rows x 28 columns]",
      "text/html": "<div>\n<style scoped>\n    .dataframe tbody tr th:only-of-type {\n        vertical-align: middle;\n    }\n\n    .dataframe tbody tr th {\n        vertical-align: top;\n    }\n\n    .dataframe thead th {\n        text-align: right;\n    }\n</style>\n<table border=\"1\" class=\"dataframe\">\n  <thead>\n    <tr style=\"text-align: right;\">\n      <th></th>\n      <th>구분</th>\n      <th>총계</th>\n      <th>총계 남</th>\n      <th>총계 여</th>\n      <th>중구 계</th>\n      <th>중구 남</th>\n      <th>중구 여</th>\n      <th>동구 계</th>\n      <th>동구 남</th>\n      <th>동구 여</th>\n      <th>...</th>\n      <th>북구 여</th>\n      <th>수성구 계</th>\n      <th>수성구 남</th>\n      <th>수성구 여</th>\n      <th>달서구 계</th>\n      <th>달서구 남</th>\n      <th>달서구 여</th>\n      <th>달성군 계</th>\n      <th>달성군 남</th>\n      <th>달성군 여</th>\n    </tr>\n    <tr>\n      <th>grp_digitize</th>\n      <th></th>\n      <th></th>\n      <th></th>\n      <th></th>\n      <th></th>\n      <th></th>\n      <th></th>\n      <th></th>\n      <th></th>\n      <th></th>\n      <th></th>\n      <th></th>\n      <th></th>\n      <th></th>\n      <th></th>\n      <th></th>\n      <th></th>\n      <th></th>\n      <th></th>\n      <th></th>\n      <th></th>\n    </tr>\n  </thead>\n  <tbody>\n    <tr>\n      <th>0</th>\n      <td>1.0</td>\n      <td>1.0</td>\n      <td>1.0</td>\n      <td>1.0</td>\n      <td>1.0</td>\n      <td>1.0</td>\n      <td>1.0</td>\n      <td>1.0</td>\n      <td>1.0</td>\n      <td>1.0</td>\n      <td>...</td>\n      <td>1.0</td>\n      <td>1.0</td>\n      <td>1.0</td>\n      <td>1.0</td>\n      <td>1.0</td>\n      <td>1.0</td>\n      <td>1.0</td>\n      <td>1.0</td>\n      <td>1.0</td>\n      <td>1.0</td>\n    </tr>\n    <tr>\n      <th>1</th>\n      <td>1.0</td>\n      <td>1.0</td>\n      <td>1.0</td>\n      <td>1.0</td>\n      <td>1.0</td>\n      <td>1.0</td>\n      <td>1.0</td>\n      <td>1.0</td>\n      <td>1.0</td>\n      <td>1.0</td>\n      <td>...</td>\n      <td>1.0</td>\n      <td>1.0</td>\n      <td>1.0</td>\n      <td>1.0</td>\n      <td>1.0</td>\n      <td>1.0</td>\n      <td>1.0</td>\n      <td>1.0</td>\n      <td>1.0</td>\n      <td>1.0</td>\n    </tr>\n    <tr>\n      <th>2</th>\n      <td>1.0</td>\n      <td>1.0</td>\n      <td>1.0</td>\n      <td>1.0</td>\n      <td>1.0</td>\n      <td>1.0</td>\n      <td>1.0</td>\n      <td>1.0</td>\n      <td>1.0</td>\n      <td>1.0</td>\n      <td>...</td>\n      <td>1.0</td>\n      <td>1.0</td>\n      <td>1.0</td>\n      <td>1.0</td>\n      <td>1.0</td>\n      <td>1.0</td>\n      <td>1.0</td>\n      <td>1.0</td>\n      <td>1.0</td>\n      <td>1.0</td>\n    </tr>\n    <tr>\n      <th>3</th>\n      <td>1.0</td>\n      <td>1.0</td>\n      <td>1.0</td>\n      <td>1.0</td>\n      <td>1.0</td>\n      <td>1.0</td>\n      <td>1.0</td>\n      <td>1.0</td>\n      <td>1.0</td>\n      <td>1.0</td>\n      <td>...</td>\n      <td>1.0</td>\n      <td>1.0</td>\n      <td>1.0</td>\n      <td>1.0</td>\n      <td>1.0</td>\n      <td>1.0</td>\n      <td>1.0</td>\n      <td>1.0</td>\n      <td>1.0</td>\n      <td>1.0</td>\n    </tr>\n    <tr>\n      <th>4</th>\n      <td>1.0</td>\n      <td>1.0</td>\n      <td>1.0</td>\n      <td>1.0</td>\n      <td>1.0</td>\n      <td>1.0</td>\n      <td>1.0</td>\n      <td>1.0</td>\n      <td>1.0</td>\n      <td>1.0</td>\n      <td>...</td>\n      <td>1.0</td>\n      <td>1.0</td>\n      <td>1.0</td>\n      <td>1.0</td>\n      <td>1.0</td>\n      <td>1.0</td>\n      <td>1.0</td>\n      <td>1.0</td>\n      <td>1.0</td>\n      <td>1.0</td>\n    </tr>\n    <tr>\n      <th>5</th>\n      <td>1.0</td>\n      <td>1.0</td>\n      <td>1.0</td>\n      <td>1.0</td>\n      <td>1.0</td>\n      <td>1.0</td>\n      <td>1.0</td>\n      <td>1.0</td>\n      <td>1.0</td>\n      <td>1.0</td>\n      <td>...</td>\n      <td>1.0</td>\n      <td>1.0</td>\n      <td>1.0</td>\n      <td>1.0</td>\n      <td>1.0</td>\n      <td>1.0</td>\n      <td>1.0</td>\n      <td>1.0</td>\n      <td>1.0</td>\n      <td>1.0</td>\n    </tr>\n    <tr>\n      <th>6</th>\n      <td>1.0</td>\n      <td>1.0</td>\n      <td>1.0</td>\n      <td>1.0</td>\n      <td>1.0</td>\n      <td>1.0</td>\n      <td>1.0</td>\n      <td>1.0</td>\n      <td>1.0</td>\n      <td>1.0</td>\n      <td>...</td>\n      <td>1.0</td>\n      <td>1.0</td>\n      <td>1.0</td>\n      <td>1.0</td>\n      <td>1.0</td>\n      <td>1.0</td>\n      <td>1.0</td>\n      <td>1.0</td>\n      <td>1.0</td>\n      <td>1.0</td>\n    </tr>\n    <tr>\n      <th>7</th>\n      <td>1.0</td>\n      <td>1.0</td>\n      <td>1.0</td>\n      <td>1.0</td>\n      <td>1.0</td>\n      <td>1.0</td>\n      <td>1.0</td>\n      <td>1.0</td>\n      <td>1.0</td>\n      <td>1.0</td>\n      <td>...</td>\n      <td>1.0</td>\n      <td>1.0</td>\n      <td>1.0</td>\n      <td>1.0</td>\n      <td>1.0</td>\n      <td>1.0</td>\n      <td>1.0</td>\n      <td>1.0</td>\n      <td>1.0</td>\n      <td>1.0</td>\n    </tr>\n  </tbody>\n</table>\n<p>8 rows × 28 columns</p>\n</div>"
     },
     "metadata": {},
     "execution_count": 211
    }
   ],
   "source": [
    "df = daegu03_grp.div(daegu02_grp, fill_value=0)\n",
    "df"
   ]
  },
  {
   "cell_type": "code",
   "execution_count": 202,
   "metadata": {},
   "outputs": [
    {
     "output_type": "execute_result",
     "data": {
      "text/plain": "               구분      총계    총계 남    총계 여   중구 계  중구 남  중구 여   동구 계   동구 남  \\\ngrp_digitize                                                                 \n0              45  198201  101712   96489   5674  2952  2722  29075  14987   \n1             145  254854  134152  120702   5549  2801  2748  29903  15815   \n2             245  333016  180686  152330  11300  5611  5689  43608  23707   \n3             345  321372  164102  157270  11396  5877  5519  48971  25221   \n\n               동구 여  ...   북구 여  수성구 계  수성구 남  수성구 여  달서구 계  달서구 남  달서구 여  \\\ngrp_digitize         ...                                                    \n0             14088  ...  18260  32508  16713  15795  46276  23865  22411   \n1             14088  ...  23284  57880  30792  27088  63987  33506  30481   \n2             19901  ...  27737  58097  31464  26633  82987  45010  37977   \n3             23750  ...  28127  46528  22290  24238  72962  37075  35887   \n\n              달성군 계  달성군 남  달성군 여  \ngrp_digitize                       \n0             29751  15132  14619  \n1             23382  12302  11080  \n2             29853  16533  13320  \n3             43404  22386  21018  \n\n[4 rows x 28 columns]",
      "text/html": "<div>\n<style scoped>\n    .dataframe tbody tr th:only-of-type {\n        vertical-align: middle;\n    }\n\n    .dataframe tbody tr th {\n        vertical-align: top;\n    }\n\n    .dataframe thead th {\n        text-align: right;\n    }\n</style>\n<table border=\"1\" class=\"dataframe\">\n  <thead>\n    <tr style=\"text-align: right;\">\n      <th></th>\n      <th>구분</th>\n      <th>총계</th>\n      <th>총계 남</th>\n      <th>총계 여</th>\n      <th>중구 계</th>\n      <th>중구 남</th>\n      <th>중구 여</th>\n      <th>동구 계</th>\n      <th>동구 남</th>\n      <th>동구 여</th>\n      <th>...</th>\n      <th>북구 여</th>\n      <th>수성구 계</th>\n      <th>수성구 남</th>\n      <th>수성구 여</th>\n      <th>달서구 계</th>\n      <th>달서구 남</th>\n      <th>달서구 여</th>\n      <th>달성군 계</th>\n      <th>달성군 남</th>\n      <th>달성군 여</th>\n    </tr>\n    <tr>\n      <th>grp_digitize</th>\n      <th></th>\n      <th></th>\n      <th></th>\n      <th></th>\n      <th></th>\n      <th></th>\n      <th></th>\n      <th></th>\n      <th></th>\n      <th></th>\n      <th></th>\n      <th></th>\n      <th></th>\n      <th></th>\n      <th></th>\n      <th></th>\n      <th></th>\n      <th></th>\n      <th></th>\n      <th></th>\n      <th></th>\n    </tr>\n  </thead>\n  <tbody>\n    <tr>\n      <th>0</th>\n      <td>45</td>\n      <td>198201</td>\n      <td>101712</td>\n      <td>96489</td>\n      <td>5674</td>\n      <td>2952</td>\n      <td>2722</td>\n      <td>29075</td>\n      <td>14987</td>\n      <td>14088</td>\n      <td>...</td>\n      <td>18260</td>\n      <td>32508</td>\n      <td>16713</td>\n      <td>15795</td>\n      <td>46276</td>\n      <td>23865</td>\n      <td>22411</td>\n      <td>29751</td>\n      <td>15132</td>\n      <td>14619</td>\n    </tr>\n    <tr>\n      <th>1</th>\n      <td>145</td>\n      <td>254854</td>\n      <td>134152</td>\n      <td>120702</td>\n      <td>5549</td>\n      <td>2801</td>\n      <td>2748</td>\n      <td>29903</td>\n      <td>15815</td>\n      <td>14088</td>\n      <td>...</td>\n      <td>23284</td>\n      <td>57880</td>\n      <td>30792</td>\n      <td>27088</td>\n      <td>63987</td>\n      <td>33506</td>\n      <td>30481</td>\n      <td>23382</td>\n      <td>12302</td>\n      <td>11080</td>\n    </tr>\n    <tr>\n      <th>2</th>\n      <td>245</td>\n      <td>333016</td>\n      <td>180686</td>\n      <td>152330</td>\n      <td>11300</td>\n      <td>5611</td>\n      <td>5689</td>\n      <td>43608</td>\n      <td>23707</td>\n      <td>19901</td>\n      <td>...</td>\n      <td>27737</td>\n      <td>58097</td>\n      <td>31464</td>\n      <td>26633</td>\n      <td>82987</td>\n      <td>45010</td>\n      <td>37977</td>\n      <td>29853</td>\n      <td>16533</td>\n      <td>13320</td>\n    </tr>\n    <tr>\n      <th>3</th>\n      <td>345</td>\n      <td>321372</td>\n      <td>164102</td>\n      <td>157270</td>\n      <td>11396</td>\n      <td>5877</td>\n      <td>5519</td>\n      <td>48971</td>\n      <td>25221</td>\n      <td>23750</td>\n      <td>...</td>\n      <td>28127</td>\n      <td>46528</td>\n      <td>22290</td>\n      <td>24238</td>\n      <td>72962</td>\n      <td>37075</td>\n      <td>35887</td>\n      <td>43404</td>\n      <td>22386</td>\n      <td>21018</td>\n    </tr>\n  </tbody>\n</table>\n<p>4 rows × 28 columns</p>\n</div>"
     },
     "metadata": {},
     "execution_count": 202
    }
   ],
   "source": [
    "daegu01_grp_man = daegu01_grp[daegu01_grp.iloc[:,2] > daegu01_grp.iloc[:,3]]\n",
    "daegu01_grp_man"
   ]
  },
  {
   "cell_type": "code",
   "execution_count": 203,
   "metadata": {},
   "outputs": [
    {
     "output_type": "execute_result",
     "data": {
      "text/plain": "              구분      총계    총계 남    총계 여  중구 계  중구 남  중구 여     동구 계  동구 남  \\\ngrp_digitize                                                                \n0            NaN  198201  101712   96489   NaN   NaN   NaN      NaN   NaN   \n1            NaN  254854  134152  120702   NaN   NaN   NaN      NaN   NaN   \n2            NaN  333016  180686  152330   NaN   NaN   NaN  43608.0   NaN   \n3            NaN  321372  164102  157270   NaN   NaN   NaN  48971.0   NaN   \n\n              동구 여  ...  북구 여  수성구 계    수성구 남  수성구 여  달서구 계    달서구 남    달서구 여  \\\ngrp_digitize        ...                                                         \n0              NaN  ...   NaN  32508      NaN    NaN  46276      NaN      NaN   \n1              NaN  ...   NaN  57880  30792.0    NaN  63987  33506.0  30481.0   \n2              NaN  ...   NaN  58097  31464.0    NaN  82987  45010.0  37977.0   \n3              NaN  ...   NaN  46528      NaN    NaN  72962  37075.0  35887.0   \n\n                달성군 계  달성군 남  달성군 여  \ngrp_digitize                         \n0                 NaN    NaN    NaN  \n1                 NaN    NaN    NaN  \n2                 NaN    NaN    NaN  \n3             43404.0    NaN    NaN  \n\n[4 rows x 28 columns]",
      "text/html": "<div>\n<style scoped>\n    .dataframe tbody tr th:only-of-type {\n        vertical-align: middle;\n    }\n\n    .dataframe tbody tr th {\n        vertical-align: top;\n    }\n\n    .dataframe thead th {\n        text-align: right;\n    }\n</style>\n<table border=\"1\" class=\"dataframe\">\n  <thead>\n    <tr style=\"text-align: right;\">\n      <th></th>\n      <th>구분</th>\n      <th>총계</th>\n      <th>총계 남</th>\n      <th>총계 여</th>\n      <th>중구 계</th>\n      <th>중구 남</th>\n      <th>중구 여</th>\n      <th>동구 계</th>\n      <th>동구 남</th>\n      <th>동구 여</th>\n      <th>...</th>\n      <th>북구 여</th>\n      <th>수성구 계</th>\n      <th>수성구 남</th>\n      <th>수성구 여</th>\n      <th>달서구 계</th>\n      <th>달서구 남</th>\n      <th>달서구 여</th>\n      <th>달성군 계</th>\n      <th>달성군 남</th>\n      <th>달성군 여</th>\n    </tr>\n    <tr>\n      <th>grp_digitize</th>\n      <th></th>\n      <th></th>\n      <th></th>\n      <th></th>\n      <th></th>\n      <th></th>\n      <th></th>\n      <th></th>\n      <th></th>\n      <th></th>\n      <th></th>\n      <th></th>\n      <th></th>\n      <th></th>\n      <th></th>\n      <th></th>\n      <th></th>\n      <th></th>\n      <th></th>\n      <th></th>\n      <th></th>\n    </tr>\n  </thead>\n  <tbody>\n    <tr>\n      <th>0</th>\n      <td>NaN</td>\n      <td>198201</td>\n      <td>101712</td>\n      <td>96489</td>\n      <td>NaN</td>\n      <td>NaN</td>\n      <td>NaN</td>\n      <td>NaN</td>\n      <td>NaN</td>\n      <td>NaN</td>\n      <td>...</td>\n      <td>NaN</td>\n      <td>32508</td>\n      <td>NaN</td>\n      <td>NaN</td>\n      <td>46276</td>\n      <td>NaN</td>\n      <td>NaN</td>\n      <td>NaN</td>\n      <td>NaN</td>\n      <td>NaN</td>\n    </tr>\n    <tr>\n      <th>1</th>\n      <td>NaN</td>\n      <td>254854</td>\n      <td>134152</td>\n      <td>120702</td>\n      <td>NaN</td>\n      <td>NaN</td>\n      <td>NaN</td>\n      <td>NaN</td>\n      <td>NaN</td>\n      <td>NaN</td>\n      <td>...</td>\n      <td>NaN</td>\n      <td>57880</td>\n      <td>30792.0</td>\n      <td>NaN</td>\n      <td>63987</td>\n      <td>33506.0</td>\n      <td>30481.0</td>\n      <td>NaN</td>\n      <td>NaN</td>\n      <td>NaN</td>\n    </tr>\n    <tr>\n      <th>2</th>\n      <td>NaN</td>\n      <td>333016</td>\n      <td>180686</td>\n      <td>152330</td>\n      <td>NaN</td>\n      <td>NaN</td>\n      <td>NaN</td>\n      <td>43608.0</td>\n      <td>NaN</td>\n      <td>NaN</td>\n      <td>...</td>\n      <td>NaN</td>\n      <td>58097</td>\n      <td>31464.0</td>\n      <td>NaN</td>\n      <td>82987</td>\n      <td>45010.0</td>\n      <td>37977.0</td>\n      <td>NaN</td>\n      <td>NaN</td>\n      <td>NaN</td>\n    </tr>\n    <tr>\n      <th>3</th>\n      <td>NaN</td>\n      <td>321372</td>\n      <td>164102</td>\n      <td>157270</td>\n      <td>NaN</td>\n      <td>NaN</td>\n      <td>NaN</td>\n      <td>48971.0</td>\n      <td>NaN</td>\n      <td>NaN</td>\n      <td>...</td>\n      <td>NaN</td>\n      <td>46528</td>\n      <td>NaN</td>\n      <td>NaN</td>\n      <td>72962</td>\n      <td>37075.0</td>\n      <td>35887.0</td>\n      <td>43404.0</td>\n      <td>NaN</td>\n      <td>NaN</td>\n    </tr>\n  </tbody>\n</table>\n<p>4 rows × 28 columns</p>\n</div>"
     },
     "metadata": {},
     "execution_count": 203
    }
   ],
   "source": [
    "daegu01_grp_man[daegu01_grp_man>30000]"
   ]
  },
  {
   "cell_type": "code",
   "execution_count": 532,
   "metadata": {},
   "outputs": [],
   "source": [
    "import numpy as np\n",
    "import pandas as pd\n",
    "daegu01 = pd.read_csv('daegu\\\\20180630_2.csv')\n",
    "daegu02 = pd.read_csv('daegu\\\\20181231_2.csv')\n",
    "daegu03 = pd.read_csv('daegu\\\\2019.06.30.csv', thousands=',')"
   ]
  },
  {
   "cell_type": "code",
   "execution_count": 533,
   "metadata": {},
   "outputs": [
    {
     "output_type": "execute_result",
     "data": {
      "text/plain": "          구분     총계   총계 남  총계 여  중구 계  중구 남  중구 여  동구 계  동구 남  동구 여  ...  \\\n0         0세  14568   7488  7080   511   275   236  2263  1161  1102  ...   \n1         1세  17475   8947  8528   609   309   300  2755  1410  1345  ...   \n2         2세  19562   9985  9577   612   308   304  3000  1467  1533  ...   \n3         3세  20123  10249  9874   648   315   333  3146  1656  1490  ...   \n4         4세  19794  10069  9725   556   287   269  2971  1519  1452  ...   \n..       ...    ...    ...   ...   ...   ...   ...   ...   ...   ...  ...   \n96       96세    365     75   290    23     3    20    66    10    56  ...   \n97       97세    235     45   190    18     3    15    35    13    22  ...   \n98       98세    190     32   158    16     7     9    33     6    27  ...   \n99       99세    112     26    86     6     1     5    25     7    18  ...   \n100  100세 이상    614    136   478    88    15    73   106    23    83  ...   \n\n     북구 여  수성구 계  수성구 남  수성구 여  달서구 계  달서구 남  달서구 여  달성군 계  달성군 남  달성군 여  \n0    1356   1784    911    873   3215   1719   1496   2724   1374   1350  \n1    1670   2264   1170   1094   3818   2017   1801   3063   1543   1520  \n2    1847   2684   1410   1274   4423   2317   2106   3327   1668   1659  \n3    1856   2876   1423   1453   4661   2366   2295   3253   1638   1615  \n4    1846   3089   1596   1493   4529   2294   2235   3036   1512   1524  \n..    ...    ...    ...    ...    ...    ...    ...    ...    ...    ...  \n96     37     73     15     58     64     12     52     31      9     22  \n97     36     43      7     36     39      6     33     16      3     13  \n98     30     29      4     25     25      6     19     15      0     15  \n99     13     17      4     13     19      2     17      8      2      6  \n100    52     97     24     73     68     13     55     26      8     18  \n\n[101 rows x 28 columns]",
      "text/html": "<div>\n<style scoped>\n    .dataframe tbody tr th:only-of-type {\n        vertical-align: middle;\n    }\n\n    .dataframe tbody tr th {\n        vertical-align: top;\n    }\n\n    .dataframe thead th {\n        text-align: right;\n    }\n</style>\n<table border=\"1\" class=\"dataframe\">\n  <thead>\n    <tr style=\"text-align: right;\">\n      <th></th>\n      <th>구분</th>\n      <th>총계</th>\n      <th>총계 남</th>\n      <th>총계 여</th>\n      <th>중구 계</th>\n      <th>중구 남</th>\n      <th>중구 여</th>\n      <th>동구 계</th>\n      <th>동구 남</th>\n      <th>동구 여</th>\n      <th>...</th>\n      <th>북구 여</th>\n      <th>수성구 계</th>\n      <th>수성구 남</th>\n      <th>수성구 여</th>\n      <th>달서구 계</th>\n      <th>달서구 남</th>\n      <th>달서구 여</th>\n      <th>달성군 계</th>\n      <th>달성군 남</th>\n      <th>달성군 여</th>\n    </tr>\n  </thead>\n  <tbody>\n    <tr>\n      <th>0</th>\n      <td>0세</td>\n      <td>14568</td>\n      <td>7488</td>\n      <td>7080</td>\n      <td>511</td>\n      <td>275</td>\n      <td>236</td>\n      <td>2263</td>\n      <td>1161</td>\n      <td>1102</td>\n      <td>...</td>\n      <td>1356</td>\n      <td>1784</td>\n      <td>911</td>\n      <td>873</td>\n      <td>3215</td>\n      <td>1719</td>\n      <td>1496</td>\n      <td>2724</td>\n      <td>1374</td>\n      <td>1350</td>\n    </tr>\n    <tr>\n      <th>1</th>\n      <td>1세</td>\n      <td>17475</td>\n      <td>8947</td>\n      <td>8528</td>\n      <td>609</td>\n      <td>309</td>\n      <td>300</td>\n      <td>2755</td>\n      <td>1410</td>\n      <td>1345</td>\n      <td>...</td>\n      <td>1670</td>\n      <td>2264</td>\n      <td>1170</td>\n      <td>1094</td>\n      <td>3818</td>\n      <td>2017</td>\n      <td>1801</td>\n      <td>3063</td>\n      <td>1543</td>\n      <td>1520</td>\n    </tr>\n    <tr>\n      <th>2</th>\n      <td>2세</td>\n      <td>19562</td>\n      <td>9985</td>\n      <td>9577</td>\n      <td>612</td>\n      <td>308</td>\n      <td>304</td>\n      <td>3000</td>\n      <td>1467</td>\n      <td>1533</td>\n      <td>...</td>\n      <td>1847</td>\n      <td>2684</td>\n      <td>1410</td>\n      <td>1274</td>\n      <td>4423</td>\n      <td>2317</td>\n      <td>2106</td>\n      <td>3327</td>\n      <td>1668</td>\n      <td>1659</td>\n    </tr>\n    <tr>\n      <th>3</th>\n      <td>3세</td>\n      <td>20123</td>\n      <td>10249</td>\n      <td>9874</td>\n      <td>648</td>\n      <td>315</td>\n      <td>333</td>\n      <td>3146</td>\n      <td>1656</td>\n      <td>1490</td>\n      <td>...</td>\n      <td>1856</td>\n      <td>2876</td>\n      <td>1423</td>\n      <td>1453</td>\n      <td>4661</td>\n      <td>2366</td>\n      <td>2295</td>\n      <td>3253</td>\n      <td>1638</td>\n      <td>1615</td>\n    </tr>\n    <tr>\n      <th>4</th>\n      <td>4세</td>\n      <td>19794</td>\n      <td>10069</td>\n      <td>9725</td>\n      <td>556</td>\n      <td>287</td>\n      <td>269</td>\n      <td>2971</td>\n      <td>1519</td>\n      <td>1452</td>\n      <td>...</td>\n      <td>1846</td>\n      <td>3089</td>\n      <td>1596</td>\n      <td>1493</td>\n      <td>4529</td>\n      <td>2294</td>\n      <td>2235</td>\n      <td>3036</td>\n      <td>1512</td>\n      <td>1524</td>\n    </tr>\n    <tr>\n      <th>...</th>\n      <td>...</td>\n      <td>...</td>\n      <td>...</td>\n      <td>...</td>\n      <td>...</td>\n      <td>...</td>\n      <td>...</td>\n      <td>...</td>\n      <td>...</td>\n      <td>...</td>\n      <td>...</td>\n      <td>...</td>\n      <td>...</td>\n      <td>...</td>\n      <td>...</td>\n      <td>...</td>\n      <td>...</td>\n      <td>...</td>\n      <td>...</td>\n      <td>...</td>\n      <td>...</td>\n    </tr>\n    <tr>\n      <th>96</th>\n      <td>96세</td>\n      <td>365</td>\n      <td>75</td>\n      <td>290</td>\n      <td>23</td>\n      <td>3</td>\n      <td>20</td>\n      <td>66</td>\n      <td>10</td>\n      <td>56</td>\n      <td>...</td>\n      <td>37</td>\n      <td>73</td>\n      <td>15</td>\n      <td>58</td>\n      <td>64</td>\n      <td>12</td>\n      <td>52</td>\n      <td>31</td>\n      <td>9</td>\n      <td>22</td>\n    </tr>\n    <tr>\n      <th>97</th>\n      <td>97세</td>\n      <td>235</td>\n      <td>45</td>\n      <td>190</td>\n      <td>18</td>\n      <td>3</td>\n      <td>15</td>\n      <td>35</td>\n      <td>13</td>\n      <td>22</td>\n      <td>...</td>\n      <td>36</td>\n      <td>43</td>\n      <td>7</td>\n      <td>36</td>\n      <td>39</td>\n      <td>6</td>\n      <td>33</td>\n      <td>16</td>\n      <td>3</td>\n      <td>13</td>\n    </tr>\n    <tr>\n      <th>98</th>\n      <td>98세</td>\n      <td>190</td>\n      <td>32</td>\n      <td>158</td>\n      <td>16</td>\n      <td>7</td>\n      <td>9</td>\n      <td>33</td>\n      <td>6</td>\n      <td>27</td>\n      <td>...</td>\n      <td>30</td>\n      <td>29</td>\n      <td>4</td>\n      <td>25</td>\n      <td>25</td>\n      <td>6</td>\n      <td>19</td>\n      <td>15</td>\n      <td>0</td>\n      <td>15</td>\n    </tr>\n    <tr>\n      <th>99</th>\n      <td>99세</td>\n      <td>112</td>\n      <td>26</td>\n      <td>86</td>\n      <td>6</td>\n      <td>1</td>\n      <td>5</td>\n      <td>25</td>\n      <td>7</td>\n      <td>18</td>\n      <td>...</td>\n      <td>13</td>\n      <td>17</td>\n      <td>4</td>\n      <td>13</td>\n      <td>19</td>\n      <td>2</td>\n      <td>17</td>\n      <td>8</td>\n      <td>2</td>\n      <td>6</td>\n    </tr>\n    <tr>\n      <th>100</th>\n      <td>100세 이상</td>\n      <td>614</td>\n      <td>136</td>\n      <td>478</td>\n      <td>88</td>\n      <td>15</td>\n      <td>73</td>\n      <td>106</td>\n      <td>23</td>\n      <td>83</td>\n      <td>...</td>\n      <td>52</td>\n      <td>97</td>\n      <td>24</td>\n      <td>73</td>\n      <td>68</td>\n      <td>13</td>\n      <td>55</td>\n      <td>26</td>\n      <td>8</td>\n      <td>18</td>\n    </tr>\n  </tbody>\n</table>\n<p>101 rows × 28 columns</p>\n</div>"
     },
     "metadata": {},
     "execution_count": 533
    }
   ],
   "source": [
    "df1=daegu01.copy()\n",
    "df2=daegu02.copy()\n",
    "df3=daegu03.copy()\n",
    "df1"
   ]
  },
  {
   "cell_type": "code",
   "execution_count": 534,
   "metadata": {},
   "outputs": [],
   "source": [
    "drop_list1 = []\n",
    "check_list1 = ['총계', '구분', ' 남', ' 여'] # 남구 삭제 방지를 위해 '남' 앞에 공백 추가 \n",
    "for chk in check_list1:\n",
    "    for item in df1.columns :\n",
    "        if  chk in item:\n",
    "            drop_list1.append(item)\n",
    "drop_list1 = list(set(drop_list1)) #  중복 제거를 위해 set을 사용"
   ]
  },
  {
   "cell_type": "code",
   "execution_count": 535,
   "metadata": {},
   "outputs": [
    {
     "output_type": "execute_result",
     "data": {
      "text/plain": "     중구 계  동구 계  서구 계  남구 계  북구 계  수성구 계  달서구 계  달성군 계\n0     511  2263   719   586  2766   1784   3215   2724\n1     609  2755   887   718  3361   2264   3818   3063\n2     612  3000  1010   776  3730   2684   4423   3327\n3     648  3146   949   758  3832   2876   4661   3253\n4     556  2971  1014   820  3779   3089   4529   3036\n..    ...   ...   ...   ...   ...    ...    ...    ...\n96     23    66    30    29    49     73     64     31\n97     18    35    18    24    42     43     39     16\n98     16    33    15    23    34     29     25     15\n99      6    25    10    11    16     17     19      8\n100    88   106    89    72    68     97     68     26\n\n[101 rows x 8 columns]",
      "text/html": "<div>\n<style scoped>\n    .dataframe tbody tr th:only-of-type {\n        vertical-align: middle;\n    }\n\n    .dataframe tbody tr th {\n        vertical-align: top;\n    }\n\n    .dataframe thead th {\n        text-align: right;\n    }\n</style>\n<table border=\"1\" class=\"dataframe\">\n  <thead>\n    <tr style=\"text-align: right;\">\n      <th></th>\n      <th>중구 계</th>\n      <th>동구 계</th>\n      <th>서구 계</th>\n      <th>남구 계</th>\n      <th>북구 계</th>\n      <th>수성구 계</th>\n      <th>달서구 계</th>\n      <th>달성군 계</th>\n    </tr>\n  </thead>\n  <tbody>\n    <tr>\n      <th>0</th>\n      <td>511</td>\n      <td>2263</td>\n      <td>719</td>\n      <td>586</td>\n      <td>2766</td>\n      <td>1784</td>\n      <td>3215</td>\n      <td>2724</td>\n    </tr>\n    <tr>\n      <th>1</th>\n      <td>609</td>\n      <td>2755</td>\n      <td>887</td>\n      <td>718</td>\n      <td>3361</td>\n      <td>2264</td>\n      <td>3818</td>\n      <td>3063</td>\n    </tr>\n    <tr>\n      <th>2</th>\n      <td>612</td>\n      <td>3000</td>\n      <td>1010</td>\n      <td>776</td>\n      <td>3730</td>\n      <td>2684</td>\n      <td>4423</td>\n      <td>3327</td>\n    </tr>\n    <tr>\n      <th>3</th>\n      <td>648</td>\n      <td>3146</td>\n      <td>949</td>\n      <td>758</td>\n      <td>3832</td>\n      <td>2876</td>\n      <td>4661</td>\n      <td>3253</td>\n    </tr>\n    <tr>\n      <th>4</th>\n      <td>556</td>\n      <td>2971</td>\n      <td>1014</td>\n      <td>820</td>\n      <td>3779</td>\n      <td>3089</td>\n      <td>4529</td>\n      <td>3036</td>\n    </tr>\n    <tr>\n      <th>...</th>\n      <td>...</td>\n      <td>...</td>\n      <td>...</td>\n      <td>...</td>\n      <td>...</td>\n      <td>...</td>\n      <td>...</td>\n      <td>...</td>\n    </tr>\n    <tr>\n      <th>96</th>\n      <td>23</td>\n      <td>66</td>\n      <td>30</td>\n      <td>29</td>\n      <td>49</td>\n      <td>73</td>\n      <td>64</td>\n      <td>31</td>\n    </tr>\n    <tr>\n      <th>97</th>\n      <td>18</td>\n      <td>35</td>\n      <td>18</td>\n      <td>24</td>\n      <td>42</td>\n      <td>43</td>\n      <td>39</td>\n      <td>16</td>\n    </tr>\n    <tr>\n      <th>98</th>\n      <td>16</td>\n      <td>33</td>\n      <td>15</td>\n      <td>23</td>\n      <td>34</td>\n      <td>29</td>\n      <td>25</td>\n      <td>15</td>\n    </tr>\n    <tr>\n      <th>99</th>\n      <td>6</td>\n      <td>25</td>\n      <td>10</td>\n      <td>11</td>\n      <td>16</td>\n      <td>17</td>\n      <td>19</td>\n      <td>8</td>\n    </tr>\n    <tr>\n      <th>100</th>\n      <td>88</td>\n      <td>106</td>\n      <td>89</td>\n      <td>72</td>\n      <td>68</td>\n      <td>97</td>\n      <td>68</td>\n      <td>26</td>\n    </tr>\n  </tbody>\n</table>\n<p>101 rows × 8 columns</p>\n</div>"
     },
     "metadata": {},
     "execution_count": 535
    }
   ],
   "source": [
    "df1 = df1.drop(drop_list1, axis=1)\n",
    "df1"
   ]
  },
  {
   "cell_type": "code",
   "execution_count": 536,
   "metadata": {},
   "outputs": [],
   "source": [
    "drop_list2 = []\n",
    "check_list2 = ['총계', '구분', ' 남', ' 여'] # 남구 삭제 방지를 위해 '남' 앞에 공백 추가 \n",
    "for chk in check_list2:\n",
    "    for item in df2.columns :\n",
    "        if  chk in item:\n",
    "            drop_list2.append(item)\n",
    "drop_list2 = list(set(drop_list2))"
   ]
  },
  {
   "cell_type": "code",
   "execution_count": 537,
   "metadata": {},
   "outputs": [
    {
     "output_type": "execute_result",
     "data": {
      "text/plain": "     중구 계  동구 계  서구 계  남구 계  북구 계  수성구 계  달서구 계  달성군 계\n0     521  2173   650   587  2688   1685   2954   2735\n1     548  2569   784   628  3085   2097   3627   2968\n2     656  2875   960   720  3637   2484   4160   3282\n3     639  3055   965   779  3827   2858   4623   3264\n4     594  3055   937   759  3790   3106   4571   3208\n..    ...   ...   ...   ...   ...    ...    ...    ...\n96     21    62    22    41    64     64     64     31\n97     17    45    25    27    33     54     52     20\n98     18    31    13    25    41     25     17      8\n99      8    27    10    11    19     24     19     12\n100    85   110    95    76    71     90     76     25\n\n[101 rows x 8 columns]",
      "text/html": "<div>\n<style scoped>\n    .dataframe tbody tr th:only-of-type {\n        vertical-align: middle;\n    }\n\n    .dataframe tbody tr th {\n        vertical-align: top;\n    }\n\n    .dataframe thead th {\n        text-align: right;\n    }\n</style>\n<table border=\"1\" class=\"dataframe\">\n  <thead>\n    <tr style=\"text-align: right;\">\n      <th></th>\n      <th>중구 계</th>\n      <th>동구 계</th>\n      <th>서구 계</th>\n      <th>남구 계</th>\n      <th>북구 계</th>\n      <th>수성구 계</th>\n      <th>달서구 계</th>\n      <th>달성군 계</th>\n    </tr>\n  </thead>\n  <tbody>\n    <tr>\n      <th>0</th>\n      <td>521</td>\n      <td>2173</td>\n      <td>650</td>\n      <td>587</td>\n      <td>2688</td>\n      <td>1685</td>\n      <td>2954</td>\n      <td>2735</td>\n    </tr>\n    <tr>\n      <th>1</th>\n      <td>548</td>\n      <td>2569</td>\n      <td>784</td>\n      <td>628</td>\n      <td>3085</td>\n      <td>2097</td>\n      <td>3627</td>\n      <td>2968</td>\n    </tr>\n    <tr>\n      <th>2</th>\n      <td>656</td>\n      <td>2875</td>\n      <td>960</td>\n      <td>720</td>\n      <td>3637</td>\n      <td>2484</td>\n      <td>4160</td>\n      <td>3282</td>\n    </tr>\n    <tr>\n      <th>3</th>\n      <td>639</td>\n      <td>3055</td>\n      <td>965</td>\n      <td>779</td>\n      <td>3827</td>\n      <td>2858</td>\n      <td>4623</td>\n      <td>3264</td>\n    </tr>\n    <tr>\n      <th>4</th>\n      <td>594</td>\n      <td>3055</td>\n      <td>937</td>\n      <td>759</td>\n      <td>3790</td>\n      <td>3106</td>\n      <td>4571</td>\n      <td>3208</td>\n    </tr>\n    <tr>\n      <th>...</th>\n      <td>...</td>\n      <td>...</td>\n      <td>...</td>\n      <td>...</td>\n      <td>...</td>\n      <td>...</td>\n      <td>...</td>\n      <td>...</td>\n    </tr>\n    <tr>\n      <th>96</th>\n      <td>21</td>\n      <td>62</td>\n      <td>22</td>\n      <td>41</td>\n      <td>64</td>\n      <td>64</td>\n      <td>64</td>\n      <td>31</td>\n    </tr>\n    <tr>\n      <th>97</th>\n      <td>17</td>\n      <td>45</td>\n      <td>25</td>\n      <td>27</td>\n      <td>33</td>\n      <td>54</td>\n      <td>52</td>\n      <td>20</td>\n    </tr>\n    <tr>\n      <th>98</th>\n      <td>18</td>\n      <td>31</td>\n      <td>13</td>\n      <td>25</td>\n      <td>41</td>\n      <td>25</td>\n      <td>17</td>\n      <td>8</td>\n    </tr>\n    <tr>\n      <th>99</th>\n      <td>8</td>\n      <td>27</td>\n      <td>10</td>\n      <td>11</td>\n      <td>19</td>\n      <td>24</td>\n      <td>19</td>\n      <td>12</td>\n    </tr>\n    <tr>\n      <th>100</th>\n      <td>85</td>\n      <td>110</td>\n      <td>95</td>\n      <td>76</td>\n      <td>71</td>\n      <td>90</td>\n      <td>76</td>\n      <td>25</td>\n    </tr>\n  </tbody>\n</table>\n<p>101 rows × 8 columns</p>\n</div>"
     },
     "metadata": {},
     "execution_count": 537
    }
   ],
   "source": [
    "df2 = df2.drop(drop_list2, axis=1)\n",
    "df2"
   ]
  },
  {
   "cell_type": "code",
   "execution_count": 538,
   "metadata": {},
   "outputs": [],
   "source": [
    "drop_list3 = []\n",
    "op_list3 = []\n",
    "check_list3 = ['총계', '행정구역', ' 남', ' 여'] # 남구 삭제 방지를 위해 '남' 앞에 공백 추가 \n",
    "for chk in check_list3:\n",
    "    for item in df3.columns :\n",
    "        if  chk in item:\n",
    "            drop_list3.append(item)\n",
    "drop_list3 = list(set(drop_list3))"
   ]
  },
  {
   "cell_type": "code",
   "execution_count": 539,
   "metadata": {},
   "outputs": [
    {
     "output_type": "execute_result",
     "data": {
      "text/plain": "     중구 계  동구 계  서구 계  남구 계  북구 계  수성구 계  달서구 계  달성군 계\n0     456  2019   559   532  2523   1565   2771   2660\n1     524  2401   688   598  2954   1964   3370   2885\n2     588  2718   852   675  3386   2387   3836   3138\n3     625  2947   947   742  3717   2839   4480   3362\n4     628  3103   885   722  3853   3069   4710   3260\n..    ...   ...   ...   ...   ...    ...    ...    ...\n96     28    56    32    52    76     67     77     36\n97     19    64    22    26    41     54     46     20\n98     16    29    16    23    34     32     30     11\n99     16    27    12    21    26     25     17      8\n100    87   115    93    77    76     95     79     28\n\n[101 rows x 8 columns]",
      "text/html": "<div>\n<style scoped>\n    .dataframe tbody tr th:only-of-type {\n        vertical-align: middle;\n    }\n\n    .dataframe tbody tr th {\n        vertical-align: top;\n    }\n\n    .dataframe thead th {\n        text-align: right;\n    }\n</style>\n<table border=\"1\" class=\"dataframe\">\n  <thead>\n    <tr style=\"text-align: right;\">\n      <th></th>\n      <th>중구 계</th>\n      <th>동구 계</th>\n      <th>서구 계</th>\n      <th>남구 계</th>\n      <th>북구 계</th>\n      <th>수성구 계</th>\n      <th>달서구 계</th>\n      <th>달성군 계</th>\n    </tr>\n  </thead>\n  <tbody>\n    <tr>\n      <th>0</th>\n      <td>456</td>\n      <td>2019</td>\n      <td>559</td>\n      <td>532</td>\n      <td>2523</td>\n      <td>1565</td>\n      <td>2771</td>\n      <td>2660</td>\n    </tr>\n    <tr>\n      <th>1</th>\n      <td>524</td>\n      <td>2401</td>\n      <td>688</td>\n      <td>598</td>\n      <td>2954</td>\n      <td>1964</td>\n      <td>3370</td>\n      <td>2885</td>\n    </tr>\n    <tr>\n      <th>2</th>\n      <td>588</td>\n      <td>2718</td>\n      <td>852</td>\n      <td>675</td>\n      <td>3386</td>\n      <td>2387</td>\n      <td>3836</td>\n      <td>3138</td>\n    </tr>\n    <tr>\n      <th>3</th>\n      <td>625</td>\n      <td>2947</td>\n      <td>947</td>\n      <td>742</td>\n      <td>3717</td>\n      <td>2839</td>\n      <td>4480</td>\n      <td>3362</td>\n    </tr>\n    <tr>\n      <th>4</th>\n      <td>628</td>\n      <td>3103</td>\n      <td>885</td>\n      <td>722</td>\n      <td>3853</td>\n      <td>3069</td>\n      <td>4710</td>\n      <td>3260</td>\n    </tr>\n    <tr>\n      <th>...</th>\n      <td>...</td>\n      <td>...</td>\n      <td>...</td>\n      <td>...</td>\n      <td>...</td>\n      <td>...</td>\n      <td>...</td>\n      <td>...</td>\n    </tr>\n    <tr>\n      <th>96</th>\n      <td>28</td>\n      <td>56</td>\n      <td>32</td>\n      <td>52</td>\n      <td>76</td>\n      <td>67</td>\n      <td>77</td>\n      <td>36</td>\n    </tr>\n    <tr>\n      <th>97</th>\n      <td>19</td>\n      <td>64</td>\n      <td>22</td>\n      <td>26</td>\n      <td>41</td>\n      <td>54</td>\n      <td>46</td>\n      <td>20</td>\n    </tr>\n    <tr>\n      <th>98</th>\n      <td>16</td>\n      <td>29</td>\n      <td>16</td>\n      <td>23</td>\n      <td>34</td>\n      <td>32</td>\n      <td>30</td>\n      <td>11</td>\n    </tr>\n    <tr>\n      <th>99</th>\n      <td>16</td>\n      <td>27</td>\n      <td>12</td>\n      <td>21</td>\n      <td>26</td>\n      <td>25</td>\n      <td>17</td>\n      <td>8</td>\n    </tr>\n    <tr>\n      <th>100</th>\n      <td>87</td>\n      <td>115</td>\n      <td>93</td>\n      <td>77</td>\n      <td>76</td>\n      <td>95</td>\n      <td>79</td>\n      <td>28</td>\n    </tr>\n  </tbody>\n</table>\n<p>101 rows × 8 columns</p>\n</div>"
     },
     "metadata": {},
     "execution_count": 539
    }
   ],
   "source": [
    "df3 = df3.drop(drop_list3, axis=1)\n",
    "df3"
   ]
  },
  {
   "cell_type": "code",
   "execution_count": 540,
   "metadata": {},
   "outputs": [
    {
     "output_type": "execute_result",
     "data": {
      "text/plain": "     중구 계   동구 계   서구 계   남구 계   북구 계  수성구 계   달서구 계  달성군 계\n인구                                                         \n0    5674  29075   9719   7797  37401  32508   46276  29751\n10   5549  29903  14006  11162  48985  57880   63987  23382\n20  11300  43608  25542  20608  61021  58097   82987  29853\n30  11396  48971  21529  18912  57670  46528   72962  43404\n40  11358  54564  27671  22502  77961  79395   98641  40726\n50  12107  59064  38473  26615  75014  74095  104487  38816\n60  10243  46790  29106  22642  45549  46530   61842  23984\n70  10903  39917  22659  21652  36541  40435   43938  17954",
      "text/html": "<div>\n<style scoped>\n    .dataframe tbody tr th:only-of-type {\n        vertical-align: middle;\n    }\n\n    .dataframe tbody tr th {\n        vertical-align: top;\n    }\n\n    .dataframe thead th {\n        text-align: right;\n    }\n</style>\n<table border=\"1\" class=\"dataframe\">\n  <thead>\n    <tr style=\"text-align: right;\">\n      <th></th>\n      <th>중구 계</th>\n      <th>동구 계</th>\n      <th>서구 계</th>\n      <th>남구 계</th>\n      <th>북구 계</th>\n      <th>수성구 계</th>\n      <th>달서구 계</th>\n      <th>달성군 계</th>\n    </tr>\n    <tr>\n      <th>인구</th>\n      <th></th>\n      <th></th>\n      <th></th>\n      <th></th>\n      <th></th>\n      <th></th>\n      <th></th>\n      <th></th>\n    </tr>\n  </thead>\n  <tbody>\n    <tr>\n      <th>0</th>\n      <td>5674</td>\n      <td>29075</td>\n      <td>9719</td>\n      <td>7797</td>\n      <td>37401</td>\n      <td>32508</td>\n      <td>46276</td>\n      <td>29751</td>\n    </tr>\n    <tr>\n      <th>10</th>\n      <td>5549</td>\n      <td>29903</td>\n      <td>14006</td>\n      <td>11162</td>\n      <td>48985</td>\n      <td>57880</td>\n      <td>63987</td>\n      <td>23382</td>\n    </tr>\n    <tr>\n      <th>20</th>\n      <td>11300</td>\n      <td>43608</td>\n      <td>25542</td>\n      <td>20608</td>\n      <td>61021</td>\n      <td>58097</td>\n      <td>82987</td>\n      <td>29853</td>\n    </tr>\n    <tr>\n      <th>30</th>\n      <td>11396</td>\n      <td>48971</td>\n      <td>21529</td>\n      <td>18912</td>\n      <td>57670</td>\n      <td>46528</td>\n      <td>72962</td>\n      <td>43404</td>\n    </tr>\n    <tr>\n      <th>40</th>\n      <td>11358</td>\n      <td>54564</td>\n      <td>27671</td>\n      <td>22502</td>\n      <td>77961</td>\n      <td>79395</td>\n      <td>98641</td>\n      <td>40726</td>\n    </tr>\n    <tr>\n      <th>50</th>\n      <td>12107</td>\n      <td>59064</td>\n      <td>38473</td>\n      <td>26615</td>\n      <td>75014</td>\n      <td>74095</td>\n      <td>104487</td>\n      <td>38816</td>\n    </tr>\n    <tr>\n      <th>60</th>\n      <td>10243</td>\n      <td>46790</td>\n      <td>29106</td>\n      <td>22642</td>\n      <td>45549</td>\n      <td>46530</td>\n      <td>61842</td>\n      <td>23984</td>\n    </tr>\n    <tr>\n      <th>70</th>\n      <td>10903</td>\n      <td>39917</td>\n      <td>22659</td>\n      <td>21652</td>\n      <td>36541</td>\n      <td>40435</td>\n      <td>43938</td>\n      <td>17954</td>\n    </tr>\n  </tbody>\n</table>\n</div>"
     },
     "metadata": {},
     "execution_count": 540
    }
   ],
   "source": [
    "df1['인구0'] = (pd.DataFrame(range(0,101))/10).astype(int)*10\n",
    "df1 = df1.groupby('인구0').sum()\n",
    "df1['인구'] = df1.index\n",
    "df1['인구'] = np.where(df1['인구'] >= 70, 70, df1.인구)\n",
    "df1 = df1.groupby('인구').sum()\n",
    "df1"
   ]
  },
  {
   "cell_type": "code",
   "execution_count": 541,
   "metadata": {},
   "outputs": [
    {
     "output_type": "execute_result",
     "data": {
      "text/plain": "     중구 계   동구 계   서구 계   남구 계   북구 계  수성구 계   달서구 계  달성군 계\n인구                                                         \n0    5744  28571   9287   7520  36774  31851   45262  29944\n10   5583  29313  13294  10849  48006  56785   62415  23427\n20  11670  43532  24698  20423  60735  57599   82364  29824\n30  11653  48399  20686  18483  57192  45823   72346  43396\n40  11368  53666  26316  21908  76298  77586   96358  40770\n50  12107  59146  37819  26357  75980  74581  105563  39590\n60  10215  47617  29113  22849  46874  47295   63772  25015\n70  11061  41047  23159  22112  37630  41239   45333  18577",
      "text/html": "<div>\n<style scoped>\n    .dataframe tbody tr th:only-of-type {\n        vertical-align: middle;\n    }\n\n    .dataframe tbody tr th {\n        vertical-align: top;\n    }\n\n    .dataframe thead th {\n        text-align: right;\n    }\n</style>\n<table border=\"1\" class=\"dataframe\">\n  <thead>\n    <tr style=\"text-align: right;\">\n      <th></th>\n      <th>중구 계</th>\n      <th>동구 계</th>\n      <th>서구 계</th>\n      <th>남구 계</th>\n      <th>북구 계</th>\n      <th>수성구 계</th>\n      <th>달서구 계</th>\n      <th>달성군 계</th>\n    </tr>\n    <tr>\n      <th>인구</th>\n      <th></th>\n      <th></th>\n      <th></th>\n      <th></th>\n      <th></th>\n      <th></th>\n      <th></th>\n      <th></th>\n    </tr>\n  </thead>\n  <tbody>\n    <tr>\n      <th>0</th>\n      <td>5744</td>\n      <td>28571</td>\n      <td>9287</td>\n      <td>7520</td>\n      <td>36774</td>\n      <td>31851</td>\n      <td>45262</td>\n      <td>29944</td>\n    </tr>\n    <tr>\n      <th>10</th>\n      <td>5583</td>\n      <td>29313</td>\n      <td>13294</td>\n      <td>10849</td>\n      <td>48006</td>\n      <td>56785</td>\n      <td>62415</td>\n      <td>23427</td>\n    </tr>\n    <tr>\n      <th>20</th>\n      <td>11670</td>\n      <td>43532</td>\n      <td>24698</td>\n      <td>20423</td>\n      <td>60735</td>\n      <td>57599</td>\n      <td>82364</td>\n      <td>29824</td>\n    </tr>\n    <tr>\n      <th>30</th>\n      <td>11653</td>\n      <td>48399</td>\n      <td>20686</td>\n      <td>18483</td>\n      <td>57192</td>\n      <td>45823</td>\n      <td>72346</td>\n      <td>43396</td>\n    </tr>\n    <tr>\n      <th>40</th>\n      <td>11368</td>\n      <td>53666</td>\n      <td>26316</td>\n      <td>21908</td>\n      <td>76298</td>\n      <td>77586</td>\n      <td>96358</td>\n      <td>40770</td>\n    </tr>\n    <tr>\n      <th>50</th>\n      <td>12107</td>\n      <td>59146</td>\n      <td>37819</td>\n      <td>26357</td>\n      <td>75980</td>\n      <td>74581</td>\n      <td>105563</td>\n      <td>39590</td>\n    </tr>\n    <tr>\n      <th>60</th>\n      <td>10215</td>\n      <td>47617</td>\n      <td>29113</td>\n      <td>22849</td>\n      <td>46874</td>\n      <td>47295</td>\n      <td>63772</td>\n      <td>25015</td>\n    </tr>\n    <tr>\n      <th>70</th>\n      <td>11061</td>\n      <td>41047</td>\n      <td>23159</td>\n      <td>22112</td>\n      <td>37630</td>\n      <td>41239</td>\n      <td>45333</td>\n      <td>18577</td>\n    </tr>\n  </tbody>\n</table>\n</div>"
     },
     "metadata": {},
     "execution_count": 541
    }
   ],
   "source": [
    "df2['인구0'] = (pd.DataFrame(range(0,101))/10).astype(int)*10\n",
    "df2 = df2.groupby('인구0').sum()\n",
    "df2['인구'] = df2.index\n",
    "df2['인구'] = np.where(df2['인구'] >= 70, 70, df2.인구)\n",
    "df2 = df2.groupby('인구').sum()\n",
    "df2"
   ]
  },
  {
   "cell_type": "code",
   "execution_count": 542,
   "metadata": {},
   "outputs": [
    {
     "output_type": "execute_result",
     "data": {
      "text/plain": "     중구 계   동구 계   서구 계   남구 계   북구 계  수성구 계   달서구 계  달성군 계\n인구                                                         \n0    5572  27937   8765   7221  36116  31376   44236  30293\n10   5370  28629  12665  10462  46834  55090   60556  23621\n20  11620  42833  23711  20327  60691  56987   81862  29765\n30  11311  47415  19635  17871  56384  45226   71171  43412\n40  11108  52960  25199  21400  75095  76047   94565  41490\n50  11798  58640  36882  26010  76729  74962  105716  40356\n60  10069  48272  29378  22886  48297  48484   66056  26081\n70  11087  42139  23685  22505  38947  42309   47141  19221",
      "text/html": "<div>\n<style scoped>\n    .dataframe tbody tr th:only-of-type {\n        vertical-align: middle;\n    }\n\n    .dataframe tbody tr th {\n        vertical-align: top;\n    }\n\n    .dataframe thead th {\n        text-align: right;\n    }\n</style>\n<table border=\"1\" class=\"dataframe\">\n  <thead>\n    <tr style=\"text-align: right;\">\n      <th></th>\n      <th>중구 계</th>\n      <th>동구 계</th>\n      <th>서구 계</th>\n      <th>남구 계</th>\n      <th>북구 계</th>\n      <th>수성구 계</th>\n      <th>달서구 계</th>\n      <th>달성군 계</th>\n    </tr>\n    <tr>\n      <th>인구</th>\n      <th></th>\n      <th></th>\n      <th></th>\n      <th></th>\n      <th></th>\n      <th></th>\n      <th></th>\n      <th></th>\n    </tr>\n  </thead>\n  <tbody>\n    <tr>\n      <th>0</th>\n      <td>5572</td>\n      <td>27937</td>\n      <td>8765</td>\n      <td>7221</td>\n      <td>36116</td>\n      <td>31376</td>\n      <td>44236</td>\n      <td>30293</td>\n    </tr>\n    <tr>\n      <th>10</th>\n      <td>5370</td>\n      <td>28629</td>\n      <td>12665</td>\n      <td>10462</td>\n      <td>46834</td>\n      <td>55090</td>\n      <td>60556</td>\n      <td>23621</td>\n    </tr>\n    <tr>\n      <th>20</th>\n      <td>11620</td>\n      <td>42833</td>\n      <td>23711</td>\n      <td>20327</td>\n      <td>60691</td>\n      <td>56987</td>\n      <td>81862</td>\n      <td>29765</td>\n    </tr>\n    <tr>\n      <th>30</th>\n      <td>11311</td>\n      <td>47415</td>\n      <td>19635</td>\n      <td>17871</td>\n      <td>56384</td>\n      <td>45226</td>\n      <td>71171</td>\n      <td>43412</td>\n    </tr>\n    <tr>\n      <th>40</th>\n      <td>11108</td>\n      <td>52960</td>\n      <td>25199</td>\n      <td>21400</td>\n      <td>75095</td>\n      <td>76047</td>\n      <td>94565</td>\n      <td>41490</td>\n    </tr>\n    <tr>\n      <th>50</th>\n      <td>11798</td>\n      <td>58640</td>\n      <td>36882</td>\n      <td>26010</td>\n      <td>76729</td>\n      <td>74962</td>\n      <td>105716</td>\n      <td>40356</td>\n    </tr>\n    <tr>\n      <th>60</th>\n      <td>10069</td>\n      <td>48272</td>\n      <td>29378</td>\n      <td>22886</td>\n      <td>48297</td>\n      <td>48484</td>\n      <td>66056</td>\n      <td>26081</td>\n    </tr>\n    <tr>\n      <th>70</th>\n      <td>11087</td>\n      <td>42139</td>\n      <td>23685</td>\n      <td>22505</td>\n      <td>38947</td>\n      <td>42309</td>\n      <td>47141</td>\n      <td>19221</td>\n    </tr>\n  </tbody>\n</table>\n</div>"
     },
     "metadata": {},
     "execution_count": 542
    }
   ],
   "source": [
    "df3['인구0'] = (pd.DataFrame(range(0,101))/10).astype(int)*10\n",
    "df3 = df3.groupby('인구0').sum()\n",
    "df3['인구'] = df3.index\n",
    "df3['인구'] = np.where(df3['인구'] >= 70, 70, df3.인구)\n",
    "df3 = df3.groupby('인구').sum()\n",
    "df3"
   ]
  },
  {
   "cell_type": "code",
   "execution_count": 543,
   "metadata": {},
   "outputs": [
    {
     "output_type": "execute_result",
     "data": {
      "text/plain": "인구         0     10     20     30     40      50     60     70      총합\n중구 계    5674   5549  11300  11396  11358   12107  10243  10903   78530\n동구 계   29075  29903  43608  48971  54564   59064  46790  39917  351892\n서구 계    9719  14006  25542  21529  27671   38473  29106  22659  188705\n남구 계    7797  11162  20608  18912  22502   26615  22642  21652  151890\n북구 계   37401  48985  61021  57670  77961   75014  45549  36541  440142\n수성구 계  32508  57880  58097  46528  79395   74095  46530  40435  435468\n달서구 계  46276  63987  82987  72962  98641  104487  61842  43938  575120\n달성군 계  29751  23382  29853  43404  40726   38816  23984  17954  247870",
      "text/html": "<div>\n<style scoped>\n    .dataframe tbody tr th:only-of-type {\n        vertical-align: middle;\n    }\n\n    .dataframe tbody tr th {\n        vertical-align: top;\n    }\n\n    .dataframe thead th {\n        text-align: right;\n    }\n</style>\n<table border=\"1\" class=\"dataframe\">\n  <thead>\n    <tr style=\"text-align: right;\">\n      <th>인구</th>\n      <th>0</th>\n      <th>10</th>\n      <th>20</th>\n      <th>30</th>\n      <th>40</th>\n      <th>50</th>\n      <th>60</th>\n      <th>70</th>\n      <th>총합</th>\n    </tr>\n  </thead>\n  <tbody>\n    <tr>\n      <th>중구 계</th>\n      <td>5674</td>\n      <td>5549</td>\n      <td>11300</td>\n      <td>11396</td>\n      <td>11358</td>\n      <td>12107</td>\n      <td>10243</td>\n      <td>10903</td>\n      <td>78530</td>\n    </tr>\n    <tr>\n      <th>동구 계</th>\n      <td>29075</td>\n      <td>29903</td>\n      <td>43608</td>\n      <td>48971</td>\n      <td>54564</td>\n      <td>59064</td>\n      <td>46790</td>\n      <td>39917</td>\n      <td>351892</td>\n    </tr>\n    <tr>\n      <th>서구 계</th>\n      <td>9719</td>\n      <td>14006</td>\n      <td>25542</td>\n      <td>21529</td>\n      <td>27671</td>\n      <td>38473</td>\n      <td>29106</td>\n      <td>22659</td>\n      <td>188705</td>\n    </tr>\n    <tr>\n      <th>남구 계</th>\n      <td>7797</td>\n      <td>11162</td>\n      <td>20608</td>\n      <td>18912</td>\n      <td>22502</td>\n      <td>26615</td>\n      <td>22642</td>\n      <td>21652</td>\n      <td>151890</td>\n    </tr>\n    <tr>\n      <th>북구 계</th>\n      <td>37401</td>\n      <td>48985</td>\n      <td>61021</td>\n      <td>57670</td>\n      <td>77961</td>\n      <td>75014</td>\n      <td>45549</td>\n      <td>36541</td>\n      <td>440142</td>\n    </tr>\n    <tr>\n      <th>수성구 계</th>\n      <td>32508</td>\n      <td>57880</td>\n      <td>58097</td>\n      <td>46528</td>\n      <td>79395</td>\n      <td>74095</td>\n      <td>46530</td>\n      <td>40435</td>\n      <td>435468</td>\n    </tr>\n    <tr>\n      <th>달서구 계</th>\n      <td>46276</td>\n      <td>63987</td>\n      <td>82987</td>\n      <td>72962</td>\n      <td>98641</td>\n      <td>104487</td>\n      <td>61842</td>\n      <td>43938</td>\n      <td>575120</td>\n    </tr>\n    <tr>\n      <th>달성군 계</th>\n      <td>29751</td>\n      <td>23382</td>\n      <td>29853</td>\n      <td>43404</td>\n      <td>40726</td>\n      <td>38816</td>\n      <td>23984</td>\n      <td>17954</td>\n      <td>247870</td>\n    </tr>\n  </tbody>\n</table>\n</div>"
     },
     "metadata": {},
     "execution_count": 543
    }
   ],
   "source": [
    "df1 = df1.T\n",
    "df1['총합'] = df1.sum(axis='columns').astype(int)\n",
    "df1"
   ]
  },
  {
   "cell_type": "code",
   "execution_count": 544,
   "metadata": {},
   "outputs": [
    {
     "output_type": "execute_result",
     "data": {
      "text/plain": "인구         0     10     20     30     40      50     60     70      총합\n중구 계    5744   5583  11670  11653  11368   12107  10215  11061   79401\n동구 계   28571  29313  43532  48399  53666   59146  47617  41047  351291\n서구 계    9287  13294  24698  20686  26316   37819  29113  23159  184372\n남구 계    7520  10849  20423  18483  21908   26357  22849  22112  150501\n북구 계   36774  48006  60735  57192  76298   75980  46874  37630  439489\n수성구 계  31851  56785  57599  45823  77586   74581  47295  41239  432759\n달서구 계  45262  62415  82364  72346  96358  105563  63772  45333  573413\n달성군 계  29944  23427  29824  43396  40770   39590  25015  18577  250543",
      "text/html": "<div>\n<style scoped>\n    .dataframe tbody tr th:only-of-type {\n        vertical-align: middle;\n    }\n\n    .dataframe tbody tr th {\n        vertical-align: top;\n    }\n\n    .dataframe thead th {\n        text-align: right;\n    }\n</style>\n<table border=\"1\" class=\"dataframe\">\n  <thead>\n    <tr style=\"text-align: right;\">\n      <th>인구</th>\n      <th>0</th>\n      <th>10</th>\n      <th>20</th>\n      <th>30</th>\n      <th>40</th>\n      <th>50</th>\n      <th>60</th>\n      <th>70</th>\n      <th>총합</th>\n    </tr>\n  </thead>\n  <tbody>\n    <tr>\n      <th>중구 계</th>\n      <td>5744</td>\n      <td>5583</td>\n      <td>11670</td>\n      <td>11653</td>\n      <td>11368</td>\n      <td>12107</td>\n      <td>10215</td>\n      <td>11061</td>\n      <td>79401</td>\n    </tr>\n    <tr>\n      <th>동구 계</th>\n      <td>28571</td>\n      <td>29313</td>\n      <td>43532</td>\n      <td>48399</td>\n      <td>53666</td>\n      <td>59146</td>\n      <td>47617</td>\n      <td>41047</td>\n      <td>351291</td>\n    </tr>\n    <tr>\n      <th>서구 계</th>\n      <td>9287</td>\n      <td>13294</td>\n      <td>24698</td>\n      <td>20686</td>\n      <td>26316</td>\n      <td>37819</td>\n      <td>29113</td>\n      <td>23159</td>\n      <td>184372</td>\n    </tr>\n    <tr>\n      <th>남구 계</th>\n      <td>7520</td>\n      <td>10849</td>\n      <td>20423</td>\n      <td>18483</td>\n      <td>21908</td>\n      <td>26357</td>\n      <td>22849</td>\n      <td>22112</td>\n      <td>150501</td>\n    </tr>\n    <tr>\n      <th>북구 계</th>\n      <td>36774</td>\n      <td>48006</td>\n      <td>60735</td>\n      <td>57192</td>\n      <td>76298</td>\n      <td>75980</td>\n      <td>46874</td>\n      <td>37630</td>\n      <td>439489</td>\n    </tr>\n    <tr>\n      <th>수성구 계</th>\n      <td>31851</td>\n      <td>56785</td>\n      <td>57599</td>\n      <td>45823</td>\n      <td>77586</td>\n      <td>74581</td>\n      <td>47295</td>\n      <td>41239</td>\n      <td>432759</td>\n    </tr>\n    <tr>\n      <th>달서구 계</th>\n      <td>45262</td>\n      <td>62415</td>\n      <td>82364</td>\n      <td>72346</td>\n      <td>96358</td>\n      <td>105563</td>\n      <td>63772</td>\n      <td>45333</td>\n      <td>573413</td>\n    </tr>\n    <tr>\n      <th>달성군 계</th>\n      <td>29944</td>\n      <td>23427</td>\n      <td>29824</td>\n      <td>43396</td>\n      <td>40770</td>\n      <td>39590</td>\n      <td>25015</td>\n      <td>18577</td>\n      <td>250543</td>\n    </tr>\n  </tbody>\n</table>\n</div>"
     },
     "metadata": {},
     "execution_count": 544
    }
   ],
   "source": [
    "df2 = df2.T\n",
    "df2['총합'] = df2.sum(axis='columns').astype(int)\n",
    "df2"
   ]
  },
  {
   "cell_type": "code",
   "execution_count": 545,
   "metadata": {},
   "outputs": [
    {
     "output_type": "execute_result",
     "data": {
      "text/plain": "인구         0     10     20     30     40      50     60     70      총합\n중구 계    5572   5370  11620  11311  11108   11798  10069  11087   77935\n동구 계   27937  28629  42833  47415  52960   58640  48272  42139  348825\n서구 계    8765  12665  23711  19635  25199   36882  29378  23685  179920\n남구 계    7221  10462  20327  17871  21400   26010  22886  22505  148682\n북구 계   36116  46834  60691  56384  75095   76729  48297  38947  439093\n수성구 계  31376  55090  56987  45226  76047   74962  48484  42309  430481\n달서구 계  44236  60556  81862  71171  94565  105716  66056  47141  571303\n달성군 계  30293  23621  29765  43412  41490   40356  26081  19221  254239",
      "text/html": "<div>\n<style scoped>\n    .dataframe tbody tr th:only-of-type {\n        vertical-align: middle;\n    }\n\n    .dataframe tbody tr th {\n        vertical-align: top;\n    }\n\n    .dataframe thead th {\n        text-align: right;\n    }\n</style>\n<table border=\"1\" class=\"dataframe\">\n  <thead>\n    <tr style=\"text-align: right;\">\n      <th>인구</th>\n      <th>0</th>\n      <th>10</th>\n      <th>20</th>\n      <th>30</th>\n      <th>40</th>\n      <th>50</th>\n      <th>60</th>\n      <th>70</th>\n      <th>총합</th>\n    </tr>\n  </thead>\n  <tbody>\n    <tr>\n      <th>중구 계</th>\n      <td>5572</td>\n      <td>5370</td>\n      <td>11620</td>\n      <td>11311</td>\n      <td>11108</td>\n      <td>11798</td>\n      <td>10069</td>\n      <td>11087</td>\n      <td>77935</td>\n    </tr>\n    <tr>\n      <th>동구 계</th>\n      <td>27937</td>\n      <td>28629</td>\n      <td>42833</td>\n      <td>47415</td>\n      <td>52960</td>\n      <td>58640</td>\n      <td>48272</td>\n      <td>42139</td>\n      <td>348825</td>\n    </tr>\n    <tr>\n      <th>서구 계</th>\n      <td>8765</td>\n      <td>12665</td>\n      <td>23711</td>\n      <td>19635</td>\n      <td>25199</td>\n      <td>36882</td>\n      <td>29378</td>\n      <td>23685</td>\n      <td>179920</td>\n    </tr>\n    <tr>\n      <th>남구 계</th>\n      <td>7221</td>\n      <td>10462</td>\n      <td>20327</td>\n      <td>17871</td>\n      <td>21400</td>\n      <td>26010</td>\n      <td>22886</td>\n      <td>22505</td>\n      <td>148682</td>\n    </tr>\n    <tr>\n      <th>북구 계</th>\n      <td>36116</td>\n      <td>46834</td>\n      <td>60691</td>\n      <td>56384</td>\n      <td>75095</td>\n      <td>76729</td>\n      <td>48297</td>\n      <td>38947</td>\n      <td>439093</td>\n    </tr>\n    <tr>\n      <th>수성구 계</th>\n      <td>31376</td>\n      <td>55090</td>\n      <td>56987</td>\n      <td>45226</td>\n      <td>76047</td>\n      <td>74962</td>\n      <td>48484</td>\n      <td>42309</td>\n      <td>430481</td>\n    </tr>\n    <tr>\n      <th>달서구 계</th>\n      <td>44236</td>\n      <td>60556</td>\n      <td>81862</td>\n      <td>71171</td>\n      <td>94565</td>\n      <td>105716</td>\n      <td>66056</td>\n      <td>47141</td>\n      <td>571303</td>\n    </tr>\n    <tr>\n      <th>달성군 계</th>\n      <td>30293</td>\n      <td>23621</td>\n      <td>29765</td>\n      <td>43412</td>\n      <td>41490</td>\n      <td>40356</td>\n      <td>26081</td>\n      <td>19221</td>\n      <td>254239</td>\n    </tr>\n  </tbody>\n</table>\n</div>"
     },
     "metadata": {},
     "execution_count": 545
    }
   ],
   "source": [
    "df3 = df3.T\n",
    "df3['총합'] = df3.sum(axis='columns').astype(int)\n",
    "df3"
   ]
  },
  {
   "cell_type": "code",
   "execution_count": 546,
   "metadata": {},
   "outputs": [
    {
     "output_type": "execute_result",
     "data": {
      "text/plain": "인구         0     10     20     30     40      50     60     70      총합   인구증가\n중구 계    5572   5370  11620  11311  11108   11798  10069  11087   77935  False\n동구 계   27937  28629  42833  47415  52960   58640  48272  42139  348825  False\n서구 계    8765  12665  23711  19635  25199   36882  29378  23685  179920  False\n남구 계    7221  10462  20327  17871  21400   26010  22886  22505  148682  False\n북구 계   36116  46834  60691  56384  75095   76729  48297  38947  439093  False\n수성구 계  31376  55090  56987  45226  76047   74962  48484  42309  430481  False\n달서구 계  44236  60556  81862  71171  94565  105716  66056  47141  571303  False\n달성군 계  30293  23621  29765  43412  41490   40356  26081  19221  254239   True",
      "text/html": "<div>\n<style scoped>\n    .dataframe tbody tr th:only-of-type {\n        vertical-align: middle;\n    }\n\n    .dataframe tbody tr th {\n        vertical-align: top;\n    }\n\n    .dataframe thead th {\n        text-align: right;\n    }\n</style>\n<table border=\"1\" class=\"dataframe\">\n  <thead>\n    <tr style=\"text-align: right;\">\n      <th>인구</th>\n      <th>0</th>\n      <th>10</th>\n      <th>20</th>\n      <th>30</th>\n      <th>40</th>\n      <th>50</th>\n      <th>60</th>\n      <th>70</th>\n      <th>총합</th>\n      <th>인구증가</th>\n    </tr>\n  </thead>\n  <tbody>\n    <tr>\n      <th>중구 계</th>\n      <td>5572</td>\n      <td>5370</td>\n      <td>11620</td>\n      <td>11311</td>\n      <td>11108</td>\n      <td>11798</td>\n      <td>10069</td>\n      <td>11087</td>\n      <td>77935</td>\n      <td>False</td>\n    </tr>\n    <tr>\n      <th>동구 계</th>\n      <td>27937</td>\n      <td>28629</td>\n      <td>42833</td>\n      <td>47415</td>\n      <td>52960</td>\n      <td>58640</td>\n      <td>48272</td>\n      <td>42139</td>\n      <td>348825</td>\n      <td>False</td>\n    </tr>\n    <tr>\n      <th>서구 계</th>\n      <td>8765</td>\n      <td>12665</td>\n      <td>23711</td>\n      <td>19635</td>\n      <td>25199</td>\n      <td>36882</td>\n      <td>29378</td>\n      <td>23685</td>\n      <td>179920</td>\n      <td>False</td>\n    </tr>\n    <tr>\n      <th>남구 계</th>\n      <td>7221</td>\n      <td>10462</td>\n      <td>20327</td>\n      <td>17871</td>\n      <td>21400</td>\n      <td>26010</td>\n      <td>22886</td>\n      <td>22505</td>\n      <td>148682</td>\n      <td>False</td>\n    </tr>\n    <tr>\n      <th>북구 계</th>\n      <td>36116</td>\n      <td>46834</td>\n      <td>60691</td>\n      <td>56384</td>\n      <td>75095</td>\n      <td>76729</td>\n      <td>48297</td>\n      <td>38947</td>\n      <td>439093</td>\n      <td>False</td>\n    </tr>\n    <tr>\n      <th>수성구 계</th>\n      <td>31376</td>\n      <td>55090</td>\n      <td>56987</td>\n      <td>45226</td>\n      <td>76047</td>\n      <td>74962</td>\n      <td>48484</td>\n      <td>42309</td>\n      <td>430481</td>\n      <td>False</td>\n    </tr>\n    <tr>\n      <th>달서구 계</th>\n      <td>44236</td>\n      <td>60556</td>\n      <td>81862</td>\n      <td>71171</td>\n      <td>94565</td>\n      <td>105716</td>\n      <td>66056</td>\n      <td>47141</td>\n      <td>571303</td>\n      <td>False</td>\n    </tr>\n    <tr>\n      <th>달성군 계</th>\n      <td>30293</td>\n      <td>23621</td>\n      <td>29765</td>\n      <td>43412</td>\n      <td>41490</td>\n      <td>40356</td>\n      <td>26081</td>\n      <td>19221</td>\n      <td>254239</td>\n      <td>True</td>\n    </tr>\n  </tbody>\n</table>\n</div>"
     },
     "metadata": {},
     "execution_count": 546
    }
   ],
   "source": [
    "pop1 = (df2['총합'] - df1['총합']) > 0\n",
    "pop2 = (df3['총합'] - df2['총합']) > 0\n",
    "df3['인구증가'] = pop1 & pop2\n",
    "df3"
   ]
  },
  {
   "cell_type": "markdown",
   "metadata": {},
   "source": [
    "## 4.\n",
    "- 남 > 여\n",
    "- 인구수 > 20만"
   ]
  },
  {
   "cell_type": "code",
   "execution_count": 547,
   "metadata": {},
   "outputs": [],
   "source": [
    "# 남, 여, 계"
   ]
  },
  {
   "cell_type": "code",
   "execution_count": 548,
   "metadata": {},
   "outputs": [],
   "source": [
    "df_x=daegu01.copy()\n",
    "df_y=daegu01.copy()"
   ]
  },
  {
   "cell_type": "code",
   "execution_count": 549,
   "metadata": {},
   "outputs": [],
   "source": [
    "drop_list_x = []\n",
    "check_list_x = ['총계', '구분', ' 여', ' 계'] # 남구 삭제 방지를 위해 '남' 앞에 공백 추가 \n",
    "for chk in check_list_x:\n",
    "    for item in df_x.columns :\n",
    "        if  chk in item:\n",
    "            drop_list_x.append(item)\n",
    "drop_list_x = list(set(drop_list_x)) #  중복 제거를 위해 set을 사용"
   ]
  },
  {
   "cell_type": "code",
   "execution_count": 550,
   "metadata": {},
   "outputs": [
    {
     "output_type": "execute_result",
     "data": {
      "text/plain": "     중구 남  동구 남  서구 남  남구 남  북구 남  수성구 남  달서구 남  달성군 남\n0     275  1161   347   291  1410    911   1719   1374\n1     309  1410   443   364  1691   1170   2017   1543\n2     308  1467   539   393  1883   1410   2317   1668\n3     315  1656   497   378  1976   1423   2366   1638\n4     287  1519   518   410  1933   1596   2294   1512\n..    ...   ...   ...   ...   ...    ...    ...    ...\n96      3    10     8     6    12     15     12      9\n97      3    13     3     4     6      7      6      3\n98      7     6     2     3     4      4      6      0\n99      1     7     4     3     3      4      2      2\n100    15    23    21    16    16     24     13      8\n\n[101 rows x 8 columns]",
      "text/html": "<div>\n<style scoped>\n    .dataframe tbody tr th:only-of-type {\n        vertical-align: middle;\n    }\n\n    .dataframe tbody tr th {\n        vertical-align: top;\n    }\n\n    .dataframe thead th {\n        text-align: right;\n    }\n</style>\n<table border=\"1\" class=\"dataframe\">\n  <thead>\n    <tr style=\"text-align: right;\">\n      <th></th>\n      <th>중구 남</th>\n      <th>동구 남</th>\n      <th>서구 남</th>\n      <th>남구 남</th>\n      <th>북구 남</th>\n      <th>수성구 남</th>\n      <th>달서구 남</th>\n      <th>달성군 남</th>\n    </tr>\n  </thead>\n  <tbody>\n    <tr>\n      <th>0</th>\n      <td>275</td>\n      <td>1161</td>\n      <td>347</td>\n      <td>291</td>\n      <td>1410</td>\n      <td>911</td>\n      <td>1719</td>\n      <td>1374</td>\n    </tr>\n    <tr>\n      <th>1</th>\n      <td>309</td>\n      <td>1410</td>\n      <td>443</td>\n      <td>364</td>\n      <td>1691</td>\n      <td>1170</td>\n      <td>2017</td>\n      <td>1543</td>\n    </tr>\n    <tr>\n      <th>2</th>\n      <td>308</td>\n      <td>1467</td>\n      <td>539</td>\n      <td>393</td>\n      <td>1883</td>\n      <td>1410</td>\n      <td>2317</td>\n      <td>1668</td>\n    </tr>\n    <tr>\n      <th>3</th>\n      <td>315</td>\n      <td>1656</td>\n      <td>497</td>\n      <td>378</td>\n      <td>1976</td>\n      <td>1423</td>\n      <td>2366</td>\n      <td>1638</td>\n    </tr>\n    <tr>\n      <th>4</th>\n      <td>287</td>\n      <td>1519</td>\n      <td>518</td>\n      <td>410</td>\n      <td>1933</td>\n      <td>1596</td>\n      <td>2294</td>\n      <td>1512</td>\n    </tr>\n    <tr>\n      <th>...</th>\n      <td>...</td>\n      <td>...</td>\n      <td>...</td>\n      <td>...</td>\n      <td>...</td>\n      <td>...</td>\n      <td>...</td>\n      <td>...</td>\n    </tr>\n    <tr>\n      <th>96</th>\n      <td>3</td>\n      <td>10</td>\n      <td>8</td>\n      <td>6</td>\n      <td>12</td>\n      <td>15</td>\n      <td>12</td>\n      <td>9</td>\n    </tr>\n    <tr>\n      <th>97</th>\n      <td>3</td>\n      <td>13</td>\n      <td>3</td>\n      <td>4</td>\n      <td>6</td>\n      <td>7</td>\n      <td>6</td>\n      <td>3</td>\n    </tr>\n    <tr>\n      <th>98</th>\n      <td>7</td>\n      <td>6</td>\n      <td>2</td>\n      <td>3</td>\n      <td>4</td>\n      <td>4</td>\n      <td>6</td>\n      <td>0</td>\n    </tr>\n    <tr>\n      <th>99</th>\n      <td>1</td>\n      <td>7</td>\n      <td>4</td>\n      <td>3</td>\n      <td>3</td>\n      <td>4</td>\n      <td>2</td>\n      <td>2</td>\n    </tr>\n    <tr>\n      <th>100</th>\n      <td>15</td>\n      <td>23</td>\n      <td>21</td>\n      <td>16</td>\n      <td>16</td>\n      <td>24</td>\n      <td>13</td>\n      <td>8</td>\n    </tr>\n  </tbody>\n</table>\n<p>101 rows × 8 columns</p>\n</div>"
     },
     "metadata": {},
     "execution_count": 550
    }
   ],
   "source": [
    "df_x = df_x.drop(drop_list_x, axis=1)\n",
    "df_x"
   ]
  },
  {
   "cell_type": "code",
   "execution_count": 551,
   "metadata": {},
   "outputs": [
    {
     "output_type": "execute_result",
     "data": {
      "text/plain": "    중구 남   동구 남   서구 남   남구 남   북구 남  수성구 남  달서구 남  달성군 남\n인구                                                       \n0   2952  14987   4936   3986  19141  16713  23865  15132\n10  2801  15815   7406   5829  25701  30792  33506  12302\n20  5611  23707  14240  10837  33284  31464  45010  16533\n30  5877  25221  11920   9790  29543  22290  37075  22386\n40  5868  28261  14669  11423  38326  36264  47547  21246\n50  6000  28461  19174  12691  37412  36270  50800  19554\n60  4642  21842  13749  10382  22004  21938  30114  11985\n70  4343  16048   9023   8566  14324  16218  17326   7004",
      "text/html": "<div>\n<style scoped>\n    .dataframe tbody tr th:only-of-type {\n        vertical-align: middle;\n    }\n\n    .dataframe tbody tr th {\n        vertical-align: top;\n    }\n\n    .dataframe thead th {\n        text-align: right;\n    }\n</style>\n<table border=\"1\" class=\"dataframe\">\n  <thead>\n    <tr style=\"text-align: right;\">\n      <th></th>\n      <th>중구 남</th>\n      <th>동구 남</th>\n      <th>서구 남</th>\n      <th>남구 남</th>\n      <th>북구 남</th>\n      <th>수성구 남</th>\n      <th>달서구 남</th>\n      <th>달성군 남</th>\n    </tr>\n    <tr>\n      <th>인구</th>\n      <th></th>\n      <th></th>\n      <th></th>\n      <th></th>\n      <th></th>\n      <th></th>\n      <th></th>\n      <th></th>\n    </tr>\n  </thead>\n  <tbody>\n    <tr>\n      <th>0</th>\n      <td>2952</td>\n      <td>14987</td>\n      <td>4936</td>\n      <td>3986</td>\n      <td>19141</td>\n      <td>16713</td>\n      <td>23865</td>\n      <td>15132</td>\n    </tr>\n    <tr>\n      <th>10</th>\n      <td>2801</td>\n      <td>15815</td>\n      <td>7406</td>\n      <td>5829</td>\n      <td>25701</td>\n      <td>30792</td>\n      <td>33506</td>\n      <td>12302</td>\n    </tr>\n    <tr>\n      <th>20</th>\n      <td>5611</td>\n      <td>23707</td>\n      <td>14240</td>\n      <td>10837</td>\n      <td>33284</td>\n      <td>31464</td>\n      <td>45010</td>\n      <td>16533</td>\n    </tr>\n    <tr>\n      <th>30</th>\n      <td>5877</td>\n      <td>25221</td>\n      <td>11920</td>\n      <td>9790</td>\n      <td>29543</td>\n      <td>22290</td>\n      <td>37075</td>\n      <td>22386</td>\n    </tr>\n    <tr>\n      <th>40</th>\n      <td>5868</td>\n      <td>28261</td>\n      <td>14669</td>\n      <td>11423</td>\n      <td>38326</td>\n      <td>36264</td>\n      <td>47547</td>\n      <td>21246</td>\n    </tr>\n    <tr>\n      <th>50</th>\n      <td>6000</td>\n      <td>28461</td>\n      <td>19174</td>\n      <td>12691</td>\n      <td>37412</td>\n      <td>36270</td>\n      <td>50800</td>\n      <td>19554</td>\n    </tr>\n    <tr>\n      <th>60</th>\n      <td>4642</td>\n      <td>21842</td>\n      <td>13749</td>\n      <td>10382</td>\n      <td>22004</td>\n      <td>21938</td>\n      <td>30114</td>\n      <td>11985</td>\n    </tr>\n    <tr>\n      <th>70</th>\n      <td>4343</td>\n      <td>16048</td>\n      <td>9023</td>\n      <td>8566</td>\n      <td>14324</td>\n      <td>16218</td>\n      <td>17326</td>\n      <td>7004</td>\n    </tr>\n  </tbody>\n</table>\n</div>"
     },
     "metadata": {},
     "execution_count": 551
    }
   ],
   "source": [
    "df_x['인구0'] = (pd.DataFrame(range(0,101))/10).astype(int)*10\n",
    "df_x = df_x.groupby('인구0').sum()\n",
    "df_x['인구'] = df_x.index\n",
    "df_x['인구'] = np.where(df_x['인구'] >= 70, 70, df_x.인구)\n",
    "df_x = df_x.groupby('인구').sum()\n",
    "df_x"
   ]
  },
  {
   "cell_type": "code",
   "execution_count": 552,
   "metadata": {},
   "outputs": [],
   "source": [
    "drop_list_y = []\n",
    "check_list_y = ['총계', '구분', ' 남', ' 계'] # 남구 삭제 방지를 위해 '남' 앞에 공백 추가 \n",
    "for chk in check_list_y:\n",
    "    for item in df_y.columns :\n",
    "        if  chk in item:\n",
    "            drop_list_y.append(item)\n",
    "drop_list_y = list(set(drop_list_y)) #  중복 제거를 위해 set을 사용"
   ]
  },
  {
   "cell_type": "code",
   "execution_count": 553,
   "metadata": {},
   "outputs": [
    {
     "output_type": "execute_result",
     "data": {
      "text/plain": "     중구 여  동구 여  서구 여  남구 여  북구 여  수성구 여  달서구 여  달성군 여\n0     236  1102   372   295  1356    873   1496   1350\n1     300  1345   444   354  1670   1094   1801   1520\n2     304  1533   471   383  1847   1274   2106   1659\n3     333  1490   452   380  1856   1453   2295   1615\n4     269  1452   496   410  1846   1493   2235   1524\n..    ...   ...   ...   ...   ...    ...    ...    ...\n96     20    56    22    23    37     58     52     22\n97     15    22    15    20    36     36     33     13\n98      9    27    13    20    30     25     19     15\n99      5    18     6     8    13     13     17      6\n100    73    83    68    56    52     73     55     18\n\n[101 rows x 8 columns]",
      "text/html": "<div>\n<style scoped>\n    .dataframe tbody tr th:only-of-type {\n        vertical-align: middle;\n    }\n\n    .dataframe tbody tr th {\n        vertical-align: top;\n    }\n\n    .dataframe thead th {\n        text-align: right;\n    }\n</style>\n<table border=\"1\" class=\"dataframe\">\n  <thead>\n    <tr style=\"text-align: right;\">\n      <th></th>\n      <th>중구 여</th>\n      <th>동구 여</th>\n      <th>서구 여</th>\n      <th>남구 여</th>\n      <th>북구 여</th>\n      <th>수성구 여</th>\n      <th>달서구 여</th>\n      <th>달성군 여</th>\n    </tr>\n  </thead>\n  <tbody>\n    <tr>\n      <th>0</th>\n      <td>236</td>\n      <td>1102</td>\n      <td>372</td>\n      <td>295</td>\n      <td>1356</td>\n      <td>873</td>\n      <td>1496</td>\n      <td>1350</td>\n    </tr>\n    <tr>\n      <th>1</th>\n      <td>300</td>\n      <td>1345</td>\n      <td>444</td>\n      <td>354</td>\n      <td>1670</td>\n      <td>1094</td>\n      <td>1801</td>\n      <td>1520</td>\n    </tr>\n    <tr>\n      <th>2</th>\n      <td>304</td>\n      <td>1533</td>\n      <td>471</td>\n      <td>383</td>\n      <td>1847</td>\n      <td>1274</td>\n      <td>2106</td>\n      <td>1659</td>\n    </tr>\n    <tr>\n      <th>3</th>\n      <td>333</td>\n      <td>1490</td>\n      <td>452</td>\n      <td>380</td>\n      <td>1856</td>\n      <td>1453</td>\n      <td>2295</td>\n      <td>1615</td>\n    </tr>\n    <tr>\n      <th>4</th>\n      <td>269</td>\n      <td>1452</td>\n      <td>496</td>\n      <td>410</td>\n      <td>1846</td>\n      <td>1493</td>\n      <td>2235</td>\n      <td>1524</td>\n    </tr>\n    <tr>\n      <th>...</th>\n      <td>...</td>\n      <td>...</td>\n      <td>...</td>\n      <td>...</td>\n      <td>...</td>\n      <td>...</td>\n      <td>...</td>\n      <td>...</td>\n    </tr>\n    <tr>\n      <th>96</th>\n      <td>20</td>\n      <td>56</td>\n      <td>22</td>\n      <td>23</td>\n      <td>37</td>\n      <td>58</td>\n      <td>52</td>\n      <td>22</td>\n    </tr>\n    <tr>\n      <th>97</th>\n      <td>15</td>\n      <td>22</td>\n      <td>15</td>\n      <td>20</td>\n      <td>36</td>\n      <td>36</td>\n      <td>33</td>\n      <td>13</td>\n    </tr>\n    <tr>\n      <th>98</th>\n      <td>9</td>\n      <td>27</td>\n      <td>13</td>\n      <td>20</td>\n      <td>30</td>\n      <td>25</td>\n      <td>19</td>\n      <td>15</td>\n    </tr>\n    <tr>\n      <th>99</th>\n      <td>5</td>\n      <td>18</td>\n      <td>6</td>\n      <td>8</td>\n      <td>13</td>\n      <td>13</td>\n      <td>17</td>\n      <td>6</td>\n    </tr>\n    <tr>\n      <th>100</th>\n      <td>73</td>\n      <td>83</td>\n      <td>68</td>\n      <td>56</td>\n      <td>52</td>\n      <td>73</td>\n      <td>55</td>\n      <td>18</td>\n    </tr>\n  </tbody>\n</table>\n<p>101 rows × 8 columns</p>\n</div>"
     },
     "metadata": {},
     "execution_count": 553
    }
   ],
   "source": [
    "df_y = df_y.drop(drop_list_y, axis=1)\n",
    "df_y"
   ]
  },
  {
   "cell_type": "code",
   "execution_count": 554,
   "metadata": {},
   "outputs": [
    {
     "output_type": "execute_result",
     "data": {
      "text/plain": "    중구 여   동구 여   서구 여   남구 여   북구 여  수성구 여  달서구 여  달성군 여\n인구                                                       \n0   2722  14088   4783   3811  18260  15795  22411  14619\n10  2748  14088   6600   5333  23284  27088  30481  11080\n20  5689  19901  11302   9771  27737  26633  37977  13320\n30  5519  23750   9609   9122  28127  24238  35887  21018\n40  5490  26303  13002  11079  39635  43131  51094  19480\n50  6107  30603  19299  13924  37602  37825  53687  19262\n60  5601  24948  15357  12260  23545  24592  31728  11999\n70  6560  23869  13636  13086  22217  24217  26612  10950",
      "text/html": "<div>\n<style scoped>\n    .dataframe tbody tr th:only-of-type {\n        vertical-align: middle;\n    }\n\n    .dataframe tbody tr th {\n        vertical-align: top;\n    }\n\n    .dataframe thead th {\n        text-align: right;\n    }\n</style>\n<table border=\"1\" class=\"dataframe\">\n  <thead>\n    <tr style=\"text-align: right;\">\n      <th></th>\n      <th>중구 여</th>\n      <th>동구 여</th>\n      <th>서구 여</th>\n      <th>남구 여</th>\n      <th>북구 여</th>\n      <th>수성구 여</th>\n      <th>달서구 여</th>\n      <th>달성군 여</th>\n    </tr>\n    <tr>\n      <th>인구</th>\n      <th></th>\n      <th></th>\n      <th></th>\n      <th></th>\n      <th></th>\n      <th></th>\n      <th></th>\n      <th></th>\n    </tr>\n  </thead>\n  <tbody>\n    <tr>\n      <th>0</th>\n      <td>2722</td>\n      <td>14088</td>\n      <td>4783</td>\n      <td>3811</td>\n      <td>18260</td>\n      <td>15795</td>\n      <td>22411</td>\n      <td>14619</td>\n    </tr>\n    <tr>\n      <th>10</th>\n      <td>2748</td>\n      <td>14088</td>\n      <td>6600</td>\n      <td>5333</td>\n      <td>23284</td>\n      <td>27088</td>\n      <td>30481</td>\n      <td>11080</td>\n    </tr>\n    <tr>\n      <th>20</th>\n      <td>5689</td>\n      <td>19901</td>\n      <td>11302</td>\n      <td>9771</td>\n      <td>27737</td>\n      <td>26633</td>\n      <td>37977</td>\n      <td>13320</td>\n    </tr>\n    <tr>\n      <th>30</th>\n      <td>5519</td>\n      <td>23750</td>\n      <td>9609</td>\n      <td>9122</td>\n      <td>28127</td>\n      <td>24238</td>\n      <td>35887</td>\n      <td>21018</td>\n    </tr>\n    <tr>\n      <th>40</th>\n      <td>5490</td>\n      <td>26303</td>\n      <td>13002</td>\n      <td>11079</td>\n      <td>39635</td>\n      <td>43131</td>\n      <td>51094</td>\n      <td>19480</td>\n    </tr>\n    <tr>\n      <th>50</th>\n      <td>6107</td>\n      <td>30603</td>\n      <td>19299</td>\n      <td>13924</td>\n      <td>37602</td>\n      <td>37825</td>\n      <td>53687</td>\n      <td>19262</td>\n    </tr>\n    <tr>\n      <th>60</th>\n      <td>5601</td>\n      <td>24948</td>\n      <td>15357</td>\n      <td>12260</td>\n      <td>23545</td>\n      <td>24592</td>\n      <td>31728</td>\n      <td>11999</td>\n    </tr>\n    <tr>\n      <th>70</th>\n      <td>6560</td>\n      <td>23869</td>\n      <td>13636</td>\n      <td>13086</td>\n      <td>22217</td>\n      <td>24217</td>\n      <td>26612</td>\n      <td>10950</td>\n    </tr>\n  </tbody>\n</table>\n</div>"
     },
     "metadata": {},
     "execution_count": 554
    }
   ],
   "source": [
    "df_y['인구0'] = (pd.DataFrame(range(0,101))/10).astype(int)*10\n",
    "df_y = df_y.groupby('인구0').sum()\n",
    "df_y['인구'] = df_y.index\n",
    "df_y['인구'] = np.where(df_y['인구'] >= 70, 70, df_y.인구)\n",
    "df_y = df_y.groupby('인구').sum()\n",
    "df_y"
   ]
  },
  {
   "cell_type": "code",
   "execution_count": 555,
   "metadata": {},
   "outputs": [
    {
     "output_type": "execute_result",
     "data": {
      "text/plain": "인구         0     10     20     30     40     50     60     70      총합\n중구 남    2952   2801   5611   5877   5868   6000   4642   4343   38094\n동구 남   14987  15815  23707  25221  28261  28461  21842  16048  174342\n서구 남    4936   7406  14240  11920  14669  19174  13749   9023   95117\n남구 남    3986   5829  10837   9790  11423  12691  10382   8566   73504\n북구 남   19141  25701  33284  29543  38326  37412  22004  14324  219735\n수성구 남  16713  30792  31464  22290  36264  36270  21938  16218  211949\n달서구 남  23865  33506  45010  37075  47547  50800  30114  17326  285243\n달성군 남  15132  12302  16533  22386  21246  19554  11985   7004  126142",
      "text/html": "<div>\n<style scoped>\n    .dataframe tbody tr th:only-of-type {\n        vertical-align: middle;\n    }\n\n    .dataframe tbody tr th {\n        vertical-align: top;\n    }\n\n    .dataframe thead th {\n        text-align: right;\n    }\n</style>\n<table border=\"1\" class=\"dataframe\">\n  <thead>\n    <tr style=\"text-align: right;\">\n      <th>인구</th>\n      <th>0</th>\n      <th>10</th>\n      <th>20</th>\n      <th>30</th>\n      <th>40</th>\n      <th>50</th>\n      <th>60</th>\n      <th>70</th>\n      <th>총합</th>\n    </tr>\n  </thead>\n  <tbody>\n    <tr>\n      <th>중구 남</th>\n      <td>2952</td>\n      <td>2801</td>\n      <td>5611</td>\n      <td>5877</td>\n      <td>5868</td>\n      <td>6000</td>\n      <td>4642</td>\n      <td>4343</td>\n      <td>38094</td>\n    </tr>\n    <tr>\n      <th>동구 남</th>\n      <td>14987</td>\n      <td>15815</td>\n      <td>23707</td>\n      <td>25221</td>\n      <td>28261</td>\n      <td>28461</td>\n      <td>21842</td>\n      <td>16048</td>\n      <td>174342</td>\n    </tr>\n    <tr>\n      <th>서구 남</th>\n      <td>4936</td>\n      <td>7406</td>\n      <td>14240</td>\n      <td>11920</td>\n      <td>14669</td>\n      <td>19174</td>\n      <td>13749</td>\n      <td>9023</td>\n      <td>95117</td>\n    </tr>\n    <tr>\n      <th>남구 남</th>\n      <td>3986</td>\n      <td>5829</td>\n      <td>10837</td>\n      <td>9790</td>\n      <td>11423</td>\n      <td>12691</td>\n      <td>10382</td>\n      <td>8566</td>\n      <td>73504</td>\n    </tr>\n    <tr>\n      <th>북구 남</th>\n      <td>19141</td>\n      <td>25701</td>\n      <td>33284</td>\n      <td>29543</td>\n      <td>38326</td>\n      <td>37412</td>\n      <td>22004</td>\n      <td>14324</td>\n      <td>219735</td>\n    </tr>\n    <tr>\n      <th>수성구 남</th>\n      <td>16713</td>\n      <td>30792</td>\n      <td>31464</td>\n      <td>22290</td>\n      <td>36264</td>\n      <td>36270</td>\n      <td>21938</td>\n      <td>16218</td>\n      <td>211949</td>\n    </tr>\n    <tr>\n      <th>달서구 남</th>\n      <td>23865</td>\n      <td>33506</td>\n      <td>45010</td>\n      <td>37075</td>\n      <td>47547</td>\n      <td>50800</td>\n      <td>30114</td>\n      <td>17326</td>\n      <td>285243</td>\n    </tr>\n    <tr>\n      <th>달성군 남</th>\n      <td>15132</td>\n      <td>12302</td>\n      <td>16533</td>\n      <td>22386</td>\n      <td>21246</td>\n      <td>19554</td>\n      <td>11985</td>\n      <td>7004</td>\n      <td>126142</td>\n    </tr>\n  </tbody>\n</table>\n</div>"
     },
     "metadata": {},
     "execution_count": 555
    }
   ],
   "source": [
    "df_x = df_x.T\n",
    "df_x['총합'] = df_x.sum(axis='columns').astype(int)\n",
    "df_x"
   ]
  },
  {
   "cell_type": "code",
   "execution_count": 556,
   "metadata": {},
   "outputs": [
    {
     "output_type": "execute_result",
     "data": {
      "text/plain": "인구         0     10     20     30     40     50     60     70      총합\n중구 여    2722   2748   5689   5519   5490   6107   5601   6560   40436\n동구 여   14088  14088  19901  23750  26303  30603  24948  23869  177550\n서구 여    4783   6600  11302   9609  13002  19299  15357  13636   93588\n남구 여    3811   5333   9771   9122  11079  13924  12260  13086   78386\n북구 여   18260  23284  27737  28127  39635  37602  23545  22217  220407\n수성구 여  15795  27088  26633  24238  43131  37825  24592  24217  223519\n달서구 여  22411  30481  37977  35887  51094  53687  31728  26612  289877\n달성군 여  14619  11080  13320  21018  19480  19262  11999  10950  121728",
      "text/html": "<div>\n<style scoped>\n    .dataframe tbody tr th:only-of-type {\n        vertical-align: middle;\n    }\n\n    .dataframe tbody tr th {\n        vertical-align: top;\n    }\n\n    .dataframe thead th {\n        text-align: right;\n    }\n</style>\n<table border=\"1\" class=\"dataframe\">\n  <thead>\n    <tr style=\"text-align: right;\">\n      <th>인구</th>\n      <th>0</th>\n      <th>10</th>\n      <th>20</th>\n      <th>30</th>\n      <th>40</th>\n      <th>50</th>\n      <th>60</th>\n      <th>70</th>\n      <th>총합</th>\n    </tr>\n  </thead>\n  <tbody>\n    <tr>\n      <th>중구 여</th>\n      <td>2722</td>\n      <td>2748</td>\n      <td>5689</td>\n      <td>5519</td>\n      <td>5490</td>\n      <td>6107</td>\n      <td>5601</td>\n      <td>6560</td>\n      <td>40436</td>\n    </tr>\n    <tr>\n      <th>동구 여</th>\n      <td>14088</td>\n      <td>14088</td>\n      <td>19901</td>\n      <td>23750</td>\n      <td>26303</td>\n      <td>30603</td>\n      <td>24948</td>\n      <td>23869</td>\n      <td>177550</td>\n    </tr>\n    <tr>\n      <th>서구 여</th>\n      <td>4783</td>\n      <td>6600</td>\n      <td>11302</td>\n      <td>9609</td>\n      <td>13002</td>\n      <td>19299</td>\n      <td>15357</td>\n      <td>13636</td>\n      <td>93588</td>\n    </tr>\n    <tr>\n      <th>남구 여</th>\n      <td>3811</td>\n      <td>5333</td>\n      <td>9771</td>\n      <td>9122</td>\n      <td>11079</td>\n      <td>13924</td>\n      <td>12260</td>\n      <td>13086</td>\n      <td>78386</td>\n    </tr>\n    <tr>\n      <th>북구 여</th>\n      <td>18260</td>\n      <td>23284</td>\n      <td>27737</td>\n      <td>28127</td>\n      <td>39635</td>\n      <td>37602</td>\n      <td>23545</td>\n      <td>22217</td>\n      <td>220407</td>\n    </tr>\n    <tr>\n      <th>수성구 여</th>\n      <td>15795</td>\n      <td>27088</td>\n      <td>26633</td>\n      <td>24238</td>\n      <td>43131</td>\n      <td>37825</td>\n      <td>24592</td>\n      <td>24217</td>\n      <td>223519</td>\n    </tr>\n    <tr>\n      <th>달서구 여</th>\n      <td>22411</td>\n      <td>30481</td>\n      <td>37977</td>\n      <td>35887</td>\n      <td>51094</td>\n      <td>53687</td>\n      <td>31728</td>\n      <td>26612</td>\n      <td>289877</td>\n    </tr>\n    <tr>\n      <th>달성군 여</th>\n      <td>14619</td>\n      <td>11080</td>\n      <td>13320</td>\n      <td>21018</td>\n      <td>19480</td>\n      <td>19262</td>\n      <td>11999</td>\n      <td>10950</td>\n      <td>121728</td>\n    </tr>\n  </tbody>\n</table>\n</div>"
     },
     "metadata": {},
     "execution_count": 556
    }
   ],
   "source": [
    "df_y = df_y.T\n",
    "df_y['총합'] = df_y.sum(axis='columns').astype(int)\n",
    "df_y"
   ]
  },
  {
   "cell_type": "code",
   "execution_count": 557,
   "metadata": {},
   "outputs": [
    {
     "output_type": "execute_result",
     "data": {
      "text/plain": "인구      0     10     20     30     40      50     60     70      총합   인구증가\na    5572   5370  11620  11311  11108   11798  10069  11087   77935  False\nb   27937  28629  42833  47415  52960   58640  48272  42139  348825  False\nc    8765  12665  23711  19635  25199   36882  29378  23685  179920  False\nd    7221  10462  20327  17871  21400   26010  22886  22505  148682  False\ne   36116  46834  60691  56384  75095   76729  48297  38947  439093  False\nf   31376  55090  56987  45226  76047   74962  48484  42309  430481  False\ng   44236  60556  81862  71171  94565  105716  66056  47141  571303  False\nh   30293  23621  29765  43412  41490   40356  26081  19221  254239   True",
      "text/html": "<div>\n<style scoped>\n    .dataframe tbody tr th:only-of-type {\n        vertical-align: middle;\n    }\n\n    .dataframe tbody tr th {\n        vertical-align: top;\n    }\n\n    .dataframe thead th {\n        text-align: right;\n    }\n</style>\n<table border=\"1\" class=\"dataframe\">\n  <thead>\n    <tr style=\"text-align: right;\">\n      <th>인구</th>\n      <th>0</th>\n      <th>10</th>\n      <th>20</th>\n      <th>30</th>\n      <th>40</th>\n      <th>50</th>\n      <th>60</th>\n      <th>70</th>\n      <th>총합</th>\n      <th>인구증가</th>\n    </tr>\n  </thead>\n  <tbody>\n    <tr>\n      <th>a</th>\n      <td>5572</td>\n      <td>5370</td>\n      <td>11620</td>\n      <td>11311</td>\n      <td>11108</td>\n      <td>11798</td>\n      <td>10069</td>\n      <td>11087</td>\n      <td>77935</td>\n      <td>False</td>\n    </tr>\n    <tr>\n      <th>b</th>\n      <td>27937</td>\n      <td>28629</td>\n      <td>42833</td>\n      <td>47415</td>\n      <td>52960</td>\n      <td>58640</td>\n      <td>48272</td>\n      <td>42139</td>\n      <td>348825</td>\n      <td>False</td>\n    </tr>\n    <tr>\n      <th>c</th>\n      <td>8765</td>\n      <td>12665</td>\n      <td>23711</td>\n      <td>19635</td>\n      <td>25199</td>\n      <td>36882</td>\n      <td>29378</td>\n      <td>23685</td>\n      <td>179920</td>\n      <td>False</td>\n    </tr>\n    <tr>\n      <th>d</th>\n      <td>7221</td>\n      <td>10462</td>\n      <td>20327</td>\n      <td>17871</td>\n      <td>21400</td>\n      <td>26010</td>\n      <td>22886</td>\n      <td>22505</td>\n      <td>148682</td>\n      <td>False</td>\n    </tr>\n    <tr>\n      <th>e</th>\n      <td>36116</td>\n      <td>46834</td>\n      <td>60691</td>\n      <td>56384</td>\n      <td>75095</td>\n      <td>76729</td>\n      <td>48297</td>\n      <td>38947</td>\n      <td>439093</td>\n      <td>False</td>\n    </tr>\n    <tr>\n      <th>f</th>\n      <td>31376</td>\n      <td>55090</td>\n      <td>56987</td>\n      <td>45226</td>\n      <td>76047</td>\n      <td>74962</td>\n      <td>48484</td>\n      <td>42309</td>\n      <td>430481</td>\n      <td>False</td>\n    </tr>\n    <tr>\n      <th>g</th>\n      <td>44236</td>\n      <td>60556</td>\n      <td>81862</td>\n      <td>71171</td>\n      <td>94565</td>\n      <td>105716</td>\n      <td>66056</td>\n      <td>47141</td>\n      <td>571303</td>\n      <td>False</td>\n    </tr>\n    <tr>\n      <th>h</th>\n      <td>30293</td>\n      <td>23621</td>\n      <td>29765</td>\n      <td>43412</td>\n      <td>41490</td>\n      <td>40356</td>\n      <td>26081</td>\n      <td>19221</td>\n      <td>254239</td>\n      <td>True</td>\n    </tr>\n  </tbody>\n</table>\n</div>"
     },
     "metadata": {},
     "execution_count": 557
    }
   ],
   "source": [
    "df_x_2 = df_x.copy()\n",
    "df_x_2.index = ['a','b','c','d','e','f','g','h']\n",
    "df_y_2 = df_y.copy()\n",
    "df_y_2.index = ['a','b','c','d','e','f','g','h']\n",
    "df_s = df3.copy()\n",
    "df_s.index = ['a','b','c','d','e','f','g','h']\n",
    "df_s"
   ]
  },
  {
   "cell_type": "code",
   "execution_count": 560,
   "metadata": {},
   "outputs": [
    {
     "output_type": "execute_result",
     "data": {
      "text/plain": "인구      0     10     20     30     40      50     60     70      총합   인구증가  \\\na    5572   5370  11620  11311  11108   11798  10069  11087   77935  False   \nb   27937  28629  42833  47415  52960   58640  48272  42139  348825  False   \nc    8765  12665  23711  19635  25199   36882  29378  23685  179920  False   \nd    7221  10462  20327  17871  21400   26010  22886  22505  148682  False   \ne   36116  46834  60691  56384  75095   76729  48297  38947  439093  False   \nf   31376  55090  56987  45226  76047   74962  48484  42309  430481  False   \ng   44236  60556  81862  71171  94565  105716  66056  47141  571303  False   \nh   30293  23621  29765  43412  41490   40356  26081  19221  254239   True   \n\n인구   남초여부  20만 이상  \na   False   False  \nb   False    True  \nc    True   False  \nd   False   False  \ne   False    True  \nf   False    True  \ng   False    True  \nh    True    True  ",
      "text/html": "<div>\n<style scoped>\n    .dataframe tbody tr th:only-of-type {\n        vertical-align: middle;\n    }\n\n    .dataframe tbody tr th {\n        vertical-align: top;\n    }\n\n    .dataframe thead th {\n        text-align: right;\n    }\n</style>\n<table border=\"1\" class=\"dataframe\">\n  <thead>\n    <tr style=\"text-align: right;\">\n      <th>인구</th>\n      <th>0</th>\n      <th>10</th>\n      <th>20</th>\n      <th>30</th>\n      <th>40</th>\n      <th>50</th>\n      <th>60</th>\n      <th>70</th>\n      <th>총합</th>\n      <th>인구증가</th>\n      <th>남초여부</th>\n      <th>20만 이상</th>\n    </tr>\n  </thead>\n  <tbody>\n    <tr>\n      <th>a</th>\n      <td>5572</td>\n      <td>5370</td>\n      <td>11620</td>\n      <td>11311</td>\n      <td>11108</td>\n      <td>11798</td>\n      <td>10069</td>\n      <td>11087</td>\n      <td>77935</td>\n      <td>False</td>\n      <td>False</td>\n      <td>False</td>\n    </tr>\n    <tr>\n      <th>b</th>\n      <td>27937</td>\n      <td>28629</td>\n      <td>42833</td>\n      <td>47415</td>\n      <td>52960</td>\n      <td>58640</td>\n      <td>48272</td>\n      <td>42139</td>\n      <td>348825</td>\n      <td>False</td>\n      <td>False</td>\n      <td>True</td>\n    </tr>\n    <tr>\n      <th>c</th>\n      <td>8765</td>\n      <td>12665</td>\n      <td>23711</td>\n      <td>19635</td>\n      <td>25199</td>\n      <td>36882</td>\n      <td>29378</td>\n      <td>23685</td>\n      <td>179920</td>\n      <td>False</td>\n      <td>True</td>\n      <td>False</td>\n    </tr>\n    <tr>\n      <th>d</th>\n      <td>7221</td>\n      <td>10462</td>\n      <td>20327</td>\n      <td>17871</td>\n      <td>21400</td>\n      <td>26010</td>\n      <td>22886</td>\n      <td>22505</td>\n      <td>148682</td>\n      <td>False</td>\n      <td>False</td>\n      <td>False</td>\n    </tr>\n    <tr>\n      <th>e</th>\n      <td>36116</td>\n      <td>46834</td>\n      <td>60691</td>\n      <td>56384</td>\n      <td>75095</td>\n      <td>76729</td>\n      <td>48297</td>\n      <td>38947</td>\n      <td>439093</td>\n      <td>False</td>\n      <td>False</td>\n      <td>True</td>\n    </tr>\n    <tr>\n      <th>f</th>\n      <td>31376</td>\n      <td>55090</td>\n      <td>56987</td>\n      <td>45226</td>\n      <td>76047</td>\n      <td>74962</td>\n      <td>48484</td>\n      <td>42309</td>\n      <td>430481</td>\n      <td>False</td>\n      <td>False</td>\n      <td>True</td>\n    </tr>\n    <tr>\n      <th>g</th>\n      <td>44236</td>\n      <td>60556</td>\n      <td>81862</td>\n      <td>71171</td>\n      <td>94565</td>\n      <td>105716</td>\n      <td>66056</td>\n      <td>47141</td>\n      <td>571303</td>\n      <td>False</td>\n      <td>False</td>\n      <td>True</td>\n    </tr>\n    <tr>\n      <th>h</th>\n      <td>30293</td>\n      <td>23621</td>\n      <td>29765</td>\n      <td>43412</td>\n      <td>41490</td>\n      <td>40356</td>\n      <td>26081</td>\n      <td>19221</td>\n      <td>254239</td>\n      <td>True</td>\n      <td>True</td>\n      <td>True</td>\n    </tr>\n  </tbody>\n</table>\n</div>"
     },
     "metadata": {},
     "execution_count": 560
    }
   ],
   "source": [
    "df_s['남초여부'] = df_x_2['총합'] - df_y_2['총합'] > 0\n",
    "df_s['20만 이상'] = df_s['총합'] >200000\n",
    "df_s"
   ]
  },
  {
   "cell_type": "code",
   "execution_count": 561,
   "metadata": {},
   "outputs": [
    {
     "output_type": "execute_result",
     "data": {
      "text/plain": "인구         0     10     20     30     40      50     60     70      총합\n중구 계    5674   5549  11300  11396  11358   12107  10243  10903   78530\n동구 계   29075  29903  43608  48971  54564   59064  46790  39917  351892\n서구 계    9719  14006  25542  21529  27671   38473  29106  22659  188705\n남구 계    7797  11162  20608  18912  22502   26615  22642  21652  151890\n북구 계   37401  48985  61021  57670  77961   75014  45549  36541  440142\n수성구 계  32508  57880  58097  46528  79395   74095  46530  40435  435468\n달서구 계  46276  63987  82987  72962  98641  104487  61842  43938  575120\n달성군 계  29751  23382  29853  43404  40726   38816  23984  17954  247870",
      "text/html": "<div>\n<style scoped>\n    .dataframe tbody tr th:only-of-type {\n        vertical-align: middle;\n    }\n\n    .dataframe tbody tr th {\n        vertical-align: top;\n    }\n\n    .dataframe thead th {\n        text-align: right;\n    }\n</style>\n<table border=\"1\" class=\"dataframe\">\n  <thead>\n    <tr style=\"text-align: right;\">\n      <th>인구</th>\n      <th>0</th>\n      <th>10</th>\n      <th>20</th>\n      <th>30</th>\n      <th>40</th>\n      <th>50</th>\n      <th>60</th>\n      <th>70</th>\n      <th>총합</th>\n    </tr>\n  </thead>\n  <tbody>\n    <tr>\n      <th>중구 계</th>\n      <td>5674</td>\n      <td>5549</td>\n      <td>11300</td>\n      <td>11396</td>\n      <td>11358</td>\n      <td>12107</td>\n      <td>10243</td>\n      <td>10903</td>\n      <td>78530</td>\n    </tr>\n    <tr>\n      <th>동구 계</th>\n      <td>29075</td>\n      <td>29903</td>\n      <td>43608</td>\n      <td>48971</td>\n      <td>54564</td>\n      <td>59064</td>\n      <td>46790</td>\n      <td>39917</td>\n      <td>351892</td>\n    </tr>\n    <tr>\n      <th>서구 계</th>\n      <td>9719</td>\n      <td>14006</td>\n      <td>25542</td>\n      <td>21529</td>\n      <td>27671</td>\n      <td>38473</td>\n      <td>29106</td>\n      <td>22659</td>\n      <td>188705</td>\n    </tr>\n    <tr>\n      <th>남구 계</th>\n      <td>7797</td>\n      <td>11162</td>\n      <td>20608</td>\n      <td>18912</td>\n      <td>22502</td>\n      <td>26615</td>\n      <td>22642</td>\n      <td>21652</td>\n      <td>151890</td>\n    </tr>\n    <tr>\n      <th>북구 계</th>\n      <td>37401</td>\n      <td>48985</td>\n      <td>61021</td>\n      <td>57670</td>\n      <td>77961</td>\n      <td>75014</td>\n      <td>45549</td>\n      <td>36541</td>\n      <td>440142</td>\n    </tr>\n    <tr>\n      <th>수성구 계</th>\n      <td>32508</td>\n      <td>57880</td>\n      <td>58097</td>\n      <td>46528</td>\n      <td>79395</td>\n      <td>74095</td>\n      <td>46530</td>\n      <td>40435</td>\n      <td>435468</td>\n    </tr>\n    <tr>\n      <th>달서구 계</th>\n      <td>46276</td>\n      <td>63987</td>\n      <td>82987</td>\n      <td>72962</td>\n      <td>98641</td>\n      <td>104487</td>\n      <td>61842</td>\n      <td>43938</td>\n      <td>575120</td>\n    </tr>\n    <tr>\n      <th>달성군 계</th>\n      <td>29751</td>\n      <td>23382</td>\n      <td>29853</td>\n      <td>43404</td>\n      <td>40726</td>\n      <td>38816</td>\n      <td>23984</td>\n      <td>17954</td>\n      <td>247870</td>\n    </tr>\n  </tbody>\n</table>\n</div>"
     },
     "metadata": {},
     "execution_count": 561
    }
   ],
   "source": [
    "df1"
   ]
  },
  {
   "cell_type": "code",
   "execution_count": 562,
   "metadata": {},
   "outputs": [
    {
     "output_type": "execute_result",
     "data": {
      "text/plain": "인구         0     10     20     30     40      50     60     70      총합   인구증가  \\\n중구 계    5572   5370  11620  11311  11108   11798  10069  11087   77935  False   \n동구 계   27937  28629  42833  47415  52960   58640  48272  42139  348825  False   \n서구 계    8765  12665  23711  19635  25199   36882  29378  23685  179920  False   \n남구 계    7221  10462  20327  17871  21400   26010  22886  22505  148682  False   \n북구 계   36116  46834  60691  56384  75095   76729  48297  38947  439093  False   \n수성구 계  31376  55090  56987  45226  76047   74962  48484  42309  430481  False   \n달서구 계  44236  60556  81862  71171  94565  105716  66056  47141  571303  False   \n달성군 계  30293  23621  29765  43412  41490   40356  26081  19221  254239   True   \n\n인구      남초여부  20만 이상  \n중구 계   False   False  \n동구 계   False    True  \n서구 계    True   False  \n남구 계   False   False  \n북구 계   False    True  \n수성구 계  False    True  \n달서구 계  False    True  \n달성군 계   True    True  ",
      "text/html": "<div>\n<style scoped>\n    .dataframe tbody tr th:only-of-type {\n        vertical-align: middle;\n    }\n\n    .dataframe tbody tr th {\n        vertical-align: top;\n    }\n\n    .dataframe thead th {\n        text-align: right;\n    }\n</style>\n<table border=\"1\" class=\"dataframe\">\n  <thead>\n    <tr style=\"text-align: right;\">\n      <th>인구</th>\n      <th>0</th>\n      <th>10</th>\n      <th>20</th>\n      <th>30</th>\n      <th>40</th>\n      <th>50</th>\n      <th>60</th>\n      <th>70</th>\n      <th>총합</th>\n      <th>인구증가</th>\n      <th>남초여부</th>\n      <th>20만 이상</th>\n    </tr>\n  </thead>\n  <tbody>\n    <tr>\n      <th>중구 계</th>\n      <td>5572</td>\n      <td>5370</td>\n      <td>11620</td>\n      <td>11311</td>\n      <td>11108</td>\n      <td>11798</td>\n      <td>10069</td>\n      <td>11087</td>\n      <td>77935</td>\n      <td>False</td>\n      <td>False</td>\n      <td>False</td>\n    </tr>\n    <tr>\n      <th>동구 계</th>\n      <td>27937</td>\n      <td>28629</td>\n      <td>42833</td>\n      <td>47415</td>\n      <td>52960</td>\n      <td>58640</td>\n      <td>48272</td>\n      <td>42139</td>\n      <td>348825</td>\n      <td>False</td>\n      <td>False</td>\n      <td>True</td>\n    </tr>\n    <tr>\n      <th>서구 계</th>\n      <td>8765</td>\n      <td>12665</td>\n      <td>23711</td>\n      <td>19635</td>\n      <td>25199</td>\n      <td>36882</td>\n      <td>29378</td>\n      <td>23685</td>\n      <td>179920</td>\n      <td>False</td>\n      <td>True</td>\n      <td>False</td>\n    </tr>\n    <tr>\n      <th>남구 계</th>\n      <td>7221</td>\n      <td>10462</td>\n      <td>20327</td>\n      <td>17871</td>\n      <td>21400</td>\n      <td>26010</td>\n      <td>22886</td>\n      <td>22505</td>\n      <td>148682</td>\n      <td>False</td>\n      <td>False</td>\n      <td>False</td>\n    </tr>\n    <tr>\n      <th>북구 계</th>\n      <td>36116</td>\n      <td>46834</td>\n      <td>60691</td>\n      <td>56384</td>\n      <td>75095</td>\n      <td>76729</td>\n      <td>48297</td>\n      <td>38947</td>\n      <td>439093</td>\n      <td>False</td>\n      <td>False</td>\n      <td>True</td>\n    </tr>\n    <tr>\n      <th>수성구 계</th>\n      <td>31376</td>\n      <td>55090</td>\n      <td>56987</td>\n      <td>45226</td>\n      <td>76047</td>\n      <td>74962</td>\n      <td>48484</td>\n      <td>42309</td>\n      <td>430481</td>\n      <td>False</td>\n      <td>False</td>\n      <td>True</td>\n    </tr>\n    <tr>\n      <th>달서구 계</th>\n      <td>44236</td>\n      <td>60556</td>\n      <td>81862</td>\n      <td>71171</td>\n      <td>94565</td>\n      <td>105716</td>\n      <td>66056</td>\n      <td>47141</td>\n      <td>571303</td>\n      <td>False</td>\n      <td>False</td>\n      <td>True</td>\n    </tr>\n    <tr>\n      <th>달성군 계</th>\n      <td>30293</td>\n      <td>23621</td>\n      <td>29765</td>\n      <td>43412</td>\n      <td>41490</td>\n      <td>40356</td>\n      <td>26081</td>\n      <td>19221</td>\n      <td>254239</td>\n      <td>True</td>\n      <td>True</td>\n      <td>True</td>\n    </tr>\n  </tbody>\n</table>\n</div>"
     },
     "metadata": {},
     "execution_count": 562
    }
   ],
   "source": [
    "df_s.index = ['중구 계','동구 계','서구 계','남구 계','북구 계','수성구 계','달서구 계','달성군 계']\n",
    "df_s"
   ]
  },
  {
   "cell_type": "code",
   "execution_count": 563,
   "metadata": {},
   "outputs": [
    {
     "output_type": "execute_result",
     "data": {
      "text/plain": "         중구 계    동구 계    서구 계    남구 계    북구 계   수성구 계   달서구 계   달성군 계\n인구                                                                   \n0        5572   27937    8765    7221   36116   31376   44236   30293\n10       5370   28629   12665   10462   46834   55090   60556   23621\n20      11620   42833   23711   20327   60691   56987   81862   29765\n30      11311   47415   19635   17871   56384   45226   71171   43412\n40      11108   52960   25199   21400   75095   76047   94565   41490\n50      11798   58640   36882   26010   76729   74962  105716   40356\n60      10069   48272   29378   22886   48297   48484   66056   26081\n70      11087   42139   23685   22505   38947   42309   47141   19221\n총합      77935  348825  179920  148682  439093  430481  571303  254239\n인구증가    False   False   False   False   False   False   False    True\n남초여부    False   False    True   False   False   False   False    True\n20만 이상  False    True   False   False    True    True    True    True",
      "text/html": "<div>\n<style scoped>\n    .dataframe tbody tr th:only-of-type {\n        vertical-align: middle;\n    }\n\n    .dataframe tbody tr th {\n        vertical-align: top;\n    }\n\n    .dataframe thead th {\n        text-align: right;\n    }\n</style>\n<table border=\"1\" class=\"dataframe\">\n  <thead>\n    <tr style=\"text-align: right;\">\n      <th></th>\n      <th>중구 계</th>\n      <th>동구 계</th>\n      <th>서구 계</th>\n      <th>남구 계</th>\n      <th>북구 계</th>\n      <th>수성구 계</th>\n      <th>달서구 계</th>\n      <th>달성군 계</th>\n    </tr>\n    <tr>\n      <th>인구</th>\n      <th></th>\n      <th></th>\n      <th></th>\n      <th></th>\n      <th></th>\n      <th></th>\n      <th></th>\n      <th></th>\n    </tr>\n  </thead>\n  <tbody>\n    <tr>\n      <th>0</th>\n      <td>5572</td>\n      <td>27937</td>\n      <td>8765</td>\n      <td>7221</td>\n      <td>36116</td>\n      <td>31376</td>\n      <td>44236</td>\n      <td>30293</td>\n    </tr>\n    <tr>\n      <th>10</th>\n      <td>5370</td>\n      <td>28629</td>\n      <td>12665</td>\n      <td>10462</td>\n      <td>46834</td>\n      <td>55090</td>\n      <td>60556</td>\n      <td>23621</td>\n    </tr>\n    <tr>\n      <th>20</th>\n      <td>11620</td>\n      <td>42833</td>\n      <td>23711</td>\n      <td>20327</td>\n      <td>60691</td>\n      <td>56987</td>\n      <td>81862</td>\n      <td>29765</td>\n    </tr>\n    <tr>\n      <th>30</th>\n      <td>11311</td>\n      <td>47415</td>\n      <td>19635</td>\n      <td>17871</td>\n      <td>56384</td>\n      <td>45226</td>\n      <td>71171</td>\n      <td>43412</td>\n    </tr>\n    <tr>\n      <th>40</th>\n      <td>11108</td>\n      <td>52960</td>\n      <td>25199</td>\n      <td>21400</td>\n      <td>75095</td>\n      <td>76047</td>\n      <td>94565</td>\n      <td>41490</td>\n    </tr>\n    <tr>\n      <th>50</th>\n      <td>11798</td>\n      <td>58640</td>\n      <td>36882</td>\n      <td>26010</td>\n      <td>76729</td>\n      <td>74962</td>\n      <td>105716</td>\n      <td>40356</td>\n    </tr>\n    <tr>\n      <th>60</th>\n      <td>10069</td>\n      <td>48272</td>\n      <td>29378</td>\n      <td>22886</td>\n      <td>48297</td>\n      <td>48484</td>\n      <td>66056</td>\n      <td>26081</td>\n    </tr>\n    <tr>\n      <th>70</th>\n      <td>11087</td>\n      <td>42139</td>\n      <td>23685</td>\n      <td>22505</td>\n      <td>38947</td>\n      <td>42309</td>\n      <td>47141</td>\n      <td>19221</td>\n    </tr>\n    <tr>\n      <th>총합</th>\n      <td>77935</td>\n      <td>348825</td>\n      <td>179920</td>\n      <td>148682</td>\n      <td>439093</td>\n      <td>430481</td>\n      <td>571303</td>\n      <td>254239</td>\n    </tr>\n    <tr>\n      <th>인구증가</th>\n      <td>False</td>\n      <td>False</td>\n      <td>False</td>\n      <td>False</td>\n      <td>False</td>\n      <td>False</td>\n      <td>False</td>\n      <td>True</td>\n    </tr>\n    <tr>\n      <th>남초여부</th>\n      <td>False</td>\n      <td>False</td>\n      <td>True</td>\n      <td>False</td>\n      <td>False</td>\n      <td>False</td>\n      <td>False</td>\n      <td>True</td>\n    </tr>\n    <tr>\n      <th>20만 이상</th>\n      <td>False</td>\n      <td>True</td>\n      <td>False</td>\n      <td>False</td>\n      <td>True</td>\n      <td>True</td>\n      <td>True</td>\n      <td>True</td>\n    </tr>\n  </tbody>\n</table>\n</div>"
     },
     "metadata": {},
     "execution_count": 563
    }
   ],
   "source": [
    "df_s.T"
   ]
  },
  {
   "cell_type": "code",
   "execution_count": 564,
   "metadata": {},
   "outputs": [],
   "source": [
    "# ex4_df1_T.columns = ['중구','동구','서구','남구','북구','수성구','달서구','달성군']\n",
    "# ex4_df1_T\n",
    "\n",
    "# ex4_df1_T = ex4_df1_T.rename({'중구 계':'대구중구'}, axis='columns')\n",
    "# ex4_df1_T\n",
    "\n",
    "# ex4_df1_T.columns = ex4_df1_T.columns.str.replace(\"구 계\",\"구\")\n",
    "# ex4_df1_T"
   ]
  },
  {
   "cell_type": "code",
   "execution_count": null,
   "metadata": {},
   "outputs": [],
   "source": []
  }
 ]
}