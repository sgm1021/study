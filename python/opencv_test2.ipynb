{
 "metadata": {
  "language_info": {
   "codemirror_mode": {
    "name": "ipython",
    "version": 3
   },
   "file_extension": ".py",
   "mimetype": "text/x-python",
   "name": "python",
   "nbconvert_exporter": "python",
   "pygments_lexer": "ipython3",
   "version": "3.8.3-final"
  },
  "orig_nbformat": 2,
  "kernelspec": {
   "name": "python3",
   "display_name": "Python 3",
   "language": "python"
  }
 },
 "nbformat": 4,
 "nbformat_minor": 2,
 "cells": [
  {
   "cell_type": "code",
   "execution_count": 2,
   "metadata": {},
   "outputs": [],
   "source": [
    "import cv2\n",
    "from win32api import GetSystemMetrics\n",
    "import numpy as np"
   ]
  },
  {
   "cell_type": "code",
   "execution_count": 3,
   "metadata": {},
   "outputs": [
    {
     "output_type": "error",
     "ename": "error",
     "evalue": "OpenCV(4.0.1) C:\\ci\\opencv-suite_1573470242804\\work\\modules\\core\\src\\arithm.cpp:1742: error: (-209:Sizes of input arguments do not match) The lower boundary is neither an array of the same size and same type as src, nor a scalar in function 'cv::inRange'\n",
     "traceback": [
      "\u001b[1;31m---------------------------------------------------------------------------\u001b[0m",
      "\u001b[1;31merror\u001b[0m                                     Traceback (most recent call last)",
      "\u001b[1;32m<ipython-input-3-a330c1362b4c>\u001b[0m in \u001b[0;36m<module>\u001b[1;34m\u001b[0m\n\u001b[0;32m     46\u001b[0m     \u001b[0mupper_blue\u001b[0m \u001b[1;33m=\u001b[0m \u001b[0mcv2\u001b[0m\u001b[1;33m.\u001b[0m\u001b[0minRange\u001b[0m\u001b[1;33m(\u001b[0m\u001b[0mhsv\u001b[0m\u001b[1;33m,\u001b[0m \u001b[1;33m(\u001b[0m\u001b[0milowH2\u001b[0m\u001b[1;33m,\u001b[0m \u001b[0milowS\u001b[0m\u001b[1;33m,\u001b[0m \u001b[0milowV\u001b[0m\u001b[1;33m)\u001b[0m\u001b[1;33m,\u001b[0m \u001b[1;33m(\u001b[0m\u001b[0mihighH2\u001b[0m\u001b[1;33m,\u001b[0m \u001b[0mihighS\u001b[0m\u001b[1;33m,\u001b[0m \u001b[0mihighV\u001b[0m\u001b[1;33m)\u001b[0m\u001b[1;33m)\u001b[0m\u001b[1;33m\u001b[0m\u001b[1;33m\u001b[0m\u001b[0m\n\u001b[0;32m     47\u001b[0m     \u001b[1;31m# Apply the cv2.inrange method to create a mask\u001b[0m\u001b[1;33m\u001b[0m\u001b[1;33m\u001b[0m\u001b[1;33m\u001b[0m\u001b[0m\n\u001b[1;32m---> 48\u001b[1;33m     \u001b[0mmask\u001b[0m \u001b[1;33m=\u001b[0m \u001b[0mcv2\u001b[0m\u001b[1;33m.\u001b[0m\u001b[0minRange\u001b[0m\u001b[1;33m(\u001b[0m\u001b[0mhsv\u001b[0m\u001b[1;33m,\u001b[0m \u001b[0mlower_blue\u001b[0m\u001b[1;33m,\u001b[0m \u001b[0mupper_blue\u001b[0m\u001b[1;33m)\u001b[0m\u001b[1;33m\u001b[0m\u001b[1;33m\u001b[0m\u001b[0m\n\u001b[0m\u001b[0;32m     49\u001b[0m     \u001b[1;31m# Apply the mask on the image to extract the original color\u001b[0m\u001b[1;33m\u001b[0m\u001b[1;33m\u001b[0m\u001b[1;33m\u001b[0m\u001b[0m\n\u001b[0;32m     50\u001b[0m     \u001b[0mimg2\u001b[0m \u001b[1;33m=\u001b[0m \u001b[0mimg\u001b[0m\u001b[1;33m.\u001b[0m\u001b[0mcopy\u001b[0m\u001b[1;33m(\u001b[0m\u001b[1;33m)\u001b[0m\u001b[1;33m\u001b[0m\u001b[1;33m\u001b[0m\u001b[0m\n",
      "\u001b[1;31merror\u001b[0m: OpenCV(4.0.1) C:\\ci\\opencv-suite_1573470242804\\work\\modules\\core\\src\\arithm.cpp:1742: error: (-209:Sizes of input arguments do not match) The lower boundary is neither an array of the same size and same type as src, nor a scalar in function 'cv::inRange'\n"
     ]
    }
   ],
   "source": [
    "filename = 'image/tomato.jpg'\n",
    "# filename = 'images/sausage.jpg'\n",
    "#filename = 'E:/OneDrive/Jupyter/opencv/PCB2/양품/양품1_2.bmp'\n",
    "img = cv2.imread(filename,cv2.IMREAD_COLOR)\n",
    "\n",
    "def onChange(pos):\n",
    "    pass\n",
    "\n",
    "hsv = cv2.cvtColor(img, cv2.COLOR_BGR2HSV)\n",
    "\n",
    "cv2.namedWindow(\"Track Bar\")\n",
    "cv2.createTrackbar(\"hMax\", \"Track Bar\", 0, 180, onChange)\n",
    "cv2.setTrackbarPos(\"hMax\", \"Track Bar\", 60)\n",
    "cv2.createTrackbar(\"hMin\", \"Track Bar\", 0, 180, onChange)\n",
    "cv2.setTrackbarPos(\"hMin\", \"Track Bar\", 30)\n",
    "\n",
    "cv2.createTrackbar(\"hMax2\", \"Track Bar\", 0, 180, onChange)\n",
    "cv2.setTrackbarPos(\"hMax2\", \"Track Bar\", 60)\n",
    "cv2.createTrackbar(\"hMin2\", \"Track Bar\", 0, 180, onChange)\n",
    "cv2.setTrackbarPos(\"hMin2\", \"Track Bar\", 30)\n",
    "\n",
    "cv2.createTrackbar(\"sMax\", \"Track Bar\", 0, 255, onChange)\n",
    "cv2.setTrackbarPos(\"sMax\", \"Track Bar\", 255)\n",
    "cv2.createTrackbar(\"sMin\", \"Track Bar\", 0, 255, onChange)\n",
    "cv2.setTrackbarPos(\"sMin\", \"Track Bar\", 0)\n",
    "\n",
    "cv2.createTrackbar(\"vMax\", \"Track Bar\", 0, 255, onChange)\n",
    "cv2.setTrackbarPos(\"vMax\", \"Track Bar\", 255)\n",
    "cv2.createTrackbar(\"vMin\", \"Track Bar\", 0, 255, onChange)\n",
    "cv2.setTrackbarPos(\"vMin\", \"Track Bar\", 0)\n",
    "\n",
    "while cv2.waitKey(1) != ord('q'):\n",
    "    ilowH = cv2.getTrackbarPos(\"hMin\", \"Track Bar\")\n",
    "    ihighH = cv2.getTrackbarPos(\"hMax\", \"Track Bar\")\n",
    "\n",
    "    ilowH2 = cv2.getTrackbarPos(\"hMin2\", \"Track Bar\")\n",
    "    ihighH2 = cv2.getTrackbarPos(\"hMax2\", \"Track Bar\")\n",
    "\n",
    "    ilowS = cv2.getTrackbarPos(\"sMin\", \"Track Bar\")\n",
    "    ihighS = cv2.getTrackbarPos(\"sMax\", \"Track Bar\")\n",
    "    \n",
    "    ilowV = cv2.getTrackbarPos(\"vMin\", \"Track Bar\")\n",
    "    ihighV = cv2.getTrackbarPos(\"vMax\", \"Track Bar\")\n",
    "\n",
    "    lower_blue = cv2.inRange(hsv, (ilowH, ilowS, ilowV), (ihighH, ihighS, ihighV))\n",
    "    upper_blue = cv2.inRange(hsv, (ilowH2, ilowS, ilowV), (ihighH2, ihighS, ihighV))\n",
    "    # Apply the cv2.inrange method to create a mask\n",
    "    mask = cv2.inRange(hsv, lower_blue, upper_blue)\n",
    "    # Apply the mask on the image to extract the original color\n",
    "    img2 = img.copy()\n",
    "    img2 = cv2.bitwise_and(img2, img2, mask=mask)\n",
    "    cv2.imshow(\"Track Bar\", img2)\n",
    "\n",
    "cv2.destroyAllWindows()"
   ]
  },
  {
   "cell_type": "code",
   "execution_count": null,
   "metadata": {},
   "outputs": [],
   "source": []
  },
  {
   "cell_type": "code",
   "execution_count": null,
   "metadata": {},
   "outputs": [],
   "source": []
  }
 ]
}