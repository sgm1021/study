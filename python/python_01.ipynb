{
 "metadata": {
  "language_info": {
   "codemirror_mode": {
    "name": "ipython",
    "version": 3
   },
   "file_extension": ".py",
   "mimetype": "text/x-python",
   "name": "python",
   "nbconvert_exporter": "python",
   "pygments_lexer": "ipython3",
   "version": "3.8.3-final"
  },
  "orig_nbformat": 2,
  "kernelspec": {
   "name": "python_defaultSpec_1599178324106",
   "display_name": "Python 3.8.3 64-bit ('base': conda)"
  }
 },
 "nbformat": 4,
 "nbformat_minor": 2,
 "cells": [
  {
   "cell_type": "markdown",
   "metadata": {},
   "source": [
    "변수 = 값을 담는 바구니  \n",
    "**변수 = 저장할 값**"
   ]
  },
  {
   "cell_type": "code",
   "execution_count": 9,
   "metadata": {
    "tags": []
   },
   "outputs": [
    {
     "output_type": "stream",
     "name": "stdout",
     "text": "100\n"
    }
   ],
   "source": [
    "x = 100\n",
    "print(x)"
   ]
  },
  {
   "cell_type": "code",
   "execution_count": 10,
   "metadata": {
    "tags": []
   },
   "outputs": [
    {
     "output_type": "stream",
     "name": "stdout",
     "text": "200\n"
    }
   ],
   "source": [
    "x=100\n",
    "x=200\n",
    "print(x)"
   ]
  },
  {
   "cell_type": "code",
   "execution_count": 11,
   "metadata": {
    "tags": []
   },
   "outputs": [
    {
     "output_type": "stream",
     "name": "stdout",
     "text": "100 200\n"
    }
   ],
   "source": [
    "x=100\n",
    "y=200\n",
    "print(x,y)"
   ]
  },
  {
   "cell_type": "code",
   "execution_count": 12,
   "metadata": {
    "tags": []
   },
   "outputs": [
    {
     "output_type": "stream",
     "name": "stdout",
     "text": "300\n"
    }
   ],
   "source": [
    "x=100\n",
    "y=200\n",
    "sum = x+y\n",
    "print(sum)"
   ]
  },
  {
   "cell_type": "code",
   "execution_count": 13,
   "metadata": {
    "tags": []
   },
   "outputs": [
    {
     "output_type": "stream",
     "name": "stdout",
     "text": "홍길동\n대구광역시 신암동 300\n"
    }
   ],
   "source": [
    "name = \"홍길동\"\n",
    "adress = '대구광역시 신암동 300'\n",
    "print(name)\n",
    "print(adress)"
   ]
  },
  {
   "cell_type": "code",
   "execution_count": 14,
   "metadata": {
    "tags": []
   },
   "outputs": [
    {
     "output_type": "stream",
     "name": "stdout",
     "text": "12\na+b\n"
    }
   ],
   "source": [
    "a=7\n",
    "b=5\n",
    "print(a+b)\n",
    "print(\"a+b\")"
   ]
  },
  {
   "cell_type": "code",
   "execution_count": 15,
   "metadata": {
    "tags": []
   },
   "outputs": [
    {
     "output_type": "stream",
     "name": "stdout",
     "text": "13\n76\n"
    }
   ],
   "source": [
    "x=7; y=6\n",
    "print(x+y)\n",
    "x='7'; y='6'\n",
    "print(x+y)"
   ]
  },
  {
   "cell_type": "markdown",
   "metadata": {},
   "source": [
    "### 변수"
   ]
  },
  {
   "cell_type": "markdown",
   "metadata": {},
   "source": [
    "의미 있는 이름을 사용  \n",
    "소문자와 대문자는 서로 다르게 취급된다.  \n",
    "변수의 이름은 영문자와 숫자, 밑줄\\(\\_\\)로 이루어진다.  \n",
    "변수의 이름 중간에 공백이 들어가면 안 된다. 단어를 구분하려면 밑줄\\(\\_\\)을 사용 한다  \n",
    "특별한 의미가 있는 예약어는 사용할 수 없다.  "
   ]
  },
  {
   "cell_type": "code",
   "execution_count": 16,
   "metadata": {},
   "outputs": [],
   "source": [
    "sum = 1"
   ]
  },
  {
   "cell_type": "code",
   "execution_count": 17,
   "metadata": {},
   "outputs": [],
   "source": [
    "_count = 1"
   ]
  },
  {
   "cell_type": "code",
   "execution_count": 18,
   "metadata": {},
   "outputs": [],
   "source": [
    "base_2nd = 3"
   ]
  },
  {
   "cell_type": "markdown",
   "metadata": {},
   "source": [
    "1) aBC 2) ab!  3)aB1 4) 1ab  \n",
    "5) \\_ab 6) AB\\_C 7) 1\\_ 8) 에이비"
   ]
  },
  {
   "cell_type": "markdown",
   "metadata": {},
   "source": [
    "예약어 확인"
   ]
  },
  {
   "cell_type": "code",
   "execution_count": 19,
   "metadata": {
    "tags": []
   },
   "outputs": [
    {
     "output_type": "stream",
     "name": "stdout",
     "text": "['False', 'None', 'True', 'and', 'as', 'assert', 'async', 'await', 'break', 'class', 'continue', 'def', 'del', 'elif', 'else', 'except', 'finally', 'for', 'from', 'global', 'if', 'import', 'in', 'is', 'lambda', 'nonlocal', 'not', 'or', 'pass', 'raise', 'return', 'try', 'while', 'with', 'yield']\n"
    }
   ],
   "source": [
    "import keyword\n",
    "print(keyword.kwlist)"
   ]
  },
  {
   "cell_type": "markdown",
   "metadata": {},
   "source": [
    "### 변수 명명법\n",
    "My new car  \n",
    "=> My_new_car => **my_new_car**  :헝가리안표기법  \n",
    "=> Mynewcar => **myNewCar**  : 카멜식(낙타식)표기법"
   ]
  },
  {
   "cell_type": "markdown",
   "metadata": {},
   "source": [
    "#### 변수의 타입  \n",
    "print(type(변수명))"
   ]
  },
  {
   "cell_type": "code",
   "execution_count": 20,
   "metadata": {
    "tags": []
   },
   "outputs": [
    {
     "output_type": "stream",
     "name": "stdout",
     "text": "<class 'int'>\n"
    }
   ],
   "source": [
    "a = 176\n",
    "print(type(a))"
   ]
  },
  {
   "cell_type": "code",
   "execution_count": 21,
   "metadata": {
    "tags": []
   },
   "outputs": [
    {
     "output_type": "stream",
     "name": "stdout",
     "text": "<class 'float'>\n"
    }
   ],
   "source": [
    "print(type(179.8))"
   ]
  },
  {
   "cell_type": "code",
   "execution_count": 22,
   "metadata": {
    "tags": []
   },
   "outputs": [
    {
     "output_type": "stream",
     "name": "stdout",
     "text": "<class 'str'>\n"
    }
   ],
   "source": [
    "st = '키는 height'\n",
    "print(type(st))"
   ]
  },
  {
   "cell_type": "markdown",
   "metadata": {},
   "source": [
    "### 자료형\n",
    "- 정수형 : 양수, 정수  \n",
    "- 실수형 : 소수점이 포함된 실수  \n",
    "- 문자형 : 따옴표에 들어가 있는 문자형  \n",
    "- 불린형 : 참/ 거짓"
   ]
  },
  {
   "cell_type": "markdown",
   "metadata": {},
   "source": [
    "### 사칙연산"
   ]
  },
  {
   "cell_type": "code",
   "execution_count": 23,
   "metadata": {
    "tags": []
   },
   "outputs": [
    {
     "output_type": "stream",
     "name": "stdout",
     "text": "25+30 : 55\n30-12 : 18\n50*3 : 150\n30/5 : 6.0\n7%5 : 2\n7//5 : 1\n"
    }
   ],
   "source": [
    "# 주석은 (샾 : #) 기호 사용, 단축키는 ctrl + '/'\n",
    "print('25+30 :', 25+30) # 덧셈(+)\n",
    "print('30-12 :', 30-12) # 뺄셈(-)\n",
    "print('50*3 :', 50*3)  # 곱셈(*)\n",
    "print('30/5 :', 30/5)  # 나눗셈(/)\n",
    "print('7%5 :', 7%5)   # 나머지(%)\n",
    "print('7//5 :', 7//5)  # 몫연산자 (//)\n",
    "#print()에서 , 로 구분되면 한칸 띄운다"
   ]
  },
  {
   "cell_type": "markdown",
   "metadata": {},
   "source": [
    "### 제곱 연산자"
   ]
  },
  {
   "cell_type": "code",
   "execution_count": 24,
   "metadata": {
    "tags": []
   },
   "outputs": [
    {
     "output_type": "stream",
     "name": "stdout",
     "text": "3^5 : 243\n3^5 : 243\n"
    }
   ],
   "source": [
    "print('3^5 :',3*3*3*3*3)\n",
    "print('3^5 :',3**5)"
   ]
  },
  {
   "cell_type": "markdown",
   "metadata": {},
   "source": [
    "루트 2를 ** 연산자를 사용해서 구해보자"
   ]
  },
  {
   "cell_type": "code",
   "execution_count": 25,
   "metadata": {
    "tags": []
   },
   "outputs": [
    {
     "output_type": "stream",
     "name": "stdout",
     "text": "sqrt(2) : 1.4142135623730951\n"
    }
   ],
   "source": [
    "print('sqrt(2) :', 2**0.5)"
   ]
  },
  {
   "cell_type": "code",
   "execution_count": 26,
   "metadata": {
    "tags": []
   },
   "outputs": [
    {
     "output_type": "stream",
     "name": "stdout",
     "text": "115.80281433592612\n"
    }
   ],
   "source": [
    "num1 = 3.1**4.2\n",
    "print(num1)"
   ]
  },
  {
   "cell_type": "code",
   "execution_count": 27,
   "metadata": {
    "tags": []
   },
   "outputs": [
    {
     "output_type": "stream",
     "name": "stdout",
     "text": "50\n"
    }
   ],
   "source": [
    "num2 = 2 * 5 ** 2\n",
    "print(num2)"
   ]
  },
  {
   "cell_type": "code",
   "execution_count": 28,
   "metadata": {
    "tags": []
   },
   "outputs": [
    {
     "output_type": "stream",
     "name": "stdout",
     "text": "2\n3\n5\n7\n"
    }
   ],
   "source": [
    "a = 1\n",
    "a = a+1\n",
    "print(a)\n",
    "a +=1\n",
    "print(a)\n",
    "a = a+2\n",
    "print(a)\n",
    "a +=2\n",
    "print(a)"
   ]
  },
  {
   "cell_type": "code",
   "execution_count": 29,
   "metadata": {
    "tags": []
   },
   "outputs": [
    {
     "output_type": "stream",
     "name": "stdout",
     "text": "9\n8\n6\n4\n"
    }
   ],
   "source": [
    "a = 10\n",
    "a = a-1\n",
    "print(a)\n",
    "a -=1\n",
    "print(a)\n",
    "a = a-2\n",
    "print(a)\n",
    "a -=2\n",
    "print(a)"
   ]
  },
  {
   "cell_type": "code",
   "execution_count": 30,
   "metadata": {
    "tags": []
   },
   "outputs": [
    {
     "output_type": "stream",
     "name": "stdout",
     "text": "정수를 입력하세요\n"
    },
    {
     "output_type": "error",
     "ename": "ValueError",
     "evalue": "invalid literal for int() with base 10: '179.8888'",
     "traceback": [
      "\u001b[1;31m---------------------------------------------------------------------------\u001b[0m",
      "\u001b[1;31mValueError\u001b[0m                                Traceback (most recent call last)",
      "\u001b[1;32m<ipython-input-30-7f4efa570a94>\u001b[0m in \u001b[0;36m<module>\u001b[1;34m\u001b[0m\n\u001b[0;32m      1\u001b[0m \u001b[0mprint\u001b[0m\u001b[1;33m(\u001b[0m\u001b[1;34m\"정수를 입력하세요\"\u001b[0m\u001b[1;33m)\u001b[0m\u001b[1;33m\u001b[0m\u001b[1;33m\u001b[0m\u001b[0m\n\u001b[1;32m----> 2\u001b[1;33m \u001b[0mx\u001b[0m\u001b[1;33m=\u001b[0m\u001b[0mint\u001b[0m\u001b[1;33m(\u001b[0m\u001b[0minput\u001b[0m\u001b[1;33m(\u001b[0m\u001b[1;33m)\u001b[0m\u001b[1;33m)\u001b[0m \u001b[1;31m#input()은 입력을 문자열로 받음\u001b[0m\u001b[1;33m\u001b[0m\u001b[1;33m\u001b[0m\u001b[0m\n\u001b[0m\u001b[0;32m      3\u001b[0m \u001b[0mprint\u001b[0m\u001b[1;33m(\u001b[0m\u001b[1;34m\"입력한 정수는\"\u001b[0m\u001b[1;33m,\u001b[0m \u001b[0mx\u001b[0m\u001b[1;33m,\u001b[0m \u001b[1;34m\"입니다.\"\u001b[0m\u001b[1;33m)\u001b[0m\u001b[1;33m\u001b[0m\u001b[1;33m\u001b[0m\u001b[0m\n",
      "\u001b[1;31mValueError\u001b[0m: invalid literal for int() with base 10: '179.8888'"
     ]
    }
   ],
   "source": [
    "print(\"정수를 입력하세요\")\n",
    "x=int(input()) #input()은 입력을 문자열로 받음\n",
    "print(\"입력한 정수는\", x, \"입니다.\")"
   ]
  },
  {
   "cell_type": "code",
   "execution_count": 31,
   "metadata": {
    "tags": []
   },
   "outputs": [
    {
     "output_type": "stream",
     "name": "stdout",
     "text": "입력한 정수는 1 입니다.\n"
    }
   ],
   "source": [
    "x=int(input(\"정수를 입력하세요\"))\n",
    "print(\"입력한 정수는\", x, \"입니다.\")"
   ]
  },
  {
   "cell_type": "code",
   "execution_count": 32,
   "metadata": {},
   "outputs": [],
   "source": [
    "# 주석처리\n",
    "# 한줄 주석 #\n",
    "# 여러줄 주석 "
   ]
  },
  {
   "cell_type": "code",
   "execution_count": 33,
   "metadata": {
    "tags": []
   },
   "outputs": [
    {
     "output_type": "stream",
     "name": "stdout",
     "text": "number : 2\nnumber : 10\nnumber : 6\nnumber : 3\nnumber : 1\n"
    }
   ],
   "source": [
    "number = 2\n",
    "print(\"number :\",number)\n",
    "number *= 5\n",
    "print(\"number :\",number)\n",
    "number -= 4\n",
    "print(\"number :\",number)\n",
    "number //= 2\n",
    "print(\"number :\",number)\n",
    "number %= 2\n",
    "print(\"number :\",number)"
   ]
  },
  {
   "cell_type": "markdown",
   "metadata": {},
   "source": [
    "### String 자료형"
   ]
  },
  {
   "cell_type": "code",
   "execution_count": 34,
   "metadata": {
    "tags": []
   },
   "outputs": [
    {
     "output_type": "stream",
     "name": "stdout",
     "text": "Boy\nI am a boy\n"
    }
   ],
   "source": [
    "tom = \"Boy\"\n",
    "bob = 'I am a boy'\n",
    "print(tom)\n",
    "print(bob)"
   ]
  },
  {
   "cell_type": "code",
   "execution_count": 35,
   "metadata": {},
   "outputs": [],
   "source": [
    "a='문장' \n",
    "b= \"문장\" \n",
    "c='''여러줄\n",
    " 문장''' \n",
    "d=\"\"\"여러줄\n",
    "문장\"\"\""
   ]
  },
  {
   "cell_type": "code",
   "execution_count": 36,
   "metadata": {
    "tags": []
   },
   "outputs": [
    {
     "output_type": "stream",
     "name": "stdout",
     "text": "\"영수는 훌륭해\" 선생님이 말씀하셨다\n"
    }
   ],
   "source": [
    "print('\"영수는 훌륭해\" 선생님이 말씀하셨다')"
   ]
  },
  {
   "cell_type": "code",
   "execution_count": 37,
   "metadata": {
    "tags": []
   },
   "outputs": [
    {
     "output_type": "stream",
     "name": "stdout",
     "text": "He's friend is my brother\n"
    }
   ],
   "source": [
    "print(\"He's friend is my brother\")"
   ]
  },
  {
   "cell_type": "markdown",
   "metadata": {},
   "source": [
    "### String 형  - 문자열 병합"
   ]
  },
  {
   "cell_type": "code",
   "execution_count": 38,
   "metadata": {
    "tags": []
   },
   "outputs": [
    {
     "output_type": "stream",
     "name": "stdout",
     "text": "문자(열) 문자(열) 문자(열) 문자(열) \n"
    }
   ],
   "source": [
    "str0 = \"문자(열) \" + \"문자(열) \" + \"문자(열) \" + \"문자(열) \"\n",
    "print(str0)"
   ]
  },
  {
   "cell_type": "code",
   "execution_count": 39,
   "metadata": {
    "tags": []
   },
   "outputs": [
    {
     "output_type": "stream",
     "name": "stdout",
     "text": "===============Python Program===============\n=============== Python Program ===============\n"
    }
   ],
   "source": [
    "start = '=' * 15\n",
    "title = 'Python Program'\n",
    "finish = '=' * 15\n",
    "print(start+title+finish)\n",
    "print(start,title,finish)"
   ]
  },
  {
   "cell_type": "code",
   "execution_count": 40,
   "metadata": {
    "tags": []
   },
   "outputs": [
    {
     "output_type": "stream",
     "name": "stdout",
     "text": "***************Hello, Python***************\n"
    }
   ],
   "source": [
    "str1 = \"Hello, \"\n",
    "str2 = \"Python\"\n",
    "stars = '***'\n",
    "print(stars*5+str1+str2+stars*5)"
   ]
  },
  {
   "cell_type": "markdown",
   "metadata": {},
   "source": [
    "len(string) : string의 길이를 출력(가운데 공백 포함)"
   ]
  },
  {
   "cell_type": "code",
   "execution_count": 41,
   "metadata": {
    "tags": []
   },
   "outputs": [
    {
     "output_type": "stream",
     "name": "stdout",
     "text": "Length of Hello Python : 12\n"
    }
   ],
   "source": [
    "str0 = \"Hello Python\"\n",
    "print(\"Length of\", str0, \":\", len(str0))"
   ]
  },
  {
   "cell_type": "code",
   "execution_count": 42,
   "metadata": {
    "tags": []
   },
   "outputs": [
    {
     "output_type": "stream",
     "name": "stdout",
     "text": "length of 'mountain' : 8\nstr0[ 0 ] =  m\nstr0[ 1 ] =  o\nstr0[ 2 ] =  u\nstr0[ 3 ] =  n\nstr0[ 4 ] =  t\nstr0[ 5 ] =  a\nstr0[ 6 ] =  i\nstr0[ 7 ] =  n\n"
    }
   ],
   "source": [
    "str0 = 'mountain'\n",
    "print(\"length of '\"+str0+\"' :\", len(str0))\n",
    "for n in range(len(str0)) :\n",
    "    print('str0[',n,'] = ', str0[n] )"
   ]
  },
  {
   "cell_type": "code",
   "execution_count": 43,
   "metadata": {
    "tags": []
   },
   "outputs": [
    {
     "output_type": "stream",
     "name": "stdout",
     "text": "length of 'mountain' : 8\nstr0[ 0 ] =  m\nstr0[ 1 ] =  o\nstr0[ 2 ] =  u\nstr0[ 3 ] =  n\nstr0[ 4 ] =  t\nstr0[ 5 ] =  a\nstr0[ 6 ] =  i\nstr0[ 7 ] =  n\n"
    }
   ],
   "source": [
    "str0 = 'mountain'\n",
    "print(\"length of '\"+str0+\"' :\", len(str0))\n",
    "count = 0\n",
    "for ch in str0 :\n",
    "    print('str0[',count,'] = ', ch)\n",
    "    count+=1"
   ]
  },
  {
   "cell_type": "code",
   "execution_count": 44,
   "metadata": {
    "tags": []
   },
   "outputs": [
    {
     "output_type": "stream",
     "name": "stdout",
     "text": "새로 합성할 단어 : mood\nmood\n"
    }
   ],
   "source": [
    "tom = 'Tom is a good student'\n",
    "print(\"새로 합성할 단어 : mood\")\n",
    "print(tom[2]+tom[1]+tom[1]+tom[-4])"
   ]
  },
  {
   "cell_type": "code",
   "execution_count": 45,
   "metadata": {
    "tags": []
   },
   "outputs": [
    {
     "output_type": "error",
     "ename": "TypeError",
     "evalue": "'str' object does not support item assignment",
     "traceback": [
      "\u001b[1;31m---------------------------------------------------------------------------\u001b[0m",
      "\u001b[1;31mTypeError\u001b[0m                                 Traceback (most recent call last)",
      "\u001b[1;32m<ipython-input-45-0259f38bc987>\u001b[0m in \u001b[0;36m<module>\u001b[1;34m\u001b[0m\n\u001b[0;32m      1\u001b[0m \u001b[0mgreeting\u001b[0m \u001b[1;33m=\u001b[0m \u001b[1;34m'Hello Python!'\u001b[0m\u001b[1;33m\u001b[0m\u001b[1;33m\u001b[0m\u001b[0m\n\u001b[1;32m----> 2\u001b[1;33m \u001b[0mgreeting\u001b[0m\u001b[1;33m[\u001b[0m\u001b[1;36m0\u001b[0m\u001b[1;33m]\u001b[0m \u001b[1;33m=\u001b[0m \u001b[1;34m'J'\u001b[0m \u001b[1;31m# 한글자만 바꾸는 것은 불가능하다.\u001b[0m\u001b[1;33m\u001b[0m\u001b[1;33m\u001b[0m\u001b[0m\n\u001b[0m\u001b[0;32m      3\u001b[0m                   \u001b[1;31m# (변경불가)\u001b[0m\u001b[1;33m\u001b[0m\u001b[1;33m\u001b[0m\u001b[1;33m\u001b[0m\u001b[0m\n\u001b[0;32m      4\u001b[0m \u001b[0mprint\u001b[0m\u001b[1;33m(\u001b[0m\u001b[0mgreeting\u001b[0m\u001b[1;33m)\u001b[0m\u001b[1;33m\u001b[0m\u001b[1;33m\u001b[0m\u001b[0m\n",
      "\u001b[1;31mTypeError\u001b[0m: 'str' object does not support item assignment"
     ]
    }
   ],
   "source": [
    "greeting = 'Hello Python!'\n",
    "greeting[0] = 'J' # 한글자만 바꾸는 것은 불가능하다.\n",
    "                  # (변경불가)\n",
    "print(greeting)"
   ]
  },
  {
   "cell_type": "markdown",
   "metadata": {},
   "source": [
    "slice : string의 일부를 취할 수 있음  \n",
    "Hello  \"Hello\"\\[1:4\\] => \"ell\""
   ]
  },
  {
   "cell_type": "code",
   "execution_count": 46,
   "metadata": {
    "tags": []
   },
   "outputs": [
    {
     "output_type": "stream",
     "name": "stdout",
     "text": "ell\n"
    }
   ],
   "source": [
    "print(\"Hello\"[1:4])"
   ]
  },
  {
   "cell_type": "code",
   "execution_count": 47,
   "metadata": {
    "tags": []
   },
   "outputs": [
    {
     "output_type": "stream",
     "name": "stdout",
     "text": "length of 'Hello' : 5\nHello[ 0 ] =  H\nHello[ 1 ] =  e\nHello[ 2 ] =  l\nHello[ 3 ] =  l\nHello[ 4 ] =  o\n"
    }
   ],
   "source": [
    "str1 = 'Hello'\n",
    "print(\"length of '\"+str1+\"' :\", len(str1))\n",
    "for n in range(len(str1)) :\n",
    "    print(str1+'[',n,'] = ', str1[n] )"
   ]
  },
  {
   "cell_type": "markdown",
   "metadata": {},
   "source": [
    "\\[:n\\] 처음부터 n-1까지  \n",
    "\\[m:\\] m번째 부터 string의 끝까지  \n",
    "\\[m:문자열의 길이보다 큰값\\] m번째부터 끝까지"
   ]
  },
  {
   "cell_type": "code",
   "execution_count": 48,
   "metadata": {
    "tags": []
   },
   "outputs": [
    {
     "output_type": "stream",
     "name": "stdout",
     "text": "yellow apple\n"
    }
   ],
   "source": [
    "string1 = \"red apple\"\n",
    "string2 = \"yellow banana\"\n",
    "print(string2[:6]+ string1[3:])"
   ]
  },
  {
   "cell_type": "markdown",
   "metadata": {},
   "source": [
    "### 자료 형 변환"
   ]
  },
  {
   "cell_type": "code",
   "execution_count": 49,
   "metadata": {
    "tags": []
   },
   "outputs": [
    {
     "output_type": "stream",
     "name": "stdout",
     "text": "10 10 20\n"
    }
   ],
   "source": [
    "# 정수 <-> 실수 변환\n",
    "a = int(10.99)\n",
    "b = int(10.3)\n",
    "print(a, b, a+b)"
   ]
  },
  {
   "cell_type": "code",
   "execution_count": 50,
   "metadata": {
    "tags": []
   },
   "outputs": [
    {
     "output_type": "stream",
     "name": "stdout",
     "text": "10 10.0 20.0\n"
    }
   ],
   "source": [
    "a = 10\n",
    "b = float(a)\n",
    "print(a, b, a+b)"
   ]
  },
  {
   "cell_type": "code",
   "execution_count": 51,
   "metadata": {
    "tags": []
   },
   "outputs": [
    {
     "output_type": "stream",
     "name": "stdout",
     "text": "3.3333333333333335\n"
    }
   ],
   "source": [
    "a = 10\n",
    "b = 3\n",
    "print(a/b)"
   ]
  },
  {
   "cell_type": "code",
   "execution_count": 52,
   "metadata": {
    "tags": []
   },
   "outputs": [
    {
     "output_type": "stream",
     "name": "stdout",
     "text": "76.3 76.3\n"
    }
   ],
   "source": [
    "# 문자형 => 숫자형간의 변환\n",
    "a = '76.3'\n",
    "b = float(a)\n",
    "print(a, b)\n",
    "#print(a+b) # 문자+숫자는 자료형이 불일치"
   ]
  },
  {
   "cell_type": "code",
   "execution_count": 53,
   "metadata": {
    "tags": []
   },
   "outputs": [
    {
     "output_type": "stream",
     "name": "stdout",
     "text": "76.376.3\n"
    }
   ],
   "source": [
    "# 숫자형 =>문자형 변환\n",
    "a = b = 76.3\n",
    "a = str(a)\n",
    "b = str(b)\n",
    "print(a+b)"
   ]
  },
  {
   "cell_type": "code",
   "execution_count": 54,
   "metadata": {
    "tags": []
   },
   "outputs": [
    {
     "output_type": "stream",
     "name": "stdout",
     "text": "<class 'int'>\n<class 'float'>\n<class 'str'>\n"
    }
   ],
   "source": [
    "a = int(10.3)\n",
    "b = float(10.3)\n",
    "c = str(10.3)\n",
    "\n",
    "print(type(a))\n",
    "print(type(b))\n",
    "print(type(c))"
   ]
  },
  {
   "cell_type": "markdown",
   "metadata": {},
   "source": [
    "문제 :  \n",
    "  키를 입력하시오: 180  \n",
    "  당신의 키는 180.0cm 입니다.  \n",
    "  (180.0과 cm는 붙어있고, 결과는 소수점 1자리까지 표시한다)"
   ]
  },
  {
   "cell_type": "code",
   "execution_count": 66,
   "metadata": {
    "tags": []
   },
   "outputs": [
    {
     "output_type": "stream",
     "name": "stdout",
     "text": "당신의 키는 18.0cm 입니다.\n당신의 키는 17.99999999cm 입니다.\n"
    }
   ],
   "source": [
    "height = float(input('키를 입력하시오 : '))\n",
    "print(\"당신의 키는 %.1fcm 입니다.\"%(height))\n",
    "print(\"당신의 키는 {}cm 입니다.\".format(height))"
   ]
  },
  {
   "cell_type": "markdown",
   "metadata": {},
   "source": [
    "문제 :  \n",
    "  키를 입력하시오: 180.77  \n",
    "  당신의 키는 180cm 입니다.  \n",
    "  (180과 cm는 붙어있고, 결과는 정수로 소수점아래를 버린다.)"
   ]
  },
  {
   "cell_type": "code",
   "execution_count": 70,
   "metadata": {
    "tags": []
   },
   "outputs": [
    {
     "output_type": "stream",
     "name": "stdout",
     "text": "당신의 키는 179cm 입니다.\n당신의 키는 179cm 입니다.\n"
    }
   ],
   "source": [
    "height = float(input('키를 입력하시오 : '))\n",
    "print(\"당신의 키는 %dcm 입니다.\"%(height))\n",
    "print(\"당신의 키는 {}cm 입니다.\".format(int(height)))"
   ]
  },
  {
   "cell_type": "code",
   "execution_count": 71,
   "metadata": {
    "tags": []
   },
   "outputs": [
    {
     "output_type": "stream",
     "name": "stdout",
     "text": "1 2 3\nabc\n"
    }
   ],
   "source": [
    "print(\"%d %d %d\"%(1,2,3))\n",
    "print(\"{}{}{}\".format(\"a\",\"b\",\"c\"))"
   ]
  },
  {
   "cell_type": "markdown",
   "metadata": {},
   "source": [
    "\"~~ %자료형1 ~~\"%(값1)"
   ]
  },
  {
   "cell_type": "code",
   "execution_count": 73,
   "metadata": {
    "tags": []
   },
   "outputs": [
    {
     "output_type": "stream",
     "name": "stdout",
     "text": "one two\n1 2\n"
    }
   ],
   "source": [
    "print(\"%s %s\"%('one', 'two'))\n",
    "print(\"%d %d\"%(1,2))"
   ]
  },
  {
   "cell_type": "code",
   "execution_count": 74,
   "metadata": {
    "tags": []
   },
   "outputs": [
    {
     "output_type": "stream",
     "name": "stdout",
     "text": "I eat 3 apples\nI eat five apples\n"
    }
   ],
   "source": [
    "print(\"I eat %d apples\"%3)\n",
    "print(\"I eat %s apples\"%'five')"
   ]
  },
  {
   "cell_type": "code",
   "execution_count": 76,
   "metadata": {
    "tags": []
   },
   "outputs": [
    {
     "output_type": "stream",
     "name": "stdout",
     "text": "I love meet\nMy thing is 180cm\nI get A grade\n14마일 남았어\n1.234568e+07키로만 더 찌워야지\n0.005000키로만 더 빼야지\n"
    }
   ],
   "source": [
    "print(\"I love %s\" %(\"meet\"))\n",
    "print(\"My thing is %dcm\" %(180))\n",
    "print(\"I get %c grade\" %(\"A\"))\n",
    "print(\"%x마일 남았어\" %(20)) # 16진수\n",
    "print(\"%e키로만 더 찌워야지\" %(12345678)) # 지수승으로 표시\n",
    "print(\"%f키로만 더 빼야지\" %(0.005)) #소수점 표시(기본6자리)"
   ]
  },
  {
   "cell_type": "code",
   "execution_count": 79,
   "metadata": {
    "tags": []
   },
   "outputs": [
    {
     "output_type": "stream",
     "name": "stdout",
     "text": "제품: Apple, 개당가격: 5.243000$.\n사과를 3개 먹음. I was sick for three days\n"
    }
   ],
   "source": [
    "print(\"제품: %s, 개당가격: %f$.\" %(\"Apple\",5.243))\n",
    "number = 3\n",
    "day = \"three\"\n",
    "print(\"사과를 %d개 먹음. I was sick for %s days\"\n",
    "%(number,day))\n"
   ]
  },
  {
   "cell_type": "markdown",
   "metadata": {},
   "source": [
    "\"{자료형}\".format(인수)"
   ]
  },
  {
   "cell_type": "code",
   "execution_count": 80,
   "metadata": {
    "tags": []
   },
   "outputs": [
    {
     "output_type": "stream",
     "name": "stdout",
     "text": "I'm 20 years old.\n"
    }
   ],
   "source": [
    "print(\"I'm {0} years old.\".format(20))"
   ]
  },
  {
   "cell_type": "code",
   "execution_count": 83,
   "metadata": {
    "tags": []
   },
   "outputs": [
    {
     "output_type": "stream",
     "name": "stdout",
     "text": "제품:Apple,가격:5.24$.\n"
    }
   ],
   "source": [
    "print(\"제품:{0},가격:{1:.2f}$.\".format(\"Apple\",5.243))"
   ]
  },
  {
   "cell_type": "code",
   "execution_count": 81,
   "metadata": {
    "tags": []
   },
   "outputs": [
    {
     "output_type": "stream",
     "name": "stdout",
     "text": "Hello Bob\n"
    }
   ],
   "source": [
    "test = 'Hello {}'.format('Bob')\n",
    "print(test)"
   ]
  },
  {
   "cell_type": "code",
   "execution_count": 91,
   "metadata": {
    "tags": []
   },
   "outputs": [
    {
     "output_type": "stream",
     "name": "stdout",
     "text": "5.94      \n     5.943\n      5.94\n"
    }
   ],
   "source": [
    "print(\"%-10.2f\"%5.94343) #좌측정렬\n",
    "print(\"%10.3f\"%5.94343)\n",
    "print(\"%10.2f\"%5.94343)"
   ]
  },
  {
   "cell_type": "code",
   "execution_count": 88,
   "metadata": {
    "tags": []
   },
   "outputs": [
    {
     "output_type": "stream",
     "name": "stdout",
     "text": "Apple     \n     Apple\n"
    }
   ],
   "source": [
    "print(\"{0:<10s}\".format(\"Apple\")) # 좌측정렬\n",
    "print(\"{0:>10s}\".format(\"Apple\")) # 우측정렬"
   ]
  },
  {
   "cell_type": "markdown",
   "metadata": {},
   "source": [
    "초단위의 시간을 받아서 몇 분 몇 초인지를 계산해여 보자"
   ]
  },
  {
   "cell_type": "code",
   "execution_count": 18,
   "metadata": {
    "tags": []
   },
   "outputs": [
    {
     "output_type": "stream",
     "name": "stdout",
     "text": "시간을 입력하시오(초단위) :\n1000초는 0시간 16분 40초 입니다.\n"
    }
   ],
   "source": [
    "print(\"시간을 입력하시오(초단위) :\")\n",
    "num = float(input())\n",
    "second = float(num%60)\n",
    "minute = float(num/60)\n",
    "hour = float(minute/24)\n",
    "print(\"%d초는 %d시간 %d분 %d초 입니다.\"%(num, hour, minute, second))"
   ]
  },
  {
   "cell_type": "markdown",
   "metadata": {},
   "source": [
    "커피 매출 계산  \n",
    "아메리카노 : 2,000원  \n",
    "카페라떼 : 3,000원  \n",
    "카푸치노 : 3,500원"
   ]
  },
  {
   "cell_type": "code",
   "execution_count": 22,
   "metadata": {
    "tags": []
   },
   "outputs": [
    {
     "output_type": "stream",
     "name": "stdout",
     "text": "아메리카노 판매 개수 입력 :\n카페라떼 판매 개수 입력 :\n카푸치노 판매 개수 입력 :\n총 매출은 185000원 입니다.\n"
    }
   ],
   "source": [
    "print(\"아메리카노 판매 개수 입력 :\")\n",
    "ameri = int(input())\n",
    "print(\"카페라떼 판매 개수 입력 :\")\n",
    "cafe = int(input())\n",
    "print(\"카푸치노 판매 개수 입력 :\")\n",
    "cafu = int(input())\n",
    "incom = ameri * 2000 + cafe*3000 + cafu*3500\n",
    "print(\"총 매출은 %d원 입니다.\"%(incom))"
   ]
  },
  {
   "cell_type": "markdown",
   "metadata": {},
   "source": [
    "화씨 온도를 섭씨로 변환"
   ]
  },
  {
   "cell_type": "code",
   "execution_count": 24,
   "metadata": {
    "tags": []
   },
   "outputs": [
    {
     "output_type": "stream",
     "name": "stdout",
     "text": "화씨 온도 입력 :\n섭씨 온도 : 37.77777777777778\n"
    }
   ],
   "source": [
    "print(\"화씨 온도 입력 :\")\n",
    "f = int(input())\n",
    "c = float((f-32)*(5/9))\n",
    "print(\"섭씨 온도 : {}\".format(c))"
   ]
  },
  {
   "cell_type": "markdown",
   "metadata": {},
   "source": [
    "## 조건문"
   ]
  },
  {
   "cell_type": "code",
   "execution_count": 4,
   "metadata": {
    "tags": []
   },
   "outputs": [
    {
     "output_type": "stream",
     "name": "stdout",
     "text": "앞면\n게임종료\n"
    }
   ],
   "source": [
    "import random\n",
    "coin = random.randrange(2)\n",
    "if coin == 0:\n",
    "    print(\"뒷면\")\n",
    "else :\n",
    "    print(\"앞면\")\n",
    "print(\"게임종료\")\n"
   ]
  },
  {
   "cell_type": "code",
   "execution_count": 7,
   "metadata": {
    "tags": []
   },
   "outputs": [
    {
     "output_type": "stream",
     "name": "stdout",
     "text": "8\n3\n9\n10\n6\n9\n3\n4\n8\n2\n"
    }
   ],
   "source": [
    "import random\n",
    "for i in range(10) :\n",
    "    print(random.randint(0,10)) # 0~10 사이의 값"
   ]
  },
  {
   "cell_type": "code",
   "execution_count": 8,
   "metadata": {
    "tags": []
   },
   "outputs": [
    {
     "output_type": "stream",
     "name": "stdout",
     "text": "저녁\n"
    }
   ],
   "source": [
    "import random\n",
    "choice = random.choice([\"오전\", \"오후\", \"저녁\"])\n",
    "print(choice)"
   ]
  },
  {
   "cell_type": "code",
   "execution_count": 17,
   "metadata": {
    "tags": []
   },
   "outputs": [
    {
     "output_type": "stream",
     "name": "stdout",
     "text": "어디를 수비하시겠습니까?(왼쪽, 중앙, 오른쪽) : \n중앙\n중앙\n수비 성공!\n"
    }
   ],
   "source": [
    "import random\n",
    "print(\"어디를 수비하시겠습니까?(왼쪽, 중앙, 오른쪽) : \")\n",
    "ch1 = str(input())\n",
    "print(ch1)\n",
    "ch2 = random.choice([\"왼쪽\", \"중앙\", \"오른쪽\"])\n",
    "print(ch2)\n",
    "if ch1 == ch2 :\n",
    "    print(\"수비 성공!\")\n",
    "else :\n",
    "    print(\"골!!\")"
   ]
  },
  {
   "cell_type": "code",
   "execution_count": 18,
   "metadata": {
    "tags": []
   },
   "outputs": [
    {
     "output_type": "stream",
     "name": "stdout",
     "text": "False\n"
    }
   ],
   "source": [
    "a=8\n",
    "b=8\n",
    "result = (a==8 and b==4)\n",
    "print(result)"
   ]
  },
  {
   "cell_type": "code",
   "execution_count": 19,
   "metadata": {
    "tags": []
   },
   "outputs": [
    {
     "output_type": "stream",
     "name": "stdout",
     "text": "True\n"
    }
   ],
   "source": [
    "a=8\n",
    "b=8\n",
    "result = (a>7 and b>7)\n",
    "print(result)"
   ]
  },
  {
   "cell_type": "markdown",
   "metadata": {},
   "source": [
    "### if문\n",
    "if :  \n",
    "elif :  \n",
    "else :  "
   ]
  },
  {
   "cell_type": "code",
   "execution_count": 23,
   "metadata": {
    "tags": []
   },
   "outputs": [
    {
     "output_type": "stream",
     "name": "stdout",
     "text": "나이 입력 :\n25\nadult\n"
    }
   ],
   "source": [
    "print(\"나이 입력 :\")\n",
    "age = int(input())\n",
    "print(age)\n",
    "if age<10 :\n",
    "    print(\"kid\")\n",
    "elif age < 20 :\n",
    "    print(\"student\")\n",
    "else :\n",
    "    print(\"adult\")"
   ]
  },
  {
   "cell_type": "markdown",
   "metadata": {},
   "source": [
    "## range()  \n",
    "## range(start=0, stop, step=1)"
   ]
  },
  {
   "cell_type": "code",
   "execution_count": 27,
   "metadata": {
    "tags": []
   },
   "outputs": [
    {
     "output_type": "stream",
     "name": "stdout",
     "text": "0  1  2  3  4"
    }
   ],
   "source": [
    "for i in range(5) : \n",
    "    print(i, end = \" \")"
   ]
  },
  {
   "cell_type": "code",
   "execution_count": 28,
   "metadata": {
    "tags": []
   },
   "outputs": [
    {
     "output_type": "stream",
     "name": "stdout",
     "text": "1 2 3 4"
    }
   ],
   "source": [
    "for i in range(1, 5) : #range(시작숫자, 끝숫자)\n",
    "    print(i, end = \" \")"
   ]
  },
  {
   "cell_type": "code",
   "execution_count": 29,
   "metadata": {
    "tags": []
   },
   "outputs": [
    {
     "output_type": "stream",
     "name": "stdout",
     "text": "1 3 5 7 9"
    }
   ],
   "source": [
    "for i in range(1, 10, 2) : #range(시작숫자, 끝숫자, 뛰어세기)\n",
    "    print(i, end = \" \")"
   ]
  },
  {
   "cell_type": "code",
   "execution_count": 31,
   "metadata": {
    "tags": []
   },
   "outputs": [
    {
     "output_type": "stream",
     "name": "stdout",
     "text": "123\n456\n798\n741\n852\n963\n"
    }
   ],
   "source": [
    "array = [123,456,798,741,852,963]#list\n",
    "for element in array :\n",
    "    print(element)"
   ]
  },
  {
   "cell_type": "code",
   "execution_count": 38,
   "metadata": {
    "tags": []
   },
   "outputs": [
    {
     "output_type": "stream",
     "name": "stdout",
     "text": "123\n456\n798\n741\n852\n963\n"
    }
   ],
   "source": [
    "array = [123,456,798,741,852,963]#list\n",
    "i = 0\n",
    "for element in array :\n",
    "    print(element)\n",
    "    i+=1"
   ]
  },
  {
   "cell_type": "code",
   "execution_count": 33,
   "metadata": {
    "tags": []
   },
   "outputs": [
    {
     "output_type": "stream",
     "name": "stdout",
     "text": "0번째 반복 : 123\n1번째 반복 : 456\n2번째 반복 : 798\n3번째 반복 : 741\n4번째 반복 : 852\n5번째 반복 : 963\n"
    }
   ],
   "source": [
    "array = [123,456,798,741,852,963]#list\n",
    "for i in range(len(array)) :\n",
    "    print(str(i) + \"번째 반복 : \"+ str(array[i]))"
   ]
  },
  {
   "cell_type": "code",
   "execution_count": 37,
   "metadata": {
    "tags": []
   },
   "outputs": [
    {
     "output_type": "stream",
     "name": "stdout",
     "text": "0번째 반복 : 123\n0번째 반복 : 123\n1번째 반복 : 456\n1번째 반복 : 456\n2번째 반복 : 798\n2번째 반복 : 798\n3번째 반복 : 741\n3번째 반복 : 741\n4번째 반복 : 852\n4번째 반복 : 852\n5번째 반복 : 963\n5번째 반복 : 963\n"
    }
   ],
   "source": [
    "array = [123,456,798,741,852,963]#list\n",
    "for i in range(len(array)) :\n",
    "    print(\"%d번째 반복 : %d\"%(i, array[i]))\n",
    "    print(\"{}번째 반복 : {}\".format(i, array[i]))"
   ]
  },
  {
   "cell_type": "code",
   "execution_count": 39,
   "metadata": {
    "tags": []
   },
   "outputs": [
    {
     "output_type": "stream",
     "name": "stdout",
     "text": "9 8 7 6 5 4 3 2 1 0"
    }
   ],
   "source": [
    "for i in reversed(range(10)) :\n",
    "    print(i, end=\" \")"
   ]
  },
  {
   "cell_type": "markdown",
   "metadata": {},
   "source": [
    "## break"
   ]
  },
  {
   "cell_type": "code",
   "execution_count": 40,
   "metadata": {
    "tags": []
   },
   "outputs": [
    {
     "output_type": "stream",
     "name": "stdout",
     "text": "0 1 2 3 4 \nEnd of Program\n"
    }
   ],
   "source": [
    "for i in range(10) :\n",
    "    if i==5 :\n",
    "        break\n",
    "    print(i, end=\" \")\n",
    "print()\n",
    "print('End of Program')"
   ]
  },
  {
   "cell_type": "code",
   "execution_count": 45,
   "metadata": {
    "tags": []
   },
   "outputs": [
    {
     "output_type": "stream",
     "name": "stdout",
     "text": "apple\ntype is string\n5\ntype is integer\nbanana\ntype is string\nprape\ntype is string\n3\ntype is integer\n8\ntype is integer\n6\ntype is integer\nmelon\ntype is string\n"
    }
   ],
   "source": [
    "mixlist= ['apple', 5, 'banana', 'prape', 3, 8, 6, 'melon']\n",
    "for i in mixlist :\n",
    "    print(i)\n",
    "    if type(i) == int :\n",
    "        print(\"type is integer\")\n",
    "    else :\n",
    "        print(\"type is string\")"
   ]
  },
  {
   "cell_type": "code",
   "execution_count": null,
   "metadata": {},
   "outputs": [],
   "source": []
  }
 ]
}