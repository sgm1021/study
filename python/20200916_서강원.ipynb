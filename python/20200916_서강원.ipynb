{
 "metadata": {
  "language_info": {
   "codemirror_mode": {
    "name": "ipython",
    "version": 3
   },
   "file_extension": ".py",
   "mimetype": "text/x-python",
   "name": "python",
   "nbconvert_exporter": "python",
   "pygments_lexer": "ipython3",
   "version": "3.8.3-final"
  },
  "orig_nbformat": 2,
  "kernelspec": {
   "name": "python_defaultSpec_1600224815127",
   "display_name": "Python 3.8.3 64-bit ('w': virtualenv)"
  }
 },
 "nbformat": 4,
 "nbformat_minor": 2,
 "cells": [
  {
   "source": [
    "<h1> <center> PYTHON </center> </h1>\n",
    "<h2><center>2020.09.16</center>\n",
    "<br>\n",
    "<center>서 강 원 </center> </h2>\n",
    "\n",
    "---"
   ],
   "cell_type": "markdown",
   "metadata": {}
  },
  {
   "source": [
    "### 문항1"
   ],
   "cell_type": "markdown",
   "metadata": {}
  },
  {
   "cell_type": "code",
   "execution_count": 1,
   "metadata": {
    "tags": []
   },
   "outputs": [
    {
     "output_type": "stream",
     "name": "stdout",
     "text": "si\n"
    }
   ],
   "source": [
    "a='string'\n",
    "print(a[0] + a[3:4])"
   ]
  },
  {
   "source": [
    "### 문항2"
   ],
   "cell_type": "markdown",
   "metadata": {}
  },
  {
   "cell_type": "code",
   "execution_count": 2,
   "metadata": {
    "tags": []
   },
   "outputs": [
    {
     "output_type": "stream",
     "name": "stdout",
     "text": "['하나', '둘', '넷', '다섯', '여섯', '일곱', 1, 2, 3.0]\n"
    }
   ],
   "source": [
    "a = ['하나','둘', 1,2,3.0]\n",
    "b = ['넷','다섯']\n",
    "c = '여섯'\n",
    "d = '일곱'\n",
    "\n",
    "a.insert(2, b[0])\n",
    "a.insert(3, b[1])\n",
    "a.insert(4, c)\n",
    "a.insert(5, d)\n",
    "print(a)\n"
   ]
  },
  {
   "source": [
    "### 문항3"
   ],
   "cell_type": "markdown",
   "metadata": {}
  },
  {
   "cell_type": "code",
   "execution_count": 3,
   "metadata": {
    "tags": []
   },
   "outputs": [
    {
     "output_type": "stream",
     "name": "stdout",
     "text": "b : ['하나', '둘', '일곱', 1, 2, 3.0, '넷', '다섯', '여섯', 'A']\nc : ['하나', '둘', '일곱', 1, 2, 3.0, '넷', '다섯', '여섯', 'A']\na==b : True\na==c : False\n"
    }
   ],
   "source": [
    "import copy\n",
    "a = ['하나', '둘', '일곱', 1, 2, 3.0, '넷', '다섯', '여섯', 'A']\n",
    "b = a\n",
    "c = a.copy()\n",
    "\n",
    "print(\"b :\", b)\n",
    "print(\"c :\", c)\n",
    "print(\"a==b :\", a is b)\n",
    "print(\"a==c :\", a is c)"
   ]
  },
  {
   "source": [
    "### 문항4"
   ],
   "cell_type": "markdown",
   "metadata": {}
  },
  {
   "cell_type": "code",
   "execution_count": 4,
   "metadata": {
    "tags": []
   },
   "outputs": [
    {
     "output_type": "stream",
     "name": "stdout",
     "text": "f의 값은(a=1, args=(2, 3, 4), kwargs={'b': 5, 'c': 6}\n"
    }
   ],
   "source": [
    "def f(a = 0, *args, **kwargs) :\n",
    "    print('f의 값은(a=%s, args=%s, kwargs=%s'%(a, args, kwargs))\n",
    "\n",
    "f(1, 2, 3, 4, b=5, c=6)"
   ]
  },
  {
   "source": [
    "### 문항5"
   ],
   "cell_type": "markdown",
   "metadata": {}
  },
  {
   "cell_type": "code",
   "execution_count": 5,
   "metadata": {},
   "outputs": [
    {
     "output_type": "execute_result",
     "data": {
      "text/plain": "10.0"
     },
     "metadata": {},
     "execution_count": 5
    }
   ],
   "source": [
    "(lambda b,h: 0.5*b*h)(5,4)"
   ]
  },
  {
   "source": [
    "### 문항6"
   ],
   "cell_type": "markdown",
   "metadata": {}
  },
  {
   "cell_type": "code",
   "execution_count": 177,
   "metadata": {
    "tags": []
   },
   "outputs": [
    {
     "output_type": "error",
     "ename": "TypeError",
     "evalue": "add() missing 1 required positional argument: 'val'",
     "traceback": [
      "\u001b[1;31m---------------------------------------------------------------------------\u001b[0m",
      "\u001b[1;31mTypeError\u001b[0m                                 Traceback (most recent call last)",
      "\u001b[1;32m<ipython-input-177-e9e36ef8fa2e>\u001b[0m in \u001b[0;36m<module>\u001b[1;34m\u001b[0m\n\u001b[0;32m     21\u001b[0m \u001b[1;33m\u001b[0m\u001b[0m\n\u001b[0;32m     22\u001b[0m \u001b[0mcal\u001b[0m \u001b[1;33m=\u001b[0m \u001b[0mMaxLimitCalculator\u001b[0m\u001b[1;33m(\u001b[0m\u001b[1;33m)\u001b[0m\u001b[1;33m\u001b[0m\u001b[1;33m\u001b[0m\u001b[0m\n\u001b[1;32m---> 23\u001b[1;33m \u001b[0mcal\u001b[0m\u001b[1;33m.\u001b[0m\u001b[0madd\u001b[0m\u001b[1;33m(\u001b[0m\u001b[1;36m50\u001b[0m\u001b[1;33m)\u001b[0m\u001b[1;33m\u001b[0m\u001b[1;33m\u001b[0m\u001b[0m\n\u001b[0m\u001b[0;32m     24\u001b[0m \u001b[0mcal\u001b[0m\u001b[1;33m.\u001b[0m\u001b[0madd\u001b[0m\u001b[1;33m(\u001b[0m\u001b[1;36m60\u001b[0m\u001b[1;33m)\u001b[0m\u001b[1;33m\u001b[0m\u001b[1;33m\u001b[0m\u001b[0m\n\u001b[0;32m     25\u001b[0m \u001b[0mprint\u001b[0m\u001b[1;33m(\u001b[0m\u001b[0mcal\u001b[0m\u001b[1;33m.\u001b[0m\u001b[0mvalue\u001b[0m\u001b[1;33m)\u001b[0m\u001b[1;33m\u001b[0m\u001b[1;33m\u001b[0m\u001b[0m\n",
      "\u001b[1;32m<ipython-input-177-e9e36ef8fa2e>\u001b[0m in \u001b[0;36madd\u001b[1;34m(self, val)\u001b[0m\n\u001b[0;32m     11\u001b[0m \u001b[1;32mclass\u001b[0m \u001b[0mMaxLimitCalculator\u001b[0m\u001b[1;33m(\u001b[0m\u001b[0mCalculator\u001b[0m\u001b[1;33m)\u001b[0m\u001b[1;33m:\u001b[0m\u001b[1;33m\u001b[0m\u001b[1;33m\u001b[0m\u001b[0m\n\u001b[0;32m     12\u001b[0m     \u001b[1;32mdef\u001b[0m \u001b[0madd\u001b[0m\u001b[1;33m(\u001b[0m\u001b[0mself\u001b[0m\u001b[1;33m,\u001b[0m \u001b[0mval\u001b[0m\u001b[1;33m)\u001b[0m\u001b[1;33m:\u001b[0m\u001b[1;33m\u001b[0m\u001b[1;33m\u001b[0m\u001b[0m\n\u001b[1;32m---> 13\u001b[1;33m         \u001b[0msuper\u001b[0m\u001b[1;33m(\u001b[0m\u001b[1;33m)\u001b[0m\u001b[1;33m.\u001b[0m\u001b[0madd\u001b[0m\u001b[1;33m(\u001b[0m\u001b[1;33m)\u001b[0m\u001b[1;33m\u001b[0m\u001b[1;33m\u001b[0m\u001b[0m\n\u001b[0m\u001b[0;32m     14\u001b[0m         \u001b[1;32mif\u001b[0m \u001b[0mvalue\u001b[0m\u001b[1;33m>\u001b[0m\u001b[1;36m100\u001b[0m\u001b[1;33m:\u001b[0m\u001b[1;33m\u001b[0m\u001b[1;33m\u001b[0m\u001b[0m\n\u001b[0;32m     15\u001b[0m             \u001b[0mself\u001b[0m\u001b[1;33m.\u001b[0m\u001b[0mvalue\u001b[0m \u001b[1;33m=\u001b[0m \u001b[0mvalue\u001b[0m\u001b[1;33m\u001b[0m\u001b[1;33m\u001b[0m\u001b[0m\n",
      "\u001b[1;31mTypeError\u001b[0m: add() missing 1 required positional argument: 'val'"
     ]
    }
   ],
   "source": [
    "class Calculator :\n",
    "    def __init__(self):\n",
    "        self.value = 0\n",
    "    def add(self, val):\n",
    "        self.value += val\n",
    "\n",
    "class UpgradeCalculator(Calculator):\n",
    "    def minus(self, val):\n",
    "        self.value -= val\n",
    "    \n",
    "class MaxLimitCalculator(Calculator):\n",
    "    def add(self, val):\n",
    "        super().add()\n",
    "        if value>100:\n",
    "            self.value = value\n",
    "        \n",
    "\n",
    "cal = UpgradeCalculator()\n",
    "cal.add(10)\n",
    "cal.minus(10)\n",
    "\n",
    "cal = MaxLimitCalculator()\n",
    "cal.add(50)\n",
    "cal.add(60)\n",
    "print(cal.value)"
   ]
  },
  {
   "source": [
    "### 문항7"
   ],
   "cell_type": "markdown",
   "metadata": {}
  },
  {
   "cell_type": "code",
   "execution_count": 3,
   "metadata": {
    "tags": []
   },
   "outputs": [
    {
     "output_type": "stream",
     "name": "stdout",
     "text": "[1, 4, 9, 16, 25]\n[1, 4, 9, 16, 25]\n"
    }
   ],
   "source": [
    "b = [i*i for i in [1,2,3,4,5]]\n",
    "print(b)\n",
    "def g(): \n",
    "  for i in range(1,6): \n",
    "    yield i*i\n",
    "\n",
    "print(list(g()))"
   ]
  },
  {
   "source": [
    "### 문항8"
   ],
   "cell_type": "markdown",
   "metadata": {}
  },
  {
   "cell_type": "code",
   "execution_count": 179,
   "metadata": {},
   "outputs": [],
   "source": [
    "f=open(\"C:/Windows/system.ini\",'r')\n",
    "f_out = open('test_out.txt',mode='w')\n",
    "i=0\n",
    "while True:\n",
    "    line = f.readline()\n",
    "    line.lower()\n",
    "    if not line:\n",
    "        break\n",
    "    if 'fon' in line :\n",
    "        for i in range(line.count('fon')):\n",
    "            line=line.replace('fon','fon({})'.format(i))\n",
    "    f_out.write(line)\n",
    "f_out.close()\n",
    "f.close()"
   ]
  },
  {
   "source": [
    "### 문항9"
   ],
   "cell_type": "markdown",
   "metadata": {}
  },
  {
   "cell_type": "code",
   "execution_count": 69,
   "metadata": {
    "tags": []
   },
   "outputs": [
    {
     "output_type": "execute_result",
     "data": {
      "text/plain": "[4, 9, 20, 27, 33, 41]"
     },
     "metadata": {},
     "execution_count": 69
    }
   ],
   "source": [
    "import random\n",
    "a = random.sample(range(1,46),6)\n",
    "a.sort()\n",
    "a"
   ]
  }
 ]
}