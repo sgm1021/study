{
 "metadata": {
  "language_info": {
   "codemirror_mode": {
    "name": "ipython",
    "version": 3
   },
   "file_extension": ".py",
   "mimetype": "text/x-python",
   "name": "python",
   "nbconvert_exporter": "python",
   "pygments_lexer": "ipython3",
   "version": "3.8.3-final"
  },
  "orig_nbformat": 2,
  "kernelspec": {
   "name": "python_defaultSpec_1600224815658",
   "display_name": "Python 3.8.3 64-bit ('base': conda)"
  }
 },
 "nbformat": 4,
 "nbformat_minor": 2,
 "cells": [
  {
   "cell_type": "markdown",
   "metadata": {},
   "source": [
    "# 함수"
   ]
  },
  {
   "cell_type": "markdown",
   "metadata": {},
   "source": [
    "def 함수이름(매개변수 #1...) :  \n",
    "&nbsp&nbsp&nbsp&nbsp수행문1  \n",
    "&nbsp&nbsp&nbsp&nbsp수행문2  \n",
    "&nbsp&nbsp&nbsp&nbspreturn<반환값>"
   ]
  },
  {
   "cell_type": "code",
   "execution_count": 4,
   "metadata": {
    "tags": []
   },
   "outputs": [
    {
     "output_type": "stream",
     "name": "stdout",
     "text": "사각형의 넓이 : 200\n"
    }
   ],
   "source": [
    "def calculate_rectangle_area(width, height) :\n",
    "    return width*height\n",
    "\n",
    "rectangle_x = 10\n",
    "rectangle_y = 20\n",
    "area = calculate_rectangle_area(rectangle_x, rectangle_y)\n",
    "print(\"사각형의 넓이 :\", area)"
   ]
  },
  {
   "cell_type": "code",
   "execution_count": 14,
   "metadata": {
    "tags": []
   },
   "outputs": [
    {
     "output_type": "stream",
     "name": "stdout",
     "text": "Hello PYTHON, My name is Gildong\n"
    }
   ],
   "source": [
    "def print_something(my_name, your_name) :\n",
    "    print(\"Hello {}, My name is {}\".format(your_name, my_name))\n",
    "\n",
    "print_something(\"Gildong\", \"PYTHON\")"
   ]
  },
  {
   "cell_type": "code",
   "execution_count": 15,
   "metadata": {
    "tags": []
   },
   "outputs": [
    {
     "output_type": "stream",
     "name": "stdout",
     "text": "Hello JAVA, My name is Gildong\nHello PYTHON, My name is Gildong\nHello PYTHON, My name is Gildong\n"
    }
   ],
   "source": [
    "def print_something2(my_name, your_name=\"PYTHON\") :\n",
    "    print(\"Hello {}, My name is {}\".format(your_name, my_name))\n",
    "\n",
    "print_something2(\"Gildong\", \"JAVA\")\n",
    "print_something2(my_name = \"Gildong\")\n",
    "print_something2(\"Gildong\")\n"
   ]
  },
  {
   "cell_type": "code",
   "execution_count": 1,
   "metadata": {
    "tags": []
   },
   "outputs": [
    {
     "output_type": "stream",
     "name": "stdout",
     "text": "28\n"
    }
   ],
   "source": [
    "def asterisk_test(a, b, *args):\n",
    "    return a+b+sum(args)\n",
    "\n",
    "sum_array=asterisk_test(1,2,3,4,5,6,7) #매개변수 개수가 2개 이상이면 정상 동작\n",
    "print(sum_array)"
   ]
  },
  {
   "cell_type": "code",
   "execution_count": 2,
   "metadata": {
    "tags": []
   },
   "outputs": [
    {
     "output_type": "stream",
     "name": "stdout",
     "text": "False\nTrue\n"
    }
   ],
   "source": [
    "a=300\n",
    "b=300\n",
    "print(a is b)\n",
    "print(a == b)"
   ]
  },
  {
   "cell_type": "code",
   "execution_count": 3,
   "metadata": {},
   "outputs": [],
   "source": [
    "f= open(\"asdf.txt\",'w') # 'w' 새로만들기\n",
    "f.write(\"asdf\")\n",
    "f.close()"
   ]
  },
  {
   "cell_type": "code",
   "execution_count": 4,
   "metadata": {},
   "outputs": [],
   "source": [
    "with open(\"qwer.txt\", 'w') as f2 :\n",
    "    f2.write(\"asdf\")"
   ]
  },
  {
   "cell_type": "code",
   "execution_count": 6,
   "metadata": {},
   "outputs": [],
   "source": [
    "with open(\"qwer.txt\", 'w') as f2 :\n",
    "    f2.writelines([\"asdf\\n\",\"qwer\\n\",\"zxcv\\n\"])"
   ]
  },
  {
   "cell_type": "code",
   "execution_count": 7,
   "metadata": {},
   "outputs": [],
   "source": [
    "with open(\"qwer.txt\", 'a') as f2 : # 'a' 추가로 쓰기\n",
    "    f2.writelines([\"asdf\\n\",\"qwer\\n\",\"zxcv\\n\"])"
   ]
  },
  {
   "cell_type": "code",
   "execution_count": 12,
   "metadata": {},
   "outputs": [],
   "source": [
    "i=0\n",
    "f3 = open(\"loop.txt\", 'w', encoding='UTF-8')\n",
    "while i<100 : \n",
    "    data = \"%d \\n\"%i\n",
    "    f3.write(data)\n",
    "    i+=1\n",
    "f3.close()\n",
    "\n",
    "    "
   ]
  },
  {
   "cell_type": "code",
   "execution_count": 2,
   "metadata": {},
   "outputs": [],
   "source": [
    "with open(\"zxcv.txt\", 'w',encoding='UTF-8') as f4 :\n",
    "    f4.write(\"태풍 마이삭이 상륙할 당시 부산 소방에 1시간 만에 3천건이 넘는 신고가 폭주해 태풍 피해 긴급 신고 시스템이 제대로 이뤄지지 못했던 것으로 확인됐다.\\n4일 부산소방재난본부에 따르면 지난 3일 태풍 마이삭이 부산을 지나갈 당시인 오전 1시부터 2시까지 부산 소방으로 접수된 신고 건수는 총 3천428건으로 평소 대비 56배가 넘는 신고가 접수됐다.\\n부산 소방은 태풍 북상에 대비해 평소 22대를 운영하던 전화 접수대를 67대로 늘렸지만 신고 전화를 감당하기는 역부족이었다.\\n67대는 부산 소방이 가용할 수 있는 모든 전화기 대수라고 부산소방재난본부는 설명했다.\\n1시간 만에 3천428건 신고가 119로 접수됐지만 1천813건(53%)만 상황실에 실시간으로 연결됐다.\\n나머지 1천615건은 ARS 대기 상태로 있다가 상황실 직원이 앞선 전화를 끊으면 연결됐다.\\n3일 오전 1시부터 2시까지는 태풍 피해가 가장 많이 발생했던 시간으로 119 신고도 가장 많이 접수된 시간 때이다.\\n119 신고 전화가 폭주하면서 골든타임이 필요한 신고가 뒤로 밀리는 상황이 발생할 수 있다.\\n실제 3일 오전 1시 20분께 베란다 창문에 테이프를 붙이던 중 창문이 깨지면서 과다출혈로 숨진 A씨 측은 119에 연락이 닿지 않아 112에 신고를 한 것으로 알려졌다.\"\n",
    ")\n",
    "f4.close()"
   ]
  },
  {
   "cell_type": "code",
   "execution_count": 16,
   "metadata": {
    "tags": []
   },
   "outputs": [
    {
     "output_type": "stream",
     "name": "stdout",
     "text": "I have a dream, a song to sing\nTo help me cope with anything\nIf you see the wonder of a fairy tale\nYou can take the future even\nif you fail I believe in angels\nSomething good in everything\n\n"
    }
   ],
   "source": [
    "f = open(\"zxcv.txt\",'r')\n",
    "a=f.read()\n",
    "print(a)\n",
    "f.close()"
   ]
  },
  {
   "cell_type": "code",
   "execution_count": 17,
   "metadata": {
    "tags": []
   },
   "outputs": [
    {
     "output_type": "stream",
     "name": "stdout",
     "text": "['I have a dream, a song to sing\\n', 'To help me cope with anything\\n', 'If you see the wonder of a fairy tale\\n', 'You can take the future even\\n', 'if you fail I believe in angels\\n', 'Something good in everything\\n']\n"
    }
   ],
   "source": [
    "f = open(\"zxcv.txt\",'r')\n",
    "a=f.readlines()\n",
    "print(a)\n",
    "f.close()"
   ]
  },
  {
   "cell_type": "code",
   "execution_count": 21,
   "metadata": {
    "tags": []
   },
   "outputs": [
    {
     "output_type": "stream",
     "name": "stdout",
     "text": "I have a dream, a song to sing\nTo help me cope with anything\nIf you see the wonder of a fairy tale\nYou can take the future even\nif you fail I believe in angels\n"
    }
   ],
   "source": [
    "f = open(\"zxcv.txt\",'r')\n",
    "a=f.readline()\n",
    "print(a, end = \"\")\n",
    "a=f.readline()\n",
    "print(a, end = \"\")\n",
    "a=f.readline()\n",
    "print(a, end = \"\")\n",
    "a=f.readline()\n",
    "print(a, end = \"\")\n",
    "a=f.readline()\n",
    "print(a, end = \"\")\n",
    "f.close()"
   ]
  },
  {
   "cell_type": "code",
   "execution_count": 22,
   "metadata": {
    "tags": []
   },
   "outputs": [
    {
     "output_type": "stream",
     "name": "stdout",
     "text": "I have a dream, a song to sing\nTo help me cope with anything\nIf you see the wonder of a fairy tale\nYou can take the future even\nif you fail I believe in angels\nSomething good in everything\n"
    }
   ],
   "source": [
    "f = open(\"zxcv.txt\",'r')\n",
    "i=0\n",
    "while True :\n",
    "    line = f.readline()\n",
    "    if not line:\n",
    "        break\n",
    "    print(line.replace(\"\\n\",\"\"))\n",
    "    i+=1\n",
    "f.close()"
   ]
  },
  {
   "cell_type": "code",
   "execution_count": 23,
   "metadata": {
    "tags": []
   },
   "outputs": [
    {
     "output_type": "stream",
     "name": "stdout",
     "text": "총글자의 수: 189\n총단어의 수: 35\n총줄의 수: 7\n"
    }
   ],
   "source": [
    "f = open(\"zxcv.txt\",'r')\n",
    "contents = f.read()\n",
    "word_list = contents.split(\" \")\n",
    "line_list = contents.split(\"\\n\") \n",
    "print(\"총글자의 수:\", len(contents))\n",
    "print(\"총단어의 수:\", len(word_list))\n",
    "print(\"총줄의 수:\", len(line_list))\n",
    "f.close()"
   ]
  },
  {
   "cell_type": "code",
   "execution_count": 3,
   "metadata": {
    "tags": []
   },
   "outputs": [],
   "source": [
    "f=open(\"zxcv.txt\",'r',encoding='utf-8')\n",
    "f_out = open('zxcv1.txt',mode='w',encoding='utf-8')\n",
    "i=0\n",
    "while True:\n",
    "    i+=1\n",
    "    line = f.readline()\n",
    "    if not line:\n",
    "        break\n",
    "    if '태풍' in line :\n",
    "        for i in range(line.count(\"태풍\")):\n",
    "            line=line.replace(\"태풍\",'{}) 토네이도'.format(i),1)\n",
    "            f_out.write(line)\n",
    "f_out.close()\n",
    "f.close()"
   ]
  },
  {
   "cell_type": "code",
   "execution_count": null,
   "metadata": {},
   "outputs": [],
   "source": []
  },
  {
   "cell_type": "code",
   "execution_count": null,
   "metadata": {},
   "outputs": [],
   "source": []
  }
 ]
}