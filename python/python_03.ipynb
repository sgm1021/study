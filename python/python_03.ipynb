{
 "metadata": {
  "language_info": {
   "codemirror_mode": {
    "name": "ipython",
    "version": 3
   },
   "file_extension": ".py",
   "mimetype": "text/x-python",
   "name": "python",
   "nbconvert_exporter": "python",
   "pygments_lexer": "ipython3",
   "version": "3.8.3-final"
  },
  "orig_nbformat": 2,
  "kernelspec": {
   "name": "python_defaultSpec_1599437685966",
   "display_name": "Python 3.8.3 64-bit ('base': conda)"
  }
 },
 "nbformat": 4,
 "nbformat_minor": 2,
 "cells": [
  {
   "cell_type": "markdown",
   "metadata": {},
   "source": [
    "# class"
   ]
  },
  {
   "cell_type": "code",
   "execution_count": 1,
   "metadata": {
    "tags": []
   },
   "outputs": [
    {
     "output_type": "stream",
     "name": "stdout",
     "text": "잔액은 9000원 입니다.\n"
    }
   ],
   "source": [
    "balance = 8000\n",
    "def deposit(money):\n",
    "    global balance\n",
    "    balance +=money\n",
    "\n",
    "def inquire():\n",
    "    print(\"잔액은 {}원 입니다.\".format(balance))\n",
    "\n",
    "deposit(1000)\n",
    "inquire()"
   ]
  },
  {
   "cell_type": "code",
   "execution_count": 14,
   "metadata": {},
   "outputs": [],
   "source": [
    "class Account:\n",
    "    def __init__(self, balance) :\n",
    "        self.balance = balance\n",
    "    def deposit(self, money):\n",
    "        self.balance +=money\n",
    "    def inquire(self):\n",
    "        print(\"잔액은 {}원 입니다.\".format(self.balance))"
   ]
  },
  {
   "cell_type": "code",
   "execution_count": 15,
   "metadata": {
    "tags": []
   },
   "outputs": [
    {
     "output_type": "stream",
     "name": "stdout",
     "text": "잔액은 90000원 입니다.\n"
    }
   ],
   "source": [
    "kb = Account(80000)\n",
    "kb.deposit(10000)\n",
    "kb.inquire()"
   ]
  },
  {
   "cell_type": "code",
   "execution_count": 16,
   "metadata": {
    "tags": []
   },
   "outputs": [
    {
     "output_type": "stream",
     "name": "stdout",
     "text": "잔액은 950000원 입니다.\n"
    }
   ],
   "source": [
    "kakao = Account(800000)\n",
    "kakao.deposit(150000)\n",
    "kakao.inquire()"
   ]
  },
  {
   "cell_type": "code",
   "execution_count": 29,
   "metadata": {},
   "outputs": [],
   "source": [
    "class Human:\n",
    "    def __init__(self, name, age):\n",
    "        self.name = name\n",
    "        self.age = age\n",
    "    def intro(self):\n",
    "        print(str(self.age)+\"살 \"+self.name+\"입니다.\")"
   ]
  },
  {
   "cell_type": "code",
   "execution_count": 30,
   "metadata": {},
   "outputs": [],
   "source": [
    "class Student(Human):  # 부모 클래스 Human을 상속받은 클래스\n",
    "    def __init__(self, name, age, student_id):\n",
    "        super().__init__(name, age)\n",
    "        self.student_id = student_id\n",
    "    def intro(self):\n",
    "        super().intro()\n",
    "        print(\"학번 : \"+str(self.student_id))\n",
    "    def study(self):\n",
    "        print(\"파이썬 공부 : class\")"
   ]
  },
  {
   "cell_type": "code",
   "execution_count": 31,
   "metadata": {
    "tags": []
   },
   "outputs": [
    {
     "output_type": "stream",
     "name": "stdout",
     "text": "32살 홍길동입니다.\n"
    }
   ],
   "source": [
    "# 객체 생성\n",
    "\n",
    "kim = Human(\"김길동\", 32)\n",
    "kim.intro()"
   ]
  },
  {
   "cell_type": "code",
   "execution_count": 33,
   "metadata": {
    "tags": []
   },
   "outputs": [
    {
     "output_type": "stream",
     "name": "stdout",
     "text": "45살 홍길동입니다.\n학번 : 202009\n파이썬 공부 : class\n"
    }
   ],
   "source": [
    "hong = Student(\"홍길동\", 45, 202009)\n",
    "hong.intro()\n",
    "hong.study()"
   ]
  },
  {
   "cell_type": "code",
   "execution_count": 34,
   "metadata": {},
   "outputs": [],
   "source": [
    "kim.age = 99"
   ]
  },
  {
   "cell_type": "code",
   "execution_count": 35,
   "metadata": {
    "tags": []
   },
   "outputs": [
    {
     "output_type": "stream",
     "name": "stdout",
     "text": "99살 홍길동입니다.\n"
    }
   ],
   "source": [
    "kim.intro()"
   ]
  },
  {
   "cell_type": "code",
   "execution_count": 36,
   "metadata": {},
   "outputs": [],
   "source": [
    "class Date:\n",
    "    def __init__(self, month):\n",
    "        self.month = month\n",
    "    def getmonth(self):\n",
    "        return self.month\n",
    "    def setmonth(self, month):\n",
    "        if 1<=month<=12:\n",
    "            self.month=month"
   ]
  },
  {
   "cell_type": "code",
   "execution_count": 39,
   "metadata": {
    "tags": []
   },
   "outputs": [
    {
     "output_type": "stream",
     "name": "stdout",
     "text": "15\n"
    }
   ],
   "source": [
    "today = Date(9)\n",
    "today.month = 15\n",
    "print(today .month)"
   ]
  },
  {
   "cell_type": "code",
   "execution_count": 46,
   "metadata": {},
   "outputs": [],
   "source": [
    "class Date:\n",
    "    def __init__(self, month):\n",
    "        self.inner_month = month\n",
    "    def getmonth(self):\n",
    "        return self.inner_month\n",
    "    def setmonth(self, month):\n",
    "        if 1<=month<=12:\n",
    "            self.inner_month=month\n",
    "    month = property(getmonth, setmonth)\n"
   ]
  },
  {
   "cell_type": "code",
   "execution_count": 49,
   "metadata": {
    "tags": []
   },
   "outputs": [
    {
     "output_type": "stream",
     "name": "stdout",
     "text": "9\n"
    }
   ],
   "source": [
    "today = Date(9)\n",
    "today.setmonth(19)\n",
    "print(today.getmonth())"
   ]
  },
  {
   "cell_type": "code",
   "execution_count": 50,
   "metadata": {
    "tags": []
   },
   "outputs": [
    {
     "output_type": "stream",
     "name": "stdout",
     "text": "9\n"
    }
   ],
   "source": [
    "today = Date(9)\n",
    "today.month = 15\n",
    "print(today .month)"
   ]
  },
  {
   "cell_type": "code",
   "execution_count": 51,
   "metadata": {},
   "outputs": [],
   "source": [
    "class Date:\n",
    "    def __init__(self, month):\n",
    "        self.__month = month # _ _ : 직접참조 불가\n",
    "    def getmonth(self):\n",
    "        return self.__month\n",
    "    def setmonth(self, month):\n",
    "        if 1<=month<=12:\n",
    "            self.__month=month\n",
    "    month = property(getmonth, setmonth)"
   ]
  },
  {
   "cell_type": "code",
   "execution_count": 52,
   "metadata": {
    "tags": []
   },
   "outputs": [
    {
     "output_type": "stream",
     "name": "stdout",
     "text": "9\n"
    }
   ],
   "source": [
    "today = Date(9)\n",
    "today.month = 15\n",
    "print(today .month)"
   ]
  },
  {
   "cell_type": "code",
   "execution_count": 53,
   "metadata": {
    "tags": []
   },
   "outputs": [
    {
     "output_type": "stream",
     "name": "stdout",
     "text": "9\n"
    }
   ],
   "source": [
    "today = Date(9)\n",
    "today.__month = 15\n",
    "print(today .month)"
   ]
  },
  {
   "cell_type": "code",
   "execution_count": 58,
   "metadata": {},
   "outputs": [],
   "source": [
    "class Car:\n",
    "    count = 0\n",
    "    def __init__(self, name):\n",
    "        self.name = name\n",
    "        Car.count+=1\n",
    "    @classmethod\n",
    "    def outcount(cls):\n",
    "        print(cls.count)"
   ]
  },
  {
   "cell_type": "code",
   "execution_count": 59,
   "metadata": {
    "tags": []
   },
   "outputs": [
    {
     "output_type": "stream",
     "name": "stdout",
     "text": "2\n"
    }
   ],
   "source": [
    "k3=Car(\"k3\")\n",
    "k5=Car(\"k5\")\n",
    "Car.outcount()"
   ]
  },
  {
   "cell_type": "code",
   "execution_count": 60,
   "metadata": {},
   "outputs": [],
   "source": [
    "# static method\n",
    "class Car:\n",
    "    @staticmethod\n",
    "    def hello():\n",
    "        print(\"안전운전\")\n",
    "    count = 0\n",
    "    def __init__(self, name):\n",
    "        self.name = name\n",
    "        Car.count+=1\n",
    "    @classmethod\n",
    "    def outcount(cls):\n",
    "        print(cls.count)"
   ]
  },
  {
   "cell_type": "code",
   "execution_count": 61,
   "metadata": {
    "tags": []
   },
   "outputs": [
    {
     "output_type": "stream",
     "name": "stdout",
     "text": "안전운전\n"
    }
   ],
   "source": [
    "Car.hello()"
   ]
  },
  {
   "cell_type": "code",
   "execution_count": 62,
   "metadata": {},
   "outputs": [],
   "source": [
    "# 연산자 메서드\n",
    "class Human:\n",
    "    def __init__(self, name, age):\n",
    "        self.age=age\n",
    "        self.name=name\n",
    "    def __eq__(self, other):\n",
    "        return self.age==other.age and self.name==other.name"
   ]
  },
  {
   "cell_type": "code",
   "execution_count": 65,
   "metadata": {
    "tags": []
   },
   "outputs": [
    {
     "output_type": "stream",
     "name": "stdout",
     "text": "True\nFalse\n"
    }
   ],
   "source": [
    "\n",
    "park = Human(\"박박박\", 25)\n",
    "par= Human(\"박박박\", 25)\n",
    "pa = Human(\"바박박\", 26)\n",
    "\n",
    "print(park==par)\n",
    "print(park==pa)"
   ]
  },
  {
   "cell_type": "code",
   "execution_count": 69,
   "metadata": {},
   "outputs": [],
   "source": [
    "# 특수 연산자 메서드\n",
    "class Human:\n",
    "    def __init__(self, name, age):\n",
    "        self.age=age\n",
    "        self.name=name\n",
    "    def __str__(self):\n",
    "        return \"이름{}, 나이{}\".format(self.name, self.age)\n",
    "    def __len__(self):\n",
    "        return self.age"
   ]
  },
  {
   "cell_type": "code",
   "execution_count": 70,
   "metadata": {
    "tags": []
   },
   "outputs": [
    {
     "output_type": "stream",
     "name": "stdout",
     "text": "이름박박박, 나이25\n25\n"
    }
   ],
   "source": [
    "park = Human(\"박박박\", 25)\n",
    "print(park)\n",
    "print(len(park))"
   ]
  },
  {
   "cell_type": "code",
   "execution_count": 73,
   "metadata": {
    "tags": []
   },
   "outputs": [
    {
     "output_type": "stream",
     "name": "stdout",
     "text": "9.99999999999998\n"
    }
   ],
   "source": [
    "f=0.1\n",
    "sum=0\n",
    "for i in range(100):\n",
    "    sum+=f\n",
    "print(sum)"
   ]
  },
  {
   "cell_type": "code",
   "execution_count": 79,
   "metadata": {},
   "outputs": [
    {
     "output_type": "execute_result",
     "data": {
      "text/plain": "Decimal('3.14')"
     },
     "metadata": {},
     "execution_count": 79
    }
   ],
   "source": [
    "# 오차없이 10진수형태의 실수를 표현하는 클래스:Decimal\n",
    "from decimal import Decimal\n",
    "\n",
    "Decimal(123)    # 정수형\n",
    "Decimal('3.14')     # 실수 문자열\n",
    "Decimal(('3.14e3'))     #부동소수점 형태\n",
    "Decimal((0, (3,1,4),-2))    # 튜플형태 3.14"
   ]
  },
  {
   "cell_type": "code",
   "execution_count": 76,
   "metadata": {
    "tags": []
   },
   "outputs": [
    {
     "output_type": "stream",
     "name": "stdout",
     "text": "10.0\n"
    }
   ],
   "source": [
    "from decimal import Decimal\n",
    "f=Decimal('0.1')\n",
    "sum=0\n",
    "for i in range(100):\n",
    "    sum+=f\n",
    "print(sum)"
   ]
  },
  {
   "cell_type": "code",
   "execution_count": 82,
   "metadata": {
    "tags": []
   },
   "outputs": [
    {
     "output_type": "stream",
     "name": "stdout",
     "text": "1/3\n4/7\n"
    }
   ],
   "source": [
    "from fractions import *\n",
    "a=Fraction(1,3)\n",
    "print(a)\n",
    "b=Fraction(8,14)\n",
    "print(b)"
   ]
  },
  {
   "cell_type": "code",
   "execution_count": 84,
   "metadata": {
    "tags": []
   },
   "outputs": [
    {
     "output_type": "stream",
     "name": "stdout",
     "text": "19/15\n"
    }
   ],
   "source": [
    "from fractions import *\n",
    "a=Fraction(2,3)\n",
    "b=Fraction(3,5)\n",
    "c=a+b\n",
    "print(c) # Fraction간 연산은 분수로"
   ]
  },
  {
   "cell_type": "code",
   "execution_count": 85,
   "metadata": {
    "tags": []
   },
   "outputs": [
    {
     "output_type": "stream",
     "name": "stdout",
     "text": "1.3666666666666667\n"
    }
   ],
   "source": [
    "d=c+0.1\n",
    "print(d) # Fration과 실수의 연산은 실수로"
   ]
  },
  {
   "cell_type": "markdown",
   "metadata": {},
   "source": [
    "## array(타입코드, \\[초기값\\])"
   ]
  },
  {
   "cell_type": "code",
   "execution_count": 89,
   "metadata": {
    "tags": []
   },
   "outputs": [
    {
     "output_type": "stream",
     "name": "stdout",
     "text": "33,44,55,66,77,88,\n44,55,66,77,88,100,\nar[1] : 55\nar[2:4] : array('i', [66, 77])\n"
    }
   ],
   "source": [
    "import array\n",
    "ar = array.array('i', [33, 44,55,66,77,88])\n",
    "for a in ar:\n",
    "    print(a, end=',')\n",
    "print()\n",
    "\n",
    "ar.append(100)\n",
    "del ar[0]\n",
    "for a in ar:\n",
    "    print(a, end=',')\n",
    "print()\n",
    "print(\"ar[1] :\", ar[1])\n",
    "print(\"ar[2:4] :\", ar[2:4])"
   ]
  },
  {
   "cell_type": "code",
   "execution_count": 94,
   "metadata": {
    "tags": []
   },
   "outputs": [
    {
     "output_type": "stream",
     "name": "stdout",
     "text": "1번 학생의 성적 : 88\n2번 학생의 성적 : 85\n3번 학생의 성적 : 70\n4번 학생의 성적 : 100\n5번 학생의 성적 : 59\n"
    }
   ],
   "source": [
    "score = [88,85,70,100,59]\n",
    "for no, s in enumerate(score,1):\n",
    "    print(str(no)+\"번 학생의 성적 :\", s)"
   ]
  },
  {
   "cell_type": "markdown",
   "metadata": {},
   "source": [
    "## enumerate(score,1) : \n",
    "n부터 시작하는 순서값과 요소값을 튜플로 생성 후 리턴  \n",
    "(1,88), (2,85), (3,70), (4,100), (5,59)"
   ]
  },
  {
   "cell_type": "code",
   "execution_count": 99,
   "metadata": {
    "tags": []
   },
   "outputs": [
    {
     "output_type": "stream",
     "name": "stdout",
     "text": "월요일 메뉴 : 갈비탕\n화요일 메뉴 : 순대국\n수요일 메뉴 : 김밥\n목요일 메뉴 : 삼겹살\n금요일 메뉴 : 짜장면\n"
    }
   ],
   "source": [
    "yoil = ['월', '화', '수', '목', '금', '토', '일']\n",
    "il = ['월', '화', '수', '목', '금', '토', '일']\n",
    "food = [\"갈비탕\", \"순대국\", \"김밥\", \"삼겹살\",\"짜장면\"]\n",
    "menu = zip(yoil, food)\n",
    "for y, f in menu:\n",
    "    print(\"{}요일 메뉴 : {}\".format(y, f))"
   ]
  },
  {
   "cell_type": "markdown",
   "metadata": {},
   "source": [
    "## zip(list1, list2, ...)\n",
    ": 여러개의 컬렉션을 합쳐 하나로 만듬  \n",
    ": 두 리스트에 대응되는 요소끼리 짝을 지여 튜플 리스트를 생성  \n",
    ": 두 리스트의 길이가 달라도 짧은 쪽의 길이에 맞춤  \n",
    "(\"월\", \"갈비탕\")(\"화요일\", \"순대국\")(\"수요일\", \"김밥\")(\"목요일\", \"삼겹살\")(\"금요일\", \"짜장면\")"
   ]
  },
  {
   "cell_type": "code",
   "execution_count": 100,
   "metadata": {},
   "outputs": [
    {
     "output_type": "execute_result",
     "data": {
      "text/plain": "{'월': '갈비탕', '화': '순대국', '수': '김밥', '목': '삼겹살', '금': '짜장면'}"
     },
     "metadata": {},
     "execution_count": 100
    }
   ],
   "source": [
    "dict(zip(yoil, food))"
   ]
  },
  {
   "cell_type": "code",
   "execution_count": 102,
   "metadata": {
    "tags": []
   },
   "outputs": [
    {
     "output_type": "stream",
     "name": "stdout",
     "text": "any : True\nall : True\n\nany : True\nall : False\n"
    }
   ],
   "source": [
    "# any / all\n",
    "adult = [True, True, True, True]\n",
    "print(\"any :\", any(adult))\n",
    "print(\"all :\", all(adult))\n",
    "print()\n",
    "adult = [False, False, False, True]\n",
    "print(\"any :\", any(adult)) # 하나라도 True면 True\n",
    "print(\"all :\", all(adult)) # 모두 True면 True"
   ]
  },
  {
   "cell_type": "markdown",
   "metadata": {},
   "source": [
    "## filter\\[조건지정 함수, 대상 리스트\\]\n",
    "filter 삼수는 리스트의 요소중 조건에 맞는것만 골라냄"
   ]
  },
  {
   "cell_type": "code",
   "execution_count": 104,
   "metadata": {
    "tags": []
   },
   "outputs": [
    {
     "output_type": "stream",
     "name": "stdout",
     "text": "45\n53\n"
    }
   ],
   "source": [
    "def flunk(s):\n",
    "    return s<60\n",
    "\n",
    "score=[45, 89,72,53,99]\n",
    "for s in filter(flunk, score):\n",
    "    print(s)"
   ]
  },
  {
   "cell_type": "markdown",
   "metadata": {},
   "source": [
    "## map\\[조건지정 함수, 리스트\\]\n",
    "map 함수는 모든요소에 대해 변환함수를 호출하여 새 요소값으로 구성된 리스트 생성"
   ]
  },
  {
   "cell_type": "code",
   "execution_count": 105,
   "metadata": {
    "tags": []
   },
   "outputs": [
    {
     "output_type": "stream",
     "name": "stdout",
     "text": "22.5, 44.5, 36.0, 26.5, 49.5,"
    }
   ],
   "source": [
    "def half(s):\n",
    "    return s/2\n",
    "sscore=[45, 89,72,53,99]\n",
    "for s in map(half, score):\n",
    "    print(s, end = ', ')"
   ]
  },
  {
   "cell_type": "code",
   "execution_count": 106,
   "metadata": {
    "tags": []
   },
   "outputs": [
    {
     "output_type": "stream",
     "name": "stdout",
     "text": "22.5, 44.5, 36.0, 26.5, 49.5,"
    }
   ],
   "source": [
    "new_score=map(half, score)\n",
    "for s in new_score:\n",
    "    print(s, end= ', ')"
   ]
  },
  {
   "cell_type": "code",
   "execution_count": 107,
   "metadata": {
    "tags": []
   },
   "outputs": [
    {
     "output_type": "stream",
     "name": "stdout",
     "text": "47 92 79 53 104"
    }
   ],
   "source": [
    "def total(s, b):\n",
    "    return s+b\n",
    "score=[45, 89,72,53,99]\n",
    "bonus=[2,3,7,0,5]\n",
    "for s in map(total, score, bonus):\n",
    "    print(s, end=' ')"
   ]
  },
  {
   "cell_type": "markdown",
   "metadata": {},
   "source": [
    "# 람다 함수\n",
    "lambda 함수:식"
   ]
  },
  {
   "cell_type": "code",
   "execution_count": 114,
   "metadata": {},
   "outputs": [
    {
     "output_type": "execute_result",
     "data": {
      "text/plain": "<function __main__.<lambda>(x)>"
     },
     "metadata": {},
     "execution_count": 114
    }
   ],
   "source": [
    "lambda x:x+1"
   ]
  },
  {
   "cell_type": "code",
   "execution_count": 111,
   "metadata": {},
   "outputs": [],
   "source": [
    "def increase(x):\n",
    "    return x+1"
   ]
  },
  {
   "cell_type": "code",
   "execution_count": 112,
   "metadata": {
    "tags": []
   },
   "outputs": [
    {
     "output_type": "stream",
     "name": "stdout",
     "text": "45\n53\n"
    }
   ],
   "source": [
    "score=[45, 89,72,53,99]\n",
    "for s in filter(lambda x:x<60, score):\n",
    "    print(s)"
   ]
  },
  {
   "cell_type": "code",
   "execution_count": 113,
   "metadata": {
    "tags": []
   },
   "outputs": [
    {
     "output_type": "stream",
     "name": "stdout",
     "text": "22.5, 44.5, 36.0, 26.5, 49.5,"
    }
   ],
   "source": [
    "sscore=[45, 89,72,53,99]\n",
    "for s in map(lambda x:x/2, score):\n",
    "    print(s, end = ', ')"
   ]
  },
  {
   "cell_type": "code",
   "execution_count": 115,
   "metadata": {
    "tags": []
   },
   "outputs": [
    {
     "output_type": "stream",
     "name": "stdout",
     "text": "a=3 b=3\na=5 b=3\n"
    }
   ],
   "source": [
    "# 깊은복사/ 앝은복사\n",
    "a=3\n",
    "b=a\n",
    "print(\"a={} b={}\".format(a,b))\n",
    "\n",
    "a=5\n",
    "print(\"a={} b={}\".format(a,b))"
   ]
  },
  {
   "cell_type": "code",
   "execution_count": 116,
   "metadata": {
    "tags": []
   },
   "outputs": [
    {
     "output_type": "stream",
     "name": "stdout",
     "text": "[1, 100, 3]\n[1, 100, 3]\n"
    }
   ],
   "source": [
    "list1 = [1,2,3]\n",
    "list2 = list1\n",
    "list2[1] =100\n",
    "print(list1)\n",
    "print(list2)"
   ]
  },
  {
   "cell_type": "code",
   "execution_count": 117,
   "metadata": {
    "tags": []
   },
   "outputs": [
    {
     "output_type": "stream",
     "name": "stdout",
     "text": "[1, 2, 3]\n[1, 100, 3]\n"
    }
   ],
   "source": [
    "list1 = [1,2,3]\n",
    "list2 = list1.copy()\n",
    "list2[1] =100\n",
    "print(list1)\n",
    "print(list2)"
   ]
  },
  {
   "cell_type": "code",
   "execution_count": 118,
   "metadata": {
    "tags": []
   },
   "outputs": [
    {
     "output_type": "stream",
     "name": "stdout",
     "text": "[['a', 'c'], 1, 2]\n[['a', 'c'], 1, 2]\n"
    }
   ],
   "source": [
    "list0=[\"a\", \"b\"]\n",
    "list1=[list0, 1, 2]\n",
    "list2=list1.copy()\n",
    "\n",
    "list2[0][1] = 'c'\n",
    "print(list1)\n",
    "print(list2)"
   ]
  },
  {
   "cell_type": "code",
   "execution_count": 119,
   "metadata": {
    "tags": []
   },
   "outputs": [
    {
     "output_type": "stream",
     "name": "stdout",
     "text": "[['a', 'b'], 1, 2]\n[['a', 'c'], 1, 2]\n"
    }
   ],
   "source": [
    "import copy\n",
    "list0=[\"a\", \"b\"]\n",
    "list1=[list0, 1, 2]\n",
    "list2=copy.deepcopy(list1)\n",
    "\n",
    "list2[0][1] = 'c'\n",
    "print(list1)\n",
    "print(list2)"
   ]
  },
  {
   "cell_type": "code",
   "execution_count": 120,
   "metadata": {
    "tags": []
   },
   "outputs": [
    {
     "output_type": "stream",
     "name": "stdout",
     "text": "1==2 : True\n1==3 : False\n2==3 : False\n"
    }
   ],
   "source": [
    "list1=[1,2,3]\n",
    "list2=list1\n",
    "list3=list1.copy()\n",
    "print(\"1==2 :\", list1 is list2)\n",
    "print(\"1==3 :\", list1 is list3)\n",
    "print(\"2==3 :\", list2 is list3)"
   ]
  },
  {
   "cell_type": "code",
   "execution_count": 124,
   "metadata": {
    "tags": []
   },
   "outputs": [
    {
     "output_type": "stream",
     "name": "stdout",
     "text": "a=301 b=301:True\na=301 b=301:False\n"
    }
   ],
   "source": [
    "a=301\n",
    "b=a\n",
    "print(\"a={} b={}:{}\".format(a,b,a is b))\n",
    "\n",
    "b = 301\n",
    "print(\"a={} b={}:{}\".format(a,b,a is b))"
   ]
  },
  {
   "cell_type": "code",
   "execution_count": null,
   "metadata": {},
   "outputs": [],
   "source": []
  }
 ]
}