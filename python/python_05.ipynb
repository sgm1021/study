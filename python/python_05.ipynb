{
 "metadata": {
  "language_info": {
   "codemirror_mode": {
    "name": "ipython",
    "version": 3
   },
   "file_extension": ".py",
   "mimetype": "text/x-python",
   "name": "python",
   "nbconvert_exporter": "python",
   "pygments_lexer": "ipython3",
   "version": "3.8.3-final"
  },
  "orig_nbformat": 2,
  "kernelspec": {
   "name": "python_defaultSpec_1599524095065",
   "display_name": "Python 3.8.3 64-bit ('base': conda)"
  }
 },
 "nbformat": 4,
 "nbformat_minor": 2,
 "cells": [
  {
   "cell_type": "code",
   "execution_count": 1,
   "metadata": {
    "tags": []
   },
   "outputs": [
    {
     "output_type": "stream",
     "name": "stdout",
     "text": "[ 0  2  4  6  8 10 12 14]\n"
    }
   ],
   "source": [
    "import numpy as np\n",
    "A = np.arange(0,15,2)\n",
    "print(A)\n"
   ]
  },
  {
   "cell_type": "code",
   "execution_count": 5,
   "metadata": {
    "tags": []
   },
   "outputs": [
    {
     "output_type": "stream",
     "name": "stdout",
     "text": "(8,)\nA[0] : 0\nA[1] : 2\nA[2] : 4\nA[3] : 6\nA[4] : 8\nA[5] : 10\nA[6] : 12\nA[7] : 14\n"
    }
   ],
   "source": [
    "print(A.shape)\n",
    "for i in range(A.size):\n",
    "    print(\"A[{}] : {}\".format(i, A[i]))"
   ]
  },
  {
   "cell_type": "code",
   "execution_count": 24,
   "metadata": {
    "tags": []
   },
   "outputs": [
    {
     "output_type": "stream",
     "name": "stdout",
     "text": "[[ 0  1  2  3]\n [ 4  5  6  7]\n [ 8  9 10 11]]\nA.ndim : 2\n(3, 4) 3 4\nA[0][0] :  0 A[0][1] :  1 A[0][2] :  2 A[0][3] :  3 \nA[1][0] :  4 A[1][1] :  5 A[1][2] :  6 A[1][3] :  7 \nA[2][0] :  8 A[2][1] :  9 A[2][2] : 10 A[2][3] : 11 \nA[0] : [0 1 2 3]\nA[1] : [4 5 6 7]\nA[2] : [ 8  9 10 11]\n"
    }
   ],
   "source": [
    "import numpy as np\n",
    "A = np.arange(12).reshape(3,4)\n",
    "print(A)\n",
    "print(\"A.ndim :\",A.ndim)\n",
    "print(A.shape, A.shape[0],A.shape[1])\n",
    "for i in range(A.shape[0]):\n",
    "    for j in range(A.shape[1]):\n",
    "        print(\"A[{0}][{1}] : {2:2d}\".format(i,j,A[i][j]), end = \" \")\n",
    "    print()\n",
    "\n",
    "for i in range(A.shape[0]):\n",
    "    print(\"A[{}] : {}\".format(i, A[i]))"
   ]
  },
  {
   "cell_type": "code",
   "execution_count": null,
   "metadata": {},
   "outputs": [],
   "source": []
  }
 ]
}