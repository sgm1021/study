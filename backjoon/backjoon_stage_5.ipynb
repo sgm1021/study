{
 "metadata": {
  "language_info": {
   "codemirror_mode": {
    "name": "ipython",
    "version": 3
   },
   "file_extension": ".py",
   "mimetype": "text/x-python",
   "name": "python",
   "nbconvert_exporter": "python",
   "pygments_lexer": "ipython3",
   "version": "3.8.3-final"
  },
  "orig_nbformat": 2,
  "kernelspec": {
   "name": "python3",
   "display_name": "Python 3",
   "language": "python"
  }
 },
 "nbformat": 4,
 "nbformat_minor": 2,
 "cells": [
  {
   "source": [
    "## 1차원 배열"
   ],
   "cell_type": "markdown",
   "metadata": {}
  },
  {
   "source": [
    "### 10818번 최소, 최대\n",
    "- N개의 정수가 주어진다. 이때, 최솟값과 최댓값을 구하는 프로그램을 작성하시오."
   ],
   "cell_type": "markdown",
   "metadata": {}
  },
  {
   "cell_type": "code",
   "execution_count": null,
   "metadata": {},
   "outputs": [],
   "source": [
    "# 내 코드\n",
    "n = int(input())\n",
    "nums = list(map(int, input().split())) # 여러 값을 공백을 기준으로 나눠서 반환\n",
    "print(min(nums), max(nums))"
   ]
  },
  {
   "cell_type": "code",
   "execution_count": 10,
   "metadata": {},
   "outputs": [],
   "source": [
    "# 숏코딩\n",
    "print(min(a:=[*map(int,[*open(0)][1].split())]),max(a)) # :=(바다코끼리 연산자(Walrus Operator))"
   ]
  },
  {
   "source": [
    "- 바다코끼리 연산자\n",
    "    - 바다코끼리 연산자의 목적은 표현식(Expression)에 이름을 부여하고 재사용할 수 있게 하는 것이다.\n",
    "    - 파이썬 3.7 이하\n",
    "    ```\n",
    "    a = [1, 2, 3, 4]\n",
    "    n = len(a)\n",
    "    if n > 5:\n",
    "        print(f\"List is too long ({n} elements, expected <= 5)\")\n",
    "    ```\n",
    "    - 파이썬 3.8 이상\n",
    "    ```\n",
    "    a = [1, 2, 3, 4]\n",
    "    if (n := len(a)) > 5:\n",
    "        print(f\"List is too long ({n} elements, expected <= 5)\")\n",
    "    ```"
   ],
   "cell_type": "markdown",
   "metadata": {}
  },
  {
   "source": [
    "### 2562번 최댓값\n",
    "- 9개의 서로 다른 자연수가 주어질 때, 이들 중 최댓값을 찾고 그 최댓값이 몇 번째 수인지를 구하는 프로그램을 작성하시오.\n",
    "- 예를 들어, 서로 다른 9개의 자연수 3, 29, 38, 12, 57, 74, 40, 85, 61 이 주어지면, 이들 중 최댓값은 85이고, 이 값은 8번째 수이다."
   ],
   "cell_type": "markdown",
   "metadata": {}
  },
  {
   "cell_type": "code",
   "execution_count": null,
   "metadata": {},
   "outputs": [],
   "source": [
    "# 내 코드\n",
    "nums = []\n",
    "for i in range(9):\n",
    "    a = int(input())\n",
    "    nums.append(a)\n",
    "print(max(nums))\n",
    "print(nums.index(max(nums))+1)"
   ]
  },
  {
   "cell_type": "code",
   "execution_count": 14,
   "metadata": {},
   "outputs": [
    {
     "output_type": "stream",
     "name": "stdout",
     "text": [
      "9 3\n"
     ]
    }
   ],
   "source": [
    "# 숏코딩\n",
    "print(*max((int(input()),i+1) for i in range(9))) # *는 컨테이너 타입의 데이터를 Unpacking하기 위해 사용"
   ]
  },
  {
   "source": [
    "### 2577번 숫자의 개수"
   ],
   "cell_type": "markdown",
   "metadata": {}
  },
  {
   "cell_type": "code",
   "execution_count": null,
   "metadata": {},
   "outputs": [],
   "source": [
    "# 내 코드\n",
    "a = int(input())\n",
    "b = int(input()) \n",
    "c = int(input())\n",
    "num = str(a*b*c)\n",
    "for i in range(10):\n",
    "    print(num.count(str(i)))"
   ]
  },
  {
   "cell_type": "code",
   "execution_count": null,
   "metadata": {},
   "outputs": [],
   "source": [
    "# 숏코딩\n",
    "exec('n,m=0,1'+'*int(input())'*3+';print(str(m).count(str(n)));n+=1'*10)"
   ]
  },
  {
   "source": [
    "- eval()함수\n",
    "    - 문자열로 표현된 파있너 `식`을 인수로 받아 파이썬 컴파일 코드로 병환한다.\n",
    "    ```\n",
    "    a = 1\n",
    "    a = eval('a + 4')\n",
    "    a\n",
    "\n",
    "    >> 5\n",
    "    ```\n",
    "- exec()함수\n",
    "    - 문자열로 표현된 `문`을 인수로 받아 파이썬 컴파일 코드로 변환한다.\n",
    "    ```\n",
    "    a = 5\n",
    "    eval('a = a + 4')\n",
    "    a\n",
    "\n",
    "    >> 9\n",
    "    ```\n",
    "    - exec()함수는 여러 개의 문으로 사용할 수 있다.\n",
    "    ```\n",
    "    s = '\"\n",
    "        a = 1\n",
    "        if a > 0:\n",
    "            print(\"Success\")\n",
    "    \"'\n",
    "    exec(s)\n",
    "    \n",
    "    >> Success\n",
    "    ```"
   ],
   "cell_type": "markdown",
   "metadata": {}
  },
  {
   "source": [
    "### 3052번 나머지"
   ],
   "cell_type": "markdown",
   "metadata": {}
  },
  {
   "cell_type": "code",
   "execution_count": null,
   "metadata": {},
   "outputs": [],
   "source": [
    "# 내 코드\n",
    "a = []\n",
    "for i in range(10):\n",
    "    a.append(int(input()) % 42)\n",
    "print(len(set(a)))"
   ]
  },
  {
   "cell_type": "code",
   "execution_count": null,
   "metadata": {},
   "outputs": [],
   "source": [
    "# 숏코딩\n",
    "print(len({int(i)%42 for i in open(0)}))"
   ]
  },
  {
   "source": [
    "- open(0)을 입력으로 쓰는법\n",
    "    - open(0)\n",
    "    ```\n",
    "    n, *l = open(0)\n",
    "    print(n, l)\n",
    "\n",
    "    1\n",
    "    12 3 45\n",
    "    ^Z\n",
    "    \n",
    "    1\n",
    "    ['12 3 45\\n']\n",
    "    \n",
    "    ```\n",
    "    - open(0).read()\n",
    "    ```\n",
    "    n, *l = open(0).read()\n",
    "    print(n, l)\n",
    "\n",
    "    1\n",
    "    12 3 45\n",
    "    ^Z\n",
    "    \n",
    "    1 ['\\n', '1', '2', ' ', '3', ' ', '4', '5', '\\n']\n",
    "    \n",
    "    ```\n",
    "    - open(0).readline()\n",
    "    ```\n",
    "    n, *l = open(0).readline()\n",
    "    print(n, l)\n",
    "\n",
    "    1 12 3 45\n",
    "\n",
    "    1 [' ', '1', '2', ' ', '3', ' ', '4', '5', '\\n']\n",
    "    \n",
    "    ```\n",
    "    - open(0).readlines()\n",
    "    ```\n",
    "    n, *l = open(0).readlines()\n",
    "    print(n, l)\n",
    "\n",
    "    1\n",
    "    12 3 45\n",
    "    ^Z\n",
    "    \n",
    "    1\n",
    "     ['12 3 45\\n']\n",
    "    \n",
    "    ```"
   ],
   "cell_type": "markdown",
   "metadata": {}
  },
  {
   "source": [
    "### 1546번 평균\n",
    "-  자기 점수 중에 최댓값을 골랐다. 이 값을 M이라고 한다. 그리고 나서 모든 점수를 점수/M*100으로 고쳤다.\n",
    "- 예를 들어, 최고점이 70이고, 수학점수가 50이었으면 수학점수는 50/70*100이 되어 71.43점이 된다.\n",
    "- 성적을 위의 방법대로 새로 계산했을 때, 새로운 평균을 구하는 프로그램을 작성하시오."
   ],
   "cell_type": "markdown",
   "metadata": {}
  },
  {
   "source": [
    "# 내 코드\n",
    "n = int(input())\n",
    "s = list(map(int, input().split()))\n",
    "print(sum([s[i]/max(s)*100 for i in range(len(s))])/len(s))"
   ],
   "cell_type": "code",
   "metadata": {},
   "execution_count": null,
   "outputs": []
  },
  {
   "cell_type": "code",
   "execution_count": null,
   "metadata": {},
   "outputs": [],
   "source": [
    "# 숏코딩\n",
    "n,*l=map(int,open(0).read().split())\n",
    "print(sum(l)*100/max(l)/n)"
   ]
  },
  {
   "source": [
    "### 8958번 OX퀴즈\n",
    "- \"OOXXOXXOOO\"와 같은 OX퀴즈의 결과가 있다. O는 문제를 맞은 것이고, X는 문제를 틀린 것이다. 문제를 맞은 경우 그 문제의 점수는 그 문제까지 연속된 O의 개수가 된다. 예를 들어, 10번 문제의 점수는 3이 된다.\n",
    "- \"OOXXOXXOOO\"의 점수는 1+2+0+0+1+0+0+1+2+3 = 10점이다.\n",
    "- OX퀴즈의 결과가 주어졌을 때, 점수를 구하는 프로그램을 작성하시오."
   ],
   "cell_type": "markdown",
   "metadata": {}
  },
  {
   "cell_type": "code",
   "execution_count": null,
   "metadata": {},
   "outputs": [],
   "source": [
    "# 내 코드\n",
    "n = int(input())\n",
    "\n",
    "for i in range(n):\n",
    "    ox = input()\n",
    "    o_cnt = 0\n",
    "    t_cnt = 0\n",
    "    for o in ox:\n",
    "        if o =='O':\n",
    "            o_cnt += 1\n",
    "            t_cnt += o_cnt\n",
    "        else :\n",
    "            o_cnt = 0\n",
    "    print(t_cnt)"
   ]
  },
  {
   "cell_type": "code",
   "execution_count": null,
   "metadata": {},
   "outputs": [],
   "source": [
    "# 숏코딩\n",
    "n,*l=open(0)\n",
    "for i in l:\n",
    "    n=0\n",
    "    print(sum((n:=(n+1)*(j=='O'))for j in i))"
   ]
  },
  {
   "cell_type": "code",
   "execution_count": null,
   "metadata": {},
   "outputs": [],
   "source": [
    "exec(\"print(sum(v*-~v//2for v in map(len,input().split('X'))));\"*int(input()))"
   ]
  },
  {
   "cell_type": "code",
   "execution_count": null,
   "metadata": {},
   "outputs": [],
   "source": [
    "for q in[*open(0)][1:]:print(sum(len(o)*-~len(o)//2 for o in q[:-1].split(\"X\")))\n",
    "# len(o)*-~len(o)//2는 n(n+1)/2와 같음"
   ]
  },
  {
   "source": [
    "- ~a 는 a랑 더해서 -1이 되는 숫자를 반환\n",
    "    ```\n",
    "    print(~a)\n",
    "\n",
    "    >> -(a+1)\n",
    "    ``` \n",
    "- `-` 사용법\n",
    "    - 음수 양수 부호를 바꿈\n",
    "        ```\n",
    "        print(-a)\n",
    "\n",
    "        >> a\n",
    "        ```\n",
    "    - bool형 변수를 int형으로 변경\n",
    "        ```\n",
    "        print(-True)\n",
    "\n",
    "        >> -1\n",
    "        ```\n",
    "        - False 는 0\n",
    "        - `+` 는 반대"
   ],
   "cell_type": "markdown",
   "metadata": {}
  },
  {
   "source": [
    "### 4344번 평균은 넘겠지\n",
    "- 각 케이스마다 한 줄씩 평균을 넘는 학생들의 비율을 반올림하여 소수점 셋째 자리까지 출력한다."
   ],
   "cell_type": "markdown",
   "metadata": {}
  },
  {
   "cell_type": "code",
   "execution_count": null,
   "metadata": {},
   "outputs": [],
   "source": [
    "# 내 코드\n",
    "n = int(input())\n",
    "\n",
    "for i in range(n):\n",
    "    a = list(map(int, input().split()))\n",
    "    mean = sum(a[1:])/a[0]\n",
    "    cnt = 0 \n",
    "    for j in a[1:]:\n",
    "        if j > mean:\n",
    "            cnt+=1\n",
    "    print('%.3f' % float((cnt/a[0])*100) + '%')"
   ]
  },
  {
   "cell_type": "code",
   "execution_count": null,
   "metadata": {},
   "outputs": [],
   "source": [
    "# 숏코딩\n",
    "exec(int(input())*'b,*c=map(int,input().split());print(f\"{sum(b*i>sum(c)for i in c)/b:.3%}\");')"
   ]
  }
 ]
}