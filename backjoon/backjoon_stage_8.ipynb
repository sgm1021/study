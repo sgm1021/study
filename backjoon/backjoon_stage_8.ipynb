{
 "metadata": {
  "language_info": {
   "codemirror_mode": {
    "name": "ipython",
    "version": 3
   },
   "file_extension": ".py",
   "mimetype": "text/x-python",
   "name": "python",
   "nbconvert_exporter": "python",
   "pygments_lexer": "ipython3",
   "version": 3
  },
  "orig_nbformat": 2
 },
 "nbformat": 4,
 "nbformat_minor": 2,
 "cells": [
  {
   "source": [
    "## 기본 수학 1"
   ],
   "cell_type": "markdown",
   "metadata": {}
  },
  {
   "source": [
    "### 1712번 손익분기점\n",
    "- 월드전자는 노트북을 제조하고 판매하는 회사이다. 노트북 판매 대수에 상관없이 매년 임대료, 재산세, 보험료, 급여 등 A만원의 고정 비용이 들며, 한 대의 노트북을 생산하는 데에는 재료비와 인건비 등 총 B만원의 가변 비용이 든다고 한다.\n",
    "- 예를 들어 A=1,000, B=70이라고 하자. 이 경우 노트북을 한 대 생산하는 데는 총 1,070만원이 들며, 열 대 생산하는 데는 총 1,700만원이 든다.\n",
    "- 노트북 가격이 C만원으로 책정되었다고 한다. 일반적으로 생산 대수를 늘려 가다 보면 어느 순간 총 수입(판매비용)이 총 비용(=고정비용+가변비용)보다 많아지게 된다. 최초로 총 수입이 총 비용보다 많아져 이익이 발생하는 지점을 손익분기점(BREAK-EVEN POINT)이라고 한다.\n",
    "- A, B, C가 주어졌을 때, 손익분기점을 구하는 프로그램을 작성하시오."
   ],
   "cell_type": "markdown",
   "metadata": {}
  },
  {
   "cell_type": "code",
   "execution_count": null,
   "metadata": {},
   "outputs": [],
   "source": [
    "# 제출\n",
    "a, b, c = map(int, input().split())\n",
    "print(-1) if b >= c else print(int(a/(c-b))+1)"
   ]
  },
  {
   "cell_type": "code",
   "execution_count": null,
   "metadata": {},
   "outputs": [],
   "source": [
    "# 숏코딩\n",
    "a,b,c=map(int,input().split());print(-(c<=b) or a//(c-b)+1)"
   ]
  },
  {
   "source": [
    "### 2292번 벌집\n",
    "- 위의 그림과 같이 육각형으로 이루어진 벌집이 있다. 그림에서 보는 바와 같이 중앙의 방 1부터 시작해서 이웃하는 방에 돌아가면서 1씩 증가하는 번호를 주소로 매길 수 있다. 숫자 N이 주어졌을 때, 벌집의 중앙 1에서 N번 방까지 최소 개수의 방을 지나서 갈 때 몇 개의 방을 지나가는지(시작과 끝을 포함하여)를 계산하는 프로그램을 작성하시오. 예를 들면, 13까지는 3개, 58까지는 5개를 지난다."
   ],
   "cell_type": "markdown",
   "metadata": {}
  },
  {
   "source": [
    "# 제출\n",
    "n = int(input())\n",
    "cnt = 1\n",
    "beezip = 1\n",
    "while 1:\n",
    "    if beezip >= n:\n",
    "        print(cnt)\n",
    "        break\n",
    "    cnt+=1\n",
    "    beezip += (cnt*6-6)"
   ],
   "cell_type": "code",
   "metadata": {},
   "execution_count": null,
   "outputs": []
  },
  {
   "cell_type": "code",
   "execution_count": null,
   "metadata": {},
   "outputs": [],
   "source": [
    "# 숏코딩\n",
    "print(int((int(input())/3-.1)**.5+1.5))"
   ]
  },
  {
   "source": [
    "### 1193번 분수 찾기\n",
    "- 무한히 큰 배열에 다음과 같이 분수들이 적혀있다.\n",
    "    ```\n",
    "    1/1\t1/2\t1/3\t1/4\t1/5\t…\n",
    "    2/1\t2/2\t2/3\t2/4\t…\t…\n",
    "    3/1\t3/2\t3/3\t…\t…\t…\n",
    "    4/1\t4/2\t…\t…\t…\t…\n",
    "    5/1\t…\t…\t…\t…\t…\n",
    "    …\t…\t…\t…\t…\t…\n",
    "    ```\n",
    "- 이와 같이 나열된 분수들을 1/1 -> 1/2 -> 2/1 -> 3/1 -> 2/2 -> … 과 같은 지그재그 순서로 차례대로 1번, 2번, 3번, 4번, 5번, … 분수라고 하자.\n",
    "- X가 주어졌을 때, X번째 분수를 구하는 프로그램을 작성하시오."
   ],
   "cell_type": "markdown",
   "metadata": {}
  },
  {
   "cell_type": "code",
   "execution_count": null,
   "metadata": {},
   "outputs": [],
   "source": [
    "# 제출\n",
    "n = int(input())\n",
    "cnt = 1\n",
    "num = 1\n",
    "while 1:\n",
    "    if num >= n:\n",
    "        ls = list(map(str, range(1, cnt+1)))\n",
    "        if cnt%2==1:\n",
    "            print(f'{ls[num-n]}/{ls[::-1][num-n]}')\n",
    "        else:\n",
    "            print(f'{ls[::-1][num-n]}/{ls[num-n]}')\n",
    "        break\n",
    "    else:\n",
    "        cnt+=1\n",
    "        num += cnt"
   ]
  },
  {
   "cell_type": "code",
   "execution_count": null,
   "metadata": {},
   "outputs": [],
   "source": [
    "# 숏코딩\n",
    "X=int(input())\n",
    "n=k=0\n",
    "while X>n:n+=k;k+=1\n",
    "a=k-n+X-1\n",
    "if k%2:a=k-a\n",
    "print(f'{k-a}/{a}')"
   ]
  },
  {
   "source": [
    "### 2869번 달팽이는 올라가고 싶다\n",
    "- 땅 위에 달팽이가 있다. 이 달팽이는 높이가 V미터인 나무 막대를 올라갈 것이다.\n",
    "- 달팽이는 낮에 A미터 올라갈 수 있다. 하지만, 밤에 잠을 자는 동안 B미터 미끄러진다. 또, 정상에 올라간 후에는 미끄러지지 않는다.\n",
    "- 달팽이가 나무 막대를 모두 올라가려면, 며칠이 걸리는지 구하는 프로그램을 작성하시오."
   ],
   "cell_type": "markdown",
   "metadata": {}
  },
  {
   "cell_type": "code",
   "execution_count": null,
   "metadata": {},
   "outputs": [],
   "source": [
    "# 제출(민영씨 코드)\n",
    "a, b, v = map(int, input().split())\n",
    "if (v-b)%(a-b)==0:\n",
    "    print((v-b)//(a-b))\n",
    "else:\n",
    "    print((v-b)//(a-b)+1)"
   ]
  },
  {
   "cell_type": "code",
   "execution_count": null,
   "metadata": {},
   "outputs": [],
   "source": [
    "# 숏코딩\n",
    "a,b,v=map(int,input().split());print(1-(a-v)//(a-b))"
   ]
  },
  {
   "source": [
    "### 10250번 ACM호텔\n",
    "- 호텔에 H층 W호수(층별) 있음 (총 H*W개의 방)\n",
    "- 방번호 XXYY or XYY X층수 YY호수\n",
    "- 같은 층별 방 사이 거리 1\n",
    "- 엘리베이터로 올라가는 거리 무시하지만 아래층 더 선호 101->201->301-> ... 102->202->"
   ],
   "cell_type": "markdown",
   "metadata": {}
  },
  {
   "cell_type": "code",
   "execution_count": null,
   "metadata": {},
   "outputs": [],
   "source": [
    "# 제출\n",
    "a = int(input())\n",
    "for i in range(a):\n",
    "    h, w, n = map(int, input().split())\n",
    "    f = n%h\n",
    "    r = n//h+1\n",
    "    if f<1:\n",
    "        f=h\n",
    "        r-=1\n",
    "    print(f*100+r)"
   ]
  },
  {
   "source": [
    "# 숏코딩\n",
    "exec('h,w,n=map(int,input().split());print(~-n//h+~-n%h*100+101);'*int(input()))"
   ],
   "cell_type": "code",
   "metadata": {},
   "execution_count": null,
   "outputs": []
  },
  {
   "source": [
    "### 2775번 부녀회장이 될테야\n",
    "- 평소 반상회에 참석하는 것을 좋아하는 주희는 이번 기회에 부녀회장이 되고 싶어 각 층의 사람들을 불러 모아 반상회를 주최하려고 한다.\n",
    "- 이 아파트에 거주를 하려면 조건이 있는데, “a층의 b호에 살려면 자신의 아래(a-1)층의 1호부터 b호까지 사람들의 수의 합만큼 사람들을 데려와 살아야 한다” 는 계약 조항을 꼭 지키고 들어와야 한다.\n",
    "- 아파트에 비어있는 집은 없고 모든 거주민들이 이 계약 조건을 지키고 왔다고 가정했을 때, 주어지는 양의 정수 k와 n에 대해 k층에 n호에는 몇 명이 살고 있는지 출력하라. 단, 아파트에는 0층부터 있고 각층에는 1호부터 있으며, 0층의 i호에는 i명이 산다."
   ],
   "cell_type": "markdown",
   "metadata": {}
  },
  {
   "cell_type": "code",
   "execution_count": null,
   "metadata": {},
   "outputs": [],
   "source": [
    "# 제출\n",
    "n = int(input())\n",
    "for i in range(n):\n",
    "    f = int(input())\n",
    "    r = int(input())\n",
    "    ff = list(map(int, range(1, r+1)))\n",
    "    for j in range(f):\n",
    "        for k in range(1, r):\n",
    "             ff[k] += ff[k-1]\n",
    "    print(ff[r-1])"
   ]
  },
  {
   "cell_type": "code",
   "execution_count": null,
   "metadata": {},
   "outputs": [],
   "source": [
    "# 숏코딩\n",
    "x=lambda:int(input());exec(x()*'k,n=x()+1,x();a=i=1;exec(k*\"a=a*(n+i-1)//i;i+=1;\");print(a);')"
   ]
  },
  {
   "cell_type": "code",
   "execution_count": null,
   "metadata": {},
   "outputs": [],
   "source": [
    "import math\n",
    "for i in range(int(input())):\n",
    "    k = int(input())\n",
    "    n = int(input())\n",
    "    print(math.comb(n+k, k+1))"
   ]
  },
  {
   "source": [
    "- math.comb(n, k)\n",
    "    -nCk와 같은 조합 값을 반환합니다. 조합은 n개의 수 중 k개를 꺼내는 수와 동일하며 n개의 수는 모두 같은 수라고 가정합니다. n과 k는 모두 int값만 가능합니다.\n",
    "        ```\n",
    "        # 입력\n",
    "        import math\n",
    " \n",
    "        print(\"math.comb(5, 1) = \" + str(math.comb(5, 1)))\n",
    "        print(\"math.comb(5, 2) = \" + str(math.comb(5, 2)))\n",
    "        print(\"math.comb(10, 1) = \" + str(math.comb(10, 1)))\n",
    "        print(\"math.comb(10, 4) = \" + str(math.comb(10, 4)))\n",
    "\n",
    "        # 출력\n",
    "        math.comb(5, 1) = 5\n",
    "        math.comb(5, 2) = 10\n",
    "        math.comb(10, 1) = 10\n",
    "        math.comb(10, 4) = 210\n",
    "        ```"
   ],
   "cell_type": "markdown",
   "metadata": {}
  },
  {
   "source": [
    "### 2839번 설탕 배달 \n",
    "- 상근이는 요즘 설탕공장에서 설탕을 배달하고 있다. 상근이는 지금 사탕가게에 설탕을 정확하게 N킬로그램을 배달해야 한다. 설탕공장에서 만드는 설탕은 봉지에 담겨져 있다. 봉지는 3킬로그램 봉지와 5킬로그램 봉지가 있다.\n",
    "- 상근이는 귀찮기 때문에, 최대한 적은 봉지를 들고 가려고 한다. 예를 들어, 18킬로그램 설탕을 배달해야 할 때, 3킬로그램 봉지 6개를 가져가도 되지만, 5킬로그램 3개와 3킬로그램 1개를 배달하면, 더 적은 개수의 봉지를 배달할 수 있다.\n",
    "- 상근이가 설탕을 정확하게 N킬로그램 배달해야 할 때, 봉지 몇 개를 가져가면 되는지 그 수를 구하는 프로그램을 작성하시오."
   ],
   "cell_type": "markdown",
   "metadata": {}
  },
  {
   "cell_type": "code",
   "execution_count": null,
   "metadata": {},
   "outputs": [],
   "source": [
    "# 제출\n",
    "n = int(input())\n",
    "cnt = -1\n",
    "for i in range((n//5)+1):\n",
    "    for j in range((n//3)+1):\n",
    "        if ((j*3)+(i*5)) == n:\n",
    "            cnt = j+i\n",
    "print(cnt)"
   ]
  },
  {
   "cell_type": "code",
   "execution_count": null,
   "metadata": {},
   "outputs": [],
   "source": [
    "# 숏코딩\n",
    "n=int(input())\n",
    "print(-(n in[4,7])or n-2*n//5*2)"
   ]
  },
  {
   "source": [
    "### 10757번 큰 수 A`+`B\n",
    "- 두 정수 A와 B를 입력받은 다음, A+B를 출력하는 프로그램을 작성하시오."
   ],
   "cell_type": "markdown",
   "metadata": {}
  },
  {
   "cell_type": "code",
   "execution_count": null,
   "metadata": {},
   "outputs": [],
   "source": [
    "# 제출\n",
    "a, b = map(int, input().split())\n",
    "print(a+b)"
   ]
  },
  {
   "cell_type": "code",
   "execution_count": null,
   "metadata": {},
   "outputs": [],
   "source": [
    "# 숏코딩\n",
    "print(sum(map(int,input().split())))"
   ]
  },
  {
   "source": [
    "### 1011번 Fly me to the Alpha Centauri\n",
    "- 우현이는 어린 시절, 지구 외의 다른 행성에서도 인류들이 살아갈 수 있는 미래가 오리라 믿었다. 그리고 그가 지구라는 세상에 발을 내려 놓은 지 23년이 지난 지금, 세계 최연소 ASNA 우주 비행사가 되어 새로운 세계에 발을 내려 놓는 영광의 순간을 기다리고 있다.\n",
    "- 그가 탑승하게 될 우주선은 Alpha Centauri라는 새로운 인류의 보금자리를 개척하기 위한 대규모 생활 유지 시스템을 탑재하고 있기 때문에, 그 크기와 질량이 엄청난 이유로 최신기술력을 총 동원하여 개발한 공간이동 장치를 탑재하였다. 하지만 이 공간이동 장치는 이동 거리를 급격하게 늘릴 경우 기계에 심각한 결함이 발생하는 단점이 있어서, 이전 작동시기에 k광년을 이동하였을 때는 k-1 , k 혹은 k+1 광년만을 다시 이동할 수 있다. 예를 들어, 이 장치를 처음 작동시킬 경우 -1 , 0 , 1 광년을 이론상 이동할 수 있으나 사실상 음수 혹은 0 거리만큼의 이동은 의미가 없으므로 1 광년을 이동할 수 있으며, 그 다음에는 0 , 1 , 2 광년을 이동할 수 있는 것이다. ( 여기서 다시 2광년을 이동한다면 다음 시기엔 1, 2, 3 광년을 이동할 수 있다. )\n",
    "- 김우현은 공간이동 장치 작동시의 에너지 소모가 크다는 점을 잘 알고 있기 때문에 x지점에서 y지점을 향해 최소한의 작동 횟수로 이동하려 한다. 하지만 y지점에 도착해서도 공간 이동장치의 안전성을 위하여 y지점에 도착하기 바로 직전의 이동거리는 반드시 1광년으로 하려 한다.\n",
    "- 김우현을 위해 x지점부터 정확히 y지점으로 이동하는데 필요한 공간 이동 장치 작동 횟수의 최솟값을 구하는 프로그램을 작성하라."
   ],
   "cell_type": "markdown",
   "metadata": {}
  },
  {
   "cell_type": "code",
   "execution_count": null,
   "metadata": {},
   "outputs": [],
   "source": [
    "# 제출(채진씨 코드)\n",
    "for _ in range(int(input())):\n",
    "    x,y = map(int,input().split())\n",
    "    i = y-x\n",
    "    N = int(i**(1/2))\n",
    "    if i**(1/2) == N:\n",
    "        print(N*2-1)\n",
    "    else:\n",
    "        if i/(N+1) <= N:\n",
    "            print(N*2)\n",
    "        else :\n",
    "            print(N*2+1)"
   ]
  },
  {
   "cell_type": "code",
   "execution_count": null,
   "metadata": {},
   "outputs": [],
   "source": [
    "# 숏코딩\n",
    "exec('x,y=map(int,input().split());print(int(((y-x)*4-3)**.5));'*int(input()))"
   ]
  }
 ]
}